{
 "cells": [
  {
   "cell_type": "code",
   "execution_count": 107,
   "id": "f89a3e22",
   "metadata": {
    "ExecuteTime": {
     "end_time": "2022-06-15T20:01:37.681994Z",
     "start_time": "2022-06-15T20:01:37.656565Z"
    }
   },
   "outputs": [
    {
     "name": "stdout",
     "output_type": "stream",
     "text": [
      "Node v0: -4.5 V\n",
      "Node v1: 5.5 V\n",
      "Node v2: 2.5 V\n",
      "Node v3: -3.75 V\n",
      "Node v4: -6.75 V\n",
      "Node v5: 4.5 V\n",
      "R1 : v = 3.00 V, i = 0.75 A\n",
      "R2 : v = 2.50 V, i = 1.25 A\n",
      "R3 : v = 3.75 V, i = 1.25 A\n",
      "R4 : v = 0.75 V, i = 0.75 A\n"
     ]
    }
   ],
   "source": [
    "#r# This example shows the computation of the DC bias and sensitivity in a voltage divider.\n",
    "\n",
    "####################################################################################################\n",
    "\n",
    "import PySpice.Logging.Logging as Logging\n",
    "logger = Logging.setup_logging()\n",
    "\n",
    "####################################################################################################\n",
    "\n",
    "from PySpice.Spice.Netlist import Circuit\n",
    "from PySpice.Unit import *\n",
    "import numpy as np\n",
    "####################################################################################################\n",
    "\n",
    "#f# circuit_macros('voltage-divider.m4')\n",
    "\n",
    "circuit = Circuit('Resistive circuit')\n",
    "\n",
    "circuit.V('vs', 'v1', 'v0', 10@u_V)\n",
    "circuit.R(1, 'v1', 'v2', 4@u_Ω)\n",
    "circuit.R(2, 'v2', circuit.gnd, 2@u_Ω)\n",
    "circuit.R(3, circuit.gnd, 'v3', 3@u_Ω)\n",
    "circuit.R(4, 'v3', 'v0', 1@u_Ω)\n",
    "circuit.R(5, 'v3', 'v4', 6@u_Ω)\n",
    "circuit.I('is', 'v4', 'v5', 0.5@u_A)\n",
    "circuit.R(6, 'v5', 'v2', 4@u_Ω)\n",
    "\n",
    "####################################################################################################\n",
    "\n",
    "simulator = circuit.simulator(temperature=25, nominal_temperature=25)\n",
    "\n",
    "analysis = simulator.operating_point()\n",
    "\n",
    "nodes = sorted(list(analysis.nodes.keys()))\n",
    "\n",
    "vnodes = np.zeros(len(nodes))\n",
    "\n",
    "for ind, node in enumerate(nodes):\n",
    "    print('Node {}: {} V'.format(str(analysis[node]), round(float(analysis[node]),2)))\n",
    "    vnodes[ind] = round(float(analysis[node]),2)\n",
    "\n",
    "print('R1 : v = %.2f V, i = %.2f A'%(vnodes[1] - vnodes[2], (vnodes[1] - vnodes[2])/float(circuit.element('R1').resistance))) \n",
    "print('R2 : v = %.2f V, i = %.2f A'%(vnodes[2], vnodes[2]/float(circuit.element('R2').resistance))) \n",
    "print('R3 : v = %.2f V, i = %.2f A'%(-vnodes[3], -vnodes[3]/float(circuit.element('R3').resistance))) \n",
    "print('R4 : v = %.2f V, i = %.2f A'%(vnodes[3]-vnodes[0], (vnodes[3]-vnodes[0])/float(circuit.element('R4').resistance))) \n",
    "print('R5 : v = %.2f V, i = %.2f A'%(-vnodes[3], -vnodes[3]/float(circuit.element('R3').resistance))) \n",
    "print('R6 : v = %.2f V, i = %.2f A'%(vnodes[3]-vnodes[0], (vnodes[3]-vnodes[0])/float(circuit.element('R4').resistance))) "
   ]
  }
 ],
 "metadata": {
  "kernelspec": {
   "display_name": "Python 3 (ipykernel)",
   "language": "python",
   "name": "python3"
  },
  "language_info": {
   "codemirror_mode": {
    "name": "ipython",
    "version": 3
   },
   "file_extension": ".py",
   "mimetype": "text/x-python",
   "name": "python",
   "nbconvert_exporter": "python",
   "pygments_lexer": "ipython3",
   "version": "3.9.7"
  }
 },
 "nbformat": 4,
 "nbformat_minor": 5
}
