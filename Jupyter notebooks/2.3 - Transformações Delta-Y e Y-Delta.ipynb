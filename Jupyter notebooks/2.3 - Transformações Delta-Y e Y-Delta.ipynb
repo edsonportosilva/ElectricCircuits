{
 "cells": [
  {
   "cell_type": "markdown",
   "metadata": {
    "colab_type": "text",
    "id": "view-in-github"
   },
   "source": [
    "<a href=\"https://colab.research.google.com/github/edsonportosilva/ElectricCircuits/blob/master/Jupyter%20notebooks/Transforma%C3%A7%C3%B5es%20Delta-Y%20e%20Y-Delta.ipynb\" target=\"_parent\"><img src=\"https://colab.research.google.com/assets/colab-badge.svg\" alt=\"Open In Colab\"/></a>"
   ]
  },
  {
   "cell_type": "code",
   "execution_count": 1,
   "metadata": {
    "ExecuteTime": {
     "end_time": "2021-11-20T18:24:25.863351Z",
     "start_time": "2021-11-20T18:24:25.844363Z"
    },
    "colab": {
     "base_uri": "https://localhost:8080/"
    },
    "id": "Hc7c6bqNSg6U",
    "outputId": "7fd489b9-b2f5-4e99-9613-8be45ee45a2f"
   },
   "outputs": [
    {
     "name": "stdout",
     "output_type": "stream",
     "text": [
      "Cloning into 'ElectricCircuits'...\n",
      "remote: Enumerating objects: 1511, done.\u001b[K\n",
      "remote: Counting objects: 100% (498/498), done.\u001b[K\n",
      "remote: Compressing objects: 100% (226/226), done.\u001b[K\n",
      "remote: Total 1511 (delta 320), reused 429 (delta 268), pack-reused 1013\u001b[K\n",
      "Receiving objects: 100% (1511/1511), 217.82 MiB | 13.71 MiB/s, done.\n",
      "Resolving deltas: 100% (905/905), done.\n",
      "Updating files: 100% (314/314), done.\n",
      "Looking in indexes: https://pypi.org/simple, https://us-python.pkg.dev/colab-wheels/public/simple/\n",
      "Processing /content/ElectricCircuits\n",
      "  Preparing metadata (setup.py) ... \u001b[?25l\u001b[?25hdone\n",
      "Requirement already satisfied: numpy in /usr/local/lib/python3.8/dist-packages (from CircuitPy==0.1.0) (1.22.4)\n",
      "Requirement already satisfied: scipy in /usr/local/lib/python3.8/dist-packages (from CircuitPy==0.1.0) (1.7.3)\n",
      "Requirement already satisfied: matplotlib in /usr/local/lib/python3.8/dist-packages (from CircuitPy==0.1.0) (3.2.2)\n",
      "Requirement already satisfied: sympy in /usr/local/lib/python3.8/dist-packages (from CircuitPy==0.1.0) (1.7.1)\n",
      "Requirement already satisfied: python-dateutil>=2.1 in /usr/local/lib/python3.8/dist-packages (from matplotlib->CircuitPy==0.1.0) (2.8.2)\n",
      "Requirement already satisfied: kiwisolver>=1.0.1 in /usr/local/lib/python3.8/dist-packages (from matplotlib->CircuitPy==0.1.0) (1.4.4)\n",
      "Requirement already satisfied: pyparsing!=2.0.4,!=2.1.2,!=2.1.6,>=2.0.1 in /usr/local/lib/python3.8/dist-packages (from matplotlib->CircuitPy==0.1.0) (3.0.9)\n",
      "Requirement already satisfied: cycler>=0.10 in /usr/local/lib/python3.8/dist-packages (from matplotlib->CircuitPy==0.1.0) (0.11.0)\n",
      "Requirement already satisfied: mpmath>=0.19 in /usr/local/lib/python3.8/dist-packages (from sympy->CircuitPy==0.1.0) (1.2.1)\n",
      "Requirement already satisfied: six>=1.5 in /usr/local/lib/python3.8/dist-packages (from python-dateutil>=2.1->matplotlib->CircuitPy==0.1.0) (1.15.0)\n",
      "Building wheels for collected packages: CircuitPy\n",
      "  Building wheel for CircuitPy (setup.py) ... \u001b[?25l\u001b[?25hdone\n",
      "  Created wheel for CircuitPy: filename=CircuitPy-0.1.0-py3-none-any.whl size=8375 sha256=6732a07821fd909ac67a02b537456501e677619340cf7f0f2888c6253177f6fc\n",
      "  Stored in directory: /tmp/pip-ephem-wheel-cache-_gnq6ubs/wheels/87/44/93/8c1ae8274e296e72f8183a3f33866dd7a29d5ad84fc063e7cd\n",
      "Successfully built CircuitPy\n",
      "Installing collected packages: CircuitPy\n",
      "Successfully installed CircuitPy-0.1.0\n"
     ]
    }
   ],
   "source": [
    "if 'google.colab' in str(get_ipython()):    \n",
    "    ! git clone -b master https://github.com/edsonportosilva/ElectricCircuits\n",
    "    from os import chdir as cd\n",
    "    cd('/content/ElectricCircuits/')\n",
    "    ! pip install .\n",
    "\n",
    "import sympy as sp\n",
    "import numpy as np\n",
    "from circuit.utils import symdisp\n",
    "from IPython.display import display"
   ]
  },
  {
   "cell_type": "markdown",
   "metadata": {
    "id": "vT4m4fzASg6X"
   },
   "source": [
    "# *Transformações Y - $\\Delta$ e $\\Delta$ - Y*\n"
   ]
  },
  {
   "cell_type": "markdown",
   "metadata": {
    "id": "MEYI9j6-Sg6Z",
    "toc": true
   },
   "source": [
    "<h1>Sumário<span class=\"tocSkip\"></span></h1>\n",
    "<div class=\"toc\"><ul class=\"toc-item\"><li><span><a href=\"#Transformações--Y-$\\Delta$-e-$\\Delta$-Y\" data-toc-modified-id=\"Transformações--Y-$\\Delta$-e-$\\Delta$-Y-1\"><span class=\"toc-item-num\">1&nbsp;&nbsp;</span>Transformações  Y-$\\Delta$ e $\\Delta$-Y</a></span></li><li><span><a href=\"#Obtendo-as-expressões-matemáticas-para-as-conversões-$\\Delta$-Y-e-Y-$\\Delta$\" data-toc-modified-id=\"Obtendo-as-expressões-matemáticas-para-as-conversões-$\\Delta$-Y-e-Y-$\\Delta$-2\"><span class=\"toc-item-num\">2&nbsp;&nbsp;</span>Obtendo as expressões matemáticas para as conversões $\\Delta$-Y e Y-$\\Delta$</a></span><ul class=\"toc-item\"><li><span><a href=\"#Transformação-Y-$\\Delta$\" data-toc-modified-id=\"Transformação-Y-$\\Delta$-2.1\"><span class=\"toc-item-num\">2.1&nbsp;&nbsp;</span>Transformação Y-$\\Delta$</a></span></li><li><span><a href=\"#Transformação-$\\Delta$-Y\" data-toc-modified-id=\"Transformação-$\\Delta$-Y-2.2\"><span class=\"toc-item-num\">2.2&nbsp;&nbsp;</span>Transformação $\\Delta$-Y</a></span></li></ul></li></ul></div>"
   ]
  },
  {
   "cell_type": "markdown",
   "metadata": {},
   "source": [
    "## Transformações  Y-$\\Delta$ e $\\Delta$-Y\n",
    "\n",
    "Transformações Y-$\\Delta$ e $\\Delta$-Y são técnicas utilizadas na análise de circuitos elétricos para substituir configurações de resistência Y por configurações ∆ equivalentes, e vice-versa. Tais substituições são mais comumente aplicadas em circuitos trifásicos para simplificar a análise dos mesmos. Estas transformações envolvem a manipulação das relações entre as resistências dos elementos do circuito nas diferentes configurações.\n",
    "\n",
    "Na conversão Y-$\\Delta$:\n",
    "\n",
    "1. Identificam-se as resistências de cada componente na configuração em $Y$.\n",
    "2. Utilizam-se as respectivas expressões para calcular cada uma das resistências da configuração em $\\Delta$ equivalente.\n",
    "\n",
    "Na conversão $\\Delta$-Y:\n",
    "\n",
    "1. Identificam-se as resistências de cada ramo do circuito na configuração em $\\Delta$.\n",
    "2. Utilizam-se as respectivas expressões para calcular cada uma das resistências da configuração em $Y$ equivalente."
   ]
  },
  {
   "cell_type": "markdown",
   "metadata": {
    "id": "PhSBDdQ_Sg6Z"
   },
   "source": [
    "## Obtendo as expressões matemáticas para as conversões $\\Delta$-Y e Y-$\\Delta$\n",
    "\n",
    "<img src=\"https://github.com/edsonportosilva/ElectricCircuits/blob/master/Jupyter%20notebooks/figures/J16C1.png?raw=1\" width=\"500\">\n",
    "\n",
    "\n",
    "Primeiramente definimos as variáveis indicando os valores das resistências da configuração $Y$ ($R_1$, $R_2$, $R_3$) e os valores da configuração $\\Delta$ ($R_a$, $R_b$, $R_c$)."
   ]
  },
  {
   "cell_type": "code",
   "execution_count": 2,
   "metadata": {
    "ExecuteTime": {
     "end_time": "2021-11-22T12:25:40.203625Z",
     "start_time": "2021-11-22T12:25:40.156764Z"
    },
    "id": "Alp2CSP5Sg6a"
   },
   "outputs": [],
   "source": [
    "# definindo as variáveis:\n",
    "R1, R2, R3 = sp.symbols('R_1, R_2, R_3', real=True, positive=True) # resistências da configuração Y\n",
    "Ra, Rb, Rc = sp.symbols('R_a, R_b, R_c', real=True, positive=True) # resistências da configuração Δ"
   ]
  },
  {
   "cell_type": "markdown",
   "metadata": {
    "id": "NVrYaeUwSg6a"
   },
   "source": [
    "Para que as duas configurações sejam completamente equivalentes, a resistência medida em quaisquer dois pares de terminais deve ser a mesma na configuração $Y$ ou na configuração $\\Delta$. Logo, analisando as relações de resistência equivalente para os três nós do circuito, temos que as seguintes equações devem ser válidas para que haja equivalência entre a configuração $Y$ e a configuração $\\Delta$:"
   ]
  },
  {
   "cell_type": "code",
   "execution_count": 3,
   "metadata": {
    "ExecuteTime": {
     "end_time": "2021-11-22T12:25:40.203625Z",
     "start_time": "2021-11-22T12:25:40.156764Z"
    },
    "colab": {
     "base_uri": "https://localhost:8080/",
     "height": 149
    },
    "id": "NkTtsJ8ISg6a",
    "outputId": "5fb28d80-f79a-40dc-fe10-188955770555"
   },
   "outputs": [
    {
     "name": "stdout",
     "output_type": "stream",
     "text": [
      "Sistema de equações lineares:\n"
     ]
    },
    {
     "data": {
      "text/latex": [
       "$\\displaystyle R_{1} + R_{2} = \\frac{R_{c} \\left(R_{a} + R_{b}\\right)}{R_{a} + R_{b} + R_{c}}$"
      ],
      "text/plain": [
       "Eq(R_1 + R_2, R_c*(R_a + R_b)/(R_a + R_b + R_c))"
      ]
     },
     "metadata": {},
     "output_type": "display_data"
    },
    {
     "data": {
      "text/latex": [
       "$\\displaystyle R_{2} + R_{3} = \\frac{R_{a} \\left(R_{b} + R_{c}\\right)}{R_{a} + R_{b} + R_{c}}$"
      ],
      "text/plain": [
       "Eq(R_2 + R_3, R_a*(R_b + R_c)/(R_a + R_b + R_c))"
      ]
     },
     "metadata": {},
     "output_type": "display_data"
    },
    {
     "data": {
      "text/latex": [
       "$\\displaystyle R_{1} + R_{3} = \\frac{R_{b} \\left(R_{a} + R_{c}\\right)}{R_{a} + R_{b} + R_{c}}$"
      ],
      "text/plain": [
       "Eq(R_1 + R_3, R_b*(R_a + R_c)/(R_a + R_b + R_c))"
      ]
     },
     "metadata": {},
     "output_type": "display_data"
    }
   ],
   "source": [
    "# define o sistema de equações\n",
    "eq1 = sp.Eq( R1 + R2, Rc * ( Ra + Rb ) / ( Ra + Rb + Rc ) ) # para os terminais a e b             \n",
    "eq2 = sp.Eq( R2 + R3, Ra * ( Rb + Rc ) / ( Ra + Rb + Rc ) ) # para os terminais b e c  \n",
    "eq3 = sp.Eq( R3 + R1, Rb * ( Ra + Rc ) / ( Ra + Rb + Rc ) ) # para os terminais c e a  \n",
    "\n",
    "print('Sistema de equações lineares:')\n",
    "display(eq1, eq2, eq3) "
   ]
  },
  {
   "cell_type": "markdown",
   "metadata": {
    "id": "Vtje9CBnSg6b"
   },
   "source": [
    "### Transformação Y-$\\Delta$\n",
    "\n",
    "Resolvendo o sistema de equações lineares para obter $R_a$, $R_b$, $R_c$ em função de $R_1$, $R_2$, $R_3$."
   ]
  },
  {
   "cell_type": "code",
   "execution_count": 4,
   "metadata": {
    "ExecuteTime": {
     "end_time": "2021-11-22T12:25:40.203625Z",
     "start_time": "2021-11-22T12:25:40.156764Z"
    },
    "colab": {
     "base_uri": "https://localhost:8080/",
     "height": 146
    },
    "id": "H4W4akTcSg6c",
    "outputId": "2734a0cf-ead4-444d-d9a1-b4cc6a22c435"
   },
   "outputs": [
    {
     "name": "stdout",
     "output_type": "stream",
     "text": [
      "Solução do sistema:\n"
     ]
    },
    {
     "data": {
      "text/latex": [
       "$\\displaystyle R_a =\\frac{R_{1} R_{2} + R_{1} R_{3} + R_{2} R_{3}}{R_{1}}\\; $"
      ],
      "text/plain": [
       "<IPython.core.display.Math object>"
      ]
     },
     "metadata": {},
     "output_type": "display_data"
    },
    {
     "data": {
      "text/latex": [
       "$\\displaystyle R_b =\\frac{R_{1} R_{2} + R_{1} R_{3} + R_{2} R_{3}}{R_{2}}\\; $"
      ],
      "text/plain": [
       "<IPython.core.display.Math object>"
      ]
     },
     "metadata": {},
     "output_type": "display_data"
    },
    {
     "data": {
      "text/latex": [
       "$\\displaystyle R_c =\\frac{R_{1} R_{2} + R_{1} R_{3} + R_{2} R_{3}}{R_{3}}\\; $"
      ],
      "text/plain": [
       "<IPython.core.display.Math object>"
      ]
     },
     "metadata": {},
     "output_type": "display_data"
    }
   ],
   "source": [
    "# resolve o sistema\n",
    "soluc = sp.solve((eq1, eq2, eq3), (Ra, Rb, Rc), dict=True)\n",
    "soluc = soluc[0]\n",
    "\n",
    "Ra = soluc[Ra]\n",
    "Rb = soluc[Rb]\n",
    "Rc = soluc[Rc]\n",
    "\n",
    "print('Solução do sistema:')\n",
    "symdisp('R_a =', Ra.cancel())\n",
    "symdisp('R_b =', Rb.cancel())\n",
    "symdisp('R_c =', Rc.cancel())"
   ]
  },
  {
   "cell_type": "markdown",
   "metadata": {
    "id": "uKpKsAv_Sg6d"
   },
   "source": [
    "### Transformação $\\Delta$-Y\n",
    "\n",
    "Resolvendo o sistema de equações lineares para obter $R_1$, $R_2$, $R_3$ em função de $R_a$, $R_b$, $R_c$."
   ]
  },
  {
   "cell_type": "code",
   "execution_count": 5,
   "metadata": {
    "colab": {
     "base_uri": "https://localhost:8080/",
     "height": 146
    },
    "id": "QfV3clhRSg6d",
    "outputId": "e4115a9b-d6a0-4e97-9b0f-ef72faad5407"
   },
   "outputs": [
    {
     "name": "stdout",
     "output_type": "stream",
     "text": [
      "Solução do sistema:\n"
     ]
    },
    {
     "data": {
      "text/latex": [
       "$\\displaystyle R_1 =\\frac{R_{b} R_{c}}{R_{a} + R_{b} + R_{c}}\\; $"
      ],
      "text/plain": [
       "<IPython.core.display.Math object>"
      ]
     },
     "metadata": {},
     "output_type": "display_data"
    },
    {
     "data": {
      "text/latex": [
       "$\\displaystyle R_2 =\\frac{R_{a} R_{c}}{R_{a} + R_{b} + R_{c}}\\; $"
      ],
      "text/plain": [
       "<IPython.core.display.Math object>"
      ]
     },
     "metadata": {},
     "output_type": "display_data"
    },
    {
     "data": {
      "text/latex": [
       "$\\displaystyle R_3 =\\frac{R_{a} R_{b}}{R_{a} + R_{b} + R_{c}}\\; $"
      ],
      "text/plain": [
       "<IPython.core.display.Math object>"
      ]
     },
     "metadata": {},
     "output_type": "display_data"
    }
   ],
   "source": [
    "# resolve o sistema\n",
    "soluc = sp.solve((eq1, eq2, eq3), (R1, R2, R3), dict=True)\n",
    "soluc = soluc[0]\n",
    "\n",
    "R1 = soluc[R1]\n",
    "R2 = soluc[R2]\n",
    "R3 = soluc[R3]\n",
    "\n",
    "print('Solução do sistema:')\n",
    "symdisp('R_1 =', R1.cancel())\n",
    "symdisp('R_2 =', R2.cancel())\n",
    "symdisp('R_3 =', R3.cancel())"
   ]
  },
  {
   "cell_type": "code",
   "execution_count": 6,
   "metadata": {
    "ExecuteTime": {
     "end_time": "2022-06-08T19:07:42.978909Z",
     "start_time": "2022-06-08T19:07:42.861938Z"
    },
    "id": "rq7i6xu3Sg6e"
   },
   "outputs": [],
   "source": [
    "def YΔ(R1, R2, R3):\n",
    "    p = R1*R2 + R2*R3 + R3*R1\n",
    "    \n",
    "    Ra = p/R1\n",
    "    Rb = p/R2\n",
    "    Rc = p/R3\n",
    "    \n",
    "    return Ra, Rb, Rc\n",
    "\n",
    "def ΔY(Ra, Rb, Rc):\n",
    "    s = Ra + Rb + Rc\n",
    "    \n",
    "    R1 = Rb*Rc/s\n",
    "    R2 = Ra*Rc/s\n",
    "    R3 = Ra*Rb/s\n",
    "    \n",
    "    return R1, R2, R3"
   ]
  },
  {
   "cell_type": "code",
   "execution_count": 7,
   "metadata": {
    "ExecuteTime": {
     "end_time": "2022-06-08T19:08:15.780911Z",
     "start_time": "2022-06-08T19:08:15.771906Z"
    },
    "colab": {
     "base_uri": "https://localhost:8080/"
    },
    "id": "1IqtFq7wSg6e",
    "outputId": "7bf6e9c9-0a5a-42a0-8ed2-4a8ee2dedc59"
   },
   "outputs": [
    {
     "data": {
      "text/plain": [
       "(8.0, 16.0, 8.0)"
      ]
     },
     "execution_count": 7,
     "metadata": {},
     "output_type": "execute_result"
    }
   ],
   "source": [
    "YΔ(4, 2, 4)"
   ]
  },
  {
   "cell_type": "code",
   "execution_count": 8,
   "metadata": {
    "ExecuteTime": {
     "end_time": "2022-06-08T19:09:05.785486Z",
     "start_time": "2022-06-08T19:09:05.779508Z"
    },
    "colab": {
     "base_uri": "https://localhost:8080/"
    },
    "id": "BlgUcJXPSg6e",
    "outputId": "70634a5d-2c51-425a-fe6a-ace62c79e2fe"
   },
   "outputs": [
    {
     "data": {
      "text/plain": [
       "(27.0, 9.0, 4.5)"
      ]
     },
     "execution_count": 8,
     "metadata": {},
     "output_type": "execute_result"
    }
   ],
   "source": [
    "YΔ(1, 3, 6)"
   ]
  },
  {
   "cell_type": "code",
   "execution_count": 9,
   "metadata": {
    "ExecuteTime": {
     "end_time": "2022-06-08T20:10:15.625201Z",
     "start_time": "2022-06-08T20:10:15.609271Z"
    },
    "colab": {
     "base_uri": "https://localhost:8080/"
    },
    "id": "HaGnGB4ESg6e",
    "outputId": "dad7555a-81c3-4e53-b04e-f4dc0b1fe3b2"
   },
   "outputs": [
    {
     "data": {
      "text/plain": [
       "(2.0, 4.0, 4.0)"
      ]
     },
     "execution_count": 9,
     "metadata": {},
     "output_type": "execute_result"
    }
   ],
   "source": [
    "ΔY(16, 8, 8)"
   ]
  }
 ],
 "metadata": {
  "colab": {
   "include_colab_link": true,
   "provenance": []
  },
  "jupytext": {
   "encoding": "# -*- coding: utf-8 -*-",
   "formats": "ipynb,py:light"
  },
  "kernelspec": {
   "display_name": "Python 3 (ipykernel)",
   "language": "python",
   "name": "python3"
  },
  "language_info": {
   "codemirror_mode": {
    "name": "ipython",
    "version": 3
   },
   "file_extension": ".py",
   "mimetype": "text/x-python",
   "name": "python",
   "nbconvert_exporter": "python",
   "pygments_lexer": "ipython3",
   "version": "3.9.7"
  },
  "toc": {
   "base_numbering": 1,
   "nav_menu": {},
   "number_sections": true,
   "sideBar": true,
   "skip_h1_title": true,
   "title_cell": "Sumário",
   "title_sidebar": "Contents",
   "toc_cell": true,
   "toc_position": {
    "height": "calc(100% - 180px)",
    "left": "10px",
    "top": "150px",
    "width": "200.475px"
   },
   "toc_section_display": true,
   "toc_window_display": false
  }
 },
 "nbformat": 4,
 "nbformat_minor": 1
}
