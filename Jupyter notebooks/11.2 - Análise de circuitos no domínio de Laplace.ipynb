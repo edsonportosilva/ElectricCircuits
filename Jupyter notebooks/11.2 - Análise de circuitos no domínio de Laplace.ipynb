{
  "cells": [
    {
      "cell_type": "markdown",
      "metadata": {
        "id": "view-in-github",
        "colab_type": "text"
      },
      "source": [
        "<a href=\"https://colab.research.google.com/github/edsonportosilva/ElectricCircuits/blob/master/Jupyter%20notebooks/11.2%20-%20An%C3%A1lise%20de%20circuitos%20no%20dom%C3%ADnio%20de%20Laplace.ipynb\" target=\"_parent\"><img src=\"https://colab.research.google.com/assets/colab-badge.svg\" alt=\"Open In Colab\"/></a>"
      ]
    },
    {
      "cell_type": "code",
      "execution_count": 1,
      "metadata": {
        "ExecuteTime": {
          "end_time": "2025-04-15T03:03:57.887466Z",
          "start_time": "2025-04-15T03:03:57.869474Z"
        },
        "id": "tv8FnmLnV8mI",
        "outputId": "c0277198-2c11-4dfb-e71c-32b6bd6a8cb7",
        "colab": {
          "base_uri": "https://localhost:8080/"
        }
      },
      "outputs": [
        {
          "output_type": "stream",
          "name": "stdout",
          "text": [
            "fatal: destination path 'ElectricCircuits' already exists and is not an empty directory.\n",
            "Obtaining file:///content/ElectricCircuits\n",
            "  Preparing metadata (setup.py) ... \u001b[?25l\u001b[?25hdone\n",
            "Requirement already satisfied: numpy in /usr/local/lib/python3.11/dist-packages (from CircuitPy==0.1.0) (2.0.2)\n",
            "Requirement already satisfied: scipy in /usr/local/lib/python3.11/dist-packages (from CircuitPy==0.1.0) (1.14.1)\n",
            "Requirement already satisfied: matplotlib in /usr/local/lib/python3.11/dist-packages (from CircuitPy==0.1.0) (3.10.0)\n",
            "Requirement already satisfied: sympy in /usr/local/lib/python3.11/dist-packages (from CircuitPy==0.1.0) (1.13.1)\n",
            "Requirement already satisfied: contourpy>=1.0.1 in /usr/local/lib/python3.11/dist-packages (from matplotlib->CircuitPy==0.1.0) (1.3.1)\n",
            "Requirement already satisfied: cycler>=0.10 in /usr/local/lib/python3.11/dist-packages (from matplotlib->CircuitPy==0.1.0) (0.12.1)\n",
            "Requirement already satisfied: fonttools>=4.22.0 in /usr/local/lib/python3.11/dist-packages (from matplotlib->CircuitPy==0.1.0) (4.57.0)\n",
            "Requirement already satisfied: kiwisolver>=1.3.1 in /usr/local/lib/python3.11/dist-packages (from matplotlib->CircuitPy==0.1.0) (1.4.8)\n",
            "Requirement already satisfied: packaging>=20.0 in /usr/local/lib/python3.11/dist-packages (from matplotlib->CircuitPy==0.1.0) (24.2)\n",
            "Requirement already satisfied: pillow>=8 in /usr/local/lib/python3.11/dist-packages (from matplotlib->CircuitPy==0.1.0) (11.1.0)\n",
            "Requirement already satisfied: pyparsing>=2.3.1 in /usr/local/lib/python3.11/dist-packages (from matplotlib->CircuitPy==0.1.0) (3.2.3)\n",
            "Requirement already satisfied: python-dateutil>=2.7 in /usr/local/lib/python3.11/dist-packages (from matplotlib->CircuitPy==0.1.0) (2.8.2)\n",
            "Requirement already satisfied: mpmath<1.4,>=1.1.0 in /usr/local/lib/python3.11/dist-packages (from sympy->CircuitPy==0.1.0) (1.3.0)\n",
            "Requirement already satisfied: six>=1.5 in /usr/local/lib/python3.11/dist-packages (from python-dateutil>=2.7->matplotlib->CircuitPy==0.1.0) (1.17.0)\n",
            "Installing collected packages: CircuitPy\n",
            "  Attempting uninstall: CircuitPy\n",
            "    Found existing installation: CircuitPy 0.1.0\n",
            "    Uninstalling CircuitPy-0.1.0:\n",
            "      Successfully uninstalled CircuitPy-0.1.0\n",
            "  Running setup.py develop for CircuitPy\n",
            "Successfully installed CircuitPy-0.1.0\n",
            "Reading package lists... Done\n",
            "Building dependency tree... Done\n",
            "Reading state information... Done\n",
            "cm-super is already the newest version (0.3.4-17).\n",
            "dvipng is already the newest version (1.15-1.1).\n",
            "texlive-latex-extra is already the newest version (2021.20220204-1).\n",
            "texlive-latex-recommended is already the newest version (2021.20220204-1).\n",
            "0 upgraded, 0 newly installed, 0 to remove and 30 not upgraded.\n"
          ]
        }
      ],
      "source": [
        "from IPython.core.display import HTML\n",
        "HTML(\"\"\"\n",
        "<style>\n",
        ".output_png {\n",
        "    display: table-cell;\n",
        "    text-align: center;\n",
        "    vertical-align: middle;\n",
        "}\n",
        "</style>\n",
        "\"\"\")\n",
        "\n",
        "if 'google.colab' in str(get_ipython()):\n",
        "    ! git clone -b master https://github.com/edsonportosilva/ElectricCircuits\n",
        "    from os import chdir as cd\n",
        "    cd('/content/ElectricCircuits/')\n",
        "    ! pip install -e .\n",
        "    ! sudo apt install cm-super dvipng texlive-latex-extra texlive-latex-recommended"
      ]
    },
    {
      "cell_type": "code",
      "source": [],
      "metadata": {
        "id": "ftdwEhS5lIyy"
      },
      "execution_count": 1,
      "outputs": []
    },
    {
      "cell_type": "code",
      "execution_count": 2,
      "metadata": {
        "ExecuteTime": {
          "end_time": "2025-04-15T03:04:14.331438Z",
          "start_time": "2025-04-15T03:03:57.890471Z"
        },
        "id": "LNKjNQzHV8mL"
      },
      "outputs": [],
      "source": [
        "import matplotlib.pyplot as plt\n",
        "import numpy as np\n",
        "import sympy as sp\n",
        "\n",
        "from circuit.utils import round_expr, symdisp, symplot, set_preferences\n",
        "from circuit.laplace import adjustCoeff, expandDenom, partFrac\n",
        "from circuit.laplace import laplaceT as LT\n",
        "from circuit.laplace import invLaplaceT as invLT\n",
        "\n",
        "# temp workaround\n",
        "import warnings\n",
        "from matplotlib import MatplotlibDeprecationWarning\n",
        "warnings.filterwarnings('ignore', category=MatplotlibDeprecationWarning)\n",
        "\n",
        "plt.rcParams['figure.figsize'] = 6, 4\n",
        "plt.rcParams['legend.fontsize'] = 13\n",
        "plt.rcParams['lines.linewidth'] = 2\n",
        "plt.rcParams['axes.grid'] = False\n",
        "\n",
        "try:\n",
        "    import scienceplots\n",
        "except:\n",
        "    ! pip install SciencePlots\n",
        "    import scienceplots\n",
        "\n",
        "import matplotlib.pyplot as plt\n",
        "plt.style.use(['science'])\n",
        "set_preferences()"
      ]
    },
    {
      "cell_type": "code",
      "execution_count": 3,
      "metadata": {
        "ExecuteTime": {
          "end_time": "2025-04-15T03:04:14.346440Z",
          "start_time": "2025-04-15T03:04:14.335442Z"
        },
        "id": "Dw_2I2F8V8mM"
      },
      "outputs": [],
      "source": [
        "sp.init_printing()"
      ]
    },
    {
      "cell_type": "markdown",
      "metadata": {
        "id": "P36uXgAVV8mN"
      },
      "source": [
        "#### Definindo algumas variáveis simbólicas de interesse"
      ]
    },
    {
      "cell_type": "code",
      "execution_count": 4,
      "metadata": {
        "ExecuteTime": {
          "end_time": "2025-04-15T03:04:14.362439Z",
          "start_time": "2025-04-15T03:04:14.350447Z"
        },
        "id": "ku-GxaZAV8mO"
      },
      "outputs": [],
      "source": [
        "s  = sp.symbols('s')\n",
        "a, t = sp.symbols('a, t', real=True)\n",
        "omega = sp.symbols('omega', real=True)\n",
        "u = sp.Heaviside(t)"
      ]
    },
    {
      "cell_type": "markdown",
      "metadata": {
        "id": "9aIpp0HdV8mP"
      },
      "source": [
        "# *Circuitos Elétricos I - Semana 11*"
      ]
    },
    {
      "cell_type": "markdown",
      "metadata": {
        "id": "CDtctZKQV8mP"
      },
      "source": [
        "### A integral de Laplace\n",
        "\n",
        "Seja $f(t)$ uma função definida no intervalo $0\\leq t \\leq \\infty$, com $t$ e $f(t)$ reais, então a função $F(s)$, definida pela integral de Laplace\n",
        "\n",
        "$$\\large\n",
        "\\begin{equation}\n",
        "F(s)=\\mathcal{L}\\{f(t)\\}=\\int_{0}^{\\infty} f(t) e^{-s t} dt,\\;\\; s \\in \\mathbb{C},\n",
        "\\end{equation}\n",
        "$$\n",
        "\n",
        "é conhecida como a transformada de Laplace de $f(t)$."
      ]
    },
    {
      "cell_type": "markdown",
      "metadata": {
        "id": "B586f5MPV8mQ"
      },
      "source": [
        "## Leis de Kirchhoff no domínio de Laplace\n",
        "\n",
        "\n",
        "### Lei de Kirchhoff das tensões (LKT)\n",
        "\n",
        "Para qualquer malha fechada no circuito:\n",
        "\n",
        "Domínio do tempo: $$v_{1}(t)+v_{2}(t)+\\cdots+v_{n}(t)=0$$\n",
        "\n",
        "Domínio de Laplace: $$V_{1}(s)+V_{2}(s)+\\cdots+V_{n}(s)=0$$\n",
        "\n",
        "### Lei de Kirchhoff das correntes (LKC)\n",
        "\n",
        "Para qualquer nó no circuito:\n",
        "\n",
        "Domínio do tempo: $$i_{1}(t)+i_{2}(t)+\\cdots+i_{n}(t)=0$$\n",
        "\n",
        "Domínio de Laplace: $$I_{1}(s)+I_{2}(s)+\\cdots+I_{n}(s)=0$$\n"
      ]
    },
    {
      "cell_type": "markdown",
      "metadata": {
        "id": "l9gurJgpV8mQ"
      },
      "source": [
        "## Representação de elementos ideais de circuitos no domínio de Laplace\n",
        "\n",
        "$$\n",
        "\\begin{array}{|c|c|c|c|}\n",
        "\\hline\n",
        "\\text{Elemento ideal} & \\text{ Tensão vs corrente (tempo) } & \\text{ Tensão vs corrente (Laplace)} & \\text{Impedância } Z(s) = V(s)/I(s)\\\\\n",
        "\\hline \\text{Resistor} & v(t)=R i(t) & V(s)=R I(s) & Z_{R}(s)=R \\\\\n",
        "\\text{Indutor} & v(t)=L \\frac{d i(t)}{d t} & V(s)=s L I(s)-L i(0) & Z_{L}(s)=s L \\\\\n",
        "\\text{Capacitor} & v(t)=\\frac{1}{C} \\int_{0}^{t} i(\\tau)d\\tau+v(0) & V(s)=\\frac{I(s)}{s C}+\\frac{v(0)}{s} & Z_{C}(s)=\\frac{1}{s C} \\\\ \\hline\n",
        "\\end{array}\n",
        "$$"
      ]
    },
    {
      "cell_type": "markdown",
      "metadata": {
        "id": "K6-Zfa7fV8mR"
      },
      "source": [
        "### Problema 1\n",
        "\n",
        "Não existe nenhuma energia armazenada no circuito da figura a seguir no momento em que a fonte de corrente é ligada.\n",
        "\n",
        "<img src=\"https://github.com/edsonportosilva/ElectricCircuits/blob/master/Jupyter%20notebooks/figures/J14C1.png?raw=1\" width=\"500\">\n",
        "\n",
        "a. Determine $I_a(s)$ e $I_b(s)$.\\\n",
        "b. Determine $i_a(t)$ e $i_b(t)$.\\\n",
        "c. Determine $V_a(s)$, $V_b(s)$ e $V_c(s)$.\\\n",
        "d. Determine $v_a(t)$, $v_b(t)$ e $v_c(t)$."
      ]
    },
    {
      "cell_type": "markdown",
      "metadata": {
        "id": "gGG0jl4QV8mR"
      },
      "source": [
        "<img src=\"https://github.com/edsonportosilva/ElectricCircuits/blob/master/Jupyter%20notebooks/figures/J14C2.png?raw=1\" width=\"500\">"
      ]
    },
    {
      "cell_type": "markdown",
      "metadata": {
        "id": "xDltYQcWV8mS"
      },
      "source": [
        "a. Determinando $I_a(s)$ e $I_b(s)$:"
      ]
    },
    {
      "cell_type": "code",
      "execution_count": 5,
      "metadata": {
        "ExecuteTime": {
          "end_time": "2025-04-15T03:04:14.582451Z",
          "start_time": "2025-04-15T03:04:14.366449Z"
        },
        "id": "_cqvt3GAV8mS",
        "outputId": "d3dd4269-79e9-458c-cb28-f9be4bd50485",
        "colab": {
          "base_uri": "https://localhost:8080/",
          "height": 158
        }
      },
      "outputs": [
        {
          "output_type": "stream",
          "name": "stdout",
          "text": [
            "Correntes de malha no domínio de Laplace: \n",
            "\n"
          ]
        },
        {
          "output_type": "display_data",
          "data": {
            "text/plain": [
              "<IPython.core.display.Math object>"
            ],
            "text/latex": "$\\displaystyle I_1(s) =\\frac{4}{s}\\;\\mathrm{As}$"
          },
          "metadata": {}
        },
        {
          "output_type": "display_data",
          "data": {
            "text/plain": [
              "<IPython.core.display.Math object>"
            ],
            "text/latex": "$\\displaystyle I_2(s) =\\frac{4 s + 8}{s^{2} + 6 s}\\;\\mathrm{As}$"
          },
          "metadata": {}
        },
        {
          "output_type": "display_data",
          "data": {
            "text/plain": [
              "<IPython.core.display.Math object>"
            ],
            "text/latex": "$\\displaystyle I_3(s) =\\frac{16}{s^{2} + 6 s}\\;\\mathrm{As}$"
          },
          "metadata": {}
        }
      ],
      "source": [
        "I2, I3, s = sp.symbols('I2, I3, s')\n",
        "\n",
        "# define os sistema de equações\n",
        "eq1 = sp.Eq((4 + s)*I2 - 2*I3, 4)\n",
        "eq2 = sp.Eq(-2*s*I2 + s*(4 + s)*I3, 8)\n",
        "\n",
        "# resolve o sistema\n",
        "soluc = sp.solve([eq1, eq2],[I2, I3], dict=True)\n",
        "soluc\n",
        "\n",
        "I2 = [sol[I2] for sol in soluc]\n",
        "I3 = [sol[I3] for sol in soluc]\n",
        "\n",
        "I1 = 4/s\n",
        "I2 = I2[0]\n",
        "I3 = I3[0]\n",
        "\n",
        "print('Correntes de malha no domínio de Laplace: \\n')\n",
        "symdisp('I_1(s) =', I1, 'As')\n",
        "symdisp('I_2(s) =', I2, 'As')\n",
        "symdisp('I_3(s) =', I3, 'As')"
      ]
    },
    {
      "cell_type": "code",
      "execution_count": 6,
      "metadata": {
        "ExecuteTime": {
          "end_time": "2025-04-15T03:04:14.897439Z",
          "start_time": "2025-04-15T03:04:14.585452Z"
        },
        "id": "hJ_WRU6TV8mS",
        "outputId": "da6eb321-625b-4a03-c2b4-1ff65dc44ed8",
        "colab": {
          "base_uri": "https://localhost:8080/",
          "height": 55
        }
      },
      "outputs": [
        {
          "output_type": "display_data",
          "data": {
            "text/plain": [
              "<IPython.core.display.Math object>"
            ],
            "text/latex": "$\\displaystyle I_a(s) =\\frac{16}{s \\left(s + 6\\right)}\\;\\mathrm{As}$"
          },
          "metadata": {}
        }
      ],
      "source": [
        "# Calculando Ia\n",
        "Ia = I1-I2\n",
        "Ia = Ia.simplify()\n",
        "\n",
        "symdisp('I_a(s) =', Ia, 'As')"
      ]
    },
    {
      "cell_type": "code",
      "execution_count": 7,
      "metadata": {
        "ExecuteTime": {
          "end_time": "2025-04-15T03:04:14.945439Z",
          "start_time": "2025-04-15T03:04:14.900439Z"
        },
        "id": "AN0_8_SfV8mT",
        "outputId": "1a698da1-94a7-44e4-a238-0e0db7fa44df",
        "colab": {
          "base_uri": "https://localhost:8080/",
          "height": 57
        }
      },
      "outputs": [
        {
          "output_type": "display_data",
          "data": {
            "text/plain": [
              "<IPython.core.display.Math object>"
            ],
            "text/latex": "$\\displaystyle I_b(s) =\\frac{4 \\left(s + 2\\right)}{s \\left(s + 6\\right)}\\;\\mathrm{As}$"
          },
          "metadata": {}
        }
      ],
      "source": [
        "# Calculando Ib\n",
        "Ib = I2\n",
        "\n",
        "symdisp('I_b(s) =', Ib.simplify(), 'As')"
      ]
    },
    {
      "cell_type": "markdown",
      "metadata": {
        "id": "EHZTTuJhV8mT"
      },
      "source": [
        "b. Determinando $i_a(t)$ e $i_b(t)$"
      ]
    },
    {
      "cell_type": "code",
      "execution_count": 8,
      "metadata": {
        "ExecuteTime": {
          "end_time": "2025-04-15T03:04:14.993439Z",
          "start_time": "2025-04-15T03:04:14.948439Z"
        },
        "id": "ZNcZYGocV8mT",
        "outputId": "865b60cd-ab30-450e-da8f-96812c29470d",
        "colab": {
          "base_uri": "https://localhost:8080/",
          "height": 52
        }
      },
      "outputs": [
        {
          "output_type": "display_data",
          "data": {
            "text/plain": [
              "<IPython.core.display.Math object>"
            ],
            "text/latex": "$\\displaystyle I_a(s) =- \\frac{2.67}{s + 6.0} + \\frac{2.67}{s}\\;\\mathrm{As}$"
          },
          "metadata": {}
        }
      ],
      "source": [
        "symdisp('I_a(s) =', round_expr(partFrac(Ia),2), 'As')"
      ]
    },
    {
      "cell_type": "code",
      "execution_count": 9,
      "metadata": {
        "ExecuteTime": {
          "end_time": "2025-04-15T03:04:15.089439Z",
          "start_time": "2025-04-15T03:04:14.996439Z"
        },
        "id": "v00DIDXmV8mU",
        "outputId": "a8046d06-a308-48bf-dcf4-833f6c83f8e3",
        "colab": {
          "base_uri": "https://localhost:8080/",
          "height": 39
        }
      },
      "outputs": [
        {
          "output_type": "display_data",
          "data": {
            "text/plain": [
              "<IPython.core.display.Math object>"
            ],
            "text/latex": "$\\displaystyle i_a(t) =2.67 - 2.67 e^{- 6.0 t}\\;\\mathrm{A}$"
          },
          "metadata": {}
        }
      ],
      "source": [
        "t = sp.symbols('t',real=True, positive=True)\n",
        "\n",
        "ia = invLT(Ia,s,t, partialFractions=True)\n",
        "\n",
        "symdisp('i_a(t) =', round_expr(ia,2), 'A')"
      ]
    },
    {
      "cell_type": "code",
      "execution_count": 10,
      "metadata": {
        "ExecuteTime": {
          "end_time": "2025-04-15T03:04:15.121438Z",
          "start_time": "2025-04-15T03:04:15.094439Z"
        },
        "id": "ezbWSo4JV8mU",
        "outputId": "03ad3982-3fcc-4141-ce49-dab0231ecf5b",
        "colab": {
          "base_uri": "https://localhost:8080/",
          "height": 52
        }
      },
      "outputs": [
        {
          "output_type": "display_data",
          "data": {
            "text/plain": [
              "<IPython.core.display.Math object>"
            ],
            "text/latex": "$\\displaystyle I_b(s) =\\frac{2.67}{s + 6.0} + \\frac{1.33}{s}\\;\\mathrm{As}$"
          },
          "metadata": {}
        }
      ],
      "source": [
        "symdisp('I_b(s) =', round_expr(partFrac(Ib),2), 'As')"
      ]
    },
    {
      "cell_type": "code",
      "execution_count": 11,
      "metadata": {
        "ExecuteTime": {
          "end_time": "2025-04-15T03:04:15.200440Z",
          "start_time": "2025-04-15T03:04:15.124438Z"
        },
        "id": "UOF5aQz6V8mU",
        "outputId": "775ec256-6739-42af-e133-fc318a0d15ea",
        "colab": {
          "base_uri": "https://localhost:8080/",
          "height": 39
        }
      },
      "outputs": [
        {
          "output_type": "display_data",
          "data": {
            "text/plain": [
              "<IPython.core.display.Math object>"
            ],
            "text/latex": "$\\displaystyle i_b(t) =1.33 + 2.67 e^{- 6.0 t}\\;\\mathrm{A}$"
          },
          "metadata": {}
        }
      ],
      "source": [
        "ib = invLT(Ib,s,t, partialFractions=True)\n",
        "\n",
        "symdisp('i_b(t) =', round_expr(ib,2), 'A')"
      ]
    },
    {
      "cell_type": "markdown",
      "metadata": {
        "id": "uLBVs4hgV8mV"
      },
      "source": [
        "c. Determinando $V_a(s)$, $V_b(s)$ e $V_c(s)$."
      ]
    },
    {
      "cell_type": "code",
      "execution_count": 12,
      "metadata": {
        "ExecuteTime": {
          "end_time": "2025-04-15T03:04:15.326443Z",
          "start_time": "2025-04-15T03:04:15.203453Z"
        },
        "id": "cM_PfiQgV8mV",
        "outputId": "c3eca7fa-3f66-44f9-b01e-836a5d80cddc",
        "colab": {
          "base_uri": "https://localhost:8080/",
          "height": 137
        }
      },
      "outputs": [
        {
          "output_type": "display_data",
          "data": {
            "text/plain": [
              "<IPython.core.display.Math object>"
            ],
            "text/latex": "$\\displaystyle V_a(s) =\\frac{400 \\left(s + 2\\right)}{s^{2} \\left(s + 6\\right)}\\;\\mathrm{Vs}$"
          },
          "metadata": {}
        },
        {
          "output_type": "display_data",
          "data": {
            "text/plain": [
              "<IPython.core.display.Math object>"
            ],
            "text/latex": "$\\displaystyle V_b(s) =\\frac{400 \\left(2 - s\\right)}{s^{2} \\left(s + 6\\right)}\\;\\mathrm{Vs}$"
          },
          "metadata": {}
        },
        {
          "output_type": "display_data",
          "data": {
            "text/plain": [
              "<IPython.core.display.Math object>"
            ],
            "text/latex": "$\\displaystyle V_c(s) =\\frac{400 \\left(s + 2\\right)}{s^{2} \\left(s + 6\\right)}\\;\\mathrm{Vs}$"
          },
          "metadata": {}
        }
      ],
      "source": [
        "Va = (100/s)*I2\n",
        "Vb = (100/s)*(I3-I2)\n",
        "Vc = (100/s)*(I1-I3)\n",
        "\n",
        "Va = Va.simplify()\n",
        "Vb = Vb.simplify()\n",
        "Vc = Vc.simplify()\n",
        "\n",
        "symdisp('V_a(s) =', Va, 'Vs')\n",
        "symdisp('V_b(s) =', Vb, 'Vs')\n",
        "symdisp('V_c(s) =', Vc, 'Vs')"
      ]
    },
    {
      "cell_type": "code",
      "execution_count": 13,
      "metadata": {
        "ExecuteTime": {
          "end_time": "2025-04-15T03:04:15.389449Z",
          "start_time": "2025-04-15T03:04:15.329459Z"
        },
        "id": "g_9GVkpGV8mV",
        "outputId": "640f5174-52bd-4c2b-dd0d-62f039135ee1",
        "colab": {
          "base_uri": "https://localhost:8080/",
          "height": 52
        }
      },
      "outputs": [
        {
          "output_type": "display_data",
          "data": {
            "text/plain": [
              "<IPython.core.display.Math object>"
            ],
            "text/latex": "$\\displaystyle V_a(s) =- \\frac{44.44}{s + 6.0} + \\frac{44.44}{s} + \\frac{133.33}{s^{2}}\\;\\mathrm{Vs}$"
          },
          "metadata": {}
        }
      ],
      "source": [
        "symdisp('V_a(s) =', round_expr(partFrac(Va),2), 'Vs')"
      ]
    },
    {
      "cell_type": "code",
      "execution_count": 14,
      "metadata": {
        "ExecuteTime": {
          "end_time": "2025-04-15T03:04:15.437439Z",
          "start_time": "2025-04-15T03:04:15.392438Z"
        },
        "id": "A8iyxQ2FV8mX",
        "outputId": "803a3ff9-6ac4-4327-e924-5924c1db6e4b",
        "colab": {
          "base_uri": "https://localhost:8080/",
          "height": 52
        }
      },
      "outputs": [
        {
          "output_type": "display_data",
          "data": {
            "text/plain": [
              "<IPython.core.display.Math object>"
            ],
            "text/latex": "$\\displaystyle V_b(s) =\\frac{88.89}{s + 6.0} - \\frac{88.89}{s} + \\frac{133.33}{s^{2}}\\;\\mathrm{Vs}$"
          },
          "metadata": {}
        }
      ],
      "source": [
        "symdisp('V_b(s) =', round_expr(partFrac(Vb),2), 'Vs')"
      ]
    },
    {
      "cell_type": "code",
      "execution_count": 15,
      "metadata": {
        "ExecuteTime": {
          "end_time": "2025-04-15T03:04:15.468441Z",
          "start_time": "2025-04-15T03:04:15.441440Z"
        },
        "id": "rpNyaONeV8mX",
        "outputId": "fb8ed258-2052-4624-b2f7-2bef76ede57a",
        "colab": {
          "base_uri": "https://localhost:8080/",
          "height": 52
        }
      },
      "outputs": [
        {
          "output_type": "display_data",
          "data": {
            "text/plain": [
              "<IPython.core.display.Math object>"
            ],
            "text/latex": "$\\displaystyle V_c(s) =- \\frac{44.44}{s + 6.0} + \\frac{44.44}{s} + \\frac{133.33}{s^{2}}\\;\\mathrm{Vs}$"
          },
          "metadata": {}
        }
      ],
      "source": [
        "symdisp('V_c(s) =', round_expr(partFrac(Vc),2), 'Vs')"
      ]
    },
    {
      "cell_type": "markdown",
      "metadata": {
        "id": "0IpgQuDTV8mX"
      },
      "source": [
        "d. Determinando $v_a(t)$, $v_b(t)$ e $v_c(t)$."
      ]
    },
    {
      "cell_type": "code",
      "execution_count": 16,
      "metadata": {
        "ExecuteTime": {
          "end_time": "2025-04-15T03:04:15.547450Z",
          "start_time": "2025-04-15T03:04:15.471443Z"
        },
        "id": "nl4SxN48V8mY",
        "outputId": "c06d8b67-e52a-40ec-82d0-752a6aa74f6a",
        "colab": {
          "base_uri": "https://localhost:8080/",
          "height": 39
        }
      },
      "outputs": [
        {
          "output_type": "display_data",
          "data": {
            "text/plain": [
              "<IPython.core.display.Math object>"
            ],
            "text/latex": "$\\displaystyle v_a(t) =\\left(133.3333 t + 44.4444 - 44.4444 e^{- 6 t}\\right) \\theta\\left(t\\right)\\;\\mathrm{V}$"
          },
          "metadata": {}
        }
      ],
      "source": [
        "va = invLT(Va, s, t)\n",
        "va = round_expr(va,4)*u\n",
        "\n",
        "symdisp('v_a(t) =', va, 'V')"
      ]
    },
    {
      "cell_type": "code",
      "execution_count": 17,
      "metadata": {
        "ExecuteTime": {
          "end_time": "2025-04-15T03:04:15.627439Z",
          "start_time": "2025-04-15T03:04:15.550440Z"
        },
        "id": "vVQqhyUPV8mY",
        "outputId": "17393455-74e7-4245-a653-2e52828c2777",
        "colab": {
          "base_uri": "https://localhost:8080/",
          "height": 39
        }
      },
      "outputs": [
        {
          "output_type": "display_data",
          "data": {
            "text/plain": [
              "<IPython.core.display.Math object>"
            ],
            "text/latex": "$\\displaystyle v_b(t) =\\left(133.333 t - 88.889 + 88.889 e^{- 6 t}\\right) \\theta\\left(t\\right)\\;\\mathrm{V}$"
          },
          "metadata": {}
        }
      ],
      "source": [
        "vb = invLT(Vb, s, t)\n",
        "vb = round_expr(vb,3)*u\n",
        "\n",
        "symdisp('v_b(t) =', vb, 'V')"
      ]
    },
    {
      "cell_type": "code",
      "execution_count": 18,
      "metadata": {
        "ExecuteTime": {
          "end_time": "2025-04-15T03:04:15.643442Z",
          "start_time": "2025-04-15T03:04:15.630440Z"
        },
        "id": "-yZQ4Q3aV8mY",
        "outputId": "76861604-65a9-4feb-e771-8151f8b25c41",
        "colab": {
          "base_uri": "https://localhost:8080/",
          "height": 39
        }
      },
      "outputs": [
        {
          "output_type": "display_data",
          "data": {
            "text/plain": [
              "<IPython.core.display.Math object>"
            ],
            "text/latex": "$\\displaystyle v_c(t) =\\left(133.3333 t + 44.4444 - 44.4444 e^{- 6 t}\\right) \\theta\\left(t\\right)\\;\\mathrm{V}$"
          },
          "metadata": {}
        }
      ],
      "source": [
        "vc = va\n",
        "\n",
        "symdisp('v_c(t) =', vc, 'V')"
      ]
    },
    {
      "cell_type": "code",
      "execution_count": 19,
      "metadata": {
        "ExecuteTime": {
          "end_time": "2025-04-15T03:05:39.213919Z",
          "start_time": "2025-04-15T03:04:15.646444Z"
        },
        "id": "sjtr_EYmV8mY",
        "outputId": "75052102-9748-407d-b0ef-5c6d4c6d085c",
        "colab": {
          "base_uri": "https://localhost:8080/",
          "height": 418
        }
      },
      "outputs": [
        {
          "output_type": "execute_result",
          "data": {
            "text/plain": [
              "<Figure size 704x396 with 1 Axes>"
            ],
            "image/png": "[encoded data removed]"
          },
          "metadata": {},
          "execution_count": 19
        }
      ],
      "source": [
        "# plota funções no domínio do tempo\n",
        "intervalo = np.arange(-4, 10, 0.01)\n",
        "symplot(t, [va, vb, vc], intervalo, ['$v_a(t)$','$v_b(t)$','$v_c(t)$'])"
      ]
    },
    {
      "cell_type": "markdown",
      "metadata": {
        "id": "7b59ix5LV8mZ"
      },
      "source": [
        "Pergunta: estas soluções fazem sentido para o circuito analisado?"
      ]
    },
    {
      "cell_type": "markdown",
      "metadata": {
        "id": "BUPN6YahV8mZ"
      },
      "source": [
        "### Problema 2\n",
        "\n",
        "Não existe nenhuma energia armazenada no circuito da figura a seguir no momento em que a fonte de tensão é conectada.\n",
        "\n",
        "<img src=\"https://github.com/edsonportosilva/ElectricCircuits/blob/master/Jupyter%20notebooks/figures/J14C3.png?raw=1\" width=\"600\">\n",
        "\n",
        "a. Determine $V_0(s)$.\\\n",
        "b. Determine $v_0(t)$."
      ]
    },
    {
      "cell_type": "markdown",
      "metadata": {
        "id": "lC6CYIRgV8mZ"
      },
      "source": [
        "<img src=\"https://github.com/edsonportosilva/ElectricCircuits/blob/master/Jupyter%20notebooks/figures/J14C4.png?raw=1\" width=\"600\">"
      ]
    },
    {
      "cell_type": "code",
      "execution_count": 20,
      "metadata": {
        "ExecuteTime": {
          "end_time": "2025-04-15T03:05:39.275920Z",
          "start_time": "2025-04-15T03:05:39.216907Z"
        },
        "id": "DZBOCABOV8mZ"
      },
      "outputs": [],
      "source": [
        "Ia, Ib, s = sp.symbols('Ia, Ib, s')\n",
        "\n",
        "# define o sistema de equações\n",
        "eq1 = sp.Eq(10*Ia + (s + 250/s)*Ib, 35/s)\n",
        "eq2 = sp.Eq(Ia - (1 + 0.4*s)*Ib, 0)\n",
        "\n",
        "# resolve o sistema\n",
        "soluc = sp.solve([eq1, eq2],[Ia, Ib], dict=True)[0]\n",
        "Ia = soluc[Ia]\n",
        "Ib = soluc[Ib]"
      ]
    },
    {
      "cell_type": "code",
      "execution_count": 21,
      "metadata": {
        "ExecuteTime": {
          "end_time": "2025-04-15T03:05:39.354922Z",
          "start_time": "2025-04-15T03:05:39.277910Z"
        },
        "id": "Wr8eYzwSV8mZ",
        "outputId": "344f2bda-7dd6-4919-ea9b-5497f73fc6a0",
        "colab": {
          "base_uri": "https://localhost:8080/",
          "height": 52
        }
      },
      "outputs": [
        {
          "output_type": "display_data",
          "data": {
            "text/plain": [
              "<IPython.core.display.Math object>"
            ],
            "text/latex": "$\\displaystyle I_a(s) =\\frac{14.0 s + 35.0}{5.0 s^{2} + 10.0 s + 250.0}\\;\\mathrm{As}$"
          },
          "metadata": {}
        }
      ],
      "source": [
        "symdisp('I_a(s) =', Ia.simplify(), 'As')"
      ]
    },
    {
      "cell_type": "code",
      "execution_count": 22,
      "metadata": {
        "ExecuteTime": {
          "end_time": "2025-04-15T03:05:39.402908Z",
          "start_time": "2025-04-15T03:05:39.358911Z"
        },
        "id": "YHcmTWQ1V8mZ",
        "outputId": "d4c1d207-3383-4260-92da-ccd742195999",
        "colab": {
          "base_uri": "https://localhost:8080/",
          "height": 52
        }
      },
      "outputs": [
        {
          "output_type": "display_data",
          "data": {
            "text/plain": [
              "<IPython.core.display.Math object>"
            ],
            "text/latex": "$\\displaystyle I_b(s) =\\frac{7.0}{s^{2} + 2.0 s + 50.0}\\;\\mathrm{As}$"
          },
          "metadata": {}
        }
      ],
      "source": [
        "symdisp('I_b(s) =', Ib.simplify(), 'As')"
      ]
    },
    {
      "cell_type": "code",
      "execution_count": 23,
      "metadata": {
        "ExecuteTime": {
          "end_time": "2025-04-15T03:05:39.526919Z",
          "start_time": "2025-04-15T03:05:39.404923Z"
        },
        "id": "davxp05nV8ma",
        "outputId": "efa43d0b-ce2b-4491-f598-b82798c49740",
        "colab": {
          "base_uri": "https://localhost:8080/",
          "height": 58
        }
      },
      "outputs": [
        {
          "output_type": "display_data",
          "data": {
            "text/plain": [
              "<IPython.core.display.Math object>"
            ],
            "text/latex": "$\\displaystyle V_0(s) =\\frac{147.0 s^{2} + 280.0 s + 8750.0}{s \\left(5.0 s^{2} + 10.0 s + 250.0\\right)}\\;\\mathrm{Vs}$"
          },
          "metadata": {}
        }
      ],
      "source": [
        "V0 = 35/s - 2*Ia\n",
        "\n",
        "symdisp('V_0(s) =', V0.simplify(), 'Vs')"
      ]
    },
    {
      "cell_type": "code",
      "execution_count": 24,
      "metadata": {
        "ExecuteTime": {
          "end_time": "2025-04-15T03:05:39.606907Z",
          "start_time": "2025-04-15T03:05:39.528909Z"
        },
        "id": "0p9jLv8IV8ma",
        "outputId": "a355e480-d968-43e0-8b7b-75238d449d92",
        "colab": {
          "base_uri": "https://localhost:8080/",
          "height": 53
        }
      },
      "outputs": [
        {
          "output_type": "display_data",
          "data": {
            "text/plain": [
              "<IPython.core.display.Math object>"
            ],
            "text/latex": "$\\displaystyle V_0(s) =\\frac{-2.8 - 0.6 i}{s + 1.0 + 7.0 i} + \\frac{-2.8 + 0.6 i}{s + 1.0 - 7.0 i} + \\frac{35.0}{s}\\;\\mathrm{Vs}$"
          },
          "metadata": {}
        }
      ],
      "source": [
        "symdisp('V_0(s) =', partFrac(V0), 'Vs')"
      ]
    },
    {
      "cell_type": "code",
      "execution_count": 25,
      "metadata": {
        "ExecuteTime": {
          "end_time": "2025-04-15T03:05:39.636920Z",
          "start_time": "2025-04-15T03:05:39.609912Z"
        },
        "id": "m5NcG_8vV8ma",
        "outputId": "d0308744-9f70-4816-ad11-885fa3e30f9f",
        "colab": {
          "base_uri": "https://localhost:8080/"
        }
      },
      "outputs": [
        {
          "output_type": "execute_result",
          "data": {
            "text/plain": [
              "array([-1.+7.j, -1.-7.j,  0.+0.j])"
            ]
          },
          "metadata": {},
          "execution_count": 25
        }
      ],
      "source": [
        "raizes = np.roots([5, 10, 250, 0])\n",
        "raizes"
      ]
    },
    {
      "cell_type": "code",
      "execution_count": 26,
      "metadata": {
        "ExecuteTime": {
          "end_time": "2025-04-15T03:05:39.796920Z",
          "start_time": "2025-04-15T03:05:39.639914Z"
        },
        "id": "X0iMBpDJV8ma",
        "outputId": "775f1dc4-b3d2-4588-9171-0e6d79249f36",
        "colab": {
          "base_uri": "https://localhost:8080/",
          "height": 56
        }
      },
      "outputs": [
        {
          "output_type": "display_data",
          "data": {
            "text/plain": [
              "<IPython.core.display.Math object>"
            ],
            "text/latex": "$\\displaystyle F(s) =\\frac{K}{s + σ + i ω} + \\frac{\\overline{K}}{s + σ - i ω}\\;\\mathrm{ }$"
          },
          "metadata": {}
        }
      ],
      "source": [
        "K    = sp.symbols('K')\n",
        "σ, ω = sp.symbols('σ, ω', real=True, positive=True)\n",
        "\n",
        "j = sp.I\n",
        "\n",
        "F = K/(s + σ + ω*j) + sp.conjugate(K)/(s + σ - ω*j)\n",
        "\n",
        "symdisp('F(s) =', F.simplify())"
      ]
    },
    {
      "cell_type": "code",
      "execution_count": 27,
      "metadata": {
        "ExecuteTime": {
          "end_time": "2025-04-15T03:05:40.075921Z",
          "start_time": "2025-04-15T03:05:39.798909Z"
        },
        "id": "YqiiFk5IV8mb",
        "outputId": "7dd0f339-b692-4169-d3d3-5b052e210541",
        "colab": {
          "base_uri": "https://localhost:8080/",
          "height": 39
        }
      },
      "outputs": [
        {
          "output_type": "display_data",
          "data": {
            "text/plain": [
              "<IPython.core.display.Math object>"
            ],
            "text/latex": "$\\displaystyle f(t) =\\left(\\operatorname{re}{\\left(K e^{- i t ω}\\right)} + \\operatorname{re}{\\left(e^{i t ω} \\overline{K}\\right)}\\right) e^{- t σ}\\;\\mathrm{ }$"
          },
          "metadata": {}
        }
      ],
      "source": [
        "symdisp('f(t) =', sp.re(sp.inverse_laplace_transform(F, s, t).simplify()))"
      ]
    },
    {
      "cell_type": "code",
      "execution_count": 28,
      "metadata": {
        "ExecuteTime": {
          "end_time": "2025-04-15T03:05:40.359908Z",
          "start_time": "2025-04-15T03:05:40.083911Z"
        },
        "id": "LjlGrdWkV8mb",
        "outputId": "51b0d395-4b6a-4e09-ceb0-fb8eb31f1e41",
        "colab": {
          "base_uri": "https://localhost:8080/",
          "height": 39
        }
      },
      "outputs": [
        {
          "output_type": "display_data",
          "data": {
            "text/plain": [
              "<IPython.core.display.Math object>"
            ],
            "text/latex": "$\\displaystyle v_0(t) =\\left(35.0 - 1.2 e^{- 1.0 t} \\sin{\\left(7.0 t \\right)} - 5.6 e^{- 1.0 t} \\cos{\\left(7.0 t \\right)}\\right) \\theta\\left(t\\right)\\;\\mathrm{ }$"
          },
          "metadata": {}
        }
      ],
      "source": [
        "v0 = invLT(V0, s, t, partialFractions=True)\n",
        "v0 = round_expr(v0,2)*u\n",
        "\n",
        "symdisp('v_0(t) =', v0)"
      ]
    },
    {
      "cell_type": "code",
      "execution_count": 29,
      "metadata": {
        "ExecuteTime": {
          "end_time": "2025-04-15T03:05:43.666113Z",
          "start_time": "2025-04-15T03:05:40.362910Z"
        },
        "id": "ivadXkoyV8mb",
        "outputId": "52f6ab3e-3047-4d56-ce17-b5cbcb7b04ab",
        "colab": {
          "base_uri": "https://localhost:8080/",
          "height": 424
        }
      },
      "outputs": [
        {
          "output_type": "execute_result",
          "data": {
            "text/plain": [
              "<Figure size 704x396 with 1 Axes>"
            ],
            "image/png": "[encoded data removed]"
          },
          "metadata": {},
          "execution_count": 29
        }
      ],
      "source": [
        "# plota funções no domínio do tempo\n",
        "intervalo = np.arange(-4, 10, 0.05)\n",
        "symplot(t, v0, intervalo, '$v_0(t)$')"
      ]
    },
    {
      "cell_type": "markdown",
      "metadata": {
        "id": "OdrnYoqxiQjP"
      },
      "source": [
        "### Problema 3\n",
        "\n",
        "Problema visto nos slides da aula 24.\n",
        "\n",
        "Simulação: https://tinyurl.com/23gkm54o"
      ]
    },
    {
      "cell_type": "markdown",
      "metadata": {
        "id": "PjFjr0WriQjQ"
      },
      "source": [
        "**Resolução via tensões de nó**"
      ]
    },
    {
      "cell_type": "code",
      "execution_count": 30,
      "metadata": {
        "ExecuteTime": {
          "end_time": "2025-04-15T03:05:43.775920Z",
          "start_time": "2025-04-15T03:05:43.668907Z"
        },
        "hide_input": true,
        "colab": {
          "base_uri": "https://localhost:8080/",
          "height": 105
        },
        "id": "lfiY_l8SiQjQ",
        "outputId": "686af5a8-1aac-43dd-cd15-14f37c7fbc46"
      },
      "outputs": [
        {
          "output_type": "stream",
          "name": "stdout",
          "text": [
            "Sistema de equações via tensões de nó:\n"
          ]
        },
        {
          "output_type": "display_data",
          "data": {
            "text/plain": [
              "<IPython.core.display.Math object>"
            ],
            "text/latex": "$\\displaystyle (1):- \\frac{V_{1}}{10} + \\frac{60}{s} = 0.1 V_{1} s + \\frac{V_{1} - V_{2}}{20 s}\\;\\mathrm{ }$"
          },
          "metadata": {}
        },
        {
          "output_type": "display_data",
          "data": {
            "text/plain": [
              "<IPython.core.display.Math object>"
            ],
            "text/latex": "$\\displaystyle (2):\\frac{V_{1} - V_{2}}{20 s} = \\frac{V_{1}}{4} + \\frac{V_{2}}{140}\\;\\mathrm{ }$"
          },
          "metadata": {}
        }
      ],
      "source": [
        "# tensão de nó\n",
        "V1, V2, s = sp.symbols('V_1, V_2, s')\n",
        "\n",
        "C = 100e-3\n",
        "L = 20\n",
        "Vg = 600/s\n",
        "\n",
        "ZC = 1/(s*C)\n",
        "ZL = s*L\n",
        "\n",
        "# define o sistema de equações\n",
        "eq1 = sp.Eq((Vg - V1)/10, (V1 - V2)/ZL + V1/ZC)\n",
        "eq2 = sp.Eq((V1 - V2)/ZL, V2/140 + V1/4)\n",
        "\n",
        "print('Sistema de equações via tensões de nó:')\n",
        "symdisp('(1):', eq1)\n",
        "symdisp('(2):', eq2)\n",
        "\n",
        "# resolve o sistema\n",
        "soluc = sp.solve([eq1, eq2],[V1, V2], dict=True)[0]\n",
        "\n",
        "V1 = soluc[V1]\n",
        "V2 = soluc[V2]"
      ]
    },
    {
      "cell_type": "code",
      "execution_count": 31,
      "metadata": {
        "ExecuteTime": {
          "end_time": "2025-04-15T03:05:43.918920Z",
          "start_time": "2025-04-15T03:05:43.778908Z"
        },
        "hide_input": true,
        "colab": {
          "base_uri": "https://localhost:8080/",
          "height": 112
        },
        "id": "fzifjbjLiQjQ",
        "outputId": "c73c4228-7b3e-4ad8-a1d6-c3de005b6e2d"
      },
      "outputs": [
        {
          "output_type": "stream",
          "name": "stdout",
          "text": [
            "Solução do sistema:\n"
          ]
        },
        {
          "output_type": "display_data",
          "data": {
            "text/plain": [
              "<IPython.core.display.Math object>"
            ],
            "text/latex": "$\\displaystyle V_1(s) =\\frac{600.0 s + 4200.0}{s \\left(s^{2} + 8.0 s + 25.0\\right)}\\;\\mathrm{Vs}$"
          },
          "metadata": {}
        },
        {
          "output_type": "display_data",
          "data": {
            "text/plain": [
              "<IPython.core.display.Math object>"
            ],
            "text/latex": "$\\displaystyle V_2(s) =\\frac{4200.0 - 21000.0 s}{s \\left(s^{2} + 8.0 s + 25.0\\right)}\\;\\mathrm{Vs}$"
          },
          "metadata": {}
        }
      ],
      "source": [
        "print('Solução do sistema:')\n",
        "symdisp('V_1(s) =', V1.simplify(), 'Vs')\n",
        "symdisp('V_2(s) =', V2.simplify(), 'Vs')"
      ]
    },
    {
      "cell_type": "code",
      "execution_count": 32,
      "metadata": {
        "ExecuteTime": {
          "end_time": "2025-04-15T03:05:43.981919Z",
          "start_time": "2025-04-15T03:05:43.921912Z"
        },
        "hide_input": true,
        "colab": {
          "base_uri": "https://localhost:8080/",
          "height": 55
        },
        "id": "gkTPq006iQjQ",
        "outputId": "c1c72208-ae17-4489-cee2-4834d3318f28"
      },
      "outputs": [
        {
          "output_type": "display_data",
          "data": {
            "text/plain": [
              "<IPython.core.display.Math object>"
            ],
            "text/latex": "$\\displaystyle V_0(s) =\\frac{4200.0 - 21000.0 s}{s \\left(s^{2} + 8.0 s + 25.0\\right)}\\;\\mathrm{Vs}$"
          },
          "metadata": {}
        }
      ],
      "source": [
        "symdisp('V_0(s) =', V2.simplify(), 'Vs')"
      ]
    },
    {
      "cell_type": "code",
      "execution_count": 33,
      "metadata": {
        "ExecuteTime": {
          "end_time": "2025-04-15T03:05:44.042908Z",
          "start_time": "2025-04-15T03:05:43.984910Z"
        },
        "hide_input": true,
        "colab": {
          "base_uri": "https://localhost:8080/",
          "height": 53
        },
        "id": "KfZH7JMziQjQ",
        "outputId": "7e7846d1-1cb2-4a65-922e-df22d5a97360"
      },
      "outputs": [
        {
          "output_type": "display_data",
          "data": {
            "text/plain": [
              "<IPython.core.display.Math object>"
            ],
            "text/latex": "$\\displaystyle V_0(s) =\\frac{-84.0 - 3612.0 i}{s + 4.0 + 3.0 i} + \\frac{-84.0 + 3612.0 i}{s + 4.0 - 3.0 i} + \\frac{168.0}{s}\\;\\mathrm{Vs}$"
          },
          "metadata": {}
        }
      ],
      "source": [
        "V0 = V2\n",
        "symdisp('V_0(s) =', partFrac(V0), 'Vs')"
      ]
    },
    {
      "cell_type": "code",
      "execution_count": 34,
      "metadata": {
        "ExecuteTime": {
          "end_time": "2025-04-15T03:05:44.264918Z",
          "start_time": "2025-04-15T03:05:44.045907Z"
        },
        "hide_input": false,
        "colab": {
          "base_uri": "https://localhost:8080/",
          "height": 39
        },
        "id": "npZVl1U5iQjR",
        "outputId": "7c5ba4b5-b814-45f7-c88e-da3fae4f89ec"
      },
      "outputs": [
        {
          "output_type": "display_data",
          "data": {
            "text/plain": [
              "<IPython.core.display.Math object>"
            ],
            "text/latex": "$\\displaystyle v_0(t) =168.0 - 7224.0 e^{- 4.0 t} \\sin{\\left(3.0 t \\right)} - 168.0 e^{- 4.0 t} \\cos{\\left(3.0 t \\right)}\\;\\mathrm{V}$"
          },
          "metadata": {}
        }
      ],
      "source": [
        "v0 = invLT(V0, s, t, partialFractions=True)\n",
        "symdisp('v_0(t) =', v0, 'V')"
      ]
    },
    {
      "cell_type": "code",
      "execution_count": 35,
      "metadata": {
        "ExecuteTime": {
          "end_time": "2025-04-15T03:05:47.857911Z",
          "start_time": "2025-04-15T03:05:44.267908Z"
        },
        "hide_input": false,
        "colab": {
          "base_uri": "https://localhost:8080/",
          "height": 418
        },
        "id": "sKqYfeyTiQjR",
        "outputId": "4c3eccb6-f65a-4dd4-b0ed-648e82953785"
      },
      "outputs": [
        {
          "output_type": "execute_result",
          "data": {
            "text/plain": [
              "<Figure size 704x396 with 1 Axes>"
            ],
            "image/png": "[encoded data removed]"
          },
          "metadata": {},
          "execution_count": 35
        }
      ],
      "source": [
        "# plota funções no domínio do tempo\n",
        "intervalo = np.arange(-0.25, 2.5, 0.005)\n",
        "symplot(t, v0*u, intervalo, '$v_0(t)$')"
      ]
    },
    {
      "cell_type": "markdown",
      "metadata": {
        "id": "3ghZfNZfiQjR"
      },
      "source": [
        " **Resolução via correntes de malha**"
      ]
    },
    {
      "cell_type": "code",
      "execution_count": 36,
      "metadata": {
        "ExecuteTime": {
          "end_time": "2025-04-15T03:05:47.983919Z",
          "start_time": "2025-04-15T03:05:47.860912Z"
        },
        "hide_input": true,
        "colab": {
          "base_uri": "https://localhost:8080/",
          "height": 143
        },
        "id": "bnb7SRbFiQjR",
        "outputId": "6519e09f-5884-48e0-d904-0d42746528c8"
      },
      "outputs": [
        {
          "output_type": "stream",
          "name": "stdout",
          "text": [
            "Sistema de equações via correntes de malha:\n"
          ]
        },
        {
          "output_type": "display_data",
          "data": {
            "text/plain": [
              "<IPython.core.display.Math object>"
            ],
            "text/latex": "$\\displaystyle (1):10 I_{a} + 10 I_{c} + \\frac{10.0 \\left(I_{a} - I_{b}\\right)}{s} - \\frac{600}{s} = 0\\;\\mathrm{ }$"
          },
          "metadata": {}
        },
        {
          "output_type": "display_data",
          "data": {
            "text/plain": [
              "<IPython.core.display.Math object>"
            ],
            "text/latex": "$\\displaystyle (2):140 I_{b} + 20 s \\left(I_{b} + I_{c}\\right) - \\frac{10.0 \\left(I_{a} - I_{b}\\right)}{s} = 0\\;\\mathrm{ }$"
          },
          "metadata": {}
        },
        {
          "output_type": "display_data",
          "data": {
            "text/plain": [
              "<IPython.core.display.Math object>"
            ],
            "text/latex": "$\\displaystyle (3):I_{c} = \\frac{2.5 \\left(I_{a} - I_{b}\\right)}{s}\\;\\mathrm{ }$"
          },
          "metadata": {}
        }
      ],
      "source": [
        "# Correntes de malha\n",
        "Ia, Ib, Ic, s = sp.symbols('I_a, I_b, I_c, s')\n",
        "\n",
        "C = 100e-3\n",
        "L = 20\n",
        "Vg = 600/s\n",
        "\n",
        "ZC = 1/(s*C)\n",
        "ZL = s*L\n",
        "\n",
        "Vϕ = ZC*(Ia - Ib)\n",
        "\n",
        "# define o sistema de equações\n",
        "eq1 = sp.Eq(-Vg + 10*(Ia + Ic) + ZC*(Ia-Ib), 0)\n",
        "eq2 = sp.Eq(-ZC*(Ia-Ib) + ZL*(Ib + Ic) + 140*Ib,0)\n",
        "eq3 = sp.Eq(Ic, Vϕ/4)\n",
        "\n",
        "print('Sistema de equações via correntes de malha:')\n",
        "symdisp('(1):', eq1)\n",
        "symdisp('(2):', eq2)\n",
        "symdisp('(3):', eq3)\n",
        "\n",
        "# resolve o sistema\n",
        "soluc = sp.solve([eq1, eq2, eq3],[Ia, Ib, Ic], dict=True)[0]\n",
        "\n",
        "Ia = soluc[Ia]\n",
        "Ib = soluc[Ib]\n",
        "Ic = soluc[Ic]"
      ]
    },
    {
      "cell_type": "code",
      "execution_count": 37,
      "metadata": {
        "ExecuteTime": {
          "end_time": "2025-04-15T03:05:48.184907Z",
          "start_time": "2025-04-15T03:05:47.986911Z"
        },
        "hide_input": true,
        "colab": {
          "base_uri": "https://localhost:8080/",
          "height": 153
        },
        "id": "TnrKh-qciQjR",
        "outputId": "6664434e-c0ad-490b-c643-079cbe2a801c"
      },
      "outputs": [
        {
          "output_type": "stream",
          "name": "stdout",
          "text": [
            "Solução:\n"
          ]
        },
        {
          "output_type": "display_data",
          "data": {
            "text/plain": [
              "<IPython.core.display.Math object>"
            ],
            "text/latex": "$\\displaystyle I_a(s) =\\frac{60.0 s^{2} + 270.0 s + 30.0}{s \\left(s^{2} + 8.0 s + 25.0\\right)}\\;\\mathrm{As}$"
          },
          "metadata": {}
        },
        {
          "output_type": "display_data",
          "data": {
            "text/plain": [
              "<IPython.core.display.Math object>"
            ],
            "text/latex": "$\\displaystyle I_b(s) =\\frac{30.0 - 150.0 s}{s \\left(s^{2} + 8.0 s + 25.0\\right)}\\;\\mathrm{As}$"
          },
          "metadata": {}
        },
        {
          "output_type": "display_data",
          "data": {
            "text/plain": [
              "<IPython.core.display.Math object>"
            ],
            "text/latex": "$\\displaystyle I_c(s) =\\frac{150.0 s + 1050.0}{s \\left(s^{2} + 8.0 s + 25.0\\right)}\\;\\mathrm{As}$"
          },
          "metadata": {}
        }
      ],
      "source": [
        "print('Solução:')\n",
        "symdisp('I_a(s) =', Ia.simplify(), 'As')\n",
        "symdisp('I_b(s) =', Ib.simplify(), 'As')\n",
        "symdisp('I_c(s) =', Ic.simplify(), 'As')"
      ]
    },
    {
      "cell_type": "code",
      "execution_count": 38,
      "metadata": {
        "ExecuteTime": {
          "end_time": "2025-04-15T03:05:48.247920Z",
          "start_time": "2025-04-15T03:05:48.187906Z"
        },
        "hide_input": true,
        "colab": {
          "base_uri": "https://localhost:8080/",
          "height": 55
        },
        "id": "coCzqwRYiQjS",
        "outputId": "40f56e59-d547-42cf-9eb3-9f994981275d"
      },
      "outputs": [
        {
          "output_type": "display_data",
          "data": {
            "text/plain": [
              "<IPython.core.display.Math object>"
            ],
            "text/latex": "$\\displaystyle V_0(s) = 140I_b(s) = \\frac{4200.0 - 21000.0 s}{s \\left(s^{2} + 8.0 s + 25.0\\right)}\\;\\mathrm{Vs}$"
          },
          "metadata": {}
        }
      ],
      "source": [
        "V0 = 140 * Ib\n",
        "symdisp('V_0(s) = 140I_b(s) = ', V0.simplify(), 'Vs')"
      ]
    },
    {
      "cell_type": "code",
      "execution_count": 39,
      "metadata": {
        "ExecuteTime": {
          "end_time": "2025-04-15T03:05:48.407910Z",
          "start_time": "2025-04-15T03:05:48.250907Z"
        },
        "hide_input": true,
        "colab": {
          "base_uri": "https://localhost:8080/",
          "height": 39
        },
        "id": "vJ1ZkG9tiQjS",
        "outputId": "82df9e60-3276-4657-f4a8-956245e944f2"
      },
      "outputs": [
        {
          "output_type": "display_data",
          "data": {
            "text/plain": [
              "<IPython.core.display.Math object>"
            ],
            "text/latex": "$\\displaystyle v_0(t) =168.0 - 7224.0 e^{- 4.0 t} \\sin{\\left(3.0 t \\right)} - 168.0 e^{- 4.0 t} \\cos{\\left(3.0 t \\right)}\\;\\mathrm{V}$"
          },
          "metadata": {}
        }
      ],
      "source": [
        "v0 = invLT(V0, s, t, partialFractions=True)\n",
        "symdisp('v_0(t) =', v0, 'V')"
      ]
    },
    {
      "cell_type": "markdown",
      "metadata": {
        "id": "SK4ehIBwiQjS"
      },
      "source": [
        "## Ressonância em circuitos RLC\n",
        "\n",
        "Ressonância é um fenômeno físico que ocorre quando um sistema é submetido a uma estímulo periódico cuja frequência coincide (ou está próxima) da sua frequência natural de oscilação. Quando isso acontece, o sistema passa a **oscilar com amplitude crescente**, podendo atingir valores muito altos, dependendo do nível de amortecimento presente.\n",
        "\n",
        "Exemplo: ressonância em circuitos RLC série\n",
        "\n",
        "$$V_g(s) = \\left(R + sL + \\frac{1}{sC} \\right)I(s)$$"
      ]
    },
    {
      "cell_type": "code",
      "execution_count": 40,
      "metadata": {
        "ExecuteTime": {
          "end_time": "2025-04-15T03:31:09.802307Z",
          "start_time": "2025-04-15T03:31:09.789305Z"
        },
        "id": "NjLs2Q_AiQjS"
      },
      "outputs": [],
      "source": [
        "s, I = sp.symbols('s, I')\n",
        "t, R, C, L = sp.symbols('t, R, C, L', real=True, positive=True)\n",
        "\n",
        "# Parâmetros do circuito RLC série:\n",
        "R = 0\n",
        "L = 0.25\n",
        "C = 0.25"
      ]
    },
    {
      "cell_type": "code",
      "execution_count": 41,
      "metadata": {
        "ExecuteTime": {
          "end_time": "2025-04-15T03:31:10.038318Z",
          "start_time": "2025-04-15T03:31:10.023309Z"
        },
        "hide_input": true,
        "colab": {
          "base_uri": "https://localhost:8080/",
          "height": 75
        },
        "id": "kJ_aUjgpiQjS",
        "outputId": "a6dd0b1e-0f99-4656-8545-710714ee5f4e"
      },
      "outputs": [
        {
          "output_type": "display_data",
          "data": {
            "text/plain": [
              "<IPython.core.display.Math object>"
            ],
            "text/latex": "$\\displaystyle \\text{Frequência natural do circuito (frequência de ressonância):}\\mathrm{ }$"
          },
          "metadata": {}
        },
        {
          "output_type": "display_data",
          "data": {
            "text/plain": [
              "<IPython.core.display.Math object>"
            ],
            "text/latex": "$\\displaystyle \\omega_0 = \\frac{1}{\\sqrt{LC}} = 4.0\\;\\mathrm{rad/s}$"
          },
          "metadata": {}
        }
      ],
      "source": [
        "symdisp('\\\\text{Frequência natural do circuito (frequência de ressonância):}')\n",
        "ω0 = 1/sp.sqrt(L*C)\n",
        "symdisp('\\omega_0 = \\\\frac{1}{\\\\sqrt{LC}} = ', ω0, 'rad/s')"
      ]
    },
    {
      "cell_type": "code",
      "execution_count": 42,
      "metadata": {
        "ExecuteTime": {
          "end_time": "2025-04-15T03:31:10.368306Z",
          "start_time": "2025-04-15T03:31:10.248318Z"
        },
        "hide_input": true,
        "colab": {
          "base_uri": "https://localhost:8080/",
          "height": 132
        },
        "id": "BXffoH76iQjT",
        "outputId": "a44dd97c-eba2-4881-b0ba-990ed9d573dc"
      },
      "outputs": [
        {
          "output_type": "display_data",
          "data": {
            "text/plain": [
              "<IPython.core.display.Math object>"
            ],
            "text/latex": "$\\displaystyle \\text{Fonte de tensão oscilando com frequência } ω_0:\\mathrm{ }$"
          },
          "metadata": {}
        },
        {
          "output_type": "display_data",
          "data": {
            "text/plain": [
              "<IPython.core.display.Math object>"
            ],
            "text/latex": "$\\displaystyle v_g(t) = 10 \\sin{\\left(4.0 t \\right)}\\;\\mathrm{ }$"
          },
          "metadata": {}
        },
        {
          "output_type": "display_data",
          "data": {
            "text/plain": [
              "<IPython.core.display.Math object>"
            ],
            "text/latex": "$\\displaystyle V_g(s) = \\frac{40.0}{s^{2} + 16.0}\\;\\mathrm{ }$"
          },
          "metadata": {}
        },
        {
          "output_type": "display_data",
          "data": {
            "text/plain": [
              "<IPython.core.display.Math object>"
            ],
            "text/latex": "$\\displaystyle \\text{Corrente no circuito no domínio s}: I(s) =\\frac{160.0 s}{1.0 s^{4} + 32.0 s^{2} + 256.0}\\;\\mathrm{ }$"
          },
          "metadata": {}
        }
      ],
      "source": [
        "symdisp('\\\\text{Fonte de tensão oscilando com frequência } ω_0:')\n",
        "vg = 10*sp.sin(ω0*t)\n",
        "Vg = LT(vg, t, s)\n",
        "\n",
        "ZL = s*L\n",
        "Zc = 1/(s*C)\n",
        "\n",
        "symdisp('v_g(t) = ', vg)\n",
        "symdisp('V_g(s) = ', Vg.simplify())\n",
        "\n",
        "eq = sp.Eq(-Vg + R*I + ZL*I + Zc*I, 0)\n",
        "soluc = sp.solve(eq,[I], dict=True)[0]\n",
        "\n",
        "I = soluc[I]\n",
        "symdisp('\\\\text{Corrente no circuito no domínio s}: I(s) =', adjustCoeff(I))"
      ]
    },
    {
      "cell_type": "code",
      "execution_count": 43,
      "metadata": {
        "ExecuteTime": {
          "end_time": "2025-04-15T03:31:10.511324Z",
          "start_time": "2025-04-15T03:31:10.473304Z"
        },
        "hide_input": true,
        "colab": {
          "base_uri": "https://localhost:8080/",
          "height": 58
        },
        "id": "vcfL8ZRciQjT",
        "outputId": "30112fac-bd61-4f3c-a9d8-c7709b041766"
      },
      "outputs": [
        {
          "output_type": "display_data",
          "data": {
            "text/plain": [
              "<IPython.core.display.Math object>"
            ],
            "text/latex": "$\\displaystyle I(s) =\\frac{0.625 i}{\\left(0.25 s + i\\right)^{2}} - \\frac{0.625 i}{\\left(0.25 s - i\\right)^{2}}\\;\\mathrm{As}$"
          },
          "metadata": {}
        }
      ],
      "source": [
        "symdisp('I(s) =', round_expr(partFrac(I),5), 'As')"
      ]
    },
    {
      "cell_type": "code",
      "execution_count": 44,
      "metadata": {
        "ExecuteTime": {
          "end_time": "2025-04-15T03:31:11.335613Z",
          "start_time": "2025-04-15T03:31:10.713613Z"
        },
        "hide_input": true,
        "colab": {
          "base_uri": "https://localhost:8080/",
          "height": 83
        },
        "id": "lrkoQvCDiQjT",
        "outputId": "426c6f0a-2cba-4dd3-933c-1404e79e3402"
      },
      "outputs": [
        {
          "output_type": "display_data",
          "data": {
            "text/plain": [
              "<IPython.core.display.Math object>"
            ],
            "text/latex": "$\\displaystyle i(t) =20.0 t \\sin{\\left(4.0 t \\right)}\\;\\mathrm{A}$"
          },
          "metadata": {}
        },
        {
          "output_type": "display_data",
          "data": {
            "text/plain": [
              "<IPython.core.display.Math object>"
            ],
            "text/latex": "$\\displaystyle v_c(t) =- 20.0 t \\cos{\\left(4.0 t \\right)} + 5.0 \\sin{\\left(4.0 t \\right)}\\;\\mathrm{V}$"
          },
          "metadata": {}
        },
        {
          "output_type": "display_data",
          "data": {
            "text/plain": [
              "<IPython.core.display.Math object>"
            ],
            "text/latex": "$\\displaystyle v_L(t) =20.0 t \\cos{\\left(4.0 t \\right)} + 5.0 \\sin{\\left(4.0 t \\right)}\\;\\mathrm{V}$"
          },
          "metadata": {}
        }
      ],
      "source": [
        "i = invLT(I, s, t, partialFractions=True)\n",
        "vC = invLT(I*Zc, s, t, partialFractions=True)\n",
        "vL = invLT(I*ZL, s, t, partialFractions=True)\n",
        "\n",
        "symdisp('i(t) =', round_expr(i,2), 'A')\n",
        "symdisp('v_c(t) =', round_expr(vC,2), 'V')\n",
        "symdisp('v_L(t) =', round_expr(vL,2), 'V')"
      ]
    },
    {
      "cell_type": "code",
      "execution_count": 45,
      "metadata": {
        "ExecuteTime": {
          "end_time": "2025-04-15T03:31:11.698626Z",
          "start_time": "2025-04-15T03:31:11.338613Z"
        },
        "hide_input": true,
        "colab": {
          "base_uri": "https://localhost:8080/",
          "height": 418
        },
        "id": "gABoF2raiQjT",
        "outputId": "d7fa86e9-9e0e-4721-a75f-7c2991a9f809"
      },
      "outputs": [
        {
          "output_type": "execute_result",
          "data": {
            "text/plain": [
              "<Figure size 704x396 with 1 Axes>"
            ],
            "image/png": "[encoded data removed]"
          },
          "metadata": {},
          "execution_count": 45
        }
      ],
      "source": [
        "# plota funções no domínio do tempo\n",
        "intervalo = np.arange(-2, 20, 0.05)\n",
        "symplot(t, [i*u, vC*u, vL*u], intervalo, ['$i(t)$','$v_C(t)$','$v_L(t)$'])"
      ]
    }
  ],
  "metadata": {
    "colab": {
      "provenance": [],
      "include_colab_link": true
    },
    "jupytext": {
      "encoding": "# -*- coding: utf-8 -*-",
      "formats": "ipynb,py:light"
    },
    "kernelspec": {
      "display_name": "Python 3 (ipykernel)",
      "language": "python",
      "name": "python3"
    },
    "language_info": {
      "codemirror_mode": {
        "name": "ipython",
        "version": 3
      },
      "file_extension": ".py",
      "mimetype": "text/x-python",
      "name": "python",
      "nbconvert_exporter": "python",
      "pygments_lexer": "ipython3",
      "version": "3.10.16"
    },
    "toc": {
      "base_numbering": 1,
      "nav_menu": {},
      "number_sections": true,
      "sideBar": true,
      "skip_h1_title": true,
      "title_cell": "Table of Contents",
      "title_sidebar": "Contents",
      "toc_cell": true,
      "toc_position": {
        "height": "calc(100% - 180px)",
        "left": "10px",
        "top": "150px",
        "width": "200.475px"
      },
      "toc_section_display": true,
      "toc_window_display": true
    },
    "varInspector": {
      "cols": {
        "lenName": 16,
        "lenType": 16,
        "lenVar": 40
      },
      "kernels_config": {
        "python": {
          "delete_cmd_postfix": "",
          "delete_cmd_prefix": "del ",
          "library": "var_list.py",
          "varRefreshCmd": "print(var_dic_list())"
        },
        "r": {
          "delete_cmd_postfix": ") ",
          "delete_cmd_prefix": "rm(",
          "library": "var_list.r",
          "varRefreshCmd": "cat(var_dic_list()) "
        }
      },
      "types_to_exclude": [
        "module",
        "function",
        "builtin_function_or_method",
        "instance",
        "_Feature"
      ],
      "window_display": false
    }
  },
  "nbformat": 4,
  "nbformat_minor": 0
}