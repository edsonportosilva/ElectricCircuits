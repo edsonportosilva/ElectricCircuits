{
 "cells": [
  {
   "cell_type": "markdown",
   "metadata": {
    "colab_type": "text",
    "id": "view-in-github"
   },
   "source": [
    "<a href=\"https://colab.research.google.com/github/edsonportosilva/ElectricCircuits/blob/master/Jupyter%20notebooks/Circuitos%20El%C3%A9tricos%20I%20-%20Semana%2011.2%20-%20An%C3%A1lise%20de%20circuitos%20no%20dom%C3%ADnio%20de%20Laplace.ipynb\" target=\"_parent\"><img src=\"https://colab.research.google.com/assets/colab-badge.svg\" alt=\"Open In Colab\"/></a>"
   ]
  },
  {
   "cell_type": "code",
   "execution_count": 1,
   "metadata": {
    "ExecuteTime": {
     "end_time": "2024-05-02T02:00:57.604824Z",
     "start_time": "2024-05-02T02:00:57.575926Z"
    },
    "id": "tv8FnmLnV8mI",
    "outputId": "dc8322f3-39e1-40b5-a165-a849fa132961"
   },
   "outputs": [],
   "source": [
    "from IPython.core.display import HTML\n",
    "HTML(\"\"\"\n",
    "<style>\n",
    ".output_png {\n",
    "    display: table-cell;\n",
    "    text-align: center;\n",
    "    vertical-align: middle;\n",
    "}\n",
    "</style>\n",
    "\"\"\")\n",
    "\n",
    "if 'google.colab' in str(get_ipython()):    \n",
    "    ! git clone -b master https://github.com/edsonportosilva/ElectricCircuits\n",
    "    from os import chdir as cd\n",
    "    cd('/content/ElectricCircuits/')\n",
    "    ! pip install -e ."
   ]
  },
  {
   "cell_type": "code",
   "execution_count": 2,
   "metadata": {
    "ExecuteTime": {
     "end_time": "2024-05-02T02:01:01.659981Z",
     "start_time": "2024-05-02T02:00:57.608821Z"
    },
    "id": "LNKjNQzHV8mL"
   },
   "outputs": [],
   "source": [
    "import matplotlib.pyplot as plt\n",
    "import numpy as np\n",
    "import sympy as sp\n",
    "\n",
    "from circuit.utils import round_expr, symdisp, symplot\n",
    "from circuit.laplace import adjustCoeff, expandDenom, partFrac\n",
    "from circuit.laplace import laplaceT as L\n",
    "from circuit.laplace import invLaplaceT as invL\n",
    "\n",
    "# temp workaround\n",
    "import warnings\n",
    "from matplotlib import MatplotlibDeprecationWarning\n",
    "warnings.filterwarnings('ignore', category=MatplotlibDeprecationWarning)\n",
    "\n",
    "plt.rcParams['figure.figsize'] = 6, 4\n",
    "plt.rcParams['legend.fontsize'] = 13\n",
    "plt.rcParams['lines.linewidth'] = 2\n",
    "plt.rcParams['axes.grid'] = False"
   ]
  },
  {
   "cell_type": "code",
   "execution_count": 3,
   "metadata": {
    "ExecuteTime": {
     "end_time": "2024-05-02T02:01:01.675323Z",
     "start_time": "2024-05-02T02:01:01.666010Z"
    },
    "id": "Dw_2I2F8V8mM"
   },
   "outputs": [],
   "source": [
    "sp.init_printing()"
   ]
  },
  {
   "cell_type": "markdown",
   "metadata": {
    "id": "P36uXgAVV8mN"
   },
   "source": [
    "#### Definindo algumas variáveis simbólicas de interesse"
   ]
  },
  {
   "cell_type": "code",
   "execution_count": 4,
   "metadata": {
    "ExecuteTime": {
     "end_time": "2024-05-02T02:01:01.706368Z",
     "start_time": "2024-05-02T02:01:01.680994Z"
    },
    "id": "ku-GxaZAV8mO"
   },
   "outputs": [],
   "source": [
    "s  = sp.symbols('s')\n",
    "a, t = sp.symbols('a, t', real=True)\n",
    "omega = sp.symbols('omega', real=True)\n",
    "u = sp.Heaviside(t)"
   ]
  },
  {
   "cell_type": "markdown",
   "metadata": {
    "id": "9aIpp0HdV8mP"
   },
   "source": [
    "# *Circuitos Elétricos I - Semana 11*"
   ]
  },
  {
   "cell_type": "markdown",
   "metadata": {
    "id": "CDtctZKQV8mP"
   },
   "source": [
    "### A integral de Laplace\n",
    "\n",
    "Seja $f(t)$ uma função definida no intervalo $0\\leq t \\leq \\infty$, com $t$ e $f(t)$ reais, então a função $F(s)$, definida pela integral de Laplace\n",
    "\n",
    "$$\\large\n",
    "\\begin{equation}\n",
    "F(s)=\\mathcal{L}\\{f(t)\\}=\\int_{0}^{\\infty} f(t) e^{-s t} dt,\\;\\; s \\in \\mathbb{C},\n",
    "\\end{equation}\n",
    "$$\n",
    "\n",
    "é conhecida como a transformada de Laplace de $f(t)$."
   ]
  },
  {
   "cell_type": "markdown",
   "metadata": {
    "id": "B586f5MPV8mQ"
   },
   "source": [
    "## Leis de Kirchhoff no domínio de Laplace\n",
    "\n",
    "\n",
    "### Lei de Kirchhoff das tensões (LKT)\n",
    "\n",
    "Para qualquer malha fechada no circuito:\n",
    "\n",
    "Domínio do tempo: $$v_{1}(t)+v_{2}(t)+\\cdots+v_{n}(t)=0$$\n",
    "\n",
    "Domínio de Laplace: $$V_{1}(s)+V_{2}(s)+\\cdots+V_{n}(s)=0$$\n",
    "\n",
    "### Lei de Kirchhoff das correntes (LKC)\n",
    "\n",
    "Para qualquer nó no circuito:\n",
    "\n",
    "Domínio do tempo: $$i_{1}(t)+i_{2}(t)+\\cdots+i_{n}(t)=0$$\n",
    "\n",
    "Domínio de Laplace: $$I_{1}(s)+I_{2}(s)+\\cdots+I_{n}(s)=0$$\n"
   ]
  },
  {
   "cell_type": "markdown",
   "metadata": {
    "id": "l9gurJgpV8mQ"
   },
   "source": [
    "## Representação de elementos ideais de circuitos no domínio de Laplace\n",
    "\n",
    "$$\n",
    "\\begin{array}{|c|c|c|c|} \n",
    "\\hline\n",
    "\\text{Elemento ideal} & \\text{ Tensão vs corrente (tempo) } & \\text{ Tensão vs corrente (Laplace)} & \\text{Impedância } Z(s) = V(s)/I(s)\\\\\n",
    "\\hline \\text{Resistor} & v(t)=R i(t) & V(s)=R I(s) & Z_{R}(s)=R \\\\\n",
    "\\text{Indutor} & v(t)=L \\frac{d i(t)}{d t} & V(s)=s L I(s)-L i(0) & Z_{L}(s)=s L \\\\\n",
    "\\text{Capacitor} & v(t)=\\frac{1}{C} \\int_{0}^{t} i(t)+v(0) & V(s)=\\frac{I(s)}{s C}+\\frac{v(0)}{s} & Z_{C}(s)=\\frac{1}{s C} \\\\ \\hline\n",
    "\\end{array}\n",
    "$$"
   ]
  },
  {
   "cell_type": "markdown",
   "metadata": {
    "id": "K6-Zfa7fV8mR"
   },
   "source": [
    "### Problema 1\n",
    "\n",
    "Não existe nenhuma energia armazenada no circuito da figura a seguir no momento em que a fonte de corrente é ligada.\n",
    "\n",
    "<img src=\"https://github.com/edsonportosilva/ElectricCircuits/blob/master/Jupyter%20notebooks/figures/J14C1.png?raw=1\" width=\"500\">\n",
    "\n",
    "a. Determine $I_a(s)$ e $I_b(s)$.\\\n",
    "b. Determine $i_a(t)$ e $i_b(t)$.\\\n",
    "c. Determine $V_a(s)$, $V_b(s)$ e $V_c(s)$.\\\n",
    "d. Determine $v_a(t)$, $v_b(t)$ e $v_c(t)$."
   ]
  },
  {
   "cell_type": "markdown",
   "metadata": {
    "id": "gGG0jl4QV8mR"
   },
   "source": [
    "<img src=\"https://github.com/edsonportosilva/ElectricCircuits/blob/master/Jupyter%20notebooks/figures/J14C2.png?raw=1\" width=\"500\">"
   ]
  },
  {
   "cell_type": "markdown",
   "metadata": {
    "id": "xDltYQcWV8mS"
   },
   "source": [
    "a. Determinando $I_a(s)$ e $I_b(s)$:"
   ]
  },
  {
   "cell_type": "code",
   "execution_count": 5,
   "metadata": {
    "ExecuteTime": {
     "end_time": "2024-05-02T02:01:01.989026Z",
     "start_time": "2024-05-02T02:01:01.712275Z"
    },
    "id": "_cqvt3GAV8mS",
    "outputId": "4030ae96-412d-4a09-c20b-471297915bd8"
   },
   "outputs": [
    {
     "name": "stdout",
     "output_type": "stream",
     "text": [
      "Correntes de malha no domínio de Laplace: \n",
      "\n"
     ]
    },
    {
     "data": {
      "text/latex": [
       "$\\displaystyle I_1(s) =\\frac{4}{s}\\;\\mathrm{As}$"
      ],
      "text/plain": [
       "<IPython.core.display.Math object>"
      ]
     },
     "metadata": {},
     "output_type": "display_data"
    },
    {
     "data": {
      "text/latex": [
       "$\\displaystyle I_2(s) =\\frac{4 s + 8}{s^{2} + 6 s}\\;\\mathrm{As}$"
      ],
      "text/plain": [
       "<IPython.core.display.Math object>"
      ]
     },
     "metadata": {},
     "output_type": "display_data"
    },
    {
     "data": {
      "text/latex": [
       "$\\displaystyle I_3(s) =\\frac{16}{s^{2} + 6 s}\\;\\mathrm{As}$"
      ],
      "text/plain": [
       "<IPython.core.display.Math object>"
      ]
     },
     "metadata": {},
     "output_type": "display_data"
    }
   ],
   "source": [
    "I2, I3, s = sp.symbols('I2, I3, s')\n",
    "\n",
    "# define os sistema de equações\n",
    "eq1 = sp.Eq((4 + s)*I2 - 2*I3, 4)             \n",
    "eq2 = sp.Eq(-2*s*I2 + s*(4 + s)*I3, 8)  \n",
    "\n",
    "# resolve o sistema\n",
    "soluc = sp.solve([eq1, eq2],[I2, I3], dict=True)\n",
    "soluc\n",
    "\n",
    "I2 = [sol[I2] for sol in soluc]\n",
    "I3 = [sol[I3] for sol in soluc]\n",
    "\n",
    "I1 = 4/s\n",
    "I2 = I2[0]\n",
    "I3 = I3[0]\n",
    "\n",
    "print('Correntes de malha no domínio de Laplace: \\n')\n",
    "symdisp('I_1(s) =', I1, 'As')\n",
    "symdisp('I_2(s) =', I2, 'As')\n",
    "symdisp('I_3(s) =', I3, 'As')"
   ]
  },
  {
   "cell_type": "code",
   "execution_count": 6,
   "metadata": {
    "ExecuteTime": {
     "end_time": "2024-05-02T02:01:02.590465Z",
     "start_time": "2024-05-02T02:01:01.993997Z"
    },
    "id": "hJ_WRU6TV8mS",
    "outputId": "8d8ab3be-6676-45da-87f3-44deeadfe41e"
   },
   "outputs": [
    {
     "data": {
      "text/latex": [
       "$\\displaystyle I_a(s) =\\frac{16}{s \\left(s + 6\\right)}\\;\\mathrm{As}$"
      ],
      "text/plain": [
       "<IPython.core.display.Math object>"
      ]
     },
     "metadata": {},
     "output_type": "display_data"
    }
   ],
   "source": [
    "# Calculando Ia\n",
    "Ia = I1-I2\n",
    "Ia = Ia.simplify()\n",
    "\n",
    "symdisp('I_a(s) =', Ia, 'As')"
   ]
  },
  {
   "cell_type": "code",
   "execution_count": 7,
   "metadata": {
    "ExecuteTime": {
     "end_time": "2024-05-02T02:01:02.654540Z",
     "start_time": "2024-05-02T02:01:02.594860Z"
    },
    "id": "AN0_8_SfV8mT",
    "outputId": "d7c2cc9b-2642-49e6-a5a1-f01430d1c684"
   },
   "outputs": [
    {
     "data": {
      "text/latex": [
       "$\\displaystyle I_b(s) =\\frac{4 \\left(s + 2\\right)}{s \\left(s + 6\\right)}\\;\\mathrm{As}$"
      ],
      "text/plain": [
       "<IPython.core.display.Math object>"
      ]
     },
     "metadata": {},
     "output_type": "display_data"
    }
   ],
   "source": [
    "# Calculando Ib\n",
    "Ib = I2\n",
    "\n",
    "symdisp('I_b(s) =', Ib.simplify(), 'As')"
   ]
  },
  {
   "cell_type": "markdown",
   "metadata": {
    "id": "EHZTTuJhV8mT"
   },
   "source": [
    "b. Determinando $i_a(t)$ e $i_b(t)$"
   ]
  },
  {
   "cell_type": "code",
   "execution_count": 8,
   "metadata": {
    "ExecuteTime": {
     "end_time": "2024-05-02T02:01:02.715883Z",
     "start_time": "2024-05-02T02:01:02.657852Z"
    },
    "id": "ZNcZYGocV8mT",
    "outputId": "f6f800bd-0e60-42f4-8eb7-5f8a1788bf70"
   },
   "outputs": [
    {
     "data": {
      "text/latex": [
       "$\\displaystyle I_a(s) =- \\frac{2.67}{s + 6.0} + \\frac{2.67}{s}\\;\\mathrm{As}$"
      ],
      "text/plain": [
       "<IPython.core.display.Math object>"
      ]
     },
     "metadata": {},
     "output_type": "display_data"
    }
   ],
   "source": [
    "symdisp('I_a(s) =', round_expr(partFrac(Ia),2), 'As')"
   ]
  },
  {
   "cell_type": "code",
   "execution_count": 9,
   "metadata": {
    "ExecuteTime": {
     "end_time": "2024-05-02T02:01:02.889181Z",
     "start_time": "2024-05-02T02:01:02.721322Z"
    },
    "id": "v00DIDXmV8mU",
    "outputId": "a3a83404-7355-401c-c378-da8ab660d3bb"
   },
   "outputs": [
    {
     "data": {
      "text/latex": [
       "$\\displaystyle i_a(t) =2.67 - 2.67 e^{- 6.0 t}\\;\\mathrm{A}$"
      ],
      "text/plain": [
       "<IPython.core.display.Math object>"
      ]
     },
     "metadata": {},
     "output_type": "display_data"
    }
   ],
   "source": [
    "t = sp.symbols('t',real=True, positive=True)\n",
    "\n",
    "ia = invL(Ia,s,t, partialFractions=True)\n",
    "\n",
    "symdisp('i_a(t) =', round_expr(ia,2), 'A')"
   ]
  },
  {
   "cell_type": "code",
   "execution_count": 10,
   "metadata": {
    "ExecuteTime": {
     "end_time": "2024-05-02T02:01:02.951133Z",
     "start_time": "2024-05-02T02:01:02.899226Z"
    },
    "id": "ezbWSo4JV8mU",
    "outputId": "efa875a1-28d8-4bd4-d6a0-bb9f2f534a4c"
   },
   "outputs": [
    {
     "data": {
      "text/latex": [
       "$\\displaystyle I_b(s) =\\frac{2.67}{s + 6.0} + \\frac{1.33}{s}\\;\\mathrm{As}$"
      ],
      "text/plain": [
       "<IPython.core.display.Math object>"
      ]
     },
     "metadata": {},
     "output_type": "display_data"
    }
   ],
   "source": [
    "symdisp('I_b(s) =', round_expr(partFrac(Ib),2), 'As')"
   ]
  },
  {
   "cell_type": "code",
   "execution_count": 11,
   "metadata": {
    "ExecuteTime": {
     "end_time": "2024-05-02T02:01:03.109292Z",
     "start_time": "2024-05-02T02:01:02.957144Z"
    },
    "id": "UOF5aQz6V8mU",
    "outputId": "84cef58c-4fb4-499e-a20b-17c322da4c56"
   },
   "outputs": [
    {
     "data": {
      "text/latex": [
       "$\\displaystyle i_b(t) =1.33 + 2.67 e^{- 6.0 t}\\;\\mathrm{A}$"
      ],
      "text/plain": [
       "<IPython.core.display.Math object>"
      ]
     },
     "metadata": {},
     "output_type": "display_data"
    }
   ],
   "source": [
    "ib = invL(Ib,s,t, partialFractions=True)\n",
    "\n",
    "symdisp('i_b(t) =', round_expr(ib,2), 'A')"
   ]
  },
  {
   "cell_type": "markdown",
   "metadata": {
    "id": "uLBVs4hgV8mV"
   },
   "source": [
    "c. Determinando $V_a(s)$, $V_b(s)$ e $V_c(s)$."
   ]
  },
  {
   "cell_type": "code",
   "execution_count": 12,
   "metadata": {
    "ExecuteTime": {
     "end_time": "2024-05-02T02:01:03.377363Z",
     "start_time": "2024-05-02T02:01:03.114192Z"
    },
    "id": "cM_PfiQgV8mV",
    "outputId": "b4926814-f833-4531-80d7-90851ee0a116"
   },
   "outputs": [
    {
     "data": {
      "text/latex": [
       "$\\displaystyle V_a(s) =\\frac{400 \\left(s + 2\\right)}{s^{2} \\left(s + 6\\right)}\\;\\mathrm{Vs}$"
      ],
      "text/plain": [
       "<IPython.core.display.Math object>"
      ]
     },
     "metadata": {},
     "output_type": "display_data"
    },
    {
     "data": {
      "text/latex": [
       "$\\displaystyle V_b(s) =\\frac{400 \\cdot \\left(2 - s\\right)}{s^{2} \\left(s + 6\\right)}\\;\\mathrm{Vs}$"
      ],
      "text/plain": [
       "<IPython.core.display.Math object>"
      ]
     },
     "metadata": {},
     "output_type": "display_data"
    },
    {
     "data": {
      "text/latex": [
       "$\\displaystyle V_c(s) =\\frac{400 \\left(s + 2\\right)}{s^{2} \\left(s + 6\\right)}\\;\\mathrm{Vs}$"
      ],
      "text/plain": [
       "<IPython.core.display.Math object>"
      ]
     },
     "metadata": {},
     "output_type": "display_data"
    }
   ],
   "source": [
    "Va = (100/s)*I2\n",
    "Vb = (100/s)*(I3-I2)\n",
    "Vc = (100/s)*(I1-I3)\n",
    "\n",
    "symdisp('V_a(s) =', Va.simplify(), 'Vs')\n",
    "symdisp('V_b(s) =', Vb.simplify(), 'Vs')\n",
    "symdisp('V_c(s) =', Vc.simplify(), 'Vs')"
   ]
  },
  {
   "cell_type": "code",
   "execution_count": 13,
   "metadata": {
    "ExecuteTime": {
     "end_time": "2024-05-02T02:01:03.472667Z",
     "start_time": "2024-05-02T02:01:03.383398Z"
    },
    "id": "g_9GVkpGV8mV",
    "outputId": "ab8cec0c-ce73-4123-f7e9-ec7d59a7f8ef"
   },
   "outputs": [
    {
     "data": {
      "text/latex": [
       "$\\displaystyle V_a(s) =- \\frac{44.44}{s + 6.0} + \\frac{44.44}{s} + \\frac{133.33}{s^{2}}\\;\\mathrm{Vs}$"
      ],
      "text/plain": [
       "<IPython.core.display.Math object>"
      ]
     },
     "metadata": {},
     "output_type": "display_data"
    }
   ],
   "source": [
    "symdisp('V_a(s) =', round_expr(partFrac(Va),2), 'Vs')"
   ]
  },
  {
   "cell_type": "code",
   "execution_count": 14,
   "metadata": {
    "ExecuteTime": {
     "end_time": "2024-05-02T02:01:03.551275Z",
     "start_time": "2024-05-02T02:01:03.476589Z"
    },
    "id": "A8iyxQ2FV8mX",
    "outputId": "f4c09050-1194-451e-8ef3-1859ff2881cc"
   },
   "outputs": [
    {
     "data": {
      "text/latex": [
       "$\\displaystyle V_b(s) =\\frac{88.89}{s + 6.0} - \\frac{88.89}{s} + \\frac{133.33}{s^{2}}\\;\\mathrm{Vs}$"
      ],
      "text/plain": [
       "<IPython.core.display.Math object>"
      ]
     },
     "metadata": {},
     "output_type": "display_data"
    }
   ],
   "source": [
    "symdisp('V_b(s) =', round_expr(partFrac(Vb),2), 'Vs')"
   ]
  },
  {
   "cell_type": "code",
   "execution_count": 15,
   "metadata": {
    "ExecuteTime": {
     "end_time": "2024-05-02T02:01:03.707430Z",
     "start_time": "2024-05-02T02:01:03.556193Z"
    },
    "id": "rpNyaONeV8mX",
    "outputId": "4fa0d8f2-e5fc-461d-ec55-6368e6624689"
   },
   "outputs": [
    {
     "data": {
      "text/latex": [
       "$\\displaystyle V_c(s) =- \\frac{44.44}{s + 6.0} + \\frac{88.89}{s} + \\frac{133.33}{s^{2}}\\;\\mathrm{Vs}$"
      ],
      "text/plain": [
       "<IPython.core.display.Math object>"
      ]
     },
     "metadata": {},
     "output_type": "display_data"
    }
   ],
   "source": [
    "symdisp('V_c(s) =', round_expr(partFrac(Vc),2), 'Vs')"
   ]
  },
  {
   "cell_type": "markdown",
   "metadata": {
    "id": "0IpgQuDTV8mX"
   },
   "source": [
    "d. Determinando $v_a(t)$, $v_b(t)$ e $v_c(t)$."
   ]
  },
  {
   "cell_type": "code",
   "execution_count": 16,
   "metadata": {
    "ExecuteTime": {
     "end_time": "2024-05-02T02:01:04.052891Z",
     "start_time": "2024-05-02T02:01:03.712385Z"
    },
    "id": "nl4SxN48V8mY",
    "outputId": "e79c9ac4-49e9-4e2e-e72e-14bd193589ae"
   },
   "outputs": [
    {
     "data": {
      "text/latex": [
       "$\\displaystyle v_a(t) =\\left(133.33 t + 88.89 - 44.44 e^{- 6.0 t}\\right) \\theta\\left(t\\right)\\;\\mathrm{V}$"
      ],
      "text/plain": [
       "<IPython.core.display.Math object>"
      ]
     },
     "metadata": {},
     "output_type": "display_data"
    }
   ],
   "source": [
    "va = invL(Va, s, t, partialFractions=True)\n",
    "va = round_expr(va,2)*u\n",
    "\n",
    "symdisp('v_a(t) =', va, 'V')"
   ]
  },
  {
   "cell_type": "code",
   "execution_count": 17,
   "metadata": {
    "ExecuteTime": {
     "end_time": "2024-05-02T02:01:04.351189Z",
     "start_time": "2024-05-02T02:01:04.056206Z"
    },
    "id": "vVQqhyUPV8mY",
    "outputId": "f65bacb2-667c-4659-c305-1da5225c0434"
   },
   "outputs": [
    {
     "data": {
      "text/latex": [
       "$\\displaystyle v_b(t) =\\left(133.33 t - 177.78 + 88.89 e^{- 6.0 t}\\right) \\theta\\left(t\\right)\\;\\mathrm{V}$"
      ],
      "text/plain": [
       "<IPython.core.display.Math object>"
      ]
     },
     "metadata": {},
     "output_type": "display_data"
    }
   ],
   "source": [
    "vb = invL(Vb, s, t, partialFractions=True)\n",
    "vb = round_expr(vb,2)*u\n",
    "\n",
    "symdisp('v_b(t) =', vb, 'V')"
   ]
  },
  {
   "cell_type": "code",
   "execution_count": 18,
   "metadata": {
    "ExecuteTime": {
     "end_time": "2024-05-02T02:01:04.382550Z",
     "start_time": "2024-05-02T02:01:04.356230Z"
    },
    "id": "-yZQ4Q3aV8mY",
    "outputId": "3f4612e7-908d-4d4c-fc1b-3dfa41ccc465"
   },
   "outputs": [
    {
     "data": {
      "text/latex": [
       "$\\displaystyle v_c(t) =\\left(133.33 t + 88.89 - 44.44 e^{- 6.0 t}\\right) \\theta\\left(t\\right)\\;\\mathrm{V}$"
      ],
      "text/plain": [
       "<IPython.core.display.Math object>"
      ]
     },
     "metadata": {},
     "output_type": "display_data"
    }
   ],
   "source": [
    "vc = va\n",
    "\n",
    "symdisp('v_c(t) =', vc, 'V')"
   ]
  },
  {
   "cell_type": "code",
   "execution_count": 19,
   "metadata": {
    "ExecuteTime": {
     "end_time": "2024-05-02T02:01:05.485636Z",
     "start_time": "2024-05-02T02:01:04.386883Z"
    },
    "id": "sjtr_EYmV8mY",
    "outputId": "9e9983f6-d5c4-4035-9a08-99b6c3d3c08f"
   },
   "outputs": [
    {
     "data": {
      "image/png": "[encoded data removed]",
      "text/plain": [
       "<Figure size 600x400 with 1 Axes>"
      ]
     },
     "execution_count": 19,
     "metadata": {},
     "output_type": "execute_result"
    }
   ],
   "source": [
    "# plota funções no domínio do tempo\n",
    "intervalo = np.arange(-4, 10, 0.1)\n",
    "symplot(t, [va, vb, vc], intervalo, ['$v_a(t)$','$v_b(t)$','$v_c(t)$'])"
   ]
  },
  {
   "cell_type": "markdown",
   "metadata": {
    "id": "7b59ix5LV8mZ"
   },
   "source": [
    "Pergunta: estas soluções fazem sentido para o circuito analisado?"
   ]
  },
  {
   "cell_type": "markdown",
   "metadata": {
    "id": "BUPN6YahV8mZ"
   },
   "source": [
    "### Problema 2\n",
    "\n",
    "Não existe nenhuma energia armazenada no circuito da figura a seguir no momento em que a fonte de tensão é conectada.\n",
    "\n",
    "<img src=\"https://github.com/edsonportosilva/ElectricCircuits/blob/master/Jupyter%20notebooks/figures/J14C3.png?raw=1\" width=\"600\">\n",
    "\n",
    "a. Determine $V_0(s)$.\\\n",
    "b. Determine $v_0(t)$."
   ]
  },
  {
   "cell_type": "markdown",
   "metadata": {
    "id": "lC6CYIRgV8mZ"
   },
   "source": [
    "<img src=\"https://github.com/edsonportosilva/ElectricCircuits/blob/master/Jupyter%20notebooks/figures/J14C4.png?raw=1\" width=\"600\">"
   ]
  },
  {
   "cell_type": "code",
   "execution_count": 20,
   "metadata": {
    "ExecuteTime": {
     "end_time": "2024-05-02T02:01:05.644694Z",
     "start_time": "2024-05-02T02:01:05.488636Z"
    },
    "id": "DZBOCABOV8mZ"
   },
   "outputs": [],
   "source": [
    "Ia, Ib, s = sp.symbols('Ia, Ib, s')\n",
    "\n",
    "# define o sistema de equações\n",
    "eq1 = sp.Eq(10*Ia + (s + 250/s)*Ib, 35/s)             \n",
    "eq2 = sp.Eq(Ia - (1 + 0.4*s)*Ib, 0)\n",
    "\n",
    "# resolve o sistema\n",
    "soluc = sp.solve([eq1, eq2],[Ia, Ib], dict=True)\n",
    "soluc\n",
    "\n",
    "Ia = [sol[Ia] for sol in soluc]\n",
    "Ib = [sol[Ib] for sol in soluc]\n",
    "\n",
    "Ia = Ia[0]\n",
    "Ib = Ib[0]"
   ]
  },
  {
   "cell_type": "code",
   "execution_count": 21,
   "metadata": {
    "ExecuteTime": {
     "end_time": "2024-05-02T02:01:05.770045Z",
     "start_time": "2024-05-02T02:01:05.650735Z"
    },
    "id": "Wr8eYzwSV8mZ",
    "outputId": "7064c064-edc2-45b7-e484-a8a17b530772"
   },
   "outputs": [
    {
     "data": {
      "text/latex": [
       "$\\displaystyle I_a(s) =\\frac{14.0 s + 35.0}{5.0 s^{2} + 10.0 s + 250.0}\\;\\mathrm{As}$"
      ],
      "text/plain": [
       "<IPython.core.display.Math object>"
      ]
     },
     "metadata": {},
     "output_type": "display_data"
    }
   ],
   "source": [
    "symdisp('I_a(s) =', Ia.simplify(), 'As')"
   ]
  },
  {
   "cell_type": "code",
   "execution_count": 22,
   "metadata": {
    "ExecuteTime": {
     "end_time": "2024-05-02T02:01:05.865202Z",
     "start_time": "2024-05-02T02:01:05.774038Z"
    },
    "id": "YHcmTWQ1V8mZ",
    "outputId": "10925e2a-020d-48da-d5df-d885698b39d2"
   },
   "outputs": [
    {
     "data": {
      "text/latex": [
       "$\\displaystyle I_b(s) =\\frac{7.0}{s^{2} + 2.0 s + 50.0}\\;\\mathrm{As}$"
      ],
      "text/plain": [
       "<IPython.core.display.Math object>"
      ]
     },
     "metadata": {},
     "output_type": "display_data"
    }
   ],
   "source": [
    "symdisp('I_b(s) =', Ib.simplify(), 'As')"
   ]
  },
  {
   "cell_type": "code",
   "execution_count": 23,
   "metadata": {
    "ExecuteTime": {
     "end_time": "2024-05-02T02:01:06.099950Z",
     "start_time": "2024-05-02T02:01:05.869079Z"
    },
    "id": "davxp05nV8ma",
    "outputId": "cb0b692f-6f4e-40df-8892-a07efe3420e2"
   },
   "outputs": [
    {
     "data": {
      "text/latex": [
       "$\\displaystyle V_0(s) =\\frac{147.0 s^{2} + 280.0 s + 8750.0}{s \\left(5.0 s^{2} + 10.0 s + 250.0\\right)}\\;\\mathrm{Vs}$"
      ],
      "text/plain": [
       "<IPython.core.display.Math object>"
      ]
     },
     "metadata": {},
     "output_type": "display_data"
    }
   ],
   "source": [
    "V0 = 35/s - 2*Ia\n",
    "\n",
    "symdisp('V_0(s) =', V0.simplify(), 'Vs')"
   ]
  },
  {
   "cell_type": "code",
   "execution_count": 24,
   "metadata": {
    "ExecuteTime": {
     "end_time": "2024-05-02T02:01:06.271910Z",
     "start_time": "2024-05-02T02:01:06.103988Z"
    },
    "id": "0p9jLv8IV8ma",
    "outputId": "90d19806-8085-4a90-a37f-fb42f638f84a"
   },
   "outputs": [
    {
     "data": {
      "text/latex": [
       "$\\displaystyle V_0(s) =\\frac{-2.8 - 0.6 i}{s + 1.0 + 7.0 i} + \\frac{-2.8 + 0.6 i}{s + 1.0 - 7.0 i} + \\frac{35.0}{s}\\;\\mathrm{Vs}$"
      ],
      "text/plain": [
       "<IPython.core.display.Math object>"
      ]
     },
     "metadata": {},
     "output_type": "display_data"
    }
   ],
   "source": [
    "symdisp('V_0(s) =', partFrac(V0), 'Vs')"
   ]
  },
  {
   "cell_type": "code",
   "execution_count": 25,
   "metadata": {
    "ExecuteTime": {
     "end_time": "2024-05-02T02:01:06.303153Z",
     "start_time": "2024-05-02T02:01:06.277906Z"
    },
    "id": "m5NcG_8vV8ma",
    "outputId": "84a50bd6-e0d3-4c9c-f0bd-6b2b207ea8b1"
   },
   "outputs": [
    {
     "data": {
      "text/plain": [
       "array([-1.+7.j, -1.-7.j,  0.+0.j])"
      ]
     },
     "execution_count": 25,
     "metadata": {},
     "output_type": "execute_result"
    }
   ],
   "source": [
    "raizes = np.roots([5, 10, 250, 0])\n",
    "raizes"
   ]
  },
  {
   "cell_type": "code",
   "execution_count": 26,
   "metadata": {
    "ExecuteTime": {
     "end_time": "2024-05-02T02:01:06.712525Z",
     "start_time": "2024-05-02T02:01:06.308057Z"
    },
    "id": "X0iMBpDJV8ma",
    "outputId": "b5fb41f1-4836-4c6e-8ee2-98338b86be6a"
   },
   "outputs": [
    {
     "data": {
      "text/latex": [
       "$\\displaystyle F(s) =\\frac{K}{s + σ + i ω} + \\frac{\\overline{K}}{s + σ - i ω}\\;\\mathrm{ }$"
      ],
      "text/plain": [
       "<IPython.core.display.Math object>"
      ]
     },
     "metadata": {},
     "output_type": "display_data"
    }
   ],
   "source": [
    "K    = sp.symbols('K')\n",
    "σ, ω = sp.symbols('σ, ω', real=True, positive=True)\n",
    "\n",
    "j = sp.I\n",
    "\n",
    "F = K/(s + σ + ω*j) + sp.conjugate(K)/(s + σ - ω*j)\n",
    "\n",
    "symdisp('F(s) =', F.simplify())"
   ]
  },
  {
   "cell_type": "code",
   "execution_count": 27,
   "metadata": {
    "ExecuteTime": {
     "end_time": "2024-05-02T02:01:07.201191Z",
     "start_time": "2024-05-02T02:01:06.717320Z"
    },
    "id": "YqiiFk5IV8mb",
    "outputId": "226ad186-5ae7-4717-abd1-aab4c8644272"
   },
   "outputs": [
    {
     "data": {
      "text/latex": [
       "$\\displaystyle f(t) =\\left(\\operatorname{re}{\\left(K e^{- i t ω}\\right)} + \\operatorname{re}{\\left(e^{i t ω} \\overline{K}\\right)}\\right) e^{- t σ}\\;\\mathrm{ }$"
      ],
      "text/plain": [
       "<IPython.core.display.Math object>"
      ]
     },
     "metadata": {},
     "output_type": "display_data"
    }
   ],
   "source": [
    "symdisp('f(t) =', sp.re(sp.inverse_laplace_transform(F, s, t).simplify()))"
   ]
  },
  {
   "cell_type": "code",
   "execution_count": 28,
   "metadata": {
    "ExecuteTime": {
     "end_time": "2024-05-02T02:01:07.741543Z",
     "start_time": "2024-05-02T02:01:07.213250Z"
    },
    "id": "LjlGrdWkV8mb",
    "outputId": "808ed847-ca7e-4271-a4bf-cb2b585dce0d"
   },
   "outputs": [
    {
     "data": {
      "text/latex": [
       "$\\displaystyle v_0(t) =\\left(35.0 - 1.2 e^{- 1.0 t} \\sin{\\left(7.0 t \\right)} - 5.6 e^{- 1.0 t} \\cos{\\left(7.0 t \\right)}\\right) \\theta\\left(t\\right)\\;\\mathrm{ }$"
      ],
      "text/plain": [
       "<IPython.core.display.Math object>"
      ]
     },
     "metadata": {},
     "output_type": "display_data"
    }
   ],
   "source": [
    "v0 = invL(V0, s, t, partialFractions=True)\n",
    "v0 = round_expr(v0,2)*u\n",
    "\n",
    "symdisp('v_0(t) =', v0)"
   ]
  },
  {
   "cell_type": "code",
   "execution_count": 29,
   "metadata": {
    "ExecuteTime": {
     "end_time": "2024-05-02T02:01:08.087899Z",
     "start_time": "2024-05-02T02:01:07.744452Z"
    },
    "id": "ivadXkoyV8mb",
    "outputId": "dab9f945-42a3-40f6-e978-b5455a739564"
   },
   "outputs": [
    {
     "data": {
      "image/png": "[encoded data removed]",
      "text/plain": [
       "<Figure size 600x400 with 1 Axes>"
      ]
     },
     "execution_count": 29,
     "metadata": {},
     "output_type": "execute_result"
    }
   ],
   "source": [
    "# plota funções no domínio do tempo\n",
    "intervalo = np.arange(-4, 10, 0.05)\n",
    "symplot(t, v0, intervalo, '$v_0(t)$')"
   ]
  },
  {
   "cell_type": "markdown",
   "metadata": {},
   "source": [
    "### Problema 3\n",
    "\n",
    "Problema visto nos slides da aula 24.\n",
    "\n",
    "Simulação: https://tinyurl.com/23gkm54o"
   ]
  },
  {
   "cell_type": "markdown",
   "metadata": {},
   "source": [
    "**Resolução via tensões de nó**"
   ]
  },
  {
   "cell_type": "code",
   "execution_count": 54,
   "metadata": {
    "ExecuteTime": {
     "end_time": "2024-05-02T02:19:59.625748Z",
     "start_time": "2024-05-02T02:19:59.458193Z"
    },
    "hide_input": true
   },
   "outputs": [
    {
     "name": "stdout",
     "output_type": "stream",
     "text": [
      "Sistema de equações via tensões de nó:\n"
     ]
    },
    {
     "data": {
      "text/latex": [
       "$\\displaystyle (1):- \\frac{V_{1}}{10} + \\frac{60}{s} = 0.1 V_{1} s + \\frac{V_{1} - V_{2}}{20 s}\\;\\mathrm{ }$"
      ],
      "text/plain": [
       "<IPython.core.display.Math object>"
      ]
     },
     "metadata": {},
     "output_type": "display_data"
    },
    {
     "data": {
      "text/latex": [
       "$\\displaystyle (2):\\frac{V_{1} - V_{2}}{20 s} = \\frac{V_{1}}{4} + \\frac{V_{2}}{140}\\;\\mathrm{ }$"
      ],
      "text/plain": [
       "<IPython.core.display.Math object>"
      ]
     },
     "metadata": {},
     "output_type": "display_data"
    }
   ],
   "source": [
    "# tensão de nó\n",
    "V1, V2, s = sp.symbols('V_1, V_2, s')\n",
    "\n",
    "C = 100e-3\n",
    "L = 20\n",
    "Vg = 600/s\n",
    "\n",
    "ZC = 1/(s*C)\n",
    "ZL = s*L \n",
    "\n",
    "# define o sistema de equações\n",
    "eq1 = sp.Eq((Vg - V1)/10, (V1 - V2)/ZL + V1/ZC)             \n",
    "eq2 = sp.Eq((V1 - V2)/ZL, V2/140 + V1/4)\n",
    "\n",
    "print('Sistema de equações via tensões de nó:')\n",
    "symdisp('(1):', eq1)\n",
    "symdisp('(2):', eq2)\n",
    "\n",
    "# resolve o sistema\n",
    "soluc = sp.solve([eq1, eq2],[V1, V2], dict=True)[0]\n",
    "\n",
    "V1 = soluc[V1]\n",
    "V2 = soluc[V2]"
   ]
  },
  {
   "cell_type": "code",
   "execution_count": 57,
   "metadata": {
    "ExecuteTime": {
     "end_time": "2024-05-02T02:27:04.437869Z",
     "start_time": "2024-05-02T02:27:04.215329Z"
    },
    "hide_input": true
   },
   "outputs": [
    {
     "name": "stdout",
     "output_type": "stream",
     "text": [
      "Solução do sistema:\n"
     ]
    },
    {
     "data": {
      "text/latex": [
       "$\\displaystyle V_1(s) =\\frac{600.0 s + 4200.0}{s \\left(s^{2} + 8.0 s + 25.0\\right)}\\;\\mathrm{Vs}$"
      ],
      "text/plain": [
       "<IPython.core.display.Math object>"
      ]
     },
     "metadata": {},
     "output_type": "display_data"
    },
    {
     "data": {
      "text/latex": [
       "$\\displaystyle V_2(s) =\\frac{4200.0 - 21000.0 s}{s \\left(s^{2} + 8.0 s + 25.0\\right)}\\;\\mathrm{Vs}$"
      ],
      "text/plain": [
       "<IPython.core.display.Math object>"
      ]
     },
     "metadata": {},
     "output_type": "display_data"
    }
   ],
   "source": [
    "print('Solução do sistema:')\n",
    "symdisp('V_1(s) =', V1.simplify(), 'Vs')\n",
    "symdisp('V_2(s) =', V2.simplify(), 'Vs')"
   ]
  },
  {
   "cell_type": "code",
   "execution_count": 32,
   "metadata": {
    "ExecuteTime": {
     "end_time": "2024-05-02T02:01:08.717389Z",
     "start_time": "2024-05-02T02:01:08.628341Z"
    },
    "hide_input": true
   },
   "outputs": [
    {
     "data": {
      "text/latex": [
       "$\\displaystyle V_0(s) =\\frac{4200.0 - 21000.0 s}{s \\left(s^{2} + 8.0 s + 25.0\\right)}\\;\\mathrm{Vs}$"
      ],
      "text/plain": [
       "<IPython.core.display.Math object>"
      ]
     },
     "metadata": {},
     "output_type": "display_data"
    }
   ],
   "source": [
    "symdisp('V_0(s) =', V2.simplify(), 'Vs')"
   ]
  },
  {
   "cell_type": "code",
   "execution_count": 33,
   "metadata": {
    "ExecuteTime": {
     "end_time": "2024-05-02T02:01:08.858704Z",
     "start_time": "2024-05-02T02:01:08.721578Z"
    },
    "hide_input": true
   },
   "outputs": [
    {
     "data": {
      "text/latex": [
       "$\\displaystyle V_0(s) =\\frac{-84.0 - 3612.0 i}{s + 4.0 + 3.0 i} + \\frac{-84.0 + 3612.0 i}{s + 4.0 - 3.0 i} + \\frac{168.0}{s}\\;\\mathrm{Vs}$"
      ],
      "text/plain": [
       "<IPython.core.display.Math object>"
      ]
     },
     "metadata": {},
     "output_type": "display_data"
    }
   ],
   "source": [
    "V0 = V2\n",
    "symdisp('V_0(s) =', partFrac(V0), 'Vs')"
   ]
  },
  {
   "cell_type": "code",
   "execution_count": 55,
   "metadata": {
    "ExecuteTime": {
     "end_time": "2024-05-02T02:23:18.321479Z",
     "start_time": "2024-05-02T02:23:17.949827Z"
    },
    "hide_input": true
   },
   "outputs": [
    {
     "data": {
      "text/latex": [
       "$\\displaystyle v_0(t) =168.0 - 7224.0 e^{- 4.0 t} \\sin{\\left(3.0 t \\right)} - 168.0 e^{- 4.0 t} \\cos{\\left(3.0 t \\right)}\\;\\mathrm{V}$"
      ],
      "text/plain": [
       "<IPython.core.display.Math object>"
      ]
     },
     "metadata": {},
     "output_type": "display_data"
    }
   ],
   "source": [
    "v0 = invL(V0, s, t, partialFractions=True)\n",
    "symdisp('v_0(t) =', v0, 'V')"
   ]
  },
  {
   "cell_type": "code",
   "execution_count": 56,
   "metadata": {
    "ExecuteTime": {
     "end_time": "2024-05-02T02:23:21.100825Z",
     "start_time": "2024-05-02T02:23:20.732203Z"
    },
    "hide_input": true
   },
   "outputs": [
    {
     "data": {
      "image/png": "[encoded data removed]",
      "text/plain": [
       "<Figure size 600x400 with 1 Axes>"
      ]
     },
     "execution_count": 56,
     "metadata": {},
     "output_type": "execute_result"
    }
   ],
   "source": [
    "# plota funções no domínio do tempo\n",
    "intervalo = np.arange(-0.25, 2.5, 0.005)\n",
    "symplot(t, v0*u, intervalo, '$v_0(t)$')"
   ]
  },
  {
   "cell_type": "markdown",
   "metadata": {},
   "source": [
    " **Resolução via correntes de malha**"
   ]
  },
  {
   "cell_type": "code",
   "execution_count": 53,
   "metadata": {
    "ExecuteTime": {
     "end_time": "2024-05-02T02:19:11.577455Z",
     "start_time": "2024-05-02T02:19:11.442413Z"
    },
    "hide_input": true
   },
   "outputs": [
    {
     "name": "stdout",
     "output_type": "stream",
     "text": [
      "Sistema de equações via correntes de malha:\n"
     ]
    },
    {
     "data": {
      "text/latex": [
       "$\\displaystyle (1):10 I_{a} + 10 I_{c} + \\frac{10.0 \\left(I_{a} - I_{b}\\right)}{s} - \\frac{600}{s} = 0\\;\\mathrm{ }$"
      ],
      "text/plain": [
       "<IPython.core.display.Math object>"
      ]
     },
     "metadata": {},
     "output_type": "display_data"
    },
    {
     "data": {
      "text/latex": [
       "$\\displaystyle (2):140 I_{b} + 20 s \\left(I_{b} + I_{c}\\right) - \\frac{10.0 \\left(I_{a} - I_{b}\\right)}{s} = 0\\;\\mathrm{ }$"
      ],
      "text/plain": [
       "<IPython.core.display.Math object>"
      ]
     },
     "metadata": {},
     "output_type": "display_data"
    },
    {
     "data": {
      "text/latex": [
       "$\\displaystyle (3):I_{c} = \\frac{2.5 \\left(I_{a} - I_{b}\\right)}{s}\\;\\mathrm{ }$"
      ],
      "text/plain": [
       "<IPython.core.display.Math object>"
      ]
     },
     "metadata": {},
     "output_type": "display_data"
    }
   ],
   "source": [
    "# Correntes de malha\n",
    "Ia, Ib, Ic, s = sp.symbols('I_a, I_b, I_c, s')\n",
    "\n",
    "C = 100e-3\n",
    "L = 20\n",
    "Vg = 600/s\n",
    "\n",
    "ZC = 1/(s*C)\n",
    "ZL = s*L \n",
    "\n",
    "Vϕ = ZC*(Ia - Ib)\n",
    "\n",
    "# define o sistema de equações\n",
    "eq1 = sp.Eq(-Vg + 10*(Ia + Ic) + ZC*(Ia-Ib), 0)             \n",
    "eq2 = sp.Eq(-ZC*(Ia-Ib) + ZL*(Ib + Ic) + 140*Ib,0)\n",
    "eq3 = sp.Eq(Ic, Vϕ/4)\n",
    "\n",
    "print('Sistema de equações via correntes de malha:')\n",
    "symdisp('(1):', eq1)\n",
    "symdisp('(2):', eq2)\n",
    "symdisp('(3):', eq3)\n",
    "\n",
    "# resolve o sistema\n",
    "soluc = sp.solve([eq1, eq2, eq3],[Ia, Ib, Ic], dict=True)[0]\n",
    "\n",
    "Ia = soluc[Ia]\n",
    "Ib = soluc[Ib]\n",
    "Ic = soluc[Ic]"
   ]
  },
  {
   "cell_type": "code",
   "execution_count": 58,
   "metadata": {
    "ExecuteTime": {
     "end_time": "2024-05-02T02:29:27.356564Z",
     "start_time": "2024-05-02T02:29:27.051417Z"
    },
    "hide_input": true
   },
   "outputs": [
    {
     "name": "stdout",
     "output_type": "stream",
     "text": [
      "Solução:\n"
     ]
    },
    {
     "data": {
      "text/latex": [
       "$\\displaystyle I_a(s) =\\frac{60.0 s^{2} + 270.0 s + 30.0}{s \\left(s^{2} + 8.0 s + 25.0\\right)}\\;\\mathrm{As}$"
      ],
      "text/plain": [
       "<IPython.core.display.Math object>"
      ]
     },
     "metadata": {},
     "output_type": "display_data"
    },
    {
     "data": {
      "text/latex": [
       "$\\displaystyle I_b(s) =\\frac{30.0 - 150.0 s}{s \\left(s^{2} + 8.0 s + 25.0\\right)}\\;\\mathrm{As}$"
      ],
      "text/plain": [
       "<IPython.core.display.Math object>"
      ]
     },
     "metadata": {},
     "output_type": "display_data"
    },
    {
     "data": {
      "text/latex": [
       "$\\displaystyle I_c(s) =\\frac{150.0 s + 1050.0}{s \\left(s^{2} + 8.0 s + 25.0\\right)}\\;\\mathrm{As}$"
      ],
      "text/plain": [
       "<IPython.core.display.Math object>"
      ]
     },
     "metadata": {},
     "output_type": "display_data"
    }
   ],
   "source": [
    "print('Solução:')\n",
    "symdisp('I_a(s) =', Ia.simplify(), 'As')\n",
    "symdisp('I_b(s) =', Ib.simplify(), 'As')\n",
    "symdisp('I_c(s) =', Ic.simplify(), 'As')"
   ]
  },
  {
   "cell_type": "code",
   "execution_count": 59,
   "metadata": {
    "ExecuteTime": {
     "end_time": "2024-05-02T02:29:53.433851Z",
     "start_time": "2024-05-02T02:29:53.337688Z"
    },
    "hide_input": true
   },
   "outputs": [
    {
     "data": {
      "text/latex": [
       "$\\displaystyle V_0(s) = 140I_b(s) = \\frac{4200.0 - 21000.0 s}{s \\left(s^{2} + 8.0 s + 25.0\\right)}\\;\\mathrm{Vs}$"
      ],
      "text/plain": [
       "<IPython.core.display.Math object>"
      ]
     },
     "metadata": {},
     "output_type": "display_data"
    }
   ],
   "source": [
    "V0 = 140 * Ib\n",
    "symdisp('V_0(s) = 140I_b(s) = ', V0.simplify(), 'Vs')"
   ]
  },
  {
   "cell_type": "code",
   "execution_count": 60,
   "metadata": {
    "ExecuteTime": {
     "end_time": "2024-05-02T02:30:26.111521Z",
     "start_time": "2024-05-02T02:30:25.843266Z"
    },
    "hide_input": true
   },
   "outputs": [
    {
     "data": {
      "text/latex": [
       "$\\displaystyle v_0(t) =168.0 - 7224.0 e^{- 4.0 t} \\sin{\\left(3.0 t \\right)} - 168.0 e^{- 4.0 t} \\cos{\\left(3.0 t \\right)}\\;\\mathrm{V}$"
      ],
      "text/plain": [
       "<IPython.core.display.Math object>"
      ]
     },
     "metadata": {},
     "output_type": "display_data"
    }
   ],
   "source": [
    "v0 = invL(V0, s, t, partialFractions=True)\n",
    "symdisp('v_0(t) =', v0, 'V')"
   ]
  }
 ],
 "metadata": {
  "colab": {
   "include_colab_link": true,
   "provenance": []
  },
  "jupytext": {
   "encoding": "# -*- coding: utf-8 -*-",
   "formats": "ipynb,py:light"
  },
  "kernelspec": {
   "display_name": "Python 3 (ipykernel)",
   "language": "python",
   "name": "python3"
  },
  "language_info": {
   "codemirror_mode": {
    "name": "ipython",
    "version": 3
   },
   "file_extension": ".py",
   "mimetype": "text/x-python",
   "name": "python",
   "nbconvert_exporter": "python",
   "pygments_lexer": "ipython3",
   "version": "3.9.13"
  },
  "toc": {
   "base_numbering": 1,
   "nav_menu": {},
   "number_sections": true,
   "sideBar": true,
   "skip_h1_title": true,
   "title_cell": "Table of Contents",
   "title_sidebar": "Contents",
   "toc_cell": true,
   "toc_position": {
    "height": "calc(100% - 180px)",
    "left": "10px",
    "top": "150px",
    "width": "200.475px"
   },
   "toc_section_display": true,
   "toc_window_display": true
  },
  "varInspector": {
   "cols": {
    "lenName": 16,
    "lenType": 16,
    "lenVar": 40
   },
   "kernels_config": {
    "python": {
     "delete_cmd_postfix": "",
     "delete_cmd_prefix": "del ",
     "library": "var_list.py",
     "varRefreshCmd": "print(var_dic_list())"
    },
    "r": {
     "delete_cmd_postfix": ") ",
     "delete_cmd_prefix": "rm(",
     "library": "var_list.r",
     "varRefreshCmd": "cat(var_dic_list()) "
    }
   },
   "types_to_exclude": [
    "module",
    "function",
    "builtin_function_or_method",
    "instance",
    "_Feature"
   ],
   "window_display": false
  }
 },
 "nbformat": 4,
 "nbformat_minor": 1
}
