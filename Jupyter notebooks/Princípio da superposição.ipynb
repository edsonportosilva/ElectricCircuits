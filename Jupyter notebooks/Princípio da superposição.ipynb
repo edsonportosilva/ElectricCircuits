{
 "cells": [
  {
   "cell_type": "markdown",
   "metadata": {
    "colab_type": "text",
    "id": "view-in-github"
   },
   "source": [
    "<a href=\"https://colab.research.google.com/github/edsonportosilva/ElectricCircuits/blob/master/Jupyter%20notebooks/Princípio%20da%20superposição.ipynb\" target=\"_parent\"><img src=\"https://colab.research.google.com/assets/colab-badge.svg\" alt=\"Open In Colab\"/></a>"
   ]
  },
  {
   "cell_type": "markdown",
   "metadata": {
    "id": "FQT9KaLMXye6"
   },
   "source": [
    "# Princípio da superposição\n",
    " "
   ]
  },
  {
   "cell_type": "code",
   "execution_count": 1,
   "metadata": {
    "ExecuteTime": {
     "end_time": "2023-04-11T11:58:40.944350Z",
     "start_time": "2023-04-11T11:58:26.782575Z"
    },
    "colab": {
     "base_uri": "https://localhost:8080/"
    },
    "id": "Gys5dAF0XyfN",
    "outputId": "9021f914-9c84-4459-cf39-9295c6be6f36"
   },
   "outputs": [],
   "source": [
    "if 'google.colab' in str(get_ipython()):    \n",
    "    ! git clone -b master https://github.com/edsonportosilva/ElectricCircuits\n",
    "    from os import chdir as cd\n",
    "    cd('/content/ElectricCircuits/')\n",
    "    ! pip install .\n",
    "\n",
    "import sympy as sp\n",
    "import numpy as np\n",
    "from circuit.utils import symdisp, symplot\n",
    "from IPython.display import Math, Latex, display"
   ]
  },
  {
   "cell_type": "markdown",
   "metadata": {
    "id": "A84zfdRBXyfT"
   },
   "source": [
    "#### Equações das correntes de malha"
   ]
  },
  {
   "cell_type": "code",
   "execution_count": 47,
   "metadata": {
    "ExecuteTime": {
     "end_time": "2023-04-11T12:28:20.368834Z",
     "start_time": "2023-04-11T12:28:20.335376Z"
    },
    "colab": {
     "base_uri": "https://localhost:8080/",
     "height": 197
    },
    "id": "HjKwx-rPXyfU",
    "outputId": "77c17164-ec51-43ed-cbd1-b660fcf714de"
   },
   "outputs": [
    {
     "name": "stdout",
     "output_type": "stream",
     "text": [
      "Sistema de equações lineares:\n"
     ]
    },
    {
     "data": {
      "text/latex": [
       "$\\displaystyle R_{1} i_{a} + R_{2} \\left(i_{a} - i_{b}\\right) - V_{1} = 0$"
      ],
      "text/plain": [
       "Eq(R_1*i_a + R_2*(i_a - i_b) - V_1, 0)"
      ]
     },
     "metadata": {},
     "output_type": "display_data"
    },
    {
     "data": {
      "text/latex": [
       "$\\displaystyle - R_{2} \\left(i_{a} - i_{b}\\right) + R_{3} i_{b} + R_{4} \\left(i_{b} - i_{c}\\right) = 0$"
      ],
      "text/plain": [
       "Eq(-R_2*(i_a - i_b) + R_3*i_b + R_4*(i_b - i_c), 0)"
      ]
     },
     "metadata": {},
     "output_type": "display_data"
    },
    {
     "data": {
      "text/latex": [
       "$\\displaystyle - R_{4} \\left(i_{b} - i_{c}\\right) + R_{5} i_{c} + V_{2} = 0$"
      ],
      "text/plain": [
       "Eq(-R_4*(i_b - i_c) + R_5*i_c + V_2, 0)"
      ]
     },
     "metadata": {},
     "output_type": "display_data"
    },
    {
     "name": "stdout",
     "output_type": "stream",
     "text": [
      "Simplificando:\n"
     ]
    },
    {
     "data": {
      "text/latex": [
       "$\\displaystyle R_{1} i_{a} + R_{2} i_{a} - R_{2} i_{b} - V_{1} = 0$"
      ],
      "text/plain": [
       "Eq(R_1*i_a + R_2*i_a - R_2*i_b - V_1, 0)"
      ]
     },
     "metadata": {},
     "output_type": "display_data"
    },
    {
     "data": {
      "text/latex": [
       "$\\displaystyle - R_{2} i_{a} + R_{2} i_{b} + R_{3} i_{b} + R_{4} i_{b} - R_{4} i_{c} = 0$"
      ],
      "text/plain": [
       "Eq(-R_2*i_a + R_2*i_b + R_3*i_b + R_4*i_b - R_4*i_c, 0)"
      ]
     },
     "metadata": {},
     "output_type": "display_data"
    },
    {
     "data": {
      "text/latex": [
       "$\\displaystyle - R_{4} i_{b} + R_{4} i_{c} + R_{5} i_{c} + V_{2} = 0$"
      ],
      "text/plain": [
       "Eq(-R_4*i_b + R_4*i_c + R_5*i_c + V_2, 0)"
      ]
     },
     "metadata": {},
     "output_type": "display_data"
    }
   ],
   "source": [
    "# define os parâmetros do circuito\n",
    "R1, R2, R3, R4, R5 = sp.symbols('R_1, R_2, R_3, R_4, R_5', real=True, positive=True)\n",
    "\n",
    "V1, V2 = sp.symbols('V_1, V_2', real=True, positive=True)\n",
    "\n",
    "# define as N variáveis desconhecidas\n",
    "ia, ib, ic = sp.symbols('i_a, i_b, i_c', real=True)\n",
    "\n",
    "# define os sistema de N equações\n",
    "eq1 = sp.Eq(-V1 + R1*ia + R2*(ia-ib), 0)             \n",
    "eq2 = sp.Eq(-R2*(ia - ib) + R3*ib + R4*(ib-ic), 0)  \n",
    "eq3 = sp.Eq(-R4*(ib - ic)+ R5*ic + V2, 0)  \n",
    "\n",
    "print('Sistema de equações lineares:')\n",
    "display(eq1, eq2, eq3) \n",
    "\n",
    "print('Simplificando:')\n",
    "display(eq1.expand(), eq2.expand(), eq3.expand()) \n",
    "\n",
    "# # resolve o sistema\n",
    "# soluc = sp.solve((eq1, eq2, eq3),(ia, ib, ic), dict=True)[0]\n",
    "\n",
    "# ia = soluc[ia]\n",
    "# ib = soluc[ib]\n",
    "# ic = soluc[ic]\n",
    "\n",
    "# print('\\nSolução:')\n",
    "# symdisp('i_a =', ia, 'A')\n",
    "# symdisp('i_b =', ib, 'A')\n",
    "# symdisp('i_c =', ic, 'A')"
   ]
  },
  {
   "cell_type": "markdown",
   "metadata": {},
   "source": [
    "### Rescrevendo o sistema na forma matricial $Ai = v$"
   ]
  },
  {
   "cell_type": "code",
   "execution_count": 49,
   "metadata": {
    "ExecuteTime": {
     "end_time": "2023-04-11T12:28:49.664511Z",
     "start_time": "2023-04-11T12:28:49.652561Z"
    }
   },
   "outputs": [
    {
     "data": {
      "text/latex": [
       "$\\displaystyle A = \\left[\\begin{matrix}R_{1} + R_{2} & - R_{2} & 0\\\\- R_{2} & R_{2} + R_{3} + R_{4} & - R_{4}\\\\0 & - R_{4} & R_{4} + R_{5}\\end{matrix}\\right]\\;\\mathrm{ }$"
      ],
      "text/plain": [
       "<IPython.core.display.Math object>"
      ]
     },
     "metadata": {},
     "output_type": "display_data"
    }
   ],
   "source": [
    "A = sp.Matrix([[R1+R2, -R2,      0],\n",
    "               [-R2, R2+R3+R4, -R4], \n",
    "               [0,    -R4,   R4+R5]])\n",
    "\n",
    "symdisp('A = ', A)"
   ]
  },
  {
   "cell_type": "code",
   "execution_count": 50,
   "metadata": {
    "ExecuteTime": {
     "end_time": "2023-04-11T12:29:02.207655Z",
     "start_time": "2023-04-11T12:29:02.200671Z"
    }
   },
   "outputs": [
    {
     "data": {
      "text/latex": [
       "$\\displaystyle v = \\left[\\begin{matrix}V_{1}\\\\0\\\\- V_{2}\\end{matrix}\\right]\\;\\mathrm{ }$"
      ],
      "text/plain": [
       "<IPython.core.display.Math object>"
      ]
     },
     "metadata": {},
     "output_type": "display_data"
    }
   ],
   "source": [
    "v = sp.Matrix([[V1],\n",
    "               [0],\n",
    "               [-V2]])\n",
    "\n",
    "symdisp('v = ', v)"
   ]
  },
  {
   "cell_type": "code",
   "execution_count": 16,
   "metadata": {
    "ExecuteTime": {
     "end_time": "2023-04-11T12:05:58.601539Z",
     "start_time": "2023-04-11T12:05:56.951809Z"
    }
   },
   "outputs": [
    {
     "data": {
      "text/latex": [
       "$\\displaystyle A^{-1} = \\left[\\begin{matrix}\\frac{R_{2} R_{4} + R_{2} R_{5} + R_{3} R_{4} + R_{3} R_{5} + R_{4} R_{5}}{R_{1} R_{2} R_{4} + R_{1} R_{2} R_{5} + R_{1} R_{3} R_{4} + R_{1} R_{3} R_{5} + R_{1} R_{4} R_{5} + R_{2} R_{3} R_{4} + R_{2} R_{3} R_{5} + R_{2} R_{4} R_{5}} & \\frac{R_{2} R_{4} + R_{2} R_{5}}{R_{1} R_{2} R_{4} + R_{1} R_{2} R_{5} + R_{1} R_{3} R_{4} + R_{1} R_{3} R_{5} + R_{1} R_{4} R_{5} + R_{2} R_{3} R_{4} + R_{2} R_{3} R_{5} + R_{2} R_{4} R_{5}} & \\frac{R_{2} R_{4}}{R_{1} R_{2} R_{4} + R_{1} R_{2} R_{5} + R_{1} R_{3} R_{4} + R_{1} R_{3} R_{5} + R_{1} R_{4} R_{5} + R_{2} R_{3} R_{4} + R_{2} R_{3} R_{5} + R_{2} R_{4} R_{5}}\\\\\\frac{R_{2} R_{4} + R_{2} R_{5}}{R_{1} R_{2} R_{4} + R_{1} R_{2} R_{5} + R_{1} R_{3} R_{4} + R_{1} R_{3} R_{5} + R_{1} R_{4} R_{5} + R_{2} R_{3} R_{4} + R_{2} R_{3} R_{5} + R_{2} R_{4} R_{5}} & \\frac{R_{1} R_{4} + R_{1} R_{5} + R_{2} R_{4} + R_{2} R_{5}}{R_{1} R_{2} R_{4} + R_{1} R_{2} R_{5} + R_{1} R_{3} R_{4} + R_{1} R_{3} R_{5} + R_{1} R_{4} R_{5} + R_{2} R_{3} R_{4} + R_{2} R_{3} R_{5} + R_{2} R_{4} R_{5}} & \\frac{R_{1} R_{4} + R_{2} R_{4}}{R_{1} R_{2} R_{4} + R_{1} R_{2} R_{5} + R_{1} R_{3} R_{4} + R_{1} R_{3} R_{5} + R_{1} R_{4} R_{5} + R_{2} R_{3} R_{4} + R_{2} R_{3} R_{5} + R_{2} R_{4} R_{5}}\\\\\\frac{R_{2} R_{4}}{R_{1} R_{2} R_{4} + R_{1} R_{2} R_{5} + R_{1} R_{3} R_{4} + R_{1} R_{3} R_{5} + R_{1} R_{4} R_{5} + R_{2} R_{3} R_{4} + R_{2} R_{3} R_{5} + R_{2} R_{4} R_{5}} & \\frac{R_{1} R_{4} + R_{2} R_{4}}{R_{1} R_{2} R_{4} + R_{1} R_{2} R_{5} + R_{1} R_{3} R_{4} + R_{1} R_{3} R_{5} + R_{1} R_{4} R_{5} + R_{2} R_{3} R_{4} + R_{2} R_{3} R_{5} + R_{2} R_{4} R_{5}} & \\frac{R_{1} R_{2} + R_{1} R_{3} + R_{1} R_{4} + R_{2} R_{3} + R_{2} R_{4}}{R_{1} R_{2} R_{4} + R_{1} R_{2} R_{5} + R_{1} R_{3} R_{4} + R_{1} R_{3} R_{5} + R_{1} R_{4} R_{5} + R_{2} R_{3} R_{4} + R_{2} R_{3} R_{5} + R_{2} R_{4} R_{5}}\\end{matrix}\\right]\\;\\mathrm{ }$"
      ],
      "text/plain": [
       "<IPython.core.display.Math object>"
      ]
     },
     "metadata": {},
     "output_type": "display_data"
    }
   ],
   "source": [
    "symdisp('A^{-1} = ', A.inv())"
   ]
  },
  {
   "cell_type": "code",
   "execution_count": 56,
   "metadata": {
    "ExecuteTime": {
     "end_time": "2023-04-11T12:34:35.800489Z",
     "start_time": "2023-04-11T12:34:35.780542Z"
    }
   },
   "outputs": [
    {
     "data": {
      "text/latex": [
       "$\\displaystyle A = \\left[\\begin{matrix}20 & -10 & 0\\\\-10 & 30 & -10\\\\0 & -10 & 20\\end{matrix}\\right]\\;\\mathrm{ }$"
      ],
      "text/plain": [
       "<IPython.core.display.Math object>"
      ]
     },
     "metadata": {},
     "output_type": "display_data"
    },
    {
     "data": {
      "text/latex": [
       "$\\displaystyle A^{-1} = \\left[\\begin{matrix}\\frac{1}{16} & \\frac{1}{40} & \\frac{1}{80}\\\\\\frac{1}{40} & \\frac{1}{20} & \\frac{1}{40}\\\\\\frac{1}{80} & \\frac{1}{40} & \\frac{1}{16}\\end{matrix}\\right]\\;\\mathrm{ }$"
      ],
      "text/plain": [
       "<IPython.core.display.Math object>"
      ]
     },
     "metadata": {},
     "output_type": "display_data"
    }
   ],
   "source": [
    "A_ = A.subs({R1:10, R2:10, R3:10, R4:10, R5:10})\n",
    "\n",
    "symdisp('A = ', A_)\n",
    "symdisp('A^{-1} = ', A_.inv())"
   ]
  },
  {
   "cell_type": "code",
   "execution_count": 57,
   "metadata": {
    "ExecuteTime": {
     "end_time": "2023-04-11T12:34:54.134461Z",
     "start_time": "2023-04-11T12:34:54.117505Z"
    }
   },
   "outputs": [
    {
     "data": {
      "text/latex": [
       "$\\displaystyle v = \\left[\\begin{matrix}10\\\\0\\\\-20\\end{matrix}\\right]\\;\\mathrm{ }$"
      ],
      "text/plain": [
       "<IPython.core.display.Math object>"
      ]
     },
     "metadata": {},
     "output_type": "display_data"
    }
   ],
   "source": [
    "v_ = v.subs({V1:10, V2:20})\n",
    "symdisp('v = ', v_)"
   ]
  },
  {
   "cell_type": "code",
   "execution_count": 58,
   "metadata": {
    "ExecuteTime": {
     "end_time": "2023-04-11T12:34:56.295832Z",
     "start_time": "2023-04-11T12:34:56.281870Z"
    }
   },
   "outputs": [
    {
     "data": {
      "text/latex": [
       "$\\displaystyle \\begin{bmatrix} i_a \\\\ i_b \\\\ i_c \\end{bmatrix} = A^{-1}v = \\left[\\begin{matrix}0.375\\\\-0.25\\\\-1.125\\end{matrix}\\right]\\;\\mathrm{ }$"
      ],
      "text/plain": [
       "<IPython.core.display.Math object>"
      ]
     },
     "metadata": {},
     "output_type": "display_data"
    }
   ],
   "source": [
    "i = A_.inv() * v_\n",
    "symdisp('\\\\begin{bmatrix} i_a \\\\\\ i_b \\\\\\ i_c \\\\end{bmatrix} = A^{-1}v = ', sp.N(i))"
   ]
  },
  {
   "cell_type": "markdown",
   "metadata": {},
   "source": [
    "**Fazendo $V_2$ = 0**"
   ]
  },
  {
   "cell_type": "code",
   "execution_count": 59,
   "metadata": {
    "ExecuteTime": {
     "end_time": "2023-04-11T12:35:03.237085Z",
     "start_time": "2023-04-11T12:35:03.223122Z"
    }
   },
   "outputs": [
    {
     "data": {
      "text/latex": [
       "$\\displaystyle v = \\left[\\begin{matrix}V_{1}\\\\0\\\\- V_{2}\\end{matrix}\\right]\\;\\mathrm{ }$"
      ],
      "text/plain": [
       "<IPython.core.display.Math object>"
      ]
     },
     "metadata": {},
     "output_type": "display_data"
    },
    {
     "data": {
      "text/latex": [
       "$\\displaystyle v_1 = \\left[\\begin{matrix}10\\\\0\\\\0\\end{matrix}\\right]\\;\\mathrm{ }$"
      ],
      "text/plain": [
       "<IPython.core.display.Math object>"
      ]
     },
     "metadata": {},
     "output_type": "display_data"
    },
    {
     "data": {
      "text/latex": [
       "$\\displaystyle \\begin{bmatrix} i_a \\\\ i_b \\\\ i_c \\end{bmatrix} = A^{-1}v_1 = \\left[\\begin{matrix}0.625\\\\0.25\\\\0.125\\end{matrix}\\right]\\;\\mathrm{ }$"
      ],
      "text/plain": [
       "<IPython.core.display.Math object>"
      ]
     },
     "metadata": {},
     "output_type": "display_data"
    }
   ],
   "source": [
    "symdisp('v = ', v)\n",
    "v1 = v.subs({V1:10, V2:0})\n",
    "symdisp('v_1 = ', v1)\n",
    "\n",
    "\n",
    "i = A_.inv() * v1\n",
    "symdisp('\\\\begin{bmatrix} i_a \\\\\\ i_b \\\\\\ i_c \\\\end{bmatrix} = A^{-1}v_1 = ', sp.N(i))"
   ]
  },
  {
   "cell_type": "markdown",
   "metadata": {},
   "source": [
    "**Fazendo $V_1$ = 0**"
   ]
  },
  {
   "cell_type": "code",
   "execution_count": 60,
   "metadata": {
    "ExecuteTime": {
     "end_time": "2023-04-11T12:35:19.643308Z",
     "start_time": "2023-04-11T12:35:19.621366Z"
    }
   },
   "outputs": [
    {
     "data": {
      "text/latex": [
       "$\\displaystyle v = \\left[\\begin{matrix}V_{1}\\\\0\\\\- V_{2}\\end{matrix}\\right]\\;\\mathrm{ }$"
      ],
      "text/plain": [
       "<IPython.core.display.Math object>"
      ]
     },
     "metadata": {},
     "output_type": "display_data"
    },
    {
     "data": {
      "text/latex": [
       "$\\displaystyle v_2 = \\left[\\begin{matrix}0\\\\0\\\\-20\\end{matrix}\\right]\\;\\mathrm{ }$"
      ],
      "text/plain": [
       "<IPython.core.display.Math object>"
      ]
     },
     "metadata": {},
     "output_type": "display_data"
    },
    {
     "data": {
      "text/latex": [
       "$\\displaystyle \\begin{bmatrix} i_a \\\\ i_b \\\\ i_c \\end{bmatrix} = A^{-1}v_2 = \\left[\\begin{matrix}-0.25\\\\-0.5\\\\-1.25\\end{matrix}\\right]\\;\\mathrm{ }$"
      ],
      "text/plain": [
       "<IPython.core.display.Math object>"
      ]
     },
     "metadata": {},
     "output_type": "display_data"
    }
   ],
   "source": [
    "symdisp('v = ', v)\n",
    "\n",
    "v2 = v.subs({V1:0, V2:20}) # v1 = 0 V, v2 = 20 V\n",
    "symdisp('v_2 = ', v2)\n",
    "\n",
    "i = A_.inv() * v2\n",
    "symdisp('\\\\begin{bmatrix} i_a \\\\\\ i_b \\\\\\ i_c \\\\end{bmatrix} = A^{-1}v_2 = ', sp.N(i))"
   ]
  },
  {
   "cell_type": "code",
   "execution_count": 61,
   "metadata": {
    "ExecuteTime": {
     "end_time": "2023-04-11T12:35:44.164281Z",
     "start_time": "2023-04-11T12:35:44.147326Z"
    }
   },
   "outputs": [
    {
     "data": {
      "text/latex": [
       "$\\displaystyle \\begin{bmatrix} i_a \\\\ i_b \\\\ i_c \\end{bmatrix} = A^{-1}(v_1+v_2) = \\left[\\begin{matrix}0.375\\\\-0.25\\\\-1.125\\end{matrix}\\right]\\;\\mathrm{ }$"
      ],
      "text/plain": [
       "<IPython.core.display.Math object>"
      ]
     },
     "metadata": {},
     "output_type": "display_data"
    }
   ],
   "source": [
    "i = A_.inv() * (v1 + v2)\n",
    "\n",
    "symdisp('\\\\begin{bmatrix} i_a \\\\\\ i_b \\\\\\ i_c \\\\end{bmatrix} = A^{-1}(v_1+v_2) = ', sp.N(i))"
   ]
  }
 ],
 "metadata": {
  "colab": {
   "include_colab_link": true,
   "provenance": []
  },
  "jupytext": {
   "encoding": "# -*- coding: utf-8 -*-",
   "formats": "ipynb,py:light"
  },
  "kernelspec": {
   "display_name": "Python 3 (ipykernel)",
   "language": "python",
   "name": "python3"
  },
  "language_info": {
   "codemirror_mode": {
    "name": "ipython",
    "version": 3
   },
   "file_extension": ".py",
   "mimetype": "text/x-python",
   "name": "python",
   "nbconvert_exporter": "python",
   "pygments_lexer": "ipython3",
   "version": "3.9.7"
  },
  "toc": {
   "base_numbering": 1,
   "nav_menu": {},
   "number_sections": true,
   "sideBar": true,
   "skip_h1_title": true,
   "title_cell": "Sumário",
   "title_sidebar": "Contents",
   "toc_cell": true,
   "toc_position": {
    "height": "calc(100% - 180px)",
    "left": "10px",
    "top": "150px",
    "width": "200.475px"
   },
   "toc_section_display": true,
   "toc_window_display": false
  }
 },
 "nbformat": 4,
 "nbformat_minor": 1
}
