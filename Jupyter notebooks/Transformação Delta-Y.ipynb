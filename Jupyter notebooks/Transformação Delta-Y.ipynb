{
 "cells": [
  {
   "cell_type": "code",
   "execution_count": 1,
   "metadata": {
    "ExecuteTime": {
     "end_time": "2021-11-20T18:24:25.863351Z",
     "start_time": "2021-11-20T18:24:25.844363Z"
    }
   },
   "outputs": [],
   "source": [
    "import sympy as sp\n",
    "import numpy as np\n",
    "from utils import symdisp, symplot\n",
    "from IPython.display import Math, Latex, display"
   ]
  },
  {
   "cell_type": "markdown",
   "metadata": {},
   "source": [
    "# *Transformação Delta -Y*\n"
   ]
  },
  {
   "cell_type": "markdown",
   "metadata": {
    "toc": true
   },
   "source": [
    "<h1>Sumário<span class=\"tocSkip\"></span></h1>\n",
    "<div class=\"toc\"><ul class=\"toc-item\"><li><span><a href=\"#Definindo-expressões-matemáticas\" data-toc-modified-id=\"Definindo-expressões-matemáticas-1\"><span class=\"toc-item-num\">1&nbsp;&nbsp;</span>Definindo expressões matemáticas</a></span></li><li><span><a href=\"#Transformação-Y-$\\Delta$\" data-toc-modified-id=\"Transformação-Y-$\\Delta$-2\"><span class=\"toc-item-num\">2&nbsp;&nbsp;</span>Transformação Y-$\\Delta$</a></span></li><li><span><a href=\"#Transformação-$\\Delta$-Y\" data-toc-modified-id=\"Transformação-$\\Delta$-Y-3\"><span class=\"toc-item-num\">3&nbsp;&nbsp;</span>Transformação $\\Delta$-Y</a></span></li></ul></div>"
   ]
  },
  {
   "cell_type": "markdown",
   "metadata": {},
   "source": [
    "## Definindo expressões matemáticas\n",
    "\n",
    "<img src=\"./figures/J16C1.png\" width=\"500\">\n",
    "\n",
    "\n",
    "Primeiramente definimos as variáveis indicando os valores das resistências da configuração $Y$ ($R_1$, $R_2$, $R_3$) e os valores da configuração $\\Delta$ ($R_a$, $R_b$, $R_c$)."
   ]
  },
  {
   "cell_type": "code",
   "execution_count": 8,
   "metadata": {
    "ExecuteTime": {
     "end_time": "2021-11-22T12:25:40.203625Z",
     "start_time": "2021-11-22T12:25:40.156764Z"
    }
   },
   "outputs": [],
   "source": [
    "# definindo as variáveis:\n",
    "R1, R2, R3 = sp.symbols('R_1, R_2, R_3', real=True, positive=True)\n",
    "Ra, Rb, Rc = sp.symbols('R_a, R_b, R_c', real=True, positive=True)"
   ]
  },
  {
   "cell_type": "markdown",
   "metadata": {},
   "source": [
    "Para que as duas configurações sejam completamente equivalentes, a resistência medida em quaisquer dois pares de terminais deve ser a mesma na configuração $Y$ ou na configuração $\\Delta$. Logo, analisando as relações de resistência equivalente para os três nós do circuito, temos que as seguintes equações devem ser válidas para que haja equivalência entre a configuração $Y$ e a configuração $\\Delta$:"
   ]
  },
  {
   "cell_type": "code",
   "execution_count": 6,
   "metadata": {
    "ExecuteTime": {
     "end_time": "2021-11-22T12:25:40.203625Z",
     "start_time": "2021-11-22T12:25:40.156764Z"
    }
   },
   "outputs": [
    {
     "name": "stdout",
     "output_type": "stream",
     "text": [
      "Sistema de equações lineares:\n"
     ]
    },
    {
     "data": {
      "text/latex": [
       "$\\displaystyle R_{1} + R_{2} = \\frac{R_{c} \\left(R_{a} + R_{b}\\right)}{R_{a} + R_{b} + R_{c}}$"
      ],
      "text/plain": [
       "Eq(R_1 + R_2, R_c*(R_a + R_b)/(R_a + R_b + R_c))"
      ]
     },
     "metadata": {},
     "output_type": "display_data"
    },
    {
     "data": {
      "text/latex": [
       "$\\displaystyle R_{2} + R_{3} = \\frac{R_{a} \\left(R_{b} + R_{c}\\right)}{R_{a} + R_{b} + R_{c}}$"
      ],
      "text/plain": [
       "Eq(R_2 + R_3, R_a*(R_b + R_c)/(R_a + R_b + R_c))"
      ]
     },
     "metadata": {},
     "output_type": "display_data"
    },
    {
     "data": {
      "text/latex": [
       "$\\displaystyle R_{1} + R_{3} = \\frac{R_{b} \\left(R_{a} + R_{c}\\right)}{R_{a} + R_{b} + R_{c}}$"
      ],
      "text/plain": [
       "Eq(R_1 + R_3, R_b*(R_a + R_c)/(R_a + R_b + R_c))"
      ]
     },
     "metadata": {},
     "output_type": "display_data"
    }
   ],
   "source": [
    "# define os sistema de equações\n",
    "eq1 = sp.Eq(R1 + R2, Rc * ( Ra + Rb ) / ( Ra + Rb + Rc ) )             \n",
    "eq2 = sp.Eq(R2 + R3, Ra * ( Rb + Rc ) / ( Ra + Rb + Rc ) )    \n",
    "eq3 = sp.Eq(R3 + R1, Rb * ( Ra + Rc ) / ( Ra + Rb + Rc ) )    \n",
    "\n",
    "print('Sistema de equações lineares:')\n",
    "display(eq1, eq2, eq3) "
   ]
  },
  {
   "cell_type": "markdown",
   "metadata": {},
   "source": [
    "## Transformação Y-$\\Delta$\n",
    "\n",
    "Resolvendo o sistema de equações lineares para $R_a$, $R_b$, $R_c$ em função de $R_1$, $R_2$, $R_3$."
   ]
  },
  {
   "cell_type": "code",
   "execution_count": 7,
   "metadata": {
    "ExecuteTime": {
     "end_time": "2021-11-22T12:25:40.203625Z",
     "start_time": "2021-11-22T12:25:40.156764Z"
    }
   },
   "outputs": [
    {
     "name": "stdout",
     "output_type": "stream",
     "text": [
      "Solução do sistema:\n"
     ]
    },
    {
     "data": {
      "text/latex": [
       "$\\displaystyle R_a =\\frac{R_{1} R_{2} + R_{1} R_{3} + R_{2} R_{3}}{R_{1}}\\; $"
      ],
      "text/plain": [
       "<IPython.core.display.Math object>"
      ]
     },
     "metadata": {},
     "output_type": "display_data"
    },
    {
     "data": {
      "text/latex": [
       "$\\displaystyle R_b =\\frac{R_{1} R_{2} + R_{1} R_{3} + R_{2} R_{3}}{R_{2}}\\; $"
      ],
      "text/plain": [
       "<IPython.core.display.Math object>"
      ]
     },
     "metadata": {},
     "output_type": "display_data"
    },
    {
     "data": {
      "text/latex": [
       "$\\displaystyle R_c =\\frac{R_{1} R_{2} + R_{1} R_{3} + R_{2} R_{3}}{R_{3}}\\; $"
      ],
      "text/plain": [
       "<IPython.core.display.Math object>"
      ]
     },
     "metadata": {},
     "output_type": "display_data"
    }
   ],
   "source": [
    "# resolve o sistema\n",
    "soluc = sp.solve((eq1, eq2, eq3), (Ra, Rb, Rc), dict=True)\n",
    "soluc = soluc[0]\n",
    "\n",
    "Ra = soluc[Ra]\n",
    "Rb = soluc[Rb]\n",
    "Rc = soluc[Rc]\n",
    "\n",
    "print('Solução do sistema:')\n",
    "symdisp('R_a =', Ra.cancel())\n",
    "symdisp('R_b =', Rb.cancel())\n",
    "symdisp('R_c =', Rc.cancel())"
   ]
  },
  {
   "cell_type": "markdown",
   "metadata": {},
   "source": [
    "## Transformação $\\Delta$-Y\n",
    "\n",
    "Resolvendo o sistema de equações lineares para $R_1$, $R_2$, $R_3$ em função de $R_a$, $R_b$, $R_c$."
   ]
  },
  {
   "cell_type": "code",
   "execution_count": 5,
   "metadata": {},
   "outputs": [
    {
     "name": "stdout",
     "output_type": "stream",
     "text": [
      "Solução do sistema:\n"
     ]
    },
    {
     "data": {
      "text/latex": [
       "$\\displaystyle R_1 =\\frac{R_{b} R_{c}}{R_{a} + R_{b} + R_{c}}\\; $"
      ],
      "text/plain": [
       "<IPython.core.display.Math object>"
      ]
     },
     "metadata": {},
     "output_type": "display_data"
    },
    {
     "data": {
      "text/latex": [
       "$\\displaystyle R_2 =\\frac{R_{a} R_{c}}{R_{a} + R_{b} + R_{c}}\\; $"
      ],
      "text/plain": [
       "<IPython.core.display.Math object>"
      ]
     },
     "metadata": {},
     "output_type": "display_data"
    },
    {
     "data": {
      "text/latex": [
       "$\\displaystyle R_3 =\\frac{R_{a} R_{b}}{R_{a} + R_{b} + R_{c}}\\; $"
      ],
      "text/plain": [
       "<IPython.core.display.Math object>"
      ]
     },
     "metadata": {},
     "output_type": "display_data"
    }
   ],
   "source": [
    "# resolve o sistema\n",
    "soluc = sp.solve((eq1, eq2, eq3), (R1, R2, R3), dict=True)\n",
    "soluc = soluc[0]\n",
    "\n",
    "R1 = soluc[R1]\n",
    "R2 = soluc[R2]\n",
    "R3 = soluc[R3]\n",
    "\n",
    "print('Solução do sistema:')\n",
    "symdisp('R_1 =', R1.cancel())\n",
    "symdisp('R_2 =', R2.cancel())\n",
    "symdisp('R_3 =', R3.cancel())"
   ]
  }
 ],
 "metadata": {
  "jupytext": {
   "encoding": "# -*- coding: utf-8 -*-",
   "formats": "ipynb,py:light"
  },
  "kernelspec": {
   "display_name": "Python 3 (ipykernel)",
   "language": "python",
   "name": "python3"
  },
  "language_info": {
   "codemirror_mode": {
    "name": "ipython",
    "version": 3
   },
   "file_extension": ".py",
   "mimetype": "text/x-python",
   "name": "python",
   "nbconvert_exporter": "python",
   "pygments_lexer": "ipython3",
   "version": "3.9.7"
  },
  "toc": {
   "base_numbering": 1,
   "nav_menu": {},
   "number_sections": true,
   "sideBar": true,
   "skip_h1_title": true,
   "title_cell": "Sumário",
   "title_sidebar": "Contents",
   "toc_cell": true,
   "toc_position": {
    "height": "calc(100% - 180px)",
    "left": "10px",
    "top": "150px",
    "width": "200.475px"
   },
   "toc_section_display": true,
   "toc_window_display": false
  }
 },
 "nbformat": 4,
 "nbformat_minor": 2
}
