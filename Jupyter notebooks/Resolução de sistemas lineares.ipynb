{
 "cells": [
  {
   "cell_type": "markdown",
   "metadata": {
    "colab_type": "text",
    "id": "view-in-github"
   },
   "source": [
    "<a href=\"https://colab.research.google.com/github/edsonportosilva/ElectricCircuits/blob/master/Jupyter%20notebooks/Resolu%C3%A7%C3%A3o%20de%20sistemas%20lineares.ipynb\" target=\"_parent\"><img src=\"https://colab.research.google.com/assets/colab-badge.svg\" alt=\"Open In Colab\"/></a>"
   ]
  },
  {
   "cell_type": "markdown",
   "metadata": {
    "id": "FQT9KaLMXye6"
   },
   "source": [
    "# *Resolução de sistemas lineares*\n",
    " "
   ]
  },
  {
   "cell_type": "code",
   "execution_count": 2,
   "metadata": {
    "ExecuteTime": {
     "end_time": "2022-05-20T11:06:47.962317Z",
     "start_time": "2022-05-20T11:06:45.440138Z"
    },
    "id": "Gys5dAF0XyfN"
   },
   "outputs": [],
   "source": [
    "if 'google.colab' in str(get_ipython()):    \n",
    "    ! git clone -b master https://github.com/edsonportosilva/ElectricCircuits\n",
    "    from os import chdir as cd\n",
    "    cd('/content/ElectricCircuits/Jupyter notebooks')\n",
    "\n",
    "import sympy as sp\n",
    "import numpy as np\n",
    "from circuit.utils import symdisp, symplot\n",
    "from IPython.display import Math, Latex, display"
   ]
  },
  {
   "cell_type": "markdown",
   "metadata": {
    "id": "hfuhqHyAXyfO"
   },
   "source": [
    "### Resolvendo um sistema de equações lineares com *sp.solve*"
   ]
  },
  {
   "cell_type": "markdown",
   "metadata": {
    "id": "5sCUnuThXyfP"
   },
   "source": [
    "#### Sistema $2\\times2$ de tensões desconhecidas"
   ]
  },
  {
   "cell_type": "code",
   "execution_count": 3,
   "metadata": {
    "ExecuteTime": {
     "end_time": "2022-05-20T12:28:14.839924Z",
     "start_time": "2022-05-20T12:28:14.804943Z"
    },
    "id": "PfBaUs61XyfP",
    "outputId": "e947b549-dce3-4108-d170-6483c328a7d1"
   },
   "outputs": [
    {
     "name": "stdout",
     "output_type": "stream",
     "text": [
      "Sistema de equações lineares:\n"
     ]
    },
    {
     "data": {
      "text/latex": [
       "$\\displaystyle 17 v_{1} - 5 v_{2} = 100$"
      ],
      "text/plain": [
       "Eq(17*v_1 - 5*v_2, 100)"
      ]
     },
     "metadata": {},
     "output_type": "display_data"
    },
    {
     "data": {
      "text/latex": [
       "$\\displaystyle 5 v_{1} - 6 v_{2} = -20$"
      ],
      "text/plain": [
       "Eq(5*v_1 - 6*v_2, -20)"
      ]
     },
     "metadata": {},
     "output_type": "display_data"
    },
    {
     "name": "stdout",
     "output_type": "stream",
     "text": [
      "Solução do sistema:\n"
     ]
    },
    {
     "data": {
      "text/latex": [
       "$\\displaystyle v_1 =9.1\\;V$"
      ],
      "text/plain": [
       "<IPython.core.display.Math object>"
      ]
     },
     "metadata": {},
     "output_type": "display_data"
    },
    {
     "data": {
      "text/latex": [
       "$\\displaystyle v_2 =11.0\\;V$"
      ],
      "text/plain": [
       "<IPython.core.display.Math object>"
      ]
     },
     "metadata": {},
     "output_type": "display_data"
    }
   ],
   "source": [
    "# define as N variáveis desconhecidas\n",
    "v1, v2 = sp.symbols('v_1, v_2')\n",
    "\n",
    "# define os sistema de N equações\n",
    "eq1 = sp.Eq(17*v1 - 5*v2, 100)             \n",
    "eq2 = sp.Eq(5*v1 - 6*v2, -20)  \n",
    "\n",
    "print('Sistema de equações lineares:')\n",
    "display(eq1, eq2) \n",
    "\n",
    "# resolve o sistema\n",
    "soluc = sp.solve((eq1, eq2), dict=True)\n",
    "soluc = soluc[0]\n",
    "\n",
    "v1 = soluc[v1]\n",
    "v2 = soluc[v2]\n",
    "\n",
    "print('Solução do sistema:')\n",
    "symdisp('v_1 =', sp.N(v1,2), 'V')\n",
    "symdisp('v_2 =', sp.N(v2,2), 'V')"
   ]
  },
  {
   "cell_type": "markdown",
   "metadata": {
    "id": "TX-F3DKkXyfQ"
   },
   "source": [
    "#### Sistema $2\\times2$ de correntes desconhecidas"
   ]
  },
  {
   "cell_type": "code",
   "execution_count": 4,
   "metadata": {
    "ExecuteTime": {
     "end_time": "2022-05-20T12:28:14.839924Z",
     "start_time": "2022-05-20T12:28:14.804943Z"
    },
    "id": "1B83vUJGXyfR",
    "outputId": "7036789e-da37-4ef8-8cde-523a54f05f4a"
   },
   "outputs": [
    {
     "name": "stdout",
     "output_type": "stream",
     "text": [
      "Sistema de equações lineares:\n"
     ]
    },
    {
     "data": {
      "text/latex": [
       "$\\displaystyle 200 i_{a} - 50 i_{b} = 0.5$"
      ],
      "text/plain": [
       "Eq(200*i_a - 50*i_b, 0.5)"
      ]
     },
     "metadata": {},
     "output_type": "display_data"
    },
    {
     "data": {
      "text/latex": [
       "$\\displaystyle 50 i_{a} + 6 i_{b} = -0.25$"
      ],
      "text/plain": [
       "Eq(50*i_a + 6*i_b, -0.25)"
      ]
     },
     "metadata": {},
     "output_type": "display_data"
    },
    {
     "name": "stdout",
     "output_type": "stream",
     "text": [
      "Solução do sistema:\n"
     ]
    },
    {
     "data": {
      "text/latex": [
       "$\\displaystyle i_a =-0.0026\\;A$"
      ],
      "text/plain": [
       "<IPython.core.display.Math object>"
      ]
     },
     "metadata": {},
     "output_type": "display_data"
    },
    {
     "data": {
      "text/latex": [
       "$\\displaystyle i_b =-0.02\\;A$"
      ],
      "text/plain": [
       "<IPython.core.display.Math object>"
      ]
     },
     "metadata": {},
     "output_type": "display_data"
    }
   ],
   "source": [
    "# define as N variáveis desconhecidas\n",
    "ia, ib = sp.symbols('i_a, i_b')\n",
    "\n",
    "# define os sistema de N equações\n",
    "eq1 = sp.Eq(200*ia - 50*ib, 0.5)             \n",
    "eq2 = sp.Eq(50*ia + 6*ib, -0.25)  \n",
    "\n",
    "print('Sistema de equações lineares:')\n",
    "display(eq1, eq2) \n",
    "\n",
    "# resolve o sistema\n",
    "soluc = sp.solve((eq1, eq2), dict=True)\n",
    "soluc = soluc[0]\n",
    "\n",
    "ia = soluc[ia]\n",
    "ib = soluc[ib]\n",
    "\n",
    "print('Solução do sistema:')\n",
    "symdisp('i_a =', sp.N(ia,2), 'A')\n",
    "symdisp('i_b =', sp.N(ib,2), 'A')"
   ]
  },
  {
   "cell_type": "markdown",
   "metadata": {
    "id": "4B5GES9HXyfS"
   },
   "source": [
    "#### Sistema $3\\times3$ de tensões desconhecidas"
   ]
  },
  {
   "cell_type": "code",
   "execution_count": 5,
   "metadata": {
    "ExecuteTime": {
     "end_time": "2022-05-20T12:28:14.839924Z",
     "start_time": "2022-05-20T12:28:14.804943Z"
    },
    "id": "OXaMqGahXyfT",
    "outputId": "5a3adfc7-5c10-4fd1-ffd4-a8d2f124fc64"
   },
   "outputs": [
    {
     "name": "stdout",
     "output_type": "stream",
     "text": [
      "Sistema de equações lineares:\n"
     ]
    },
    {
     "data": {
      "text/latex": [
       "$\\displaystyle 17 v_{1} - 5 v_{2} - 2 v_{3} = 100$"
      ],
      "text/plain": [
       "Eq(17*v_1 - 5*v_2 - 2*v_3, 100)"
      ]
     },
     "metadata": {},
     "output_type": "display_data"
    },
    {
     "data": {
      "text/latex": [
       "$\\displaystyle 5 v_{1} - 6 v_{2} = -20$"
      ],
      "text/plain": [
       "Eq(5*v_1 - 6*v_2, -20)"
      ]
     },
     "metadata": {},
     "output_type": "display_data"
    },
    {
     "data": {
      "text/latex": [
       "$\\displaystyle v_{1} + 6 v_{3} = 2$"
      ],
      "text/plain": [
       "Eq(v_1 + 6*v_3, 2)"
      ]
     },
     "metadata": {},
     "output_type": "display_data"
    },
    {
     "name": "stdout",
     "output_type": "stream",
     "text": [
      "Solução do sistema:\n"
     ]
    },
    {
     "data": {
      "text/latex": [
       "$\\displaystyle v_1 =8.9\\;V$"
      ],
      "text/plain": [
       "<IPython.core.display.Math object>"
      ]
     },
     "metadata": {},
     "output_type": "display_data"
    },
    {
     "data": {
      "text/latex": [
       "$\\displaystyle v_2 =11.0\\;V$"
      ],
      "text/plain": [
       "<IPython.core.display.Math object>"
      ]
     },
     "metadata": {},
     "output_type": "display_data"
    },
    {
     "data": {
      "text/latex": [
       "$\\displaystyle v_3 =-1.2\\;V$"
      ],
      "text/plain": [
       "<IPython.core.display.Math object>"
      ]
     },
     "metadata": {},
     "output_type": "display_data"
    }
   ],
   "source": [
    "# define as N variáveis desconhecidas\n",
    "v1, v2, v3 = sp.symbols('v_1, v_2, v_3')\n",
    "\n",
    "# define os sistema de N equações\n",
    "eq1 = sp.Eq(17*v1 - 5*v2 - 2*v3, 100)             \n",
    "eq2 = sp.Eq(5*v1 - 6*v2, -20)  \n",
    "eq3 = sp.Eq(v1 + 6*v3, 2)  \n",
    "\n",
    "print('Sistema de equações lineares:')\n",
    "display(eq1, eq2, eq3) \n",
    "\n",
    "# resolve o sistema\n",
    "soluc = sp.solve((eq1, eq2, eq3), dict=True)\n",
    "soluc = soluc[0]\n",
    "\n",
    "v1 = soluc[v1]\n",
    "v2 = soluc[v2]\n",
    "v3 = soluc[v3]\n",
    "\n",
    "print('Solução do sistema:')\n",
    "symdisp('v_1 =', sp.N(v1,2), 'V')\n",
    "symdisp('v_2 =', sp.N(v2,2), 'V')\n",
    "symdisp('v_3 =', sp.N(v3,2), 'V')"
   ]
  },
  {
   "cell_type": "markdown",
   "metadata": {
    "id": "A84zfdRBXyfT"
   },
   "source": [
    "#### Sistema $3\\times3$ de correntes desconhecidas"
   ]
  },
  {
   "cell_type": "code",
   "execution_count": 8,
   "metadata": {
    "ExecuteTime": {
     "end_time": "2022-05-20T12:28:14.839924Z",
     "start_time": "2022-05-20T12:28:14.804943Z"
    },
    "id": "HjKwx-rPXyfU",
    "outputId": "3b4cbcfa-d360-4a1a-bce4-73d2e651f40e"
   },
   "outputs": [
    {
     "name": "stdout",
     "output_type": "stream",
     "text": [
      "Sistema de equações lineares:\n"
     ]
    },
    {
     "data": {
      "text/latex": [
       "$\\displaystyle 10 i_{a} - 5 i_{b} - 5 i_{d} - 10 = 0$"
      ],
      "text/plain": [
       "Eq(10*i_a - 5*i_b - 5*i_d - 10, 0)"
      ]
     },
     "metadata": {},
     "output_type": "display_data"
    },
    {
     "data": {
      "text/latex": [
       "$\\displaystyle - 3 i_{a} + 30 i_{b} - 25 i_{c} - 2 i_{d} = 0$"
      ],
      "text/plain": [
       "Eq(-3*i_a + 30*i_b - 25*i_c - 2*i_d, 0)"
      ]
     },
     "metadata": {},
     "output_type": "display_data"
    },
    {
     "data": {
      "text/latex": [
       "$\\displaystyle - 5 i_{a} - 25 i_{b} + 40 i_{c} + 30 i_{d} + 12 = 0$"
      ],
      "text/plain": [
       "Eq(-5*i_a - 25*i_b + 40*i_c + 30*i_d + 12, 0)"
      ]
     },
     "metadata": {},
     "output_type": "display_data"
    },
    {
     "data": {
      "text/latex": [
       "$\\displaystyle i_{c} - i_{d} = 0.5$"
      ],
      "text/plain": [
       "Eq(i_c - i_d, 0.5)"
      ]
     },
     "metadata": {},
     "output_type": "display_data"
    },
    {
     "name": "stdout",
     "output_type": "stream",
     "text": [
      "Solução do sistema:\n"
     ]
    },
    {
     "data": {
      "text/latex": [
       "$\\displaystyle i_a =0.97\\;A$"
      ],
      "text/plain": [
       "<IPython.core.display.Math object>"
      ]
     },
     "metadata": {},
     "output_type": "display_data"
    },
    {
     "data": {
      "text/latex": [
       "$\\displaystyle i_b =0.24\\;A$"
      ],
      "text/plain": [
       "<IPython.core.display.Math object>"
      ]
     },
     "metadata": {},
     "output_type": "display_data"
    },
    {
     "data": {
      "text/latex": [
       "$\\displaystyle i_c =0.2\\;A$"
      ],
      "text/plain": [
       "<IPython.core.display.Math object>"
      ]
     },
     "metadata": {},
     "output_type": "display_data"
    },
    {
     "data": {
      "text/latex": [
       "$\\displaystyle i_d =-0.3\\;A$"
      ],
      "text/plain": [
       "<IPython.core.display.Math object>"
      ]
     },
     "metadata": {},
     "output_type": "display_data"
    }
   ],
   "source": [
    "# define as N variáveis desconhecidas\n",
    "ia, ib, ic, i_d = sp.symbols('i_a, i_b, i_c, i_d')\n",
    "\n",
    "# define os sistema de N equações\n",
    "eq1 = sp.Eq(-10 + 5*(ia-i_d) + 5*(ia-ib), 0)             \n",
    "eq2 = sp.Eq(-5*(ia-ib) + 25*(ib-ic) + 2*(ia-i_d), 0)  \n",
    "eq3 = sp.Eq(20*i_d + 5*i_d + 15*ic + 12 -25*(ib-ic) - 5*(ia-i_d), 0)\n",
    "eq4 = sp.Eq(ic - i_d, 0.5)\n",
    "\n",
    "print('Sistema de equações lineares:')\n",
    "display(eq1, eq2, eq3, eq4) \n",
    "\n",
    "# resolve o sistema\n",
    "soluc = sp.solve((eq1, eq2, eq3, eq4), dict=True)\n",
    "soluc = soluc[0]\n",
    "\n",
    "ia = soluc[ia]\n",
    "ib = soluc[ib]\n",
    "ic = soluc[ic]\n",
    "i_d = soluc[i_d]\n",
    "\n",
    "print('Solução do sistema:')\n",
    "symdisp('i_a =', sp.N(ia,2), 'A')\n",
    "symdisp('i_b =', sp.N(ib,2), 'A')\n",
    "symdisp('i_c =', sp.N(ic,2), 'A')\n",
    "symdisp('i_d =', sp.N(i_d,2), 'A')"
   ]
  },
  {
   "cell_type": "code",
   "execution_count": null,
   "metadata": {},
   "outputs": [],
   "source": []
  }
 ],
 "metadata": {
  "colab": {
   "include_colab_link": true,
   "provenance": []
  },
  "jupytext": {
   "encoding": "# -*- coding: utf-8 -*-",
   "formats": "ipynb,py:light"
  },
  "kernelspec": {
   "display_name": "Python 3 (ipykernel)",
   "language": "python",
   "name": "python3"
  },
  "language_info": {
   "codemirror_mode": {
    "name": "ipython",
    "version": 3
   },
   "file_extension": ".py",
   "mimetype": "text/x-python",
   "name": "python",
   "nbconvert_exporter": "python",
   "pygments_lexer": "ipython3",
   "version": "3.9.13"
  },
  "toc": {
   "base_numbering": 1,
   "nav_menu": {},
   "number_sections": true,
   "sideBar": true,
   "skip_h1_title": true,
   "title_cell": "Sumário",
   "title_sidebar": "Contents",
   "toc_cell": true,
   "toc_position": {
    "height": "calc(100% - 180px)",
    "left": "10px",
    "top": "150px",
    "width": "200.475px"
   },
   "toc_section_display": true,
   "toc_window_display": false
  }
 },
 "nbformat": 4,
 "nbformat_minor": 1
}
