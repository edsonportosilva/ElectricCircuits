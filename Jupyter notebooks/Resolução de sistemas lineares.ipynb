{
  "cells": [
    {
      "cell_type": "markdown",
      "metadata": {
        "id": "view-in-github",
        "colab_type": "text"
      },
      "source": [
        "<a href=\"https://colab.research.google.com/github/edsonportosilva/ElectricCircuits/blob/master/Jupyter%20notebooks/Resolu%C3%A7%C3%A3o%20de%20sistemas%20lineares.ipynb\" target=\"_parent\"><img src=\"https://colab.research.google.com/assets/colab-badge.svg\" alt=\"Open In Colab\"/></a>"
      ]
    },
    {
      "cell_type": "markdown",
      "metadata": {
        "id": "FQT9KaLMXye6"
      },
      "source": [
        "# *Resolução de sistemas lineares*\n",
        " "
      ]
    },
    {
      "cell_type": "code",
      "execution_count": 1,
      "metadata": {
        "ExecuteTime": {
          "end_time": "2022-05-20T11:06:47.962317Z",
          "start_time": "2022-05-20T11:06:45.440138Z"
        },
        "id": "Gys5dAF0XyfN",
        "outputId": "9021f914-9c84-4459-cf39-9295c6be6f36",
        "colab": {
          "base_uri": "https://localhost:8080/"
        }
      },
      "outputs": [
        {
          "output_type": "stream",
          "name": "stdout",
          "text": [
            "Cloning into 'ElectricCircuits'...\n",
            "remote: Enumerating objects: 1503, done.\u001b[K\n",
            "remote: Counting objects: 100% (490/490), done.\u001b[K\n",
            "remote: Compressing objects: 100% (218/218), done.\u001b[K\n",
            "remote: Total 1503 (delta 315), reused 431 (delta 268), pack-reused 1013\u001b[K\n",
            "Receiving objects: 100% (1503/1503), 217.43 MiB | 14.93 MiB/s, done.\n",
            "Resolving deltas: 100% (900/900), done.\n",
            "Updating files: 100% (314/314), done.\n",
            "Looking in indexes: https://pypi.org/simple, https://us-python.pkg.dev/colab-wheels/public/simple/\n",
            "Processing /content/ElectricCircuits\n",
            "  Preparing metadata (setup.py) ... \u001b[?25l\u001b[?25hdone\n",
            "Requirement already satisfied: numpy in /usr/local/lib/python3.8/dist-packages (from CircuitPy==0.1.0) (1.22.4)\n",
            "Requirement already satisfied: scipy in /usr/local/lib/python3.8/dist-packages (from CircuitPy==0.1.0) (1.7.3)\n",
            "Requirement already satisfied: matplotlib in /usr/local/lib/python3.8/dist-packages (from CircuitPy==0.1.0) (3.2.2)\n",
            "Requirement already satisfied: sympy in /usr/local/lib/python3.8/dist-packages (from CircuitPy==0.1.0) (1.7.1)\n",
            "Requirement already satisfied: pyparsing!=2.0.4,!=2.1.2,!=2.1.6,>=2.0.1 in /usr/local/lib/python3.8/dist-packages (from matplotlib->CircuitPy==0.1.0) (3.0.9)\n",
            "Requirement already satisfied: kiwisolver>=1.0.1 in /usr/local/lib/python3.8/dist-packages (from matplotlib->CircuitPy==0.1.0) (1.4.4)\n",
            "Requirement already satisfied: python-dateutil>=2.1 in /usr/local/lib/python3.8/dist-packages (from matplotlib->CircuitPy==0.1.0) (2.8.2)\n",
            "Requirement already satisfied: cycler>=0.10 in /usr/local/lib/python3.8/dist-packages (from matplotlib->CircuitPy==0.1.0) (0.11.0)\n",
            "Requirement already satisfied: mpmath>=0.19 in /usr/local/lib/python3.8/dist-packages (from sympy->CircuitPy==0.1.0) (1.2.1)\n",
            "Requirement already satisfied: six>=1.5 in /usr/local/lib/python3.8/dist-packages (from python-dateutil>=2.1->matplotlib->CircuitPy==0.1.0) (1.15.0)\n",
            "Building wheels for collected packages: CircuitPy\n",
            "  Building wheel for CircuitPy (setup.py) ... \u001b[?25l\u001b[?25hdone\n",
            "  Created wheel for CircuitPy: filename=CircuitPy-0.1.0-py3-none-any.whl size=8375 sha256=410e2db7ecb54d02b57cb6a61cda9aa7fead3037fa35d233be9b0043235747d2\n",
            "  Stored in directory: /tmp/pip-ephem-wheel-cache-ygpmzudl/wheels/87/44/93/8c1ae8274e296e72f8183a3f33866dd7a29d5ad84fc063e7cd\n",
            "Successfully built CircuitPy\n",
            "Installing collected packages: CircuitPy\n",
            "Successfully installed CircuitPy-0.1.0\n"
          ]
        }
      ],
      "source": [
        "if 'google.colab' in str(get_ipython()):    \n",
        "    ! git clone -b master https://github.com/edsonportosilva/ElectricCircuits\n",
        "    from os import chdir as cd\n",
        "    cd('/content/ElectricCircuits/')\n",
        "    ! pip install .\n",
        "\n",
        "import sympy as sp\n",
        "import numpy as np\n",
        "from circuit.utils import symdisp, symplot\n",
        "from IPython.display import Math, Latex, display"
      ]
    },
    {
      "cell_type": "markdown",
      "metadata": {
        "id": "hfuhqHyAXyfO"
      },
      "source": [
        "### Resolvendo um sistema de equações lineares com *sp.solve*"
      ]
    },
    {
      "cell_type": "markdown",
      "metadata": {
        "id": "5sCUnuThXyfP"
      },
      "source": [
        "#### Sistema $2\\times2$ de tensões desconhecidas"
      ]
    },
    {
      "cell_type": "code",
      "execution_count": 8,
      "metadata": {
        "ExecuteTime": {
          "end_time": "2022-05-20T12:28:14.839924Z",
          "start_time": "2022-05-20T12:28:14.804943Z"
        },
        "id": "PfBaUs61XyfP",
        "outputId": "bfe749f0-8007-44f1-9d84-ded4a517223a",
        "colab": {
          "base_uri": "https://localhost:8080/",
          "height": 154
        }
      },
      "outputs": [
        {
          "output_type": "stream",
          "name": "stdout",
          "text": [
            "Sistema de equações lineares:\n"
          ]
        },
        {
          "output_type": "display_data",
          "data": {
            "text/plain": [
              "Eq(17*v_1 - 5*v_2, 100)"
            ],
            "text/latex": "$\\displaystyle 17 v_{1} - 5 v_{2} = 100$"
          },
          "metadata": {}
        },
        {
          "output_type": "display_data",
          "data": {
            "text/plain": [
              "Eq(5*v_1 - 6*v_2, -20)"
            ],
            "text/latex": "$\\displaystyle 5 v_{1} - 6 v_{2} = -20$"
          },
          "metadata": {}
        },
        {
          "output_type": "stream",
          "name": "stdout",
          "text": [
            "\n",
            "Solução:\n"
          ]
        },
        {
          "output_type": "display_data",
          "data": {
            "text/plain": [
              "<IPython.core.display.Math object>"
            ],
            "text/latex": "$\\displaystyle v_1 =9.1\\;V$"
          },
          "metadata": {}
        },
        {
          "output_type": "display_data",
          "data": {
            "text/plain": [
              "<IPython.core.display.Math object>"
            ],
            "text/latex": "$\\displaystyle v_2 =11.0\\;V$"
          },
          "metadata": {}
        }
      ],
      "source": [
        "# define as N variáveis desconhecidas\n",
        "v1, v2 = sp.symbols('v_1, v_2')\n",
        "\n",
        "# define os sistema de N equações\n",
        "eq1 = sp.Eq(17*v1 - 5*v2, 100)             \n",
        "eq2 = sp.Eq(5*v1 - 6*v2, -20)  \n",
        "\n",
        "print('Sistema de equações lineares:')\n",
        "display(eq1, eq2) \n",
        "\n",
        "# resolve o sistema\n",
        "soluc = sp.solve((eq1, eq2), dict=True)[0]\n",
        "\n",
        "v1 = soluc[v1]\n",
        "v2 = soluc[v2]\n",
        "\n",
        "print('\\nSolução:')\n",
        "symdisp('v_1 =', sp.N(v1,2), 'V')\n",
        "symdisp('v_2 =', sp.N(v2,2), 'V')"
      ]
    },
    {
      "cell_type": "markdown",
      "metadata": {
        "id": "TX-F3DKkXyfQ"
      },
      "source": [
        "#### Sistema $2\\times2$ de correntes desconhecidas"
      ]
    },
    {
      "cell_type": "code",
      "execution_count": 9,
      "metadata": {
        "ExecuteTime": {
          "end_time": "2022-05-20T12:28:14.839924Z",
          "start_time": "2022-05-20T12:28:14.804943Z"
        },
        "id": "1B83vUJGXyfR",
        "outputId": "a1a4e259-0983-471a-afc3-a4ed30df4066",
        "colab": {
          "base_uri": "https://localhost:8080/",
          "height": 154
        }
      },
      "outputs": [
        {
          "output_type": "stream",
          "name": "stdout",
          "text": [
            "Sistema de equações lineares:\n"
          ]
        },
        {
          "output_type": "display_data",
          "data": {
            "text/plain": [
              "Eq(200*i_a - 50*i_b, 0.5)"
            ],
            "text/latex": "$\\displaystyle 200 i_{a} - 50 i_{b} = 0.5$"
          },
          "metadata": {}
        },
        {
          "output_type": "display_data",
          "data": {
            "text/plain": [
              "Eq(50*i_a + 6*i_b, -0.25)"
            ],
            "text/latex": "$\\displaystyle 50 i_{a} + 6 i_{b} = -0.25$"
          },
          "metadata": {}
        },
        {
          "output_type": "stream",
          "name": "stdout",
          "text": [
            "\n",
            "Solução:\n"
          ]
        },
        {
          "output_type": "display_data",
          "data": {
            "text/plain": [
              "<IPython.core.display.Math object>"
            ],
            "text/latex": "$\\displaystyle i_a =-0.0026\\;A$"
          },
          "metadata": {}
        },
        {
          "output_type": "display_data",
          "data": {
            "text/plain": [
              "<IPython.core.display.Math object>"
            ],
            "text/latex": "$\\displaystyle i_b =-0.02\\;A$"
          },
          "metadata": {}
        }
      ],
      "source": [
        "# define as N variáveis desconhecidas\n",
        "ia, ib = sp.symbols('i_a, i_b')\n",
        "\n",
        "# define os sistema de N equações\n",
        "eq1 = sp.Eq(200*ia - 50*ib, 0.5)             \n",
        "eq2 = sp.Eq(50*ia + 6*ib, -0.25)  \n",
        "\n",
        "print('Sistema de equações lineares:')\n",
        "display(eq1, eq2) \n",
        "\n",
        "# resolve o sistema\n",
        "soluc = sp.solve((eq1, eq2), dict=True)[0]\n",
        "\n",
        "ia = soluc[ia]\n",
        "ib = soluc[ib]\n",
        "\n",
        "print('\\nSolução:')\n",
        "symdisp('i_a =', sp.N(ia,2), 'A')\n",
        "symdisp('i_b =', sp.N(ib,2), 'A')"
      ]
    },
    {
      "cell_type": "markdown",
      "metadata": {
        "id": "4B5GES9HXyfS"
      },
      "source": [
        "#### Sistema $3\\times3$ de tensões desconhecidas"
      ]
    },
    {
      "cell_type": "code",
      "execution_count": 10,
      "metadata": {
        "ExecuteTime": {
          "end_time": "2022-05-20T12:28:14.839924Z",
          "start_time": "2022-05-20T12:28:14.804943Z"
        },
        "id": "OXaMqGahXyfT",
        "outputId": "68f80747-2794-4978-e7b6-e077669b0d00",
        "colab": {
          "base_uri": "https://localhost:8080/",
          "height": 197
        }
      },
      "outputs": [
        {
          "output_type": "stream",
          "name": "stdout",
          "text": [
            "Sistema de equações lineares:\n"
          ]
        },
        {
          "output_type": "display_data",
          "data": {
            "text/plain": [
              "Eq(17*v_1 - 5*v_2 - 2*v_3, 100)"
            ],
            "text/latex": "$\\displaystyle 17 v_{1} - 5 v_{2} - 2 v_{3} = 100$"
          },
          "metadata": {}
        },
        {
          "output_type": "display_data",
          "data": {
            "text/plain": [
              "Eq(5*v_1 - 6*v_2, -20)"
            ],
            "text/latex": "$\\displaystyle 5 v_{1} - 6 v_{2} = -20$"
          },
          "metadata": {}
        },
        {
          "output_type": "display_data",
          "data": {
            "text/plain": [
              "Eq(v_1 + 6*v_3, 2)"
            ],
            "text/latex": "$\\displaystyle v_{1} + 6 v_{3} = 2$"
          },
          "metadata": {}
        },
        {
          "output_type": "stream",
          "name": "stdout",
          "text": [
            "\n",
            "Solução:\n"
          ]
        },
        {
          "output_type": "display_data",
          "data": {
            "text/plain": [
              "<IPython.core.display.Math object>"
            ],
            "text/latex": "$\\displaystyle v_1 =8.9\\;V$"
          },
          "metadata": {}
        },
        {
          "output_type": "display_data",
          "data": {
            "text/plain": [
              "<IPython.core.display.Math object>"
            ],
            "text/latex": "$\\displaystyle v_2 =11.0\\;V$"
          },
          "metadata": {}
        },
        {
          "output_type": "display_data",
          "data": {
            "text/plain": [
              "<IPython.core.display.Math object>"
            ],
            "text/latex": "$\\displaystyle v_3 =-1.2\\;V$"
          },
          "metadata": {}
        }
      ],
      "source": [
        "# define as N variáveis desconhecidas\n",
        "v1, v2, v3 = sp.symbols('v_1, v_2, v_3')\n",
        "\n",
        "# define os sistema de N equações\n",
        "eq1 = sp.Eq(17*v1 - 5*v2 - 2*v3, 100)             \n",
        "eq2 = sp.Eq(5*v1 - 6*v2, -20)  \n",
        "eq3 = sp.Eq(v1 + 6*v3, 2)  \n",
        "\n",
        "print('Sistema de equações lineares:')\n",
        "display(eq1, eq2, eq3) \n",
        "\n",
        "# resolve o sistema\n",
        "soluc = sp.solve((eq1, eq2, eq3), dict=True)[0]\n",
        "\n",
        "v1 = soluc[v1]\n",
        "v2 = soluc[v2]\n",
        "v3 = soluc[v3]\n",
        "\n",
        "print('\\nSolução:')\n",
        "symdisp('v_1 =', sp.N(v1,2), 'V')\n",
        "symdisp('v_2 =', sp.N(v2,2), 'V')\n",
        "symdisp('v_3 =', sp.N(v3,2), 'V')"
      ]
    },
    {
      "cell_type": "markdown",
      "metadata": {
        "id": "A84zfdRBXyfT"
      },
      "source": [
        "#### Sistema $3\\times3$ de correntes desconhecidas"
      ]
    },
    {
      "cell_type": "code",
      "execution_count": 12,
      "metadata": {
        "ExecuteTime": {
          "end_time": "2022-05-20T12:28:14.839924Z",
          "start_time": "2022-05-20T12:28:14.804943Z"
        },
        "id": "HjKwx-rPXyfU",
        "outputId": "77c17164-ec51-43ed-cbd1-b660fcf714de",
        "colab": {
          "base_uri": "https://localhost:8080/",
          "height": 197
        }
      },
      "outputs": [
        {
          "output_type": "stream",
          "name": "stdout",
          "text": [
            "Sistema de equações lineares:\n"
          ]
        },
        {
          "output_type": "display_data",
          "data": {
            "text/plain": [
              "Eq(50*i_a - 15*i_b - 20*i_c, 1)"
            ],
            "text/latex": "$\\displaystyle 50 i_{a} - 15 i_{b} - 20 i_{c} = 1$"
          },
          "metadata": {}
        },
        {
          "output_type": "display_data",
          "data": {
            "text/plain": [
              "Eq(30*i_a + 60*i_b, -0.25)"
            ],
            "text/latex": "$\\displaystyle 30 i_{a} + 60 i_{b} = -0.25$"
          },
          "metadata": {}
        },
        {
          "output_type": "display_data",
          "data": {
            "text/plain": [
              "Eq(i_a + 60*i_b, 0.1)"
            ],
            "text/latex": "$\\displaystyle i_{a} + 60 i_{b} = 0.1$"
          },
          "metadata": {}
        },
        {
          "output_type": "stream",
          "name": "stdout",
          "text": [
            "\n",
            "Solução:\n"
          ]
        },
        {
          "output_type": "display_data",
          "data": {
            "text/plain": [
              "<IPython.core.display.Math object>"
            ],
            "text/latex": "$\\displaystyle i_a =-0.012\\;A$"
          },
          "metadata": {}
        },
        {
          "output_type": "display_data",
          "data": {
            "text/plain": [
              "<IPython.core.display.Math object>"
            ],
            "text/latex": "$\\displaystyle i_b =0.0019\\;A$"
          },
          "metadata": {}
        },
        {
          "output_type": "display_data",
          "data": {
            "text/plain": [
              "<IPython.core.display.Math object>"
            ],
            "text/latex": "$\\displaystyle i_c =-0.082\\;A$"
          },
          "metadata": {}
        }
      ],
      "source": [
        "# define as N variáveis desconhecidas\n",
        "ia, ib, ic = sp.symbols('i_a, i_b, i_c')\n",
        "\n",
        "# define os sistema de N equações\n",
        "eq1 = sp.Eq(50*ia - 15*ib - 20*ic, 1)             \n",
        "eq2 = sp.Eq(30*ia + 60*ib, -0.25)  \n",
        "eq3 = sp.Eq(ia + 60*ib, 0.1)  \n",
        "\n",
        "print('Sistema de equações lineares:')\n",
        "display(eq1, eq2, eq3) \n",
        "\n",
        "# resolve o sistema\n",
        "soluc = sp.solve((eq1, eq2, eq3), dict=True)[0]\n",
        "\n",
        "ia = soluc[ia]\n",
        "ib = soluc[ib]\n",
        "ic = soluc[ic]\n",
        "\n",
        "print('\\nSolução:')\n",
        "symdisp('i_a =', sp.N(ia,2), 'A')\n",
        "symdisp('i_b =', sp.N(ib,2), 'A')\n",
        "symdisp('i_c =', sp.N(ic,2), 'A')"
      ]
    }
  ],
  "metadata": {
    "colab": {
      "provenance": [],
      "include_colab_link": true
    },
    "jupytext": {
      "encoding": "# -*- coding: utf-8 -*-",
      "formats": "ipynb,py:light"
    },
    "kernelspec": {
      "display_name": "Python 3 (ipykernel)",
      "language": "python",
      "name": "python3"
    },
    "language_info": {
      "codemirror_mode": {
        "name": "ipython",
        "version": 3
      },
      "file_extension": ".py",
      "mimetype": "text/x-python",
      "name": "python",
      "nbconvert_exporter": "python",
      "pygments_lexer": "ipython3",
      "version": "3.9.7"
    },
    "toc": {
      "base_numbering": 1,
      "nav_menu": {},
      "number_sections": true,
      "sideBar": true,
      "skip_h1_title": true,
      "title_cell": "Sumário",
      "title_sidebar": "Contents",
      "toc_cell": true,
      "toc_position": {
        "height": "calc(100% - 180px)",
        "left": "10px",
        "top": "150px",
        "width": "200.475px"
      },
      "toc_section_display": true,
      "toc_window_display": false
    }
  },
  "nbformat": 4,
  "nbformat_minor": 0
}