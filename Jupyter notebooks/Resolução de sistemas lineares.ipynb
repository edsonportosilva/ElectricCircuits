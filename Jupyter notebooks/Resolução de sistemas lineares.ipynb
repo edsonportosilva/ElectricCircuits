{
 "cells": [
  {
   "cell_type": "markdown",
   "metadata": {},
   "source": [
    "# *Resolução de sistemas lineares*\n",
    " "
   ]
  },
  {
   "cell_type": "code",
   "execution_count": 1,
   "metadata": {
    "ExecuteTime": {
     "end_time": "2022-05-20T11:06:47.962317Z",
     "start_time": "2022-05-20T11:06:45.440138Z"
    }
   },
   "outputs": [],
   "source": [
    "import sympy as sp\n",
    "import numpy as np\n",
    "from utils import symdisp, symplot\n",
    "from IPython.display import Math, Latex, display"
   ]
  },
  {
   "cell_type": "markdown",
   "metadata": {},
   "source": [
    "### Resolvendo um sistema de equações lineares com *sp.solve*"
   ]
  },
  {
   "cell_type": "markdown",
   "metadata": {},
   "source": [
    "#### Sistema $2\\times2$ de tensões desconhecidas"
   ]
  },
  {
   "cell_type": "code",
   "execution_count": 2,
   "metadata": {
    "ExecuteTime": {
     "end_time": "2022-05-20T12:28:14.839924Z",
     "start_time": "2022-05-20T12:28:14.804943Z"
    }
   },
   "outputs": [
    {
     "name": "stdout",
     "output_type": "stream",
     "text": [
      "Sistema de equações lineares:\n"
     ]
    },
    {
     "data": {
      "text/latex": [
       "$\\displaystyle 17 v_{1} - 5 v_{2} = 100$"
      ],
      "text/plain": [
       "Eq(17*v_1 - 5*v_2, 100)"
      ]
     },
     "metadata": {},
     "output_type": "display_data"
    },
    {
     "data": {
      "text/latex": [
       "$\\displaystyle 5 v_{1} - 6 v_{2} = -20$"
      ],
      "text/plain": [
       "Eq(5*v_1 - 6*v_2, -20)"
      ]
     },
     "metadata": {},
     "output_type": "display_data"
    },
    {
     "name": "stdout",
     "output_type": "stream",
     "text": [
      "Solução do sistema:\n"
     ]
    },
    {
     "data": {
      "text/latex": [
       "$\\displaystyle v_1 =9.1\\;V$"
      ],
      "text/plain": [
       "<IPython.core.display.Math object>"
      ]
     },
     "metadata": {},
     "output_type": "display_data"
    },
    {
     "data": {
      "text/latex": [
       "$\\displaystyle v_2 =11.0\\;V$"
      ],
      "text/plain": [
       "<IPython.core.display.Math object>"
      ]
     },
     "metadata": {},
     "output_type": "display_data"
    }
   ],
   "source": [
    "# define as N variáveis desconhecidas\n",
    "v1, v2 = sp.symbols('v_1, v_2')\n",
    "\n",
    "# define os sistema de N equações\n",
    "eq1 = sp.Eq(17*v1 - 5*v2, 100)             \n",
    "eq2 = sp.Eq(5*v1 - 6*v2, -20)  \n",
    "\n",
    "print('Sistema de equações lineares:')\n",
    "display(eq1, eq2) \n",
    "\n",
    "# resolve o sistema\n",
    "soluc = sp.solve((eq1, eq2), dict=True)\n",
    "soluc = soluc[0]\n",
    "\n",
    "v1 = soluc[v1]\n",
    "v2 = soluc[v2]\n",
    "\n",
    "print('Solução do sistema:')\n",
    "symdisp('v_1 =', sp.N(v1,2), 'V')\n",
    "symdisp('v_2 =', sp.N(v2,2), 'V')"
   ]
  },
  {
   "cell_type": "markdown",
   "metadata": {},
   "source": [
    "#### Sistema $2\\times2$ de correntes desconhecidas"
   ]
  },
  {
   "cell_type": "code",
   "execution_count": 3,
   "metadata": {
    "ExecuteTime": {
     "end_time": "2022-05-20T12:28:14.839924Z",
     "start_time": "2022-05-20T12:28:14.804943Z"
    }
   },
   "outputs": [
    {
     "name": "stdout",
     "output_type": "stream",
     "text": [
      "Sistema de equações lineares:\n"
     ]
    },
    {
     "data": {
      "text/latex": [
       "$\\displaystyle 200 i_{a} - 50 i_{b} = 0.5$"
      ],
      "text/plain": [
       "Eq(200*i_a - 50*i_b, 0.5)"
      ]
     },
     "metadata": {},
     "output_type": "display_data"
    },
    {
     "data": {
      "text/latex": [
       "$\\displaystyle 50 i_{a} + 6 i_{b} = -0.25$"
      ],
      "text/plain": [
       "Eq(50*i_a + 6*i_b, -0.25)"
      ]
     },
     "metadata": {},
     "output_type": "display_data"
    },
    {
     "name": "stdout",
     "output_type": "stream",
     "text": [
      "Solução do sistema:\n"
     ]
    },
    {
     "data": {
      "text/latex": [
       "$\\displaystyle i_a =-0.0026\\;A$"
      ],
      "text/plain": [
       "<IPython.core.display.Math object>"
      ]
     },
     "metadata": {},
     "output_type": "display_data"
    },
    {
     "data": {
      "text/latex": [
       "$\\displaystyle i_b =-0.02\\;A$"
      ],
      "text/plain": [
       "<IPython.core.display.Math object>"
      ]
     },
     "metadata": {},
     "output_type": "display_data"
    }
   ],
   "source": [
    "# define as N variáveis desconhecidas\n",
    "ia, ib = sp.symbols('i_a, i_b')\n",
    "\n",
    "# define os sistema de N equações\n",
    "eq1 = sp.Eq(200*ia - 50*ib, 0.5)             \n",
    "eq2 = sp.Eq(50*ia + 6*ib, -0.25)  \n",
    "\n",
    "print('Sistema de equações lineares:')\n",
    "display(eq1, eq2) \n",
    "\n",
    "# resolve o sistema\n",
    "soluc = sp.solve((eq1, eq2), dict=True)\n",
    "soluc = soluc[0]\n",
    "\n",
    "ia = soluc[ia]\n",
    "ib = soluc[ib]\n",
    "\n",
    "print('Solução do sistema:')\n",
    "symdisp('i_a =', sp.N(ia,2), 'A')\n",
    "symdisp('i_b =', sp.N(ib,2), 'A')"
   ]
  },
  {
   "cell_type": "markdown",
   "metadata": {},
   "source": [
    "#### Sistema $3\\times3$ de tensões desconhecidas"
   ]
  },
  {
   "cell_type": "code",
   "execution_count": 4,
   "metadata": {
    "ExecuteTime": {
     "end_time": "2022-05-20T12:28:14.839924Z",
     "start_time": "2022-05-20T12:28:14.804943Z"
    }
   },
   "outputs": [
    {
     "name": "stdout",
     "output_type": "stream",
     "text": [
      "Sistema de equações lineares:\n"
     ]
    },
    {
     "data": {
      "text/latex": [
       "$\\displaystyle 17 v_{1} - 5 v_{2} - 2 v_{3} = 100$"
      ],
      "text/plain": [
       "Eq(17*v_1 - 5*v_2 - 2*v_3, 100)"
      ]
     },
     "metadata": {},
     "output_type": "display_data"
    },
    {
     "data": {
      "text/latex": [
       "$\\displaystyle 5 v_{1} - 6 v_{2} = -20$"
      ],
      "text/plain": [
       "Eq(5*v_1 - 6*v_2, -20)"
      ]
     },
     "metadata": {},
     "output_type": "display_data"
    },
    {
     "data": {
      "text/latex": [
       "$\\displaystyle v_{1} + 6 v_{3} = 2$"
      ],
      "text/plain": [
       "Eq(v_1 + 6*v_3, 2)"
      ]
     },
     "metadata": {},
     "output_type": "display_data"
    },
    {
     "name": "stdout",
     "output_type": "stream",
     "text": [
      "Solução do sistema:\n"
     ]
    },
    {
     "data": {
      "text/latex": [
       "$\\displaystyle v_1 =8.9\\;V$"
      ],
      "text/plain": [
       "<IPython.core.display.Math object>"
      ]
     },
     "metadata": {},
     "output_type": "display_data"
    },
    {
     "data": {
      "text/latex": [
       "$\\displaystyle v_2 =11.0\\;V$"
      ],
      "text/plain": [
       "<IPython.core.display.Math object>"
      ]
     },
     "metadata": {},
     "output_type": "display_data"
    },
    {
     "data": {
      "text/latex": [
       "$\\displaystyle v_3 =-1.2\\;V$"
      ],
      "text/plain": [
       "<IPython.core.display.Math object>"
      ]
     },
     "metadata": {},
     "output_type": "display_data"
    }
   ],
   "source": [
    "# define as N variáveis desconhecidas\n",
    "v1, v2, v3 = sp.symbols('v_1, v_2, v_3')\n",
    "\n",
    "# define os sistema de N equações\n",
    "eq1 = sp.Eq(17*v1 - 5*v2 - 2*v3, 100)             \n",
    "eq2 = sp.Eq(5*v1 - 6*v2, -20)  \n",
    "eq3 = sp.Eq(v1 + 6*v3, 2)  \n",
    "\n",
    "print('Sistema de equações lineares:')\n",
    "display(eq1, eq2, eq3) \n",
    "\n",
    "# resolve o sistema\n",
    "soluc = sp.solve((eq1, eq2, eq3), dict=True)\n",
    "soluc = soluc[0]\n",
    "\n",
    "v1 = soluc[v1]\n",
    "v2 = soluc[v2]\n",
    "v3 = soluc[v3]\n",
    "\n",
    "print('Solução do sistema:')\n",
    "symdisp('v_1 =', sp.N(v1,2), 'V')\n",
    "symdisp('v_2 =', sp.N(v2,2), 'V')\n",
    "symdisp('v_3 =', sp.N(v3,2), 'V')"
   ]
  },
  {
   "cell_type": "markdown",
   "metadata": {},
   "source": [
    "#### Sistema $3\\times3$ de correntes desconhecidas"
   ]
  },
  {
   "cell_type": "code",
   "execution_count": 5,
   "metadata": {
    "ExecuteTime": {
     "end_time": "2022-05-20T12:28:14.839924Z",
     "start_time": "2022-05-20T12:28:14.804943Z"
    }
   },
   "outputs": [
    {
     "name": "stdout",
     "output_type": "stream",
     "text": [
      "Sistema de equações lineares:\n"
     ]
    },
    {
     "data": {
      "text/latex": [
       "$\\displaystyle 50 i_{a} - 15 i_{b} - 20 i_{c} = 1$"
      ],
      "text/plain": [
       "Eq(50*i_a - 15*i_b - 20*i_c, 1)"
      ]
     },
     "metadata": {},
     "output_type": "display_data"
    },
    {
     "data": {
      "text/latex": [
       "$\\displaystyle 30 i_{a} + 60 i_{b} = -0.25$"
      ],
      "text/plain": [
       "Eq(30*i_a + 60*i_b, -0.25)"
      ]
     },
     "metadata": {},
     "output_type": "display_data"
    },
    {
     "data": {
      "text/latex": [
       "$\\displaystyle i_{a} + 60 i_{b} = 0.1$"
      ],
      "text/plain": [
       "Eq(i_a + 60*i_b, 0.1)"
      ]
     },
     "metadata": {},
     "output_type": "display_data"
    },
    {
     "name": "stdout",
     "output_type": "stream",
     "text": [
      "Solução do sistema:\n"
     ]
    },
    {
     "data": {
      "text/latex": [
       "$\\displaystyle i_a =-0.012\\;A$"
      ],
      "text/plain": [
       "<IPython.core.display.Math object>"
      ]
     },
     "metadata": {},
     "output_type": "display_data"
    },
    {
     "data": {
      "text/latex": [
       "$\\displaystyle i_b =0.0019\\;A$"
      ],
      "text/plain": [
       "<IPython.core.display.Math object>"
      ]
     },
     "metadata": {},
     "output_type": "display_data"
    },
    {
     "data": {
      "text/latex": [
       "$\\displaystyle i_c =-0.082\\;A$"
      ],
      "text/plain": [
       "<IPython.core.display.Math object>"
      ]
     },
     "metadata": {},
     "output_type": "display_data"
    }
   ],
   "source": [
    "# define as N variáveis desconhecidas\n",
    "ia, ib, ic = sp.symbols('i_a, i_b, i_c')\n",
    "\n",
    "# define os sistema de N equações\n",
    "eq1 = sp.Eq(50*ia - 15*ib - 20*ic, 1)             \n",
    "eq2 = sp.Eq(30*ia + 60*ib, -0.25)  \n",
    "eq3 = sp.Eq(ia + 60*ib, 0.1)  \n",
    "\n",
    "print('Sistema de equações lineares:')\n",
    "display(eq1, eq2, eq3) \n",
    "\n",
    "# resolve o sistema\n",
    "soluc = sp.solve((eq1, eq2, eq3), dict=True)\n",
    "soluc = soluc[0]\n",
    "\n",
    "ia = soluc[ia]\n",
    "ib = soluc[ib]\n",
    "ic = soluc[ic]\n",
    "\n",
    "print('Solução do sistema:')\n",
    "symdisp('i_a =', sp.N(ia,2), 'A')\n",
    "symdisp('i_b =', sp.N(ib,2), 'A')\n",
    "symdisp('i_c =', sp.N(ic,2), 'A')"
   ]
  }
 ],
 "metadata": {
  "jupytext": {
   "encoding": "# -*- coding: utf-8 -*-",
   "formats": "ipynb,py:light"
  },
  "kernelspec": {
   "display_name": "Python 3 (ipykernel)",
   "language": "python",
   "name": "python3"
  },
  "language_info": {
   "codemirror_mode": {
    "name": "ipython",
    "version": 3
   },
   "file_extension": ".py",
   "mimetype": "text/x-python",
   "name": "python",
   "nbconvert_exporter": "python",
   "pygments_lexer": "ipython3",
   "version": "3.9.7"
  },
  "toc": {
   "base_numbering": 1,
   "nav_menu": {},
   "number_sections": true,
   "sideBar": true,
   "skip_h1_title": true,
   "title_cell": "Sumário",
   "title_sidebar": "Contents",
   "toc_cell": true,
   "toc_position": {
    "height": "calc(100% - 180px)",
    "left": "10px",
    "top": "150px",
    "width": "200.475px"
   },
   "toc_section_display": true,
   "toc_window_display": false
  }
 },
 "nbformat": 4,
 "nbformat_minor": 2
}
