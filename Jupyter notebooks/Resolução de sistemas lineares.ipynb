{
 "cells": [
  {
   "cell_type": "markdown",
   "metadata": {},
   "source": [
    "# *Resolução de sistemas lineares*\n",
    " "
   ]
  },
  {
   "cell_type": "code",
   "execution_count": 1,
   "metadata": {
    "ExecuteTime": {
     "end_time": "2022-05-20T11:06:47.962317Z",
     "start_time": "2022-05-20T11:06:45.440138Z"
    }
   },
   "outputs": [],
   "source": [
    "import sympy as sp\n",
    "import numpy as np\n",
    "from utils import symdisp, symplot\n",
    "from IPython.display import Math, Latex, display"
   ]
  },
  {
   "cell_type": "markdown",
   "metadata": {},
   "source": [
    "### Resolvendo um sistema de equações lineares com *sp.solve*"
   ]
  },
  {
   "cell_type": "code",
   "execution_count": 5,
   "metadata": {
    "ExecuteTime": {
     "end_time": "2022-05-20T12:28:14.839924Z",
     "start_time": "2022-05-20T12:28:14.804943Z"
    }
   },
   "outputs": [
    {
     "name": "stdout",
     "output_type": "stream",
     "text": [
      "Sistema de equações lineares:\n"
     ]
    },
    {
     "data": {
      "text/latex": [
       "$\\displaystyle 17 v_{1} - 5 v_{2} = 100$"
      ],
      "text/plain": [
       "Eq(17*v_1 - 5*v_2, 100)"
      ]
     },
     "metadata": {},
     "output_type": "display_data"
    },
    {
     "data": {
      "text/latex": [
       "$\\displaystyle 5 v_{1} - 6 v_{2} = -20$"
      ],
      "text/plain": [
       "Eq(5*v_1 - 6*v_2, -20)"
      ]
     },
     "metadata": {},
     "output_type": "display_data"
    },
    {
     "name": "stdout",
     "output_type": "stream",
     "text": [
      "Solução do sistema:\n"
     ]
    },
    {
     "data": {
      "text/latex": [
       "$\\displaystyle v_1 =9.1\\;V$"
      ],
      "text/plain": [
       "<IPython.core.display.Math object>"
      ]
     },
     "metadata": {},
     "output_type": "display_data"
    },
    {
     "data": {
      "text/latex": [
       "$\\displaystyle v_2 =11.0\\;V$"
      ],
      "text/plain": [
       "<IPython.core.display.Math object>"
      ]
     },
     "metadata": {},
     "output_type": "display_data"
    }
   ],
   "source": [
    "# define as N variáveis desconhecidas\n",
    "v1, v2 = sp.symbols('v_1, v_2')\n",
    "\n",
    "# define os sistema de N equações\n",
    "eq1 = sp.Eq(17*v1 - 5*v2, 100)             \n",
    "eq2 = sp.Eq(5*v1 - 6*v2, -20)  \n",
    "#eq3 = sp.Eq(5*x - 2*y + 3*z, 5)  \n",
    "\n",
    "print('Sistema de equações lineares:')\n",
    "display(eq1, eq2) \n",
    "\n",
    "# resolve o sistema\n",
    "soluc = sp.solve((eq1, eq2), dict=True)\n",
    "soluc = soluc[0]\n",
    "\n",
    "v1 = soluc[v1]\n",
    "v2 = soluc[v2]\n",
    "\n",
    "print('Solução do sistema:')\n",
    "symdisp('v_1 =', sp.N(v1,2), 'V')\n",
    "symdisp('v_2 =', sp.N(v2,2), 'V')\n",
    "#symdisp('z =', z)"
   ]
  }
 ],
 "metadata": {
  "jupytext": {
   "encoding": "# -*- coding: utf-8 -*-",
   "formats": "ipynb,py:light"
  },
  "kernelspec": {
   "display_name": "Python 3 (ipykernel)",
   "language": "python",
   "name": "python3"
  },
  "language_info": {
   "codemirror_mode": {
    "name": "ipython",
    "version": 3
   },
   "file_extension": ".py",
   "mimetype": "text/x-python",
   "name": "python",
   "nbconvert_exporter": "python",
   "pygments_lexer": "ipython3",
   "version": "3.8.8"
  },
  "toc": {
   "base_numbering": 1,
   "nav_menu": {},
   "number_sections": true,
   "sideBar": true,
   "skip_h1_title": true,
   "title_cell": "Sumário",
   "title_sidebar": "Contents",
   "toc_cell": true,
   "toc_position": {
    "height": "calc(100% - 180px)",
    "left": "10px",
    "top": "150px",
    "width": "200.475px"
   },
   "toc_section_display": true,
   "toc_window_display": false
  }
 },
 "nbformat": 4,
 "nbformat_minor": 2
}
