{
  "cells": [
    {
      "cell_type": "markdown",
      "metadata": {
        "id": "view-in-github",
        "colab_type": "text"
      },
      "source": [
        "<a href=\"https://colab.research.google.com/github/edsonportosilva/ElectricCircuits/blob/master/Jupyter%20notebooks/Resolu%C3%A7%C3%A3o%20de%20sistemas%20lineares.ipynb\" target=\"_parent\"><img src=\"https://colab.research.google.com/assets/colab-badge.svg\" alt=\"Open In Colab\"/></a>"
      ]
    },
    {
      "cell_type": "markdown",
      "metadata": {
        "id": "FQT9KaLMXye6"
      },
      "source": [
        "# *Resolução de sistemas lineares*\n",
        ""
      ]
    },
    {
      "cell_type": "code",
      "execution_count": 1,
      "metadata": {
        "ExecuteTime": {
          "end_time": "2022-05-20T11:06:47.962317Z",
          "start_time": "2022-05-20T11:06:45.440138Z"
        },
        "id": "Gys5dAF0XyfN",
        "outputId": "e6dcb731-296b-4539-f317-d85fc956d6d4",
        "colab": {
          "base_uri": "https://localhost:8080/"
        }
      },
      "outputs": [
        {
          "output_type": "stream",
          "name": "stdout",
          "text": [
            "Cloning into 'ElectricCircuits'...\n",
            "remote: Enumerating objects: 1679, done.\u001b[K\n",
            "remote: Counting objects: 100% (1679/1679), done.\u001b[K\n",
            "remote: Compressing objects: 100% (597/597), done.\u001b[K\n",
            "remote: Total 1679 (delta 1087), reused 1644 (delta 1063), pack-reused 0\u001b[K\n",
            "Receiving objects: 100% (1679/1679), 245.78 MiB | 24.33 MiB/s, done.\n",
            "Resolving deltas: 100% (1087/1087), done.\n",
            "Obtaining file:///content/ElectricCircuits\n",
            "  Preparing metadata (setup.py) ... \u001b[?25l\u001b[?25hdone\n",
            "Requirement already satisfied: numpy in /usr/local/lib/python3.10/dist-packages (from CircuitPy==0.1.0) (1.23.5)\n",
            "Requirement already satisfied: scipy in /usr/local/lib/python3.10/dist-packages (from CircuitPy==0.1.0) (1.10.1)\n",
            "Requirement already satisfied: matplotlib in /usr/local/lib/python3.10/dist-packages (from CircuitPy==0.1.0) (3.7.1)\n",
            "Requirement already satisfied: sympy in /usr/local/lib/python3.10/dist-packages (from CircuitPy==0.1.0) (1.12)\n",
            "Requirement already satisfied: contourpy>=1.0.1 in /usr/local/lib/python3.10/dist-packages (from matplotlib->CircuitPy==0.1.0) (1.1.0)\n",
            "Requirement already satisfied: cycler>=0.10 in /usr/local/lib/python3.10/dist-packages (from matplotlib->CircuitPy==0.1.0) (0.11.0)\n",
            "Requirement already satisfied: fonttools>=4.22.0 in /usr/local/lib/python3.10/dist-packages (from matplotlib->CircuitPy==0.1.0) (4.42.0)\n",
            "Requirement already satisfied: kiwisolver>=1.0.1 in /usr/local/lib/python3.10/dist-packages (from matplotlib->CircuitPy==0.1.0) (1.4.4)\n",
            "Requirement already satisfied: packaging>=20.0 in /usr/local/lib/python3.10/dist-packages (from matplotlib->CircuitPy==0.1.0) (23.1)\n",
            "Requirement already satisfied: pillow>=6.2.0 in /usr/local/lib/python3.10/dist-packages (from matplotlib->CircuitPy==0.1.0) (9.4.0)\n",
            "Requirement already satisfied: pyparsing>=2.3.1 in /usr/local/lib/python3.10/dist-packages (from matplotlib->CircuitPy==0.1.0) (3.1.1)\n",
            "Requirement already satisfied: python-dateutil>=2.7 in /usr/local/lib/python3.10/dist-packages (from matplotlib->CircuitPy==0.1.0) (2.8.2)\n",
            "Requirement already satisfied: mpmath>=0.19 in /usr/local/lib/python3.10/dist-packages (from sympy->CircuitPy==0.1.0) (1.3.0)\n",
            "Requirement already satisfied: six>=1.5 in /usr/local/lib/python3.10/dist-packages (from python-dateutil>=2.7->matplotlib->CircuitPy==0.1.0) (1.16.0)\n",
            "Installing collected packages: CircuitPy\n",
            "  Running setup.py develop for CircuitPy\n",
            "Successfully installed CircuitPy-0.1.0\n"
          ]
        }
      ],
      "source": [
        "if 'google.colab' in str(get_ipython()):\n",
        "    ! git clone -b master https://github.com/edsonportosilva/ElectricCircuits\n",
        "    from os import chdir as cd\n",
        "    cd('/content/ElectricCircuits/')\n",
        "    ! pip install -e .\n",
        "\n",
        "import sympy as sp\n",
        "import numpy as np\n",
        "from circuit.utils import symdisp, symplot\n",
        "from IPython.display import Math, Latex, display"
      ]
    },
    {
      "cell_type": "markdown",
      "metadata": {
        "id": "hfuhqHyAXyfO"
      },
      "source": [
        "### Resolvendo um sistema de equações lineares com *sp.solve*"
      ]
    },
    {
      "cell_type": "markdown",
      "metadata": {
        "id": "5sCUnuThXyfP"
      },
      "source": [
        "#### Sistema $2\\times2$ de tensões desconhecidas"
      ]
    },
    {
      "cell_type": "code",
      "execution_count": 5,
      "metadata": {
        "ExecuteTime": {
          "end_time": "2022-05-20T12:28:14.839924Z",
          "start_time": "2022-05-20T12:28:14.804943Z"
        },
        "id": "PfBaUs61XyfP",
        "outputId": "4cb74ef5-8321-408f-8576-1dd48c38899c",
        "colab": {
          "base_uri": "https://localhost:8080/",
          "height": 137
        }
      },
      "outputs": [
        {
          "output_type": "stream",
          "name": "stdout",
          "text": [
            "Sistema de equações lineares:\n"
          ]
        },
        {
          "output_type": "display_data",
          "data": {
            "text/plain": [
              "Eq(3*v_1 + 799*v_2, 20)"
            ],
            "text/latex": "$\\displaystyle 3 v_{1} + 799 v_{2} = 20$"
          },
          "metadata": {}
        },
        {
          "output_type": "display_data",
          "data": {
            "text/plain": [
              "Eq(v_1 + 787*v_2, -60)"
            ],
            "text/latex": "$\\displaystyle v_{1} + 787 v_{2} = -60$"
          },
          "metadata": {}
        },
        {
          "output_type": "stream",
          "name": "stdout",
          "text": [
            "Solução do sistema:\n"
          ]
        },
        {
          "output_type": "display_data",
          "data": {
            "text/plain": [
              "<IPython.core.display.Math object>"
            ],
            "text/latex": "$\\displaystyle v_1 =41.0\\;\\mathrm{V}$"
          },
          "metadata": {}
        },
        {
          "output_type": "display_data",
          "data": {
            "text/plain": [
              "<IPython.core.display.Math object>"
            ],
            "text/latex": "$\\displaystyle v_2 =-0.13\\;\\mathrm{V}$"
          },
          "metadata": {}
        }
      ],
      "source": [
        "# define as N variáveis desconhecidas\n",
        "v1, v2 = sp.symbols('v_1, v_2')\n",
        "\n",
        "# define os sistema de N equações\n",
        "eq1 = sp.Eq(3*v1+799*v2, 20)\n",
        "eq2 = sp.Eq(v1 + 787*v2, -60)\n",
        "\n",
        "print('Sistema de equações lineares:')\n",
        "display(eq1, eq2)\n",
        "\n",
        "# resolve o sistema\n",
        "soluc = sp.solve((eq1, eq2), dict=True)\n",
        "soluc = soluc[0]\n",
        "\n",
        "v1 = soluc[v1]\n",
        "v2 = soluc[v2]\n",
        "\n",
        "print('Solução do sistema:')\n",
        "symdisp('v_1 =', sp.N(v1,2), 'V')\n",
        "symdisp('v_2 =', sp.N(v2,2), 'V')"
      ]
    },
    {
      "cell_type": "markdown",
      "metadata": {
        "id": "TX-F3DKkXyfQ"
      },
      "source": [
        "#### Sistema $2\\times2$ de correntes desconhecidas"
      ]
    },
    {
      "cell_type": "code",
      "execution_count": null,
      "metadata": {
        "ExecuteTime": {
          "end_time": "2022-05-20T12:28:14.839924Z",
          "start_time": "2022-05-20T12:28:14.804943Z"
        },
        "id": "1B83vUJGXyfR",
        "outputId": "7036789e-da37-4ef8-8cde-523a54f05f4a"
      },
      "outputs": [
        {
          "name": "stdout",
          "output_type": "stream",
          "text": [
            "Sistema de equações lineares:\n"
          ]
        },
        {
          "data": {
            "text/latex": [
              "$\\displaystyle 200 i_{a} - 50 i_{b} = 0.5$"
            ],
            "text/plain": [
              "Eq(200*i_a - 50*i_b, 0.5)"
            ]
          },
          "metadata": {},
          "output_type": "display_data"
        },
        {
          "data": {
            "text/latex": [
              "$\\displaystyle 50 i_{a} + 6 i_{b} = -0.25$"
            ],
            "text/plain": [
              "Eq(50*i_a + 6*i_b, -0.25)"
            ]
          },
          "metadata": {},
          "output_type": "display_data"
        },
        {
          "name": "stdout",
          "output_type": "stream",
          "text": [
            "Solução do sistema:\n"
          ]
        },
        {
          "data": {
            "text/latex": [
              "$\\displaystyle i_a =-0.0026\\;A$"
            ],
            "text/plain": [
              "<IPython.core.display.Math object>"
            ]
          },
          "metadata": {},
          "output_type": "display_data"
        },
        {
          "data": {
            "text/latex": [
              "$\\displaystyle i_b =-0.02\\;A$"
            ],
            "text/plain": [
              "<IPython.core.display.Math object>"
            ]
          },
          "metadata": {},
          "output_type": "display_data"
        }
      ],
      "source": [
        "# define as N variáveis desconhecidas\n",
        "ia, ib = sp.symbols('i_a, i_b')\n",
        "\n",
        "# define os sistema de N equações\n",
        "eq1 = sp.Eq(200*ia - 50*ib, 0.5)\n",
        "eq2 = sp.Eq(50*ia + 6*ib, -0.25)\n",
        "\n",
        "print('Sistema de equações lineares:')\n",
        "display(eq1, eq2)\n",
        "\n",
        "# resolve o sistema\n",
        "soluc = sp.solve((eq1, eq2), dict=True)\n",
        "soluc = soluc[0]\n",
        "\n",
        "ia = soluc[ia]\n",
        "ib = soluc[ib]\n",
        "\n",
        "print('Solução do sistema:')\n",
        "symdisp('i_a =', sp.N(ia,2), 'A')\n",
        "symdisp('i_b =', sp.N(ib,2), 'A')"
      ]
    },
    {
      "cell_type": "markdown",
      "metadata": {
        "id": "4B5GES9HXyfS"
      },
      "source": [
        "#### Sistema $3\\times3$ de tensões desconhecidas"
      ]
    },
    {
      "cell_type": "code",
      "execution_count": null,
      "metadata": {
        "ExecuteTime": {
          "end_time": "2022-05-20T12:28:14.839924Z",
          "start_time": "2022-05-20T12:28:14.804943Z"
        },
        "id": "OXaMqGahXyfT",
        "outputId": "5a3adfc7-5c10-4fd1-ffd4-a8d2f124fc64"
      },
      "outputs": [
        {
          "name": "stdout",
          "output_type": "stream",
          "text": [
            "Sistema de equações lineares:\n"
          ]
        },
        {
          "data": {
            "text/latex": [
              "$\\displaystyle 17 v_{1} - 5 v_{2} - 2 v_{3} = 100$"
            ],
            "text/plain": [
              "Eq(17*v_1 - 5*v_2 - 2*v_3, 100)"
            ]
          },
          "metadata": {},
          "output_type": "display_data"
        },
        {
          "data": {
            "text/latex": [
              "$\\displaystyle 5 v_{1} - 6 v_{2} = -20$"
            ],
            "text/plain": [
              "Eq(5*v_1 - 6*v_2, -20)"
            ]
          },
          "metadata": {},
          "output_type": "display_data"
        },
        {
          "data": {
            "text/latex": [
              "$\\displaystyle v_{1} + 6 v_{3} = 2$"
            ],
            "text/plain": [
              "Eq(v_1 + 6*v_3, 2)"
            ]
          },
          "metadata": {},
          "output_type": "display_data"
        },
        {
          "name": "stdout",
          "output_type": "stream",
          "text": [
            "Solução do sistema:\n"
          ]
        },
        {
          "data": {
            "text/latex": [
              "$\\displaystyle v_1 =8.9\\;V$"
            ],
            "text/plain": [
              "<IPython.core.display.Math object>"
            ]
          },
          "metadata": {},
          "output_type": "display_data"
        },
        {
          "data": {
            "text/latex": [
              "$\\displaystyle v_2 =11.0\\;V$"
            ],
            "text/plain": [
              "<IPython.core.display.Math object>"
            ]
          },
          "metadata": {},
          "output_type": "display_data"
        },
        {
          "data": {
            "text/latex": [
              "$\\displaystyle v_3 =-1.2\\;V$"
            ],
            "text/plain": [
              "<IPython.core.display.Math object>"
            ]
          },
          "metadata": {},
          "output_type": "display_data"
        }
      ],
      "source": [
        "# define as N variáveis desconhecidas\n",
        "v1, v2, v3 = sp.symbols('v_1, v_2, v_3')\n",
        "\n",
        "# define os sistema de N equações\n",
        "eq1 = sp.Eq(17*v1 - 5*v2 - 2*v3, 100)\n",
        "eq2 = sp.Eq(5*v1 - 6*v2, -20)\n",
        "eq3 = sp.Eq(v1 + 6*v3, 2)\n",
        "\n",
        "print('Sistema de equações lineares:')\n",
        "display(eq1, eq2, eq3)\n",
        "\n",
        "# resolve o sistema\n",
        "soluc = sp.solve((eq1, eq2, eq3), dict=True)\n",
        "soluc = soluc[0]\n",
        "\n",
        "v1 = soluc[v1]\n",
        "v2 = soluc[v2]\n",
        "v3 = soluc[v3]\n",
        "\n",
        "print('Solução do sistema:')\n",
        "symdisp('v_1 =', sp.N(v1,2), 'V')\n",
        "symdisp('v_2 =', sp.N(v2,2), 'V')\n",
        "symdisp('v_3 =', sp.N(v3,2), 'V')"
      ]
    },
    {
      "cell_type": "markdown",
      "metadata": {
        "id": "A84zfdRBXyfT"
      },
      "source": [
        "#### Sistema $3\\times3$ de correntes desconhecidas"
      ]
    },
    {
      "cell_type": "code",
      "execution_count": 4,
      "metadata": {
        "ExecuteTime": {
          "end_time": "2022-05-20T12:28:14.839924Z",
          "start_time": "2022-05-20T12:28:14.804943Z"
        },
        "id": "HjKwx-rPXyfU",
        "outputId": "34cf0377-42bf-4488-f9a2-63e298b8f354",
        "colab": {
          "base_uri": "https://localhost:8080/",
          "height": 180
        }
      },
      "outputs": [
        {
          "output_type": "stream",
          "name": "stdout",
          "text": [
            "Sistema de equações lineares:\n"
          ]
        },
        {
          "output_type": "display_data",
          "data": {
            "text/plain": [
              "Eq(65*i_a - 5*i_b - 40*i_c, 1)"
            ],
            "text/latex": "$\\displaystyle 65 i_{a} - 5 i_{b} - 40 i_{c} = 1$"
          },
          "metadata": {}
        },
        {
          "output_type": "display_data",
          "data": {
            "text/plain": [
              "Eq(-10*i_a + 30*i_b, -3)"
            ],
            "text/latex": "$\\displaystyle - 10 i_{a} + 30 i_{b} = -3$"
          },
          "metadata": {}
        },
        {
          "output_type": "display_data",
          "data": {
            "text/plain": [
              "Eq(100*i_a - 100*i_b - i_c, 0)"
            ],
            "text/latex": "$\\displaystyle 100 i_{a} - 100 i_{b} - i_{c} = 0$"
          },
          "metadata": {}
        },
        {
          "output_type": "stream",
          "name": "stdout",
          "text": [
            "Solução do sistema:\n"
          ]
        },
        {
          "output_type": "display_data",
          "data": {
            "text/plain": [
              "<IPython.core.display.Math object>"
            ],
            "text/latex": "$\\displaystyle i_a =-0.1538\\;\\mathrm{A}$"
          },
          "metadata": {}
        },
        {
          "output_type": "display_data",
          "data": {
            "text/plain": [
              "<IPython.core.display.Math object>"
            ],
            "text/latex": "$\\displaystyle i_b =-0.1513\\;\\mathrm{A}$"
          },
          "metadata": {}
        },
        {
          "output_type": "display_data",
          "data": {
            "text/plain": [
              "<IPython.core.display.Math object>"
            ],
            "text/latex": "$\\displaystyle i_c =-0.2561\\;\\mathrm{A}$"
          },
          "metadata": {}
        }
      ],
      "source": [
        "# define as N variáveis desconhecidas\n",
        "ia, ib, ic = sp.symbols('i_a, i_b, i_c')\n",
        "\n",
        "# define os sistema de N equações\n",
        "eq1 = sp.Eq(65*ia -5*ib -40*ic, 1)\n",
        "eq2 = sp.Eq(-10*ia + 30*ib, -3)\n",
        "eq3 = sp.Eq(100*ia -100*ib -ic, 0)\n",
        "\n",
        "print('Sistema de equações lineares:')\n",
        "display(eq1, eq2, eq3)\n",
        "\n",
        "# resolve o sistema\n",
        "soluc = sp.solve((eq1, eq2, eq3), dict=True)\n",
        "soluc = soluc[0]\n",
        "\n",
        "ia = soluc[ia]\n",
        "ib = soluc[ib]\n",
        "ic = soluc[ic]\n",
        "\n",
        "\n",
        "print('Solução do sistema:')\n",
        "symdisp('i_a =', sp.N(ia,4), 'A')\n",
        "symdisp('i_b =', sp.N(ib,4), 'A')\n",
        "symdisp('i_c =', sp.N(ic,4), 'A')"
      ]
    },
    {
      "cell_type": "code",
      "execution_count": null,
      "metadata": {
        "id": "VEf8-15G3f3c"
      },
      "outputs": [],
      "source": []
    }
  ],
  "metadata": {
    "colab": {
      "provenance": [],
      "include_colab_link": true
    },
    "jupytext": {
      "encoding": "# -*- coding: utf-8 -*-",
      "formats": "ipynb,py:light"
    },
    "kernelspec": {
      "display_name": "Python 3 (ipykernel)",
      "language": "python",
      "name": "python3"
    },
    "language_info": {
      "codemirror_mode": {
        "name": "ipython",
        "version": 3
      },
      "file_extension": ".py",
      "mimetype": "text/x-python",
      "name": "python",
      "nbconvert_exporter": "python",
      "pygments_lexer": "ipython3",
      "version": "3.9.13"
    },
    "toc": {
      "base_numbering": 1,
      "nav_menu": {},
      "number_sections": true,
      "sideBar": true,
      "skip_h1_title": true,
      "title_cell": "Sumário",
      "title_sidebar": "Contents",
      "toc_cell": true,
      "toc_position": {
        "height": "calc(100% - 180px)",
        "left": "10px",
        "top": "150px",
        "width": "200.475px"
      },
      "toc_section_display": true,
      "toc_window_display": false
    }
  },
  "nbformat": 4,
  "nbformat_minor": 0
}