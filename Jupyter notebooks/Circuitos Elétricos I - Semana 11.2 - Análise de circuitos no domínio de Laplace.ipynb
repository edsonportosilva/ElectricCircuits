{
  "cells": [
    {
      "cell_type": "markdown",
      "metadata": {
        "id": "view-in-github",
        "colab_type": "text"
      },
      "source": [
        "<a href=\"https://colab.research.google.com/github/edsonportosilva/ElectricCircuits/blob/master/Jupyter%20notebooks/Circuitos%20El%C3%A9tricos%20I%20-%20Semana%2011.2%20-%20An%C3%A1lise%20de%20circuitos%20no%20dom%C3%ADnio%20de%20Laplace.ipynb\" target=\"_parent\"><img src=\"https://colab.research.google.com/assets/colab-badge.svg\" alt=\"Open In Colab\"/></a>"
      ]
    },
    {
      "cell_type": "code",
      "execution_count": null,
      "metadata": {
        "id": "tv8FnmLnV8mI",
        "outputId": "dc8322f3-39e1-40b5-a165-a849fa132961"
      },
      "outputs": [
        {
          "data": {
            "text/html": [
              "\n",
              "<style>\n",
              ".output_png {\n",
              "    display: table-cell;\n",
              "    text-align: center;\n",
              "    vertical-align: middle;\n",
              "}\n",
              "</style>\n"
            ],
            "text/plain": [
              "<IPython.core.display.HTML object>"
            ]
          },
          "execution_count": 1,
          "metadata": {},
          "output_type": "execute_result"
        }
      ],
      "source": [
        "from IPython.core.display import HTML\n",
        "HTML(\"\"\"\n",
        "<style>\n",
        ".output_png {\n",
        "    display: table-cell;\n",
        "    text-align: center;\n",
        "    vertical-align: middle;\n",
        "}\n",
        "</style>\n",
        "\"\"\")\n",
        "\n",
        "if 'google.colab' in str(get_ipython()):    \n",
        "    ! git clone -b master https://github.com/edsonportosilva/ElectricCircuits\n",
        "    from os import chdir as cd\n",
        "    cd('/content/ElectricCircuits/Jupyter notebooks')"
      ]
    },
    {
      "cell_type": "code",
      "execution_count": null,
      "metadata": {
        "id": "LNKjNQzHV8mL"
      },
      "outputs": [],
      "source": [
        "import matplotlib.pyplot as plt\n",
        "import numpy as np\n",
        "import sympy as sp\n",
        "from utils import round_expr, symdisp, symplot\n",
        "\n",
        "from sympy.polys.partfrac import apart\n",
        "\n",
        "# temp workaround\n",
        "import warnings\n",
        "from matplotlib import MatplotlibDeprecationWarning\n",
        "warnings.filterwarnings('ignore', category=MatplotlibDeprecationWarning)\n",
        "\n",
        "plt.rcParams['figure.figsize'] = 6, 4\n",
        "plt.rcParams['legend.fontsize'] = 13\n",
        "plt.rcParams['lines.linewidth'] = 2\n",
        "plt.rcParams['axes.grid'] = False"
      ]
    },
    {
      "cell_type": "code",
      "execution_count": null,
      "metadata": {
        "id": "Dw_2I2F8V8mM"
      },
      "outputs": [],
      "source": [
        "# transformada de Laplace\n",
        "def L(f,t,s):\n",
        "    return sp.laplace_transform(f, t, s, noconds=True)\n",
        "\n",
        "# transformada inversa de Laplace\n",
        "def invL(F,s,t):\n",
        "    return sp.re(sp.inverse_laplace_transform(F, s, t, noconds=True))\n",
        "\n",
        "# funções para auxílio na expansão em frações parciais\n",
        "def adjustCoeff(expr):    \n",
        "    coeff = expr.as_numer_denom()\n",
        "    c0 = sp.poly(coeff[1].cancel()).coeffs()[0]\n",
        "    \n",
        "    return (coeff[0].cancel()/c0)/(coeff[1].cancel()/c0)\n",
        "\n",
        "def partFrac(expr, Ndigits):\n",
        "    expr = expr.cancel()\n",
        "    expr = apart(adjustCoeff(expr), s, full=True).doit()\n",
        "    \n",
        "    return sp.N(expr, Ndigits)\n",
        "\n",
        "sp.init_printing()"
      ]
    },
    {
      "cell_type": "markdown",
      "metadata": {
        "id": "P36uXgAVV8mN"
      },
      "source": [
        "#### Definindo algumas variáveis simbólicas de interesse"
      ]
    },
    {
      "cell_type": "code",
      "execution_count": null,
      "metadata": {
        "id": "ku-GxaZAV8mO"
      },
      "outputs": [],
      "source": [
        "t, s  = sp.symbols('t, s')\n",
        "a     = sp.symbols('a', real=True, positive=True)\n",
        "omega = sp.symbols('omega', real=True)"
      ]
    },
    {
      "cell_type": "markdown",
      "metadata": {
        "id": "9aIpp0HdV8mP"
      },
      "source": [
        "# *Circuitos Elétricos I - Semana 11*"
      ]
    },
    {
      "cell_type": "markdown",
      "metadata": {
        "id": "CDtctZKQV8mP"
      },
      "source": [
        "### A integral de Laplace\n",
        "\n",
        "Seja $f(t)$ uma função definida no intervalo $0\\leq t \\leq \\infty$, com $t$ e $f(t)$ reais, então a função $F(s)$, definida pela integral de Laplace\n",
        "\n",
        "$$\\large\n",
        "\\begin{equation}\n",
        "F(s)=\\mathcal{L}\\{f(t)\\}=\\int_{0}^{\\infty} f(t) e^{-s t} dt,\\;\\; s \\in \\mathbb{C},\n",
        "\\end{equation}\n",
        "$$\n",
        "\n",
        "é conhecida como a transformada de Laplace de $f(t)$."
      ]
    },
    {
      "cell_type": "markdown",
      "metadata": {
        "id": "B586f5MPV8mQ"
      },
      "source": [
        "## Leis de Kirchhoff no domínio de Laplace\n",
        "\n",
        "\n",
        "### Lei de Kirchhoff das tensões (LKT)\n",
        "\n",
        "Para qualquer malha fechada no circuito:\n",
        "\n",
        "Domínio do tempo: $$v_{1}(t)+v_{2}(t)+\\cdots+v_{n}(t)=0$$\n",
        "\n",
        "Domínio de Laplace: $$V_{1}(s)+V_{2}(s)+\\cdots+V_{n}(s)=0$$\n",
        "\n",
        "### Lei de Kirchhoff das correntes (LKC)\n",
        "\n",
        "Para qualquer nó no circuito:\n",
        "\n",
        "Domínio do tempo: $$i_{1}(t)+i_{2}(t)+\\cdots+i_{n}(t)=0$$\n",
        "\n",
        "Domínio de Laplace: $$I_{1}(s)+I_{2}(s)+\\cdots+I_{n}(s)=0$$\n"
      ]
    },
    {
      "cell_type": "markdown",
      "metadata": {
        "id": "l9gurJgpV8mQ"
      },
      "source": [
        "## Representação de elementos ideais de circuitos no domínio de Laplace\n",
        "\n",
        "$$\n",
        "\\begin{array}{|c|c|c|c|} \n",
        "\\hline\n",
        "\\text{Elemento ideal} & \\text{ Tensão vs corrente (tempo) } & \\text{ Tensão vs corrente (Laplace)} & \\text{Impedância } Z(s) = V(s)/I(s)\\\\\n",
        "\\hline \\text{Resistor} & v(t)=R i(t) & V(s)=R I(s) & Z_{R}(s)=R \\\\\n",
        "\\text{Indutor} & v(t)=L \\frac{d i(t)}{d t} & V(s)=s L I(s)-L i(0) & Z_{L}(s)=s L \\\\\n",
        "\\text{Capacitor} & v(t)=\\frac{1}{C} \\int_{0}^{t} i(t)+v(0) & V(s)=\\frac{I(s)}{s C}+\\frac{v(0)}{s} & Z_{C}(s)=\\frac{1}{s C} \\\\ \\hline\n",
        "\\end{array}\n",
        "$$"
      ]
    },
    {
      "cell_type": "markdown",
      "metadata": {
        "id": "K6-Zfa7fV8mR"
      },
      "source": [
        "### Problema 1\n",
        "\n",
        "Não existe nenhuma energia armazenada no circuito da figura a seguir no momento em que a fonte de corrente é ligada.\n",
        "\n",
        "<img src=\"https://github.com/edsonportosilva/ElectricCircuits/blob/master/Jupyter%20notebooks/figures/J14C1.png?raw=1\" width=\"500\">\n",
        "\n",
        "a. Determine $I_a(s)$ e $I_b(s)$.\\\n",
        "b. Determine $i_a(t)$ e $i_b(t)$.\\\n",
        "c. Determine $V_a(s)$, $V_b(s)$ e $V_c(s)$.\\\n",
        "d. Determine $v_a(t)$, $v_b(t)$ e $v_c(t)$."
      ]
    },
    {
      "cell_type": "markdown",
      "metadata": {
        "id": "gGG0jl4QV8mR"
      },
      "source": [
        "<img src=\"https://github.com/edsonportosilva/ElectricCircuits/blob/master/Jupyter%20notebooks/figures/J14C2.png?raw=1\" width=\"500\">"
      ]
    },
    {
      "cell_type": "markdown",
      "metadata": {
        "id": "xDltYQcWV8mS"
      },
      "source": [
        "a. Determinando $I_a(s)$ e $I_b(s)$:"
      ]
    },
    {
      "cell_type": "code",
      "execution_count": null,
      "metadata": {
        "id": "_cqvt3GAV8mS",
        "outputId": "4030ae96-412d-4a09-c20b-471297915bd8"
      },
      "outputs": [
        {
          "name": "stdout",
          "output_type": "stream",
          "text": [
            "Correntes de malha no domínio de Laplace: \n",
            "\n"
          ]
        },
        {
          "data": {
            "text/latex": [
              "$\\displaystyle I_1(s) =\\frac{4}{s}\\;As$"
            ],
            "text/plain": [
              "<IPython.core.display.Math object>"
            ]
          },
          "metadata": {},
          "output_type": "display_data"
        },
        {
          "data": {
            "text/latex": [
              "$\\displaystyle I_2(s) =\\frac{4 s + 8}{s^{2} + 6 s}\\;As$"
            ],
            "text/plain": [
              "<IPython.core.display.Math object>"
            ]
          },
          "metadata": {},
          "output_type": "display_data"
        },
        {
          "data": {
            "text/latex": [
              "$\\displaystyle I_3(s) =\\frac{16}{s^{2} + 6 s}\\;As$"
            ],
            "text/plain": [
              "<IPython.core.display.Math object>"
            ]
          },
          "metadata": {},
          "output_type": "display_data"
        }
      ],
      "source": [
        "I2, I3, s = sp.symbols('I2, I3, s')\n",
        "\n",
        "# define os sistema de equações\n",
        "eq1 = sp.Eq((4 + s)*I2 - 2*I3, 4)             \n",
        "eq2 = sp.Eq(-2*s*I2 + s*(4 + s)*I3, 8)  \n",
        "\n",
        "# resolve o sistema\n",
        "soluc = sp.solve([eq1, eq2],[I2, I3], dict=True)\n",
        "soluc\n",
        "\n",
        "I2 = [sol[I2] for sol in soluc]\n",
        "I3 = [sol[I3] for sol in soluc]\n",
        "\n",
        "I1 = 4/s\n",
        "I2 = I2[0]\n",
        "I3 = I3[0]\n",
        "\n",
        "print('Correntes de malha no domínio de Laplace: \\n')\n",
        "symdisp('I_1(s) =', I1, 'As')\n",
        "symdisp('I_2(s) =', I2, 'As')\n",
        "symdisp('I_3(s) =', I3, 'As')"
      ]
    },
    {
      "cell_type": "code",
      "execution_count": null,
      "metadata": {
        "id": "hJ_WRU6TV8mS",
        "outputId": "8d8ab3be-6676-45da-87f3-44deeadfe41e"
      },
      "outputs": [
        {
          "data": {
            "text/latex": [
              "$\\displaystyle I_a(s) =\\frac{16}{s \\left(s + 6\\right)}\\;As$"
            ],
            "text/plain": [
              "<IPython.core.display.Math object>"
            ]
          },
          "metadata": {},
          "output_type": "display_data"
        }
      ],
      "source": [
        "# Calculando Ia\n",
        "Ia = I1-I2\n",
        "Ia = Ia.simplify()\n",
        "\n",
        "symdisp('I_a(s) =', Ia, 'As')"
      ]
    },
    {
      "cell_type": "code",
      "execution_count": null,
      "metadata": {
        "id": "AN0_8_SfV8mT",
        "outputId": "d7c2cc9b-2642-49e6-a5a1-f01430d1c684"
      },
      "outputs": [
        {
          "data": {
            "text/latex": [
              "$\\displaystyle I_b(s) =\\frac{4 \\left(s + 2\\right)}{s \\left(s + 6\\right)}\\;As$"
            ],
            "text/plain": [
              "<IPython.core.display.Math object>"
            ]
          },
          "metadata": {},
          "output_type": "display_data"
        }
      ],
      "source": [
        "# Calculando Ib\n",
        "Ib = I2\n",
        "\n",
        "symdisp('I_b(s) =', Ib.simplify(), 'As')"
      ]
    },
    {
      "cell_type": "markdown",
      "metadata": {
        "id": "EHZTTuJhV8mT"
      },
      "source": [
        "b. Determinando $i_a(t)$ e $i_b(t)$"
      ]
    },
    {
      "cell_type": "code",
      "execution_count": null,
      "metadata": {
        "id": "ZNcZYGocV8mT",
        "outputId": "f6f800bd-0e60-42f4-8eb7-5f8a1788bf70"
      },
      "outputs": [
        {
          "data": {
            "text/latex": [
              "$\\displaystyle I_a(s) =- \\frac{8}{3 \\left(s + 6\\right)} + \\frac{8}{3 s}\\;As$"
            ],
            "text/plain": [
              "<IPython.core.display.Math object>"
            ]
          },
          "metadata": {},
          "output_type": "display_data"
        }
      ],
      "source": [
        "symdisp('I_a(s) =', Ia.apart(), 'As')"
      ]
    },
    {
      "cell_type": "code",
      "execution_count": null,
      "metadata": {
        "id": "v00DIDXmV8mU",
        "outputId": "a3a83404-7355-401c-c378-da8ab660d3bb"
      },
      "outputs": [
        {
          "data": {
            "text/latex": [
              "$\\displaystyle i_a(t) =\\frac{8 \\left(e^{6 t} - 1\\right) e^{- 6 t} \\theta\\left(t\\right)}{3}\\;A$"
            ],
            "text/plain": [
              "<IPython.core.display.Math object>"
            ]
          },
          "metadata": {},
          "output_type": "display_data"
        }
      ],
      "source": [
        "t = sp.symbols('t',real=True)\n",
        "\n",
        "ia = invL(Ia.apart(),s,t)\n",
        "\n",
        "symdisp('i_a(t) =', ia, 'A')"
      ]
    },
    {
      "cell_type": "code",
      "execution_count": null,
      "metadata": {
        "id": "ezbWSo4JV8mU",
        "outputId": "efa875a1-28d8-4bd4-d6a0-bb9f2f534a4c"
      },
      "outputs": [
        {
          "data": {
            "text/latex": [
              "$\\displaystyle I_b(s) =\\frac{8}{3 \\left(s + 6\\right)} + \\frac{4}{3 s}\\;As$"
            ],
            "text/plain": [
              "<IPython.core.display.Math object>"
            ]
          },
          "metadata": {},
          "output_type": "display_data"
        }
      ],
      "source": [
        "symdisp('I_b(s) =', Ib.apart(), 'As')"
      ]
    },
    {
      "cell_type": "code",
      "execution_count": null,
      "metadata": {
        "id": "UOF5aQz6V8mU",
        "outputId": "84cef58c-4fb4-499e-a20b-17c322da4c56"
      },
      "outputs": [
        {
          "data": {
            "text/latex": [
              "$\\displaystyle i_b(t) =\\frac{4 \\left(e^{6 t} + 2\\right) e^{- 6 t} \\theta\\left(t\\right)}{3}\\;A$"
            ],
            "text/plain": [
              "<IPython.core.display.Math object>"
            ]
          },
          "metadata": {},
          "output_type": "display_data"
        }
      ],
      "source": [
        "ib = invL(Ib,s,t)\n",
        "\n",
        "symdisp('i_b(t) =', ib, 'A')"
      ]
    },
    {
      "cell_type": "markdown",
      "metadata": {
        "id": "uLBVs4hgV8mV"
      },
      "source": [
        "c. Determinando $V_a(s)$, $V_b(s)$ e $V_c(s)$."
      ]
    },
    {
      "cell_type": "code",
      "execution_count": null,
      "metadata": {
        "id": "cM_PfiQgV8mV",
        "outputId": "b4926814-f833-4531-80d7-90851ee0a116"
      },
      "outputs": [
        {
          "data": {
            "text/latex": [
              "$\\displaystyle V_a(s) =\\frac{400 \\left(s + 2\\right)}{s^{2} \\left(s + 6\\right)}\\;Vs$"
            ],
            "text/plain": [
              "<IPython.core.display.Math object>"
            ]
          },
          "metadata": {},
          "output_type": "display_data"
        },
        {
          "data": {
            "text/latex": [
              "$\\displaystyle V_b(s) =\\frac{400 \\left(2 - s\\right)}{s^{2} \\left(s + 6\\right)}\\;Vs$"
            ],
            "text/plain": [
              "<IPython.core.display.Math object>"
            ]
          },
          "metadata": {},
          "output_type": "display_data"
        },
        {
          "data": {
            "text/latex": [
              "$\\displaystyle V_c(s) =\\frac{400 \\left(s + 2\\right)}{s^{2} \\left(s + 6\\right)}\\;Vs$"
            ],
            "text/plain": [
              "<IPython.core.display.Math object>"
            ]
          },
          "metadata": {},
          "output_type": "display_data"
        }
      ],
      "source": [
        "Va = (100/s)*I2\n",
        "Vb = (100/s)*(I3-I2)\n",
        "Vc = (100/s)*(I1-I3)\n",
        "\n",
        "symdisp('V_a(s) =', Va.simplify(), 'Vs')\n",
        "symdisp('V_b(s) =', Vb.simplify(), 'Vs')\n",
        "symdisp('V_c(s) =', Vc.simplify(), 'Vs')"
      ]
    },
    {
      "cell_type": "code",
      "execution_count": null,
      "metadata": {
        "id": "g_9GVkpGV8mV",
        "outputId": "ab8cec0c-ce73-4123-f7e9-ec7d59a7f8ef"
      },
      "outputs": [
        {
          "data": {
            "text/latex": [
              "$\\displaystyle V_a(s) =- \\frac{400}{9 \\left(s + 6\\right)} + \\frac{400}{9 s} + \\frac{400}{3 s^{2}}\\;Vs$"
            ],
            "text/plain": [
              "<IPython.core.display.Math object>"
            ]
          },
          "metadata": {},
          "output_type": "display_data"
        }
      ],
      "source": [
        "symdisp('V_a(s) =', Va.apart(), 'Vs')"
      ]
    },
    {
      "cell_type": "code",
      "execution_count": null,
      "metadata": {
        "id": "A8iyxQ2FV8mX",
        "outputId": "f4c09050-1194-451e-8ef3-1859ff2881cc"
      },
      "outputs": [
        {
          "data": {
            "text/latex": [
              "$\\displaystyle V_b(s) =\\frac{800}{9 \\left(s + 6\\right)} - \\frac{800}{9 s} + \\frac{400}{3 s^{2}}\\;Vs$"
            ],
            "text/plain": [
              "<IPython.core.display.Math object>"
            ]
          },
          "metadata": {},
          "output_type": "display_data"
        }
      ],
      "source": [
        "symdisp('V_b(s) =', Vb.apart(), 'Vs')"
      ]
    },
    {
      "cell_type": "code",
      "execution_count": null,
      "metadata": {
        "id": "rpNyaONeV8mX",
        "outputId": "4fa0d8f2-e5fc-461d-ec55-6368e6624689"
      },
      "outputs": [
        {
          "data": {
            "text/latex": [
              "$\\displaystyle V_c(s) =- \\frac{400}{9 \\left(s + 6\\right)} + \\frac{400}{9 s} + \\frac{400}{3 s^{2}}\\;Vs$"
            ],
            "text/plain": [
              "<IPython.core.display.Math object>"
            ]
          },
          "metadata": {},
          "output_type": "display_data"
        }
      ],
      "source": [
        "symdisp('V_c(s) =', Vc.apart(), 'Vs')"
      ]
    },
    {
      "cell_type": "markdown",
      "metadata": {
        "id": "0IpgQuDTV8mX"
      },
      "source": [
        "d. Determinando $v_a(t)$, $v_b(t)$ e $v_c(t)$."
      ]
    },
    {
      "cell_type": "code",
      "execution_count": null,
      "metadata": {
        "id": "nl4SxN48V8mY",
        "outputId": "e79c9ac4-49e9-4e2e-e72e-14bd193589ae"
      },
      "outputs": [
        {
          "data": {
            "text/latex": [
              "$\\displaystyle v_a(t) =\\left(133.33 t + 44.44 - 44.44 e^{- 6 t}\\right) \\theta\\left(t, 0.5\\right)\\;V$"
            ],
            "text/plain": [
              "<IPython.core.display.Math object>"
            ]
          },
          "metadata": {},
          "output_type": "display_data"
        }
      ],
      "source": [
        "va = ((-400/9)*sp.exp(-6*t) + (400/9) + (400/3)*t)*sp.Heaviside(t)\n",
        "\n",
        "symdisp('v_a(t) =', round_expr(va,2), 'V')"
      ]
    },
    {
      "cell_type": "code",
      "execution_count": null,
      "metadata": {
        "id": "vVQqhyUPV8mY",
        "outputId": "f65bacb2-667c-4659-c305-1da5225c0434"
      },
      "outputs": [
        {
          "data": {
            "text/latex": [
              "$\\displaystyle v_b(t) =\\left(133.33 t - 88.89 + 88.89 e^{- 6 t}\\right) \\theta\\left(t, 0.5\\right)\\;V$"
            ],
            "text/plain": [
              "<IPython.core.display.Math object>"
            ]
          },
          "metadata": {},
          "output_type": "display_data"
        }
      ],
      "source": [
        "vb = ((800/9)*sp.exp(-6*t) - (800/9) + (400/3)*t)*sp.Heaviside(t)\n",
        "\n",
        "symdisp('v_b(t) =', round_expr(vb,2), 'V')"
      ]
    },
    {
      "cell_type": "code",
      "execution_count": null,
      "metadata": {
        "id": "-yZQ4Q3aV8mY",
        "outputId": "3f4612e7-908d-4d4c-fc1b-3dfa41ccc465"
      },
      "outputs": [
        {
          "data": {
            "text/latex": [
              "$\\displaystyle v_c(t) =\\left(133.33 t + 44.44 - 44.44 e^{- 6 t}\\right) \\theta\\left(t, 0.5\\right)\\;V$"
            ],
            "text/plain": [
              "<IPython.core.display.Math object>"
            ]
          },
          "metadata": {},
          "output_type": "display_data"
        }
      ],
      "source": [
        "vc = va\n",
        "\n",
        "symdisp('v_c(t) =', round_expr(vc,2), 'V')"
      ]
    },
    {
      "cell_type": "code",
      "execution_count": null,
      "metadata": {
        "id": "sjtr_EYmV8mY",
        "outputId": "9e9983f6-d5c4-4035-9a08-99b6c3d3c08f"
      },
      "outputs": [
        {
          "data": {
            "image/png": "[encoded data removed]",
            "text/plain": [
              "<Figure size 432x288 with 1 Axes>"
            ]
          },
          "execution_count": 19,
          "metadata": {},
          "output_type": "execute_result"
        }
      ],
      "source": [
        "# plota funções no domínio do tempo\n",
        "intervalo = np.arange(-4, 10, 0.1)\n",
        "symplot(t, [va, vb, vc], intervalo, ['va(t)','vb(t)','vc(t)'])"
      ]
    },
    {
      "cell_type": "markdown",
      "metadata": {
        "id": "7b59ix5LV8mZ"
      },
      "source": [
        "Pergunta: estas soluções fazem sentido para o circuito analisado?"
      ]
    },
    {
      "cell_type": "markdown",
      "metadata": {
        "id": "BUPN6YahV8mZ"
      },
      "source": [
        "### Problema 2\n",
        "\n",
        "Não existe nenhuma energia armazenada no circuito da figura a seguir no momento em que a fonte de tensão é conectada.\n",
        "\n",
        "<img src=\"https://github.com/edsonportosilva/ElectricCircuits/blob/master/Jupyter%20notebooks/figures/J14C3.png?raw=1\" width=\"600\">\n",
        "\n",
        "a. Determine $V_0(s)$.\\\n",
        "b. Determine $v_0(t)$."
      ]
    },
    {
      "cell_type": "markdown",
      "metadata": {
        "id": "lC6CYIRgV8mZ"
      },
      "source": [
        "<img src=\"https://github.com/edsonportosilva/ElectricCircuits/blob/master/Jupyter%20notebooks/figures/J14C4.png?raw=1\" width=\"600\">"
      ]
    },
    {
      "cell_type": "code",
      "execution_count": null,
      "metadata": {
        "id": "DZBOCABOV8mZ"
      },
      "outputs": [],
      "source": [
        "Ia, Ib, s = sp.symbols('Ia, Ib, s')\n",
        "\n",
        "# define o sistema de equações\n",
        "eq1 = sp.Eq(10*Ia + (s + 250/s)*Ib, 35/s)             \n",
        "eq2 = sp.Eq(Ia - (1 + 0.4*s)*Ib, 0)\n",
        "\n",
        "# resolve o sistema\n",
        "soluc = sp.solve([eq1, eq2],[Ia, Ib], dict=True)\n",
        "soluc\n",
        "\n",
        "Ia = [sol[Ia] for sol in soluc]\n",
        "Ib = [sol[Ib] for sol in soluc]\n",
        "\n",
        "Ia = Ia[0]\n",
        "Ib = Ib[0]"
      ]
    },
    {
      "cell_type": "code",
      "execution_count": null,
      "metadata": {
        "id": "Wr8eYzwSV8mZ",
        "outputId": "7064c064-edc2-45b7-e484-a8a17b530772"
      },
      "outputs": [
        {
          "data": {
            "text/latex": [
              "$\\displaystyle I_a(s) =\\frac{14.0 s + 35.0}{5.0 s^{2} + 10.0 s + 250.0}\\;As$"
            ],
            "text/plain": [
              "<IPython.core.display.Math object>"
            ]
          },
          "metadata": {},
          "output_type": "display_data"
        }
      ],
      "source": [
        "symdisp('I_a(s) =', Ia.simplify(), 'As')"
      ]
    },
    {
      "cell_type": "code",
      "execution_count": null,
      "metadata": {
        "id": "YHcmTWQ1V8mZ",
        "outputId": "10925e2a-020d-48da-d5df-d885698b39d2"
      },
      "outputs": [
        {
          "data": {
            "text/latex": [
              "$\\displaystyle I_b(s) =\\frac{7.0}{s^{2} + 2.0 s + 50.0}\\;As$"
            ],
            "text/plain": [
              "<IPython.core.display.Math object>"
            ]
          },
          "metadata": {},
          "output_type": "display_data"
        }
      ],
      "source": [
        "symdisp('I_b(s) =', Ib.simplify(), 'As')"
      ]
    },
    {
      "cell_type": "code",
      "execution_count": null,
      "metadata": {
        "id": "davxp05nV8ma",
        "outputId": "cb0b692f-6f4e-40df-8892-a07efe3420e2"
      },
      "outputs": [
        {
          "data": {
            "text/latex": [
              "$\\displaystyle V_0(s) =\\frac{147.0 s^{2} + 280.0 s + 8750.0}{s \\left(5.0 s^{2} + 10.0 s + 250.0\\right)}\\;Vs$"
            ],
            "text/plain": [
              "<IPython.core.display.Math object>"
            ]
          },
          "metadata": {},
          "output_type": "display_data"
        }
      ],
      "source": [
        "V0 = 35/s - 2*Ia\n",
        "\n",
        "symdisp('V_0(s) =', V0.simplify(), 'Vs')"
      ]
    },
    {
      "cell_type": "code",
      "execution_count": null,
      "metadata": {
        "id": "0p9jLv8IV8ma",
        "outputId": "90d19806-8085-4a90-a37f-fb42f638f84a"
      },
      "outputs": [
        {
          "data": {
            "text/latex": [
              "$\\displaystyle V_0(s) =\\frac{-2.8 - 0.6 i}{s + 1.0 + 7.0 i} + \\frac{-2.8 + 0.6 i}{s + 1.0 - 7.0 i} + \\frac{35.0}{s}\\;Vs$"
            ],
            "text/plain": [
              "<IPython.core.display.Math object>"
            ]
          },
          "metadata": {},
          "output_type": "display_data"
        }
      ],
      "source": [
        "symdisp('V_0(s) =', partFrac(V0, 4), 'Vs')"
      ]
    },
    {
      "cell_type": "code",
      "execution_count": null,
      "metadata": {
        "id": "m5NcG_8vV8ma",
        "outputId": "84a50bd6-e0d3-4c9c-f0bd-6b2b207ea8b1"
      },
      "outputs": [
        {
          "data": {
            "text/plain": [
              "array([-1.+7.j, -1.-7.j,  0.+0.j])"
            ]
          },
          "execution_count": 25,
          "metadata": {},
          "output_type": "execute_result"
        }
      ],
      "source": [
        "raizes = np.roots([5, 10, 250, 0])\n",
        "raizes"
      ]
    },
    {
      "cell_type": "code",
      "execution_count": null,
      "metadata": {
        "id": "X0iMBpDJV8ma",
        "outputId": "b5fb41f1-4836-4c6e-8ee2-98338b86be6a"
      },
      "outputs": [
        {
          "data": {
            "text/latex": [
              "$\\displaystyle F(s) =\\frac{K}{s + σ + i ω} + \\frac{\\overline{K}}{s + σ - i ω}\\; $"
            ],
            "text/plain": [
              "<IPython.core.display.Math object>"
            ]
          },
          "metadata": {},
          "output_type": "display_data"
        }
      ],
      "source": [
        "K    = sp.symbols('K')\n",
        "σ, ω = sp.symbols('σ, ω', real=True)\n",
        "\n",
        "j = sp.I\n",
        "\n",
        "F = K/(s + σ + ω*j) + sp.conjugate(K)/(s + σ - ω*j)\n",
        "\n",
        "symdisp('F(s) =', F)"
      ]
    },
    {
      "cell_type": "code",
      "execution_count": null,
      "metadata": {
        "id": "YqiiFk5IV8mb",
        "outputId": "226ad186-5ae7-4717-abd1-aab4c8644272"
      },
      "outputs": [
        {
          "data": {
            "text/latex": [
              "$\\displaystyle f(t) =\\left(2 \\sin{\\left(t ω \\right)} \\operatorname{im}{\\left(K\\right)} + 2 \\cos{\\left(t ω \\right)} \\operatorname{re}{\\left(K\\right)}\\right) e^{- t σ} \\theta\\left(t\\right)\\; $"
            ],
            "text/plain": [
              "<IPython.core.display.Math object>"
            ]
          },
          "metadata": {},
          "output_type": "display_data"
        }
      ],
      "source": [
        "symdisp('f(t) =', invL(F,s,t))"
      ]
    },
    {
      "cell_type": "code",
      "execution_count": null,
      "metadata": {
        "id": "LjlGrdWkV8mb",
        "outputId": "808ed847-ca7e-4271-a4bf-cb2b585dce0d"
      },
      "outputs": [
        {
          "data": {
            "text/latex": [
              "$\\displaystyle v_0(t) =\\left(\\left(- 1.2 \\sin{\\left(7 t \\right)} - 5.6 \\cos{\\left(7 t \\right)}\\right) e^{- t} + 35\\right) \\theta\\left(t\\right)\\; $"
            ],
            "text/plain": [
              "<IPython.core.display.Math object>"
            ]
          },
          "metadata": {},
          "output_type": "display_data"
        }
      ],
      "source": [
        "v0 = (35 + sp.exp(-t)*(-5.6*sp.cos(7*t)-1.2*sp.sin(7*t)))*sp.Heaviside(t)\n",
        "\n",
        "symdisp('v_0(t) =', v0)"
      ]
    },
    {
      "cell_type": "code",
      "execution_count": null,
      "metadata": {
        "id": "ivadXkoyV8mb",
        "outputId": "dab9f945-42a3-40f6-e978-b5455a739564"
      },
      "outputs": [
        {
          "data": {
            "image/png": "[encoded data removed]",
            "text/plain": [
              "<Figure size 432x288 with 1 Axes>"
            ]
          },
          "execution_count": 29,
          "metadata": {},
          "output_type": "execute_result"
        }
      ],
      "source": [
        "# plota funções no domínio do tempo\n",
        "intervalo = np.arange(-4, 10, 0.05)\n",
        "symplot(t, v0, intervalo, 'v0(t)')"
      ]
    }
  ],
  "metadata": {
    "jupytext": {
      "encoding": "# -*- coding: utf-8 -*-",
      "formats": "ipynb,py:light"
    },
    "kernelspec": {
      "display_name": "Python 3 (ipykernel)",
      "language": "python",
      "name": "python3"
    },
    "language_info": {
      "codemirror_mode": {
        "name": "ipython",
        "version": 3
      },
      "file_extension": ".py",
      "mimetype": "text/x-python",
      "name": "python",
      "nbconvert_exporter": "python",
      "pygments_lexer": "ipython3",
      "version": "3.9.7"
    },
    "toc": {
      "base_numbering": 1,
      "nav_menu": {},
      "number_sections": true,
      "sideBar": true,
      "skip_h1_title": true,
      "title_cell": "Table of Contents",
      "title_sidebar": "Contents",
      "toc_cell": true,
      "toc_position": {
        "height": "calc(100% - 180px)",
        "left": "10px",
        "top": "150px",
        "width": "200.475px"
      },
      "toc_section_display": true,
      "toc_window_display": true
    },
    "varInspector": {
      "cols": {
        "lenName": 16,
        "lenType": 16,
        "lenVar": 40
      },
      "kernels_config": {
        "python": {
          "delete_cmd_postfix": "",
          "delete_cmd_prefix": "del ",
          "library": "var_list.py",
          "varRefreshCmd": "print(var_dic_list())"
        },
        "r": {
          "delete_cmd_postfix": ") ",
          "delete_cmd_prefix": "rm(",
          "library": "var_list.r",
          "varRefreshCmd": "cat(var_dic_list()) "
        }
      },
      "types_to_exclude": [
        "module",
        "function",
        "builtin_function_or_method",
        "instance",
        "_Feature"
      ],
      "window_display": false
    },
    "colab": {
      "provenance": [],
      "include_colab_link": true
    }
  },
  "nbformat": 4,
  "nbformat_minor": 0
}