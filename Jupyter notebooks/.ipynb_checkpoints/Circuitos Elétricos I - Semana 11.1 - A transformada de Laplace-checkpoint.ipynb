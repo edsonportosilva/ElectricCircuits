{
 "cells": [
  {
   "cell_type": "code",
   "execution_count": 1,
   "metadata": {},
   "outputs": [
    {
     "data": {
      "text/html": [
       "\n",
       "<style>\n",
       ".output_png {\n",
       "    display: table-cell;\n",
       "    text-align: center;\n",
       "    vertical-align: middle;\n",
       "}\n",
       "</style>\n"
      ],
      "text/plain": [
       "<IPython.core.display.HTML object>"
      ]
     },
     "execution_count": 1,
     "metadata": {},
     "output_type": "execute_result"
    }
   ],
   "source": [
    "from IPython.core.display import HTML\n",
    "HTML(\"\"\"\n",
    "<style>\n",
    ".output_png {\n",
    "    display: table-cell;\n",
    "    text-align: center;\n",
    "    vertical-align: middle;\n",
    "}\n",
    "</style>\n",
    "\"\"\")"
   ]
  },
  {
   "cell_type": "markdown",
   "metadata": {},
   "source": [
    "# *Circuitos Elétricos I - Semana 11*"
   ]
  },
  {
   "cell_type": "markdown",
   "metadata": {},
   "source": [
    "### A integral de Laplace\n",
    "\n",
    "Seja $f(t)$ uma função definida no intervalo $0\\leq t \\leq \\infty$, com $t$ e $f(t)$ reais, então a função $F(s)$, definida pela integral de Laplace\n",
    "\n",
    "$$\\large\n",
    "\\begin{equation}\n",
    "F(s)=\\mathcal{L}\\{f(t)\\}=\\int_{0}^{\\infty} f(t) e^{-s t} dt,\\;\\; s \\in \\mathbb{C},\n",
    "\\end{equation}\n",
    "$$\n",
    "\n",
    "é conhecida como a transformada de Laplace de $f(t)$.\n",
    "\n",
    "#### A exponencial complexa\n",
    "\n",
    "Temos que $s = \\sigma + j\\omega$, logo\n",
    "\n",
    "$$ \n",
    "e^{-s t} = e^{-(\\sigma + j\\omega) t} = e^{-\\sigma t}e^{-j\\omega t} = e^{-\\sigma t} [\\cos(\\omega t) + j\\sin(\\omega t)]\n",
    "$$\n",
    "\n",
    "$$ \n",
    "\\begin{align}\n",
    "\\mathcal{L}\\{f(t)\\}&=\\int_{0}^{\\infty} f(t) e^{-\\sigma t} [\\cos(\\omega t) + j\\sin(\\omega t)] dt\\\\\n",
    "\\mathcal{L}\\{f(t)\\}&=\\int_{0}^{\\infty} f(t) e^{-\\sigma t} \\cos(\\omega t) dt + j\\int_{0}^{\\infty} f(t) e^{-\\sigma t}\\sin(\\omega t) dt\\\\\n",
    "\\mathcal{L}\\{f(t)\\}&=\\int_{0}^{\\infty} \\left[\\frac{f(t)}{e^{\\sigma t}}\\right] \\cos(\\omega t) dt + j\\int_{0}^{\\infty} \\left[\\frac{f(t)}{e^{\\sigma t}}\\right]\\sin(\\omega t) dt\n",
    "\\end{align}\n",
    "$$\n",
    "\n",
    "**Teorema da existência:** se $f(t)$ é uma função contínua por pedaços para $t$ no intervalo $[a,\\infty)$ e é exponencial de ordem $\\sigma_0$, então a integral de Laplace converge para $\\Re{(s)}>a$."
   ]
  },
  {
   "cell_type": "code",
   "execution_count": 2,
   "metadata": {},
   "outputs": [],
   "source": [
    "import matplotlib.pyplot as plt\n",
    "import numpy as np\n",
    "import sympy as sp\n",
    "from utils import round_expr, symdisp, symplot\n",
    "\n",
    "# temp workaround\n",
    "import warnings\n",
    "from matplotlib import MatplotlibDeprecationWarning\n",
    "warnings.filterwarnings('ignore', category=MatplotlibDeprecationWarning)"
   ]
  },
  {
   "cell_type": "code",
   "execution_count": 3,
   "metadata": {},
   "outputs": [],
   "source": [
    "sp.init_printing()\n",
    "\n",
    "plt.rcParams['figure.figsize'] = 6, 4\n",
    "plt.rcParams['legend.fontsize'] = 13\n",
    "plt.rcParams['lines.linewidth'] = 2\n",
    "plt.rcParams['axes.grid'] = False"
   ]
  },
  {
   "cell_type": "markdown",
   "metadata": {},
   "source": [
    "#### Definindo algumas variáveis simbólicas de interesse"
   ]
  },
  {
   "cell_type": "code",
   "execution_count": 4,
   "metadata": {},
   "outputs": [],
   "source": [
    "t, s  = sp.symbols('t, s')\n",
    "a     = sp.symbols('a', real=True, positive=True)\n",
    "omega = sp.symbols('omega', real=True)"
   ]
  },
  {
   "cell_type": "markdown",
   "metadata": {},
   "source": [
    "## Transformada de Laplace no Sympy"
   ]
  },
  {
   "cell_type": "code",
   "execution_count": 5,
   "metadata": {},
   "outputs": [],
   "source": [
    "# transformada de Laplace\n",
    "def L(f,t,s):\n",
    "    return sp.laplace_transform(f, t, s, noconds=True)\n",
    "\n",
    "# transformada inversa de Laplace\n",
    "def invL(F,s,t):\n",
    "    return sp.inverse_laplace_transform(F, s, t, noconds=True)"
   ]
  },
  {
   "cell_type": "markdown",
   "metadata": {},
   "source": [
    "## Função degrau unitário\n",
    "\n",
    "#### Domínio do tempo"
   ]
  },
  {
   "cell_type": "code",
   "execution_count": 43,
   "metadata": {},
   "outputs": [
    {
     "data": {
      "text/latex": [
       "$\\displaystyle f(t) =\\theta\\left(t\\right)\\; $"
      ],
      "text/plain": [
       "<IPython.core.display.Math object>"
      ]
     },
     "metadata": {},
     "output_type": "display_data"
    }
   ],
   "source": [
    "f = sp.Heaviside(t) # função degrau unitário\n",
    "\n",
    "symdisp('f(t) =', f)"
   ]
  },
  {
   "cell_type": "code",
   "execution_count": 7,
   "metadata": {},
   "outputs": [
    {
     "data": {
      "image/png": "[encoded data removed]",
      "text/plain": [
       "<Figure size 432x288 with 1 Axes>"
      ]
     },
     "metadata": {
      "needs_background": "light"
     },
     "output_type": "display_data"
    }
   ],
   "source": [
    "# plota função no domínio do tempo\n",
    "intervalo = np.arange(-4, 4, 0.01)\n",
    "symplot(t, u, intervalo, 'u(t)')"
   ]
  },
  {
   "cell_type": "markdown",
   "metadata": {},
   "source": [
    "#### Domínio de Laplace"
   ]
  },
  {
   "cell_type": "code",
   "execution_count": 44,
   "metadata": {},
   "outputs": [
    {
     "data": {
      "text/latex": [
       "$\\displaystyle F(s) =\\frac{1}{s}\\; $"
      ],
      "text/plain": [
       "<IPython.core.display.Math object>"
      ]
     },
     "metadata": {},
     "output_type": "display_data"
    }
   ],
   "source": [
    "# calcula a transformada de Laplace de u(t)\n",
    "F = L(f,t,s)\n",
    "\n",
    "symdisp('F(s) =', F)"
   ]
  },
  {
   "cell_type": "code",
   "execution_count": 45,
   "metadata": {},
   "outputs": [
    {
     "data": {
      "text/latex": [
       "$\\displaystyle f(t) =\\theta\\left(t - 2\\right)\\; $"
      ],
      "text/plain": [
       "<IPython.core.display.Math object>"
      ]
     },
     "metadata": {},
     "output_type": "display_data"
    }
   ],
   "source": [
    "f = sp.Heaviside(t-2) # função degrau unitário em t=2\n",
    "\n",
    "symdisp('f(t) =', f)"
   ]
  },
  {
   "cell_type": "code",
   "execution_count": 10,
   "metadata": {},
   "outputs": [
    {
     "data": {
      "image/png": "[encoded data removed]",
      "text/plain": [
       "<Figure size 432x288 with 1 Axes>"
      ]
     },
     "metadata": {
      "needs_background": "light"
     },
     "output_type": "display_data"
    }
   ],
   "source": [
    "# plota função no domínio do tempo\n",
    "intervalo = np.arange(-4, 4, 0.01)\n",
    "symplot(t, u, intervalo, 'u(t-2)')"
   ]
  },
  {
   "cell_type": "code",
   "execution_count": 46,
   "metadata": {},
   "outputs": [
    {
     "data": {
      "text/latex": [
       "$\\displaystyle F(s) =\\frac{e^{- 2 s}}{s}\\; $"
      ],
      "text/plain": [
       "<IPython.core.display.Math object>"
      ]
     },
     "metadata": {},
     "output_type": "display_data"
    }
   ],
   "source": [
    "F = L(f,t,s)\n",
    "\n",
    "symdisp('F(s) =', F)"
   ]
  },
  {
   "cell_type": "code",
   "execution_count": 12,
   "metadata": {},
   "outputs": [
    {
     "data": {
      "image/png": "[encoded data removed]",
      "text/plain": [
       "<Figure size 432x288 with 1 Axes>"
      ]
     },
     "metadata": {
      "needs_background": "light"
     },
     "output_type": "display_data"
    }
   ],
   "source": [
    "u1 = sp.Heaviside(t)   # função degrau unitário em t=0\n",
    "u2 = sp.Heaviside(t-2) # função degrau unitário em t=2\n",
    "\n",
    "# plota função no domínio do tempo\n",
    "intervalo = np.arange(-4, 4, 0.01)\n",
    "symplot(t, u1-u2, intervalo, 'u(t)-u(t-2)')"
   ]
  },
  {
   "cell_type": "code",
   "execution_count": 29,
   "metadata": {},
   "outputs": [
    {
     "data": {
      "text/latex": [
       "$\\displaystyle G(s) =\\frac{1}{s} - \\frac{e^{- 2 s}}{s}\\; $"
      ],
      "text/plain": [
       "<IPython.core.display.Math object>"
      ]
     },
     "metadata": {},
     "output_type": "display_data"
    }
   ],
   "source": [
    "G = L(u1-u2,t,s)\n",
    "\n",
    "symdisp('G(s) =', G)"
   ]
  },
  {
   "cell_type": "markdown",
   "metadata": {},
   "source": [
    "## Função impulso unitário\n",
    "\n",
    "#### Domínio do tempo"
   ]
  },
  {
   "cell_type": "code",
   "execution_count": 39,
   "metadata": {},
   "outputs": [
    {
     "data": {
      "text/latex": [
       "$\\displaystyle f(t) =\\delta\\left(t\\right)\\; $"
      ],
      "text/plain": [
       "<IPython.core.display.Math object>"
      ]
     },
     "metadata": {},
     "output_type": "display_data"
    }
   ],
   "source": [
    "f = sp.DiracDelta(t)\n",
    "\n",
    "symdisp('f(t) =', f)"
   ]
  },
  {
   "cell_type": "markdown",
   "metadata": {},
   "source": [
    "#### Domínio de Laplace"
   ]
  },
  {
   "cell_type": "code",
   "execution_count": 40,
   "metadata": {},
   "outputs": [
    {
     "data": {
      "text/latex": [
       "$\\displaystyle F(s) =1 - \\theta\\left(0\\right)\\; $"
      ],
      "text/plain": [
       "<IPython.core.display.Math object>"
      ]
     },
     "metadata": {},
     "output_type": "display_data"
    }
   ],
   "source": [
    "# calcula a transformada de Laplace de δ(t)\n",
    "F = L(f,t,s)\n",
    "\n",
    "symdisp('F(s) =', F)"
   ]
  },
  {
   "cell_type": "markdown",
   "metadata": {},
   "source": [
    "## Função exponencial\n",
    "\n",
    "#### Domínio do tempo"
   ]
  },
  {
   "cell_type": "code",
   "execution_count": 30,
   "metadata": {},
   "outputs": [
    {
     "data": {
      "text/latex": [
       "$\\displaystyle f(t) =e^{- a t}\\; $"
      ],
      "text/plain": [
       "<IPython.core.display.Math object>"
      ]
     },
     "metadata": {},
     "output_type": "display_data"
    }
   ],
   "source": [
    "f = sp.exp(-a*t)\n",
    "\n",
    "symdisp('f(t) =', f)"
   ]
  },
  {
   "cell_type": "code",
   "execution_count": 17,
   "metadata": {},
   "outputs": [
    {
     "data": {
      "image/png": "[encoded data removed]",
      "text/plain": [
       "<Figure size 432x288 with 1 Axes>"
      ]
     },
     "metadata": {
      "needs_background": "light"
     },
     "output_type": "display_data"
    }
   ],
   "source": [
    "# plota função no domínio do tempo\n",
    "intervalo = np.arange(-1, 4, 0.01)\n",
    "symplot(t, f.subs({a:2}), intervalo, 'f(t)')"
   ]
  },
  {
   "cell_type": "markdown",
   "metadata": {},
   "source": [
    "#### Domínio de Laplace"
   ]
  },
  {
   "cell_type": "code",
   "execution_count": 31,
   "metadata": {},
   "outputs": [
    {
     "data": {
      "text/latex": [
       "$\\displaystyle F(s) =\\frac{1}{a + s}\\; $"
      ],
      "text/plain": [
       "<IPython.core.display.Math object>"
      ]
     },
     "metadata": {},
     "output_type": "display_data"
    }
   ],
   "source": [
    "# calcula a transformada de Laplace de f(t)\n",
    "F = L(f,t,s)\n",
    "\n",
    "symdisp('F(s) =', F)"
   ]
  },
  {
   "cell_type": "markdown",
   "metadata": {},
   "source": [
    "## Função cosseno amortecido\n",
    "\n",
    "#### Domínio do tempo"
   ]
  },
  {
   "cell_type": "code",
   "execution_count": 32,
   "metadata": {},
   "outputs": [
    {
     "data": {
      "text/latex": [
       "$\\displaystyle g(t) =e^{- a t} \\cos{\\left(\\omega t \\right)}\\; $"
      ],
      "text/plain": [
       "<IPython.core.display.Math object>"
      ]
     },
     "metadata": {},
     "output_type": "display_data"
    }
   ],
   "source": [
    "g = sp.exp(-a*t)*sp.cos(omega*t)\n",
    "\n",
    "symdisp('g(t) =', g)"
   ]
  },
  {
   "cell_type": "code",
   "execution_count": 20,
   "metadata": {},
   "outputs": [
    {
     "data": {
      "image/png": "[encoded data removed]",
      "text/plain": [
       "<Figure size 432x288 with 1 Axes>"
      ]
     },
     "metadata": {
      "needs_background": "light"
     },
     "output_type": "display_data"
    }
   ],
   "source": [
    "# plota função no domínio do tempo\n",
    "intervalo = np.arange(-1, 4, 0.01)\n",
    "symplot(t, g.subs({a:2, omega:10}), intervalo, 'g(t)')"
   ]
  },
  {
   "cell_type": "code",
   "execution_count": 33,
   "metadata": {},
   "outputs": [
    {
     "data": {
      "text/latex": [
       "$\\displaystyle G(s) =\\frac{a + s}{\\omega^{2} + \\left(a + s\\right)^{2}}\\; $"
      ],
      "text/plain": [
       "<IPython.core.display.Math object>"
      ]
     },
     "metadata": {},
     "output_type": "display_data"
    }
   ],
   "source": [
    "G = L(g,t,s)\n",
    "\n",
    "symdisp('G(s) =', G)"
   ]
  },
  {
   "cell_type": "markdown",
   "metadata": {},
   "source": [
    "## Resposta subamortecida de um circuito de segunda ordem"
   ]
  },
  {
   "cell_type": "markdown",
   "metadata": {},
   "source": [
    "#### Domínio do tempo"
   ]
  },
  {
   "cell_type": "code",
   "execution_count": 34,
   "metadata": {},
   "outputs": [
    {
     "data": {
      "text/latex": [
       "$\\displaystyle h(t) =\\left(B_{1} \\cos{\\left(\\omega t \\right)} + B_{2} \\sin{\\left(\\omega t \\right)}\\right) e^{- a t}\\; $"
      ],
      "text/plain": [
       "<IPython.core.display.Math object>"
      ]
     },
     "metadata": {},
     "output_type": "display_data"
    }
   ],
   "source": [
    "B1, B2 = sp.symbols('B1, B2', real=True)\n",
    "\n",
    "h = sp.exp(-a*t)*(B1*sp.cos(omega*t) + B2*sp.sin(omega*t))\n",
    "\n",
    "symdisp('h(t) =', h)"
   ]
  },
  {
   "cell_type": "markdown",
   "metadata": {},
   "source": [
    "#### Domínio de Laplace"
   ]
  },
  {
   "cell_type": "code",
   "execution_count": 35,
   "metadata": {},
   "outputs": [
    {
     "data": {
      "text/latex": [
       "$\\displaystyle H(s) =\\frac{B_{1} \\left(a + s\\right) + B_{2} \\omega}{\\omega^{2} + \\left(a + s\\right)^{2}}\\; $"
      ],
      "text/plain": [
       "<IPython.core.display.Math object>"
      ]
     },
     "metadata": {},
     "output_type": "display_data"
    }
   ],
   "source": [
    "H = L(h,t,s)\n",
    "\n",
    "symdisp('H(s) =', H)"
   ]
  },
  {
   "cell_type": "code",
   "execution_count": 36,
   "metadata": {},
   "outputs": [
    {
     "data": {
      "text/latex": [
       "$\\displaystyle h_1(t) =\\left(B_{1} \\cos{\\left(\\omega t \\right)} + B_{2} \\sin{\\left(\\omega t \\right)}\\right) e^{- a t} \\theta\\left(t\\right)\\; $"
      ],
      "text/plain": [
       "<IPython.core.display.Math object>"
      ]
     },
     "metadata": {},
     "output_type": "display_data"
    }
   ],
   "source": [
    "h1 = invL(H,s,t)\n",
    "\n",
    "symdisp('h_1(t) =', h1)"
   ]
  },
  {
   "cell_type": "markdown",
   "metadata": {},
   "source": [
    "## Gere sua tabela de transformadas"
   ]
  },
  {
   "cell_type": "code",
   "execution_count": 37,
   "metadata": {},
   "outputs": [
    {
     "data": {
      "text/latex": [
       "$\\displaystyle f(t) =\\left[ 1, \\  t, \\  e^{- a t}, \\  t e^{- a t}, \\  t^{2} e^{- a t}, \\  \\sin{\\left(\\omega t \\right)}, \\  \\cos{\\left(\\omega t \\right)}, \\  1 - e^{- a t}, \\  e^{- a t} \\sin{\\left(\\omega t \\right)}, \\  e^{- a t} \\cos{\\left(\\omega t \\right)}\\right]\\; $"
      ],
      "text/plain": [
       "<IPython.core.display.Math object>"
      ]
     },
     "metadata": {},
     "output_type": "display_data"
    }
   ],
   "source": [
    "func = [1,\n",
    "         t,\n",
    "         sp.exp(-a*t),\n",
    "         t*sp.exp(-a*t),\n",
    "         t**2*sp.exp(-a*t),\n",
    "         sp.sin(omega*t),\n",
    "         sp.cos(omega*t),\n",
    "         1 - sp.exp(-a*t),\n",
    "         sp.exp(-a*t)*sp.sin(omega*t),\n",
    "         sp.exp(-a*t)*sp.cos(omega*t),\n",
    "         ]\n",
    "func\n",
    "\n",
    "symdisp('f(t) =', func)"
   ]
  },
  {
   "cell_type": "code",
   "execution_count": 38,
   "metadata": {},
   "outputs": [
    {
     "data": {
      "text/latex": [
       "$\\displaystyle F(s) =\\left[ \\frac{1}{s}, \\  \\frac{1}{s^{2}}, \\  \\frac{1}{a + s}, \\  \\frac{1}{\\left(a + s\\right)^{2}}, \\  \\frac{2}{\\left(a + s\\right)^{3}}, \\  \\frac{\\omega}{\\omega^{2} + s^{2}}, \\  \\frac{s}{\\omega^{2} + s^{2}}, \\  \\frac{a}{s \\left(a + s\\right)}, \\  \\frac{\\omega}{\\omega^{2} + \\left(a + s\\right)^{2}}, \\  \\frac{a + s}{\\omega^{2} + \\left(a + s\\right)^{2}}\\right]\\; $"
      ],
      "text/plain": [
       "<IPython.core.display.Math object>"
      ]
     },
     "metadata": {},
     "output_type": "display_data"
    }
   ],
   "source": [
    "Fs = [L(f,t,s) for f in func]\n",
    "\n",
    "symdisp('F(s) =', Fs)"
   ]
  }
 ],
 "metadata": {
  "jupytext": {
   "encoding": "# -*- coding: utf-8 -*-",
   "formats": "ipynb,py:light"
  },
  "kernelspec": {
   "display_name": "Python 3",
   "language": "python",
   "name": "python3"
  },
  "language_info": {
   "codemirror_mode": {
    "name": "ipython",
    "version": 3
   },
   "file_extension": ".py",
   "mimetype": "text/x-python",
   "name": "python",
   "nbconvert_exporter": "python",
   "pygments_lexer": "ipython3",
   "version": "3.7.4"
  },
  "toc": {
   "base_numbering": 1,
   "nav_menu": {},
   "number_sections": true,
   "sideBar": true,
   "skip_h1_title": true,
   "title_cell": "Table of Contents",
   "title_sidebar": "Contents",
   "toc_cell": true,
   "toc_position": {
    "height": "calc(100% - 180px)",
    "left": "10px",
    "top": "150px",
    "width": "200.475px"
   },
   "toc_section_display": true,
   "toc_window_display": true
  },
  "varInspector": {
   "cols": {
    "lenName": 16,
    "lenType": 16,
    "lenVar": 40
   },
   "kernels_config": {
    "python": {
     "delete_cmd_postfix": "",
     "delete_cmd_prefix": "del ",
     "library": "var_list.py",
     "varRefreshCmd": "print(var_dic_list())"
    },
    "r": {
     "delete_cmd_postfix": ") ",
     "delete_cmd_prefix": "rm(",
     "library": "var_list.r",
     "varRefreshCmd": "cat(var_dic_list()) "
    }
   },
   "types_to_exclude": [
    "module",
    "function",
    "builtin_function_or_method",
    "instance",
    "_Feature"
   ],
   "window_display": false
  }
 },
 "nbformat": 4,
 "nbformat_minor": 2
}
