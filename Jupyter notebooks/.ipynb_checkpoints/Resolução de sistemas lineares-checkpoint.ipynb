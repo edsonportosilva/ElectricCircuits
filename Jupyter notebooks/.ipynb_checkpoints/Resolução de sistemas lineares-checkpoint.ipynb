{
 "cells": [
  {
   "cell_type": "markdown",
   "metadata": {},
   "source": [
    "# *Tutorial Sympy - Python para Circuitos Elétricos I*\n",
    "\n",
    "Este notebook contém um guia resumo de como utilizar o pacote **SymPy** do Python para implementar a maior parte das ferramentas matemáticas básicas utilizadas na disciplina de Circuitos Elétricos I."
   ]
  },
  {
   "cell_type": "markdown",
   "metadata": {
    "toc": true
   },
   "source": [
    "<h1>Sumário<span class=\"tocSkip\"></span></h1>\n",
    "<div class=\"toc\"><ul class=\"toc-item\"><li><span><a href=\"#Definindo-expressões-matemáticas\" data-toc-modified-id=\"Definindo-expressões-matemáticas-1\"><span class=\"toc-item-num\">1&nbsp;&nbsp;</span>Definindo expressões matemáticas</a></span></li><li><span><a href=\"#Calculando-valores-numéricos-de-funções\" data-toc-modified-id=\"Calculando-valores-numéricos-de-funções-2\"><span class=\"toc-item-num\">2&nbsp;&nbsp;</span>Calculando valores numéricos de funções</a></span></li><li><span><a href=\"#Arrendondamento-de-valores-numéricos-com-round\" data-toc-modified-id=\"Arrendondamento-de-valores-numéricos-com-round-3\"><span class=\"toc-item-num\">3&nbsp;&nbsp;</span>Arrendondamento de valores numéricos com <em>round</em></a></span></li><li><span><a href=\"#Derivadas-utilizando-sp.diff\" data-toc-modified-id=\"Derivadas-utilizando-sp.diff-4\"><span class=\"toc-item-num\">4&nbsp;&nbsp;</span>Derivadas utilizando <em>sp.diff</em></a></span></li><li><span><a href=\"#Integrais-definidas-utilizando-sp.integrate\" data-toc-modified-id=\"Integrais-definidas-utilizando-sp.integrate-5\"><span class=\"toc-item-num\">5&nbsp;&nbsp;</span>Integrais definidas utilizando <em>sp.integrate</em></a></span></li><li><span><a href=\"#Plotando-gráficos-com-symplot\" data-toc-modified-id=\"Plotando-gráficos-com-symplot-6\"><span class=\"toc-item-num\">6&nbsp;&nbsp;</span>Plotando gráficos com <em>symplot</em></a></span></li><li><span><a href=\"#Encontrando-numericamente-um-ponto-de-extremo-(máximo-ou-mínimo)-de-uma-função-com-sp.nsolve\" data-toc-modified-id=\"Encontrando-numericamente-um-ponto-de-extremo-(máximo-ou-mínimo)-de-uma-função-com-sp.nsolve-7\"><span class=\"toc-item-num\">7&nbsp;&nbsp;</span>Encontrando numericamente um ponto de extremo (máximo ou mínimo) de uma função com <em>sp.nsolve</em></a></span></li><li><span><a href=\"#Resolvendo-um-sistema-de-equações-lineares-com-sp.solve\" data-toc-modified-id=\"Resolvendo-um-sistema-de-equações-lineares-com-sp.solve-8\"><span class=\"toc-item-num\">8&nbsp;&nbsp;</span>Resolvendo um sistema de equações lineares com <em>sp.solve</em></a></span></li></ul></div>"
   ]
  },
  {
   "cell_type": "code",
   "execution_count": 163,
   "metadata": {
    "ExecuteTime": {
     "end_time": "2021-11-20T18:24:25.863351Z",
     "start_time": "2021-11-20T18:24:25.844363Z"
    }
   },
   "outputs": [],
   "source": [
    "import sympy as sp\n",
    "import numpy as np\n",
    "from utils import symdisp, symplot\n",
    "from IPython.display import Math, Latex, display"
   ]
  },
  {
   "cell_type": "markdown",
   "metadata": {},
   "source": [
    "### Definindo expressões matemáticas"
   ]
  },
  {
   "cell_type": "code",
   "execution_count": 24,
   "metadata": {
    "ExecuteTime": {
     "end_time": "2021-11-20T16:41:56.656201Z",
     "start_time": "2021-11-20T16:41:56.648209Z"
    }
   },
   "outputs": [],
   "source": [
    "# definindo variável tempo\n",
    "t = sp.symbols('t', real=True)"
   ]
  },
  {
   "cell_type": "code",
   "execution_count": 259,
   "metadata": {
    "ExecuteTime": {
     "end_time": "2021-11-22T12:42:21.537779Z",
     "start_time": "2021-11-22T12:42:21.522789Z"
    }
   },
   "outputs": [
    {
     "data": {
      "text/latex": [
       "$\\displaystyle i(t) = e^{- t}\\;A$"
      ],
      "text/plain": [
       "<IPython.core.display.Math object>"
      ]
     },
     "metadata": {},
     "output_type": "display_data"
    },
    {
     "data": {
      "text/latex": [
       "$\\displaystyle v(t) = t e^{- t} \\cos{\\left(t \\right)}\\;V$"
      ],
      "text/plain": [
       "<IPython.core.display.Math object>"
      ]
     },
     "metadata": {},
     "output_type": "display_data"
    },
    {
     "data": {
      "text/latex": [
       "$\\displaystyle p(t) = t e^{- 2 t} \\cos{\\left(t \\right)}\\;W$"
      ],
      "text/plain": [
       "<IPython.core.display.Math object>"
      ]
     },
     "metadata": {},
     "output_type": "display_data"
    }
   ],
   "source": [
    "i = sp.exp(-t)\n",
    "v = t*sp.exp(-t)*sp.cos(t)\n",
    "p = v*i\n",
    "\n",
    "symdisp('i(t) = ', i, 'A')\n",
    "symdisp('v(t) = ', v, 'V')\n",
    "symdisp('p(t) = ', p, 'W')"
   ]
  },
  {
   "cell_type": "markdown",
   "metadata": {},
   "source": [
    "```symdisp``` é uma função customizada (disponível no arquivo ```utils.py``` presente no repositório) para mostrar expressões definidas simbolicamente com SymPy. Para utilizar esta função num notebooks qualquer, faz-se necessário que o arquivo ```utils.py``` esteja no mesmo diretório em que o notebook está salvo."
   ]
  },
  {
   "cell_type": "code",
   "execution_count": 255,
   "metadata": {
    "ExecuteTime": {
     "end_time": "2021-11-22T12:37:00.789421Z",
     "start_time": "2021-11-22T12:37:00.755447Z"
    }
   },
   "outputs": [
    {
     "name": "stdout",
     "output_type": "stream",
     "text": [
      "Help on function symdisp in module utils:\n",
      "\n",
      "symdisp(expr, var, unit=' ')\n",
      "    Latex style display of sympy expressions\n",
      "    \n",
      "    :param expr: expression in latex [string]\n",
      "    :param var: sympy variable, function, expression.\n",
      "    :param unit: string indicating unit of var [string]\n",
      "\n"
     ]
    }
   ],
   "source": [
    "help(symdisp)"
   ]
  },
  {
   "cell_type": "markdown",
   "metadata": {},
   "source": [
    "### Calculando valores numéricos de funções"
   ]
  },
  {
   "cell_type": "code",
   "execution_count": 260,
   "metadata": {
    "ExecuteTime": {
     "end_time": "2021-11-22T12:42:56.091536Z",
     "start_time": "2021-11-22T12:42:56.055558Z"
    }
   },
   "outputs": [
    {
     "data": {
      "text/latex": [
       "$\\displaystyle i(2) = 0.135335283236613\\;A$"
      ],
      "text/plain": [
       "<IPython.core.display.Math object>"
      ]
     },
     "metadata": {},
     "output_type": "display_data"
    },
    {
     "data": {
      "text/latex": [
       "$\\displaystyle v(2) = -0.112638699984256\\;V$"
      ],
      "text/plain": [
       "<IPython.core.display.Math object>"
      ]
     },
     "metadata": {},
     "output_type": "display_data"
    },
    {
     "data": {
      "text/latex": [
       "$\\displaystyle p(2) = -0.0152439903657731\\;W$"
      ],
      "text/plain": [
       "<IPython.core.display.Math object>"
      ]
     },
     "metadata": {},
     "output_type": "display_data"
    }
   ],
   "source": [
    "symdisp('i(2) = ',  i.evalf(subs={t:2}), 'A')\n",
    "symdisp('v(2) = ',  v.evalf(subs={t:2}), 'V')\n",
    "symdisp('p(2) = ',  p.evalf(subs={t:2}), 'W')"
   ]
  },
  {
   "cell_type": "markdown",
   "metadata": {},
   "source": [
    "###  Arrendondamento de valores numéricos com *round*"
   ]
  },
  {
   "cell_type": "code",
   "execution_count": 261,
   "metadata": {
    "ExecuteTime": {
     "end_time": "2021-11-22T12:43:25.972193Z",
     "start_time": "2021-11-22T12:43:25.934215Z"
    }
   },
   "outputs": [
    {
     "data": {
      "text/latex": [
       "$\\displaystyle i(2) = 0.135\\;A$"
      ],
      "text/plain": [
       "<IPython.core.display.Math object>"
      ]
     },
     "metadata": {},
     "output_type": "display_data"
    },
    {
     "data": {
      "text/latex": [
       "$\\displaystyle v(2) = -0.113\\;V$"
      ],
      "text/plain": [
       "<IPython.core.display.Math object>"
      ]
     },
     "metadata": {},
     "output_type": "display_data"
    },
    {
     "data": {
      "text/latex": [
       "$\\displaystyle p(2) = -0.015\\;W$"
      ],
      "text/plain": [
       "<IPython.core.display.Math object>"
      ]
     },
     "metadata": {},
     "output_type": "display_data"
    }
   ],
   "source": [
    "symdisp('i(2) = ',  round(i.evalf(subs={t:2}),3), 'A')\n",
    "symdisp('v(2) = ',  round(v.evalf(subs={t:2}),3), 'V')\n",
    "symdisp('p(2) = ',  round(p.evalf(subs={t:2}),3), 'W')"
   ]
  },
  {
   "cell_type": "markdown",
   "metadata": {},
   "source": [
    "### Derivadas utilizando *sp.diff*"
   ]
  },
  {
   "cell_type": "code",
   "execution_count": 172,
   "metadata": {
    "ExecuteTime": {
     "end_time": "2021-11-22T03:30:19.194252Z",
     "start_time": "2021-11-22T03:30:19.075251Z"
    }
   },
   "outputs": [
    {
     "data": {
      "text/latex": [
       "$\\displaystyle \\frac{ d i(t) }{ dt } =- e^{- t}\\; $"
      ],
      "text/plain": [
       "<IPython.core.display.Math object>"
      ]
     },
     "metadata": {},
     "output_type": "display_data"
    },
    {
     "data": {
      "text/latex": [
       "$\\displaystyle \\frac{ d v(t) }{ dt } =- t e^{- t} \\sin{\\left(t \\right)} - t e^{- t} \\cos{\\left(t \\right)} + e^{- t} \\cos{\\left(t \\right)}\\; $"
      ],
      "text/plain": [
       "<IPython.core.display.Math object>"
      ]
     },
     "metadata": {},
     "output_type": "display_data"
    },
    {
     "data": {
      "text/latex": [
       "$\\displaystyle \\frac{ d p(t) }{ dt } =- t e^{- 2 t} \\sin{\\left(t \\right)} - 2 t e^{- 2 t} \\cos{\\left(t \\right)} + e^{- 2 t} \\cos{\\left(t \\right)}\\; $"
      ],
      "text/plain": [
       "<IPython.core.display.Math object>"
      ]
     },
     "metadata": {},
     "output_type": "display_data"
    }
   ],
   "source": [
    "didt = sp.diff(i,t)\n",
    "dvdt = sp.diff(v,t)\n",
    "dpdt = sp.diff(p,t)\n",
    "\n",
    "symdisp('\\\\frac{ d i(t) }{ dt } =', didt)\n",
    "symdisp('\\\\frac{ d v(t) }{ dt } =', dvdt)\n",
    "symdisp('\\\\frac{ d p(t) }{ dt } =', dpdt)"
   ]
  },
  {
   "cell_type": "code",
   "execution_count": 173,
   "metadata": {
    "ExecuteTime": {
     "end_time": "2021-11-22T03:31:41.049544Z",
     "start_time": "2021-11-22T03:31:40.980588Z"
    }
   },
   "outputs": [
    {
     "data": {
      "text/latex": [
       "$\\displaystyle \\frac{ d^2 i(t) }{ dt^2 } =e^{- t}\\; $"
      ],
      "text/plain": [
       "<IPython.core.display.Math object>"
      ]
     },
     "metadata": {},
     "output_type": "display_data"
    },
    {
     "data": {
      "text/latex": [
       "$\\displaystyle \\frac{ d^2 v(t) }{ dt^2 } =2 \\left(t \\sin{\\left(t \\right)} - \\sin{\\left(t \\right)} - \\cos{\\left(t \\right)}\\right) e^{- t}\\; $"
      ],
      "text/plain": [
       "<IPython.core.display.Math object>"
      ]
     },
     "metadata": {},
     "output_type": "display_data"
    },
    {
     "data": {
      "text/latex": [
       "$\\displaystyle \\frac{ d^2 p(t) }{ dt^2 } =\\left(4 t \\sin{\\left(t \\right)} + 3 t \\cos{\\left(t \\right)} - 2 \\sin{\\left(t \\right)} - 4 \\cos{\\left(t \\right)}\\right) e^{- 2 t}\\; $"
      ],
      "text/plain": [
       "<IPython.core.display.Math object>"
      ]
     },
     "metadata": {},
     "output_type": "display_data"
    }
   ],
   "source": [
    "d2idt2 = sp.diff(i,t,t)\n",
    "d2vdt2 = sp.diff(v,t,t)\n",
    "d2pdt2 = sp.diff(p,t,t)\n",
    "\n",
    "symdisp('\\\\frac{ d^2 i(t) }{ dt^2 } =', d2idt2)\n",
    "symdisp('\\\\frac{ d^2 v(t) }{ dt^2 } =', d2vdt2)\n",
    "symdisp('\\\\frac{ d^2 p(t) }{ dt^2 } =', d2pdt2)"
   ]
  },
  {
   "cell_type": "markdown",
   "metadata": {},
   "source": [
    "### Integrais definidas utilizando *sp.integrate*"
   ]
  },
  {
   "cell_type": "code",
   "execution_count": 174,
   "metadata": {
    "ExecuteTime": {
     "end_time": "2021-11-22T03:33:39.313073Z",
     "start_time": "2021-11-22T03:33:36.983508Z"
    }
   },
   "outputs": [
    {
     "data": {
      "text/latex": [
       "$\\displaystyle \\int_{0}^{t} i(u)du =1 - e^{- t}\\; $"
      ],
      "text/plain": [
       "<IPython.core.display.Math object>"
      ]
     },
     "metadata": {},
     "output_type": "display_data"
    },
    {
     "data": {
      "text/latex": [
       "$\\displaystyle \\int_{0}^{t} v(u)du =\\frac{t e^{- t} \\sin{\\left(t \\right)}}{2} - \\frac{t e^{- t} \\cos{\\left(t \\right)}}{2} + \\frac{e^{- t} \\sin{\\left(t \\right)}}{2}\\; $"
      ],
      "text/plain": [
       "<IPython.core.display.Math object>"
      ]
     },
     "metadata": {},
     "output_type": "display_data"
    },
    {
     "data": {
      "text/latex": [
       "$\\displaystyle \\int_{0}^{t} p(u)du =\\frac{t e^{- 2 t} \\sin{\\left(t \\right)}}{5} - \\frac{2 t e^{- 2 t} \\cos{\\left(t \\right)}}{5} + \\frac{3}{25} + \\frac{4 e^{- 2 t} \\sin{\\left(t \\right)}}{25} - \\frac{3 e^{- 2 t} \\cos{\\left(t \\right)}}{25}\\; $"
      ],
      "text/plain": [
       "<IPython.core.display.Math object>"
      ]
     },
     "metadata": {},
     "output_type": "display_data"
    }
   ],
   "source": [
    "int_i = sp.integrate(i, (t, 0, t))\n",
    "int_v = sp.integrate(v, (t, 0, t))\n",
    "int_p = sp.integrate(p, (t, 0, t))\n",
    "\n",
    "symdisp('\\int_{0}^{t} i(u)du =', int_i)\n",
    "symdisp('\\int_{0}^{t} v(u)du =', int_v)\n",
    "symdisp('\\int_{0}^{t} p(u)du =', int_p)"
   ]
  },
  {
   "cell_type": "code",
   "execution_count": 175,
   "metadata": {
    "ExecuteTime": {
     "end_time": "2021-11-22T03:34:20.457426Z",
     "start_time": "2021-11-22T03:34:17.859858Z"
    }
   },
   "outputs": [
    {
     "data": {
      "text/latex": [
       "$\\displaystyle \\int_{0}^{1} i(u)du =1 - e^{-1}\\; $"
      ],
      "text/plain": [
       "<IPython.core.display.Math object>"
      ]
     },
     "metadata": {},
     "output_type": "display_data"
    },
    {
     "data": {
      "text/latex": [
       "$\\displaystyle \\int_{0}^{1} v(u)du =- \\frac{\\cos{\\left(1 \\right)}}{2 e} + \\frac{\\sin{\\left(1 \\right)}}{e}\\; $"
      ],
      "text/plain": [
       "<IPython.core.display.Math object>"
      ]
     },
     "metadata": {},
     "output_type": "display_data"
    },
    {
     "data": {
      "text/latex": [
       "$\\displaystyle \\int_{0}^{1} p(u)du =- \\frac{13 \\cos{\\left(1 \\right)}}{25 e^{2}} + \\frac{9 \\sin{\\left(1 \\right)}}{25 e^{2}} + \\frac{3}{25}\\; $"
      ],
      "text/plain": [
       "<IPython.core.display.Math object>"
      ]
     },
     "metadata": {},
     "output_type": "display_data"
    }
   ],
   "source": [
    "int_i = sp.integrate(i, (t, 0, 1))\n",
    "int_v = sp.integrate(v, (t, 0, 1))\n",
    "int_p = sp.integrate(p, (t, 0, 1))\n",
    "\n",
    "symdisp('\\int_{0}^{1} i(u)du =', int_i)\n",
    "symdisp('\\int_{0}^{1} v(u)du =', int_v)\n",
    "symdisp('\\int_{0}^{1} p(u)du =', int_p)"
   ]
  },
  {
   "cell_type": "code",
   "execution_count": 176,
   "metadata": {
    "ExecuteTime": {
     "end_time": "2021-11-22T03:35:11.696282Z",
     "start_time": "2021-11-22T03:35:11.668300Z"
    }
   },
   "outputs": [
    {
     "data": {
      "text/latex": [
       "$\\displaystyle \\int_{0}^{1} i(u)du =0.63\\; $"
      ],
      "text/plain": [
       "<IPython.core.display.Math object>"
      ]
     },
     "metadata": {},
     "output_type": "display_data"
    },
    {
     "data": {
      "text/latex": [
       "$\\displaystyle \\int_{0}^{1} v(u)du =0.21\\; $"
      ],
      "text/plain": [
       "<IPython.core.display.Math object>"
      ]
     },
     "metadata": {},
     "output_type": "display_data"
    },
    {
     "data": {
      "text/latex": [
       "$\\displaystyle \\int_{0}^{1} p(u)du =0.12\\; $"
      ],
      "text/plain": [
       "<IPython.core.display.Math object>"
      ]
     },
     "metadata": {},
     "output_type": "display_data"
    }
   ],
   "source": [
    "symdisp('\\int_{0}^{1} i(u)du =', sp.N(int_i, 2))\n",
    "symdisp('\\int_{0}^{1} v(u)du =', sp.N(int_v, 2))\n",
    "symdisp('\\int_{0}^{1} p(u)du =', sp.N(int_p, 2))"
   ]
  },
  {
   "cell_type": "markdown",
   "metadata": {},
   "source": [
    "### Plotando gráficos com *symplot*\n",
    "\n",
    "```symplot``` é uma função customizada (disponível no arquivo ```utils.py``` presente no repositório) para plotar gráficos de funções definidas simbolicamente com SymPy. Para utilizar esta função num notebooks qualquer, faz-se necessário que o arquivo ```utils.py``` esteja no mesmo diretório em que o notebook está salvo."
   ]
  },
  {
   "cell_type": "code",
   "execution_count": 256,
   "metadata": {
    "ExecuteTime": {
     "end_time": "2021-11-22T12:38:23.269232Z",
     "start_time": "2021-11-22T12:38:23.248249Z"
    }
   },
   "outputs": [
    {
     "name": "stdout",
     "output_type": "stream",
     "text": [
      "Help on function symplot in module utils:\n",
      "\n",
      "symplot(t, F, interval, funLabel)\n",
      "    Create plots of sympy symbolic functions\n",
      "    \n",
      "    :param t: sympy variable\n",
      "    :param F: sympy function F(t)\n",
      "    :param interval: array of values of t where F should be evaluated [np.array]\n",
      "    :funLabel: curve label be displayed in the plot [string].\n",
      "\n"
     ]
    }
   ],
   "source": [
    "help(symplot)"
   ]
  },
  {
   "cell_type": "markdown",
   "metadata": {},
   "source": [
    "**Exemplos**:"
   ]
  },
  {
   "cell_type": "code",
   "execution_count": 143,
   "metadata": {
    "ExecuteTime": {
     "end_time": "2021-11-20T17:50:48.689130Z",
     "start_time": "2021-11-20T17:50:48.033534Z"
    }
   },
   "outputs": [
    {
     "data": {
      "image/png": "[encoded data removed]",
      "text/plain": [
       "<Figure size 432x288 with 1 Axes>"
      ]
     },
     "execution_count": 143,
     "metadata": {},
     "output_type": "execute_result"
    }
   ],
   "source": [
    "intervalo = np.arange(0, 5, 0.01)\n",
    "\n",
    "symplot(t, p, intervalo, 'p(t)')"
   ]
  },
  {
   "cell_type": "code",
   "execution_count": 144,
   "metadata": {
    "ExecuteTime": {
     "end_time": "2021-11-20T17:50:53.645013Z",
     "start_time": "2021-11-20T17:50:53.184296Z"
    }
   },
   "outputs": [
    {
     "data": {
      "image/png": "[encoded data removed]",
      "text/plain": [
       "<Figure size 432x288 with 1 Axes>"
      ]
     },
     "execution_count": 144,
     "metadata": {},
     "output_type": "execute_result"
    }
   ],
   "source": [
    "symplot(t, [v, i, p], intervalo, ['v(t)','i(t)','p(t)'])"
   ]
  },
  {
   "cell_type": "markdown",
   "metadata": {},
   "source": [
    "### Encontrando numericamente um ponto de extremo (máximo ou mínimo) de uma função com *sp.nsolve*"
   ]
  },
  {
   "cell_type": "code",
   "execution_count": 155,
   "metadata": {
    "ExecuteTime": {
     "end_time": "2021-11-20T18:04:50.131106Z",
     "start_time": "2021-11-20T18:04:50.066146Z"
    }
   },
   "outputs": [
    {
     "name": "stdout",
     "output_type": "stream",
     "text": [
      "sinal da derivada segunda: negativo (ponto de extremo é um máximo)\n"
     ]
    },
    {
     "data": {
      "text/latex": [
       "$\\displaystyle p(t) = t e^{- 2 t} \\cos{\\left(t \\right)}\\; $"
      ],
      "text/plain": [
       "<IPython.core.display.Math object>"
      ]
     },
     "metadata": {},
     "output_type": "display_data"
    },
    {
     "data": {
      "text/latex": [
       "$\\displaystyle t_{ext} =0.411\\; $"
      ],
      "text/plain": [
       "<IPython.core.display.Math object>"
      ]
     },
     "metadata": {},
     "output_type": "display_data"
    },
    {
     "data": {
      "text/latex": [
       "$\\displaystyle p_{ext} =0.166\\; $"
      ],
      "text/plain": [
       "<IPython.core.display.Math object>"
      ]
     },
     "metadata": {},
     "output_type": "display_data"
    }
   ],
   "source": [
    "# define a equação dp(t)/dt = 0\n",
    "eq = sp.Eq(sp.diff(p, t), 0)   \n",
    "\n",
    "# encontra numericamente o valor de t para o qual dp(t)/dt = 0, no intervalo (0 a 1)\n",
    "text = sp.nsolve(eq, t, (0 , 1), solver='bisect') # método da bisseção\n",
    "\n",
    "pext = p.evalf(subs={t:text})  # calcula o valor de p(t) para t=text\n",
    "\n",
    "d2 = sp.diff(p, t, t)  # calcula derivada segunda de p(t)\n",
    "\n",
    "sinal_d2 = sp.sign(d2.evalf(subs={t:text})) # verifica sinal da derivada segunda em t=text\n",
    "\n",
    "if sinal_d2 > 0:\n",
    "    print('sinal da derivada segunda: positivo (ponto de extremo é um mínimo)')\n",
    "elif sinal_d2 < 0:\n",
    "    print('sinal da derivada segunda: negativo (ponto de extremo é um máximo)')\n",
    "    \n",
    "symdisp('p(t) = ', p)\n",
    "symdisp('t_{ext} =', round(text,3))    \n",
    "symdisp('p_{ext} =', round(pext,3))"
   ]
  },
  {
   "cell_type": "markdown",
   "metadata": {},
   "source": [
    "### Resolvendo um sistema de equações lineares com *sp.solve*"
   ]
  },
  {
   "cell_type": "code",
   "execution_count": 254,
   "metadata": {
    "ExecuteTime": {
     "end_time": "2021-11-22T12:25:40.203625Z",
     "start_time": "2021-11-22T12:25:40.156764Z"
    }
   },
   "outputs": [
    {
     "name": "stdout",
     "output_type": "stream",
     "text": [
      "Sistema de equações lineares:\n"
     ]
    },
    {
     "data": {
      "text/latex": [
       "$\\displaystyle x + y + z = 10$"
      ],
      "text/plain": [
       "Eq(x + y + z, 10)"
      ]
     },
     "metadata": {},
     "output_type": "display_data"
    },
    {
     "data": {
      "text/latex": [
       "$\\displaystyle 2 x - y + z = 1$"
      ],
      "text/plain": [
       "Eq(2*x - y + z, 1)"
      ]
     },
     "metadata": {},
     "output_type": "display_data"
    },
    {
     "data": {
      "text/latex": [
       "$\\displaystyle 5 x - 2 y + 3 z = 5$"
      ],
      "text/plain": [
       "Eq(5*x - 2*y + 3*z, 5)"
      ]
     },
     "metadata": {},
     "output_type": "display_data"
    },
    {
     "name": "stdout",
     "output_type": "stream",
     "text": [
      "Solução do sistema:\n"
     ]
    },
    {
     "data": {
      "text/latex": [
       "$\\displaystyle x =5\\; $"
      ],
      "text/plain": [
       "<IPython.core.display.Math object>"
      ]
     },
     "metadata": {},
     "output_type": "display_data"
    },
    {
     "data": {
      "text/latex": [
       "$\\displaystyle y =7\\; $"
      ],
      "text/plain": [
       "<IPython.core.display.Math object>"
      ]
     },
     "metadata": {},
     "output_type": "display_data"
    },
    {
     "data": {
      "text/latex": [
       "$\\displaystyle z =-2\\; $"
      ],
      "text/plain": [
       "<IPython.core.display.Math object>"
      ]
     },
     "metadata": {},
     "output_type": "display_data"
    }
   ],
   "source": [
    "# define as N variáveis desconhecidas\n",
    "x, y, z = sp.symbols('x, y, z')\n",
    "\n",
    "# define os sistema de N equações\n",
    "eq1 = sp.Eq(x   + y + z, 10)             \n",
    "eq2 = sp.Eq(2*x - y + z, 1)  \n",
    "eq3 = sp.Eq(5*x - 2*y + 3*z, 5)  \n",
    "\n",
    "print('Sistema de equações lineares:')\n",
    "display(eq1, eq2, eq3) \n",
    "\n",
    "# resolve o sistema\n",
    "soluc = sp.solve((eq1, eq2, eq3), dict=True)\n",
    "soluc = soluc[0]\n",
    "\n",
    "x = soluc[x]\n",
    "y = soluc[y]\n",
    "z = soluc[z]\n",
    "\n",
    "print('Solução do sistema:')\n",
    "symdisp('x =', x)\n",
    "symdisp('y =', y)\n",
    "symdisp('z =', z)"
   ]
  }
 ],
 "metadata": {
  "jupytext": {
   "encoding": "# -*- coding: utf-8 -*-",
   "formats": "ipynb,py:light"
  },
  "kernelspec": {
   "display_name": "Python 3 (ipykernel)",
   "language": "python",
   "name": "python3"
  },
  "language_info": {
   "codemirror_mode": {
    "name": "ipython",
    "version": 3
   },
   "file_extension": ".py",
   "mimetype": "text/x-python",
   "name": "python",
   "nbconvert_exporter": "python",
   "pygments_lexer": "ipython3",
   "version": "3.8.8"
  },
  "toc": {
   "base_numbering": 1,
   "nav_menu": {},
   "number_sections": true,
   "sideBar": true,
   "skip_h1_title": true,
   "title_cell": "Sumário",
   "title_sidebar": "Contents",
   "toc_cell": true,
   "toc_position": {
    "height": "calc(100% - 180px)",
    "left": "10px",
    "top": "150px",
    "width": "200.475px"
   },
   "toc_section_display": true,
   "toc_window_display": false
  }
 },
 "nbformat": 4,
 "nbformat_minor": 2
}
