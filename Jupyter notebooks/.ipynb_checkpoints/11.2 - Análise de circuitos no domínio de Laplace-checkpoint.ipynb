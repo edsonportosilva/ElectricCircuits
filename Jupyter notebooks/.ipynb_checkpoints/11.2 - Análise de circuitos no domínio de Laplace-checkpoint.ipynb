{
 "cells": [
  {
   "cell_type": "markdown",
   "metadata": {
    "colab_type": "text",
    "id": "view-in-github"
   },
   "source": [
    "<a href=\"https://colab.research.google.com/github/edsonportosilva/ElectricCircuits/blob/master/Jupyter%20notebooks/Circuitos%20El%C3%A9tricos%20I%20-%20Semana%2011.2%20-%20An%C3%A1lise%20de%20circuitos%20no%20dom%C3%ADnio%20de%20Laplace.ipynb\" target=\"_parent\"><img src=\"https://colab.research.google.com/assets/colab-badge.svg\" alt=\"Open In Colab\"/></a>"
   ]
  },
  {
   "cell_type": "code",
   "execution_count": 1,
   "metadata": {
    "ExecuteTime": {
     "end_time": "2025-02-25T19:28:14.239873Z",
     "start_time": "2025-02-25T19:28:14.232170Z"
    },
    "id": "tv8FnmLnV8mI",
    "outputId": "dc8322f3-39e1-40b5-a165-a849fa132961"
   },
   "outputs": [],
   "source": [
    "from IPython.core.display import HTML\n",
    "HTML(\"\"\"\n",
    "<style>\n",
    ".output_png {\n",
    "    display: table-cell;\n",
    "    text-align: center;\n",
    "    vertical-align: middle;\n",
    "}\n",
    "</style>\n",
    "\"\"\")\n",
    "\n",
    "if 'google.colab' in str(get_ipython()):    \n",
    "    ! git clone -b master https://github.com/edsonportosilva/ElectricCircuits\n",
    "    from os import chdir as cd\n",
    "    cd('/content/ElectricCircuits/')\n",
    "    ! pip install -e ."
   ]
  },
  {
   "cell_type": "code",
   "execution_count": 2,
   "metadata": {
    "ExecuteTime": {
     "end_time": "2025-02-25T19:28:15.542301Z",
     "start_time": "2025-02-25T19:28:14.240894Z"
    },
    "id": "LNKjNQzHV8mL"
   },
   "outputs": [],
   "source": [
    "import matplotlib.pyplot as plt\n",
    "import numpy as np\n",
    "import sympy as sp\n",
    "\n",
    "from circuit.utils import round_expr, symdisp, symplot, set_preferences\n",
    "from circuit.laplace import adjustCoeff, expandDenom, partFrac\n",
    "from circuit.laplace import laplaceT as LT\n",
    "from circuit.laplace import invLaplaceT as invLT\n",
    "\n",
    "# temp workaround\n",
    "import warnings\n",
    "from matplotlib import MatplotlibDeprecationWarning\n",
    "warnings.filterwarnings('ignore', category=MatplotlibDeprecationWarning)\n",
    "\n",
    "plt.rcParams['figure.figsize'] = 6, 4\n",
    "plt.rcParams['legend.fontsize'] = 13\n",
    "plt.rcParams['lines.linewidth'] = 2\n",
    "plt.rcParams['axes.grid'] = False\n",
    "\n",
    "try:\n",
    "    import scienceplots\n",
    "except:\n",
    "    ! pip install SciencePlots\n",
    "    \n",
    "import matplotlib.pyplot as plt\n",
    "plt.style.use(['science'])\n",
    "set_preferences()"
   ]
  },
  {
   "cell_type": "code",
   "execution_count": 3,
   "metadata": {
    "ExecuteTime": {
     "end_time": "2025-02-25T19:28:15.545683Z",
     "start_time": "2025-02-25T19:28:15.543329Z"
    },
    "id": "Dw_2I2F8V8mM"
   },
   "outputs": [],
   "source": [
    "sp.init_printing()"
   ]
  },
  {
   "cell_type": "markdown",
   "metadata": {
    "id": "P36uXgAVV8mN"
   },
   "source": [
    "#### Definindo algumas variáveis simbólicas de interesse"
   ]
  },
  {
   "cell_type": "code",
   "execution_count": 4,
   "metadata": {
    "ExecuteTime": {
     "end_time": "2025-02-25T19:28:15.562007Z",
     "start_time": "2025-02-25T19:28:15.547702Z"
    },
    "id": "ku-GxaZAV8mO"
   },
   "outputs": [],
   "source": [
    "s  = sp.symbols('s')\n",
    "a, t = sp.symbols('a, t', real=True)\n",
    "omega = sp.symbols('omega', real=True)\n",
    "u = sp.Heaviside(t)"
   ]
  },
  {
   "cell_type": "markdown",
   "metadata": {
    "id": "9aIpp0HdV8mP"
   },
   "source": [
    "# *Circuitos Elétricos I - Semana 11*"
   ]
  },
  {
   "cell_type": "markdown",
   "metadata": {
    "id": "CDtctZKQV8mP"
   },
   "source": [
    "### A integral de Laplace\n",
    "\n",
    "Seja $f(t)$ uma função definida no intervalo $0\\leq t \\leq \\infty$, com $t$ e $f(t)$ reais, então a função $F(s)$, definida pela integral de Laplace\n",
    "\n",
    "$$\\large\n",
    "\\begin{equation}\n",
    "F(s)=\\mathcal{L}\\{f(t)\\}=\\int_{0}^{\\infty} f(t) e^{-s t} dt,\\;\\; s \\in \\mathbb{C},\n",
    "\\end{equation}\n",
    "$$\n",
    "\n",
    "é conhecida como a transformada de Laplace de $f(t)$."
   ]
  },
  {
   "cell_type": "markdown",
   "metadata": {
    "id": "B586f5MPV8mQ"
   },
   "source": [
    "## Leis de Kirchhoff no domínio de Laplace\n",
    "\n",
    "\n",
    "### Lei de Kirchhoff das tensões (LKT)\n",
    "\n",
    "Para qualquer malha fechada no circuito:\n",
    "\n",
    "Domínio do tempo: $$v_{1}(t)+v_{2}(t)+\\cdots+v_{n}(t)=0$$\n",
    "\n",
    "Domínio de Laplace: $$V_{1}(s)+V_{2}(s)+\\cdots+V_{n}(s)=0$$\n",
    "\n",
    "### Lei de Kirchhoff das correntes (LKC)\n",
    "\n",
    "Para qualquer nó no circuito:\n",
    "\n",
    "Domínio do tempo: $$i_{1}(t)+i_{2}(t)+\\cdots+i_{n}(t)=0$$\n",
    "\n",
    "Domínio de Laplace: $$I_{1}(s)+I_{2}(s)+\\cdots+I_{n}(s)=0$$\n"
   ]
  },
  {
   "cell_type": "markdown",
   "metadata": {
    "id": "l9gurJgpV8mQ"
   },
   "source": [
    "## Representação de elementos ideais de circuitos no domínio de Laplace\n",
    "\n",
    "$$\n",
    "\\begin{array}{|c|c|c|c|} \n",
    "\\hline\n",
    "\\text{Elemento ideal} & \\text{ Tensão vs corrente (tempo) } & \\text{ Tensão vs corrente (Laplace)} & \\text{Impedância } Z(s) = V(s)/I(s)\\\\\n",
    "\\hline \\text{Resistor} & v(t)=R i(t) & V(s)=R I(s) & Z_{R}(s)=R \\\\\n",
    "\\text{Indutor} & v(t)=L \\frac{d i(t)}{d t} & V(s)=s L I(s)-L i(0) & Z_{L}(s)=s L \\\\\n",
    "\\text{Capacitor} & v(t)=\\frac{1}{C} \\int_{0}^{t} i(\\tau)d\\tau+v(0) & V(s)=\\frac{I(s)}{s C}+\\frac{v(0)}{s} & Z_{C}(s)=\\frac{1}{s C} \\\\ \\hline\n",
    "\\end{array}\n",
    "$$"
   ]
  },
  {
   "cell_type": "markdown",
   "metadata": {
    "id": "K6-Zfa7fV8mR"
   },
   "source": [
    "### Problema 1\n",
    "\n",
    "Não existe nenhuma energia armazenada no circuito da figura a seguir no momento em que a fonte de corrente é ligada.\n",
    "\n",
    "<img src=\"https://github.com/edsonportosilva/ElectricCircuits/blob/master/Jupyter%20notebooks/figures/J14C1.png?raw=1\" width=\"500\">\n",
    "\n",
    "a. Determine $I_a(s)$ e $I_b(s)$.\\\n",
    "b. Determine $i_a(t)$ e $i_b(t)$.\\\n",
    "c. Determine $V_a(s)$, $V_b(s)$ e $V_c(s)$.\\\n",
    "d. Determine $v_a(t)$, $v_b(t)$ e $v_c(t)$."
   ]
  },
  {
   "cell_type": "markdown",
   "metadata": {
    "id": "gGG0jl4QV8mR"
   },
   "source": [
    "<img src=\"https://github.com/edsonportosilva/ElectricCircuits/blob/master/Jupyter%20notebooks/figures/J14C2.png?raw=1\" width=\"500\">"
   ]
  },
  {
   "cell_type": "markdown",
   "metadata": {
    "id": "xDltYQcWV8mS"
   },
   "source": [
    "a. Determinando $I_a(s)$ e $I_b(s)$:"
   ]
  },
  {
   "cell_type": "code",
   "execution_count": 5,
   "metadata": {
    "ExecuteTime": {
     "end_time": "2025-02-25T19:28:15.639000Z",
     "start_time": "2025-02-25T19:28:15.563011Z"
    },
    "id": "_cqvt3GAV8mS",
    "outputId": "4030ae96-412d-4a09-c20b-471297915bd8"
   },
   "outputs": [
    {
     "name": "stdout",
     "output_type": "stream",
     "text": [
      "Correntes de malha no domínio de Laplace: \n",
      "\n"
     ]
    },
    {
     "data": {
      "text/latex": [
       "$\\displaystyle I_1(s) =\\frac{4}{s}\\;\\mathrm{As}$"
      ],
      "text/plain": [
       "<IPython.core.display.Math object>"
      ]
     },
     "metadata": {},
     "output_type": "display_data"
    },
    {
     "data": {
      "text/latex": [
       "$\\displaystyle I_2(s) =\\frac{4 s + 8}{s^{2} + 6 s}\\;\\mathrm{As}$"
      ],
      "text/plain": [
       "<IPython.core.display.Math object>"
      ]
     },
     "metadata": {},
     "output_type": "display_data"
    },
    {
     "data": {
      "text/latex": [
       "$\\displaystyle I_3(s) =\\frac{16}{s^{2} + 6 s}\\;\\mathrm{As}$"
      ],
      "text/plain": [
       "<IPython.core.display.Math object>"
      ]
     },
     "metadata": {},
     "output_type": "display_data"
    }
   ],
   "source": [
    "I2, I3, s = sp.symbols('I2, I3, s')\n",
    "\n",
    "# define os sistema de equações\n",
    "eq1 = sp.Eq((4 + s)*I2 - 2*I3, 4)             \n",
    "eq2 = sp.Eq(-2*s*I2 + s*(4 + s)*I3, 8)  \n",
    "\n",
    "# resolve o sistema\n",
    "soluc = sp.solve([eq1, eq2],[I2, I3], dict=True)\n",
    "soluc\n",
    "\n",
    "I2 = [sol[I2] for sol in soluc]\n",
    "I3 = [sol[I3] for sol in soluc]\n",
    "\n",
    "I1 = 4/s\n",
    "I2 = I2[0]\n",
    "I3 = I3[0]\n",
    "\n",
    "print('Correntes de malha no domínio de Laplace: \\n')\n",
    "symdisp('I_1(s) =', I1, 'As')\n",
    "symdisp('I_2(s) =', I2, 'As')\n",
    "symdisp('I_3(s) =', I3, 'As')"
   ]
  },
  {
   "cell_type": "code",
   "execution_count": 6,
   "metadata": {
    "ExecuteTime": {
     "end_time": "2025-02-25T19:28:15.851680Z",
     "start_time": "2025-02-25T19:28:15.640005Z"
    },
    "id": "hJ_WRU6TV8mS",
    "outputId": "8d8ab3be-6676-45da-87f3-44deeadfe41e"
   },
   "outputs": [
    {
     "data": {
      "text/latex": [
       "$\\displaystyle I_a(s) =\\frac{16}{s \\left(s + 6\\right)}\\;\\mathrm{As}$"
      ],
      "text/plain": [
       "<IPython.core.display.Math object>"
      ]
     },
     "metadata": {},
     "output_type": "display_data"
    }
   ],
   "source": [
    "# Calculando Ia\n",
    "Ia = I1-I2\n",
    "Ia = Ia.simplify()\n",
    "\n",
    "symdisp('I_a(s) =', Ia, 'As')"
   ]
  },
  {
   "cell_type": "code",
   "execution_count": 7,
   "metadata": {
    "ExecuteTime": {
     "end_time": "2025-02-25T19:28:15.870314Z",
     "start_time": "2025-02-25T19:28:15.852710Z"
    },
    "id": "AN0_8_SfV8mT",
    "outputId": "d7c2cc9b-2642-49e6-a5a1-f01430d1c684"
   },
   "outputs": [
    {
     "data": {
      "text/latex": [
       "$\\displaystyle I_b(s) =\\frac{4 \\left(s + 2\\right)}{s \\left(s + 6\\right)}\\;\\mathrm{As}$"
      ],
      "text/plain": [
       "<IPython.core.display.Math object>"
      ]
     },
     "metadata": {},
     "output_type": "display_data"
    }
   ],
   "source": [
    "# Calculando Ib\n",
    "Ib = I2\n",
    "\n",
    "symdisp('I_b(s) =', Ib.simplify(), 'As')"
   ]
  },
  {
   "cell_type": "markdown",
   "metadata": {
    "id": "EHZTTuJhV8mT"
   },
   "source": [
    "b. Determinando $i_a(t)$ e $i_b(t)$"
   ]
  },
  {
   "cell_type": "code",
   "execution_count": 8,
   "metadata": {
    "ExecuteTime": {
     "end_time": "2025-02-25T19:28:15.892823Z",
     "start_time": "2025-02-25T19:28:15.871568Z"
    },
    "id": "ZNcZYGocV8mT",
    "outputId": "f6f800bd-0e60-42f4-8eb7-5f8a1788bf70"
   },
   "outputs": [
    {
     "data": {
      "text/latex": [
       "$\\displaystyle I_a(s) =- \\frac{2.67}{s + 6.0} + \\frac{2.67}{s}\\;\\mathrm{As}$"
      ],
      "text/plain": [
       "<IPython.core.display.Math object>"
      ]
     },
     "metadata": {},
     "output_type": "display_data"
    }
   ],
   "source": [
    "symdisp('I_a(s) =', round_expr(partFrac(Ia),2), 'As')"
   ]
  },
  {
   "cell_type": "code",
   "execution_count": 9,
   "metadata": {
    "ExecuteTime": {
     "end_time": "2025-02-25T19:28:15.945701Z",
     "start_time": "2025-02-25T19:28:15.894044Z"
    },
    "id": "v00DIDXmV8mU",
    "outputId": "a3a83404-7355-401c-c378-da8ab660d3bb"
   },
   "outputs": [
    {
     "data": {
      "text/latex": [
       "$\\displaystyle i_a(t) =2.67 - 2.67 e^{- 6.0 t}\\;\\mathrm{A}$"
      ],
      "text/plain": [
       "<IPython.core.display.Math object>"
      ]
     },
     "metadata": {},
     "output_type": "display_data"
    }
   ],
   "source": [
    "t = sp.symbols('t',real=True, positive=True)\n",
    "\n",
    "ia = invLT(Ia,s,t, partialFractions=True)\n",
    "\n",
    "symdisp('i_a(t) =', round_expr(ia,2), 'A')"
   ]
  },
  {
   "cell_type": "code",
   "execution_count": 10,
   "metadata": {
    "ExecuteTime": {
     "end_time": "2025-02-25T19:28:15.960256Z",
     "start_time": "2025-02-25T19:28:15.947807Z"
    },
    "id": "ezbWSo4JV8mU",
    "outputId": "efa875a1-28d8-4bd4-d6a0-bb9f2f534a4c"
   },
   "outputs": [
    {
     "data": {
      "text/latex": [
       "$\\displaystyle I_b(s) =\\frac{2.67}{s + 6.0} + \\frac{1.33}{s}\\;\\mathrm{As}$"
      ],
      "text/plain": [
       "<IPython.core.display.Math object>"
      ]
     },
     "metadata": {},
     "output_type": "display_data"
    }
   ],
   "source": [
    "symdisp('I_b(s) =', round_expr(partFrac(Ib),2), 'As')"
   ]
  },
  {
   "cell_type": "code",
   "execution_count": 11,
   "metadata": {
    "ExecuteTime": {
     "end_time": "2025-02-25T19:28:16.010154Z",
     "start_time": "2025-02-25T19:28:15.961256Z"
    },
    "id": "UOF5aQz6V8mU",
    "outputId": "84cef58c-4fb4-499e-a20b-17c322da4c56"
   },
   "outputs": [
    {
     "data": {
      "text/latex": [
       "$\\displaystyle i_b(t) =1.33 + 2.67 e^{- 6.0 t}\\;\\mathrm{A}$"
      ],
      "text/plain": [
       "<IPython.core.display.Math object>"
      ]
     },
     "metadata": {},
     "output_type": "display_data"
    }
   ],
   "source": [
    "ib = invLT(Ib,s,t, partialFractions=True)\n",
    "\n",
    "symdisp('i_b(t) =', round_expr(ib,2), 'A')"
   ]
  },
  {
   "cell_type": "markdown",
   "metadata": {
    "id": "uLBVs4hgV8mV"
   },
   "source": [
    "c. Determinando $V_a(s)$, $V_b(s)$ e $V_c(s)$."
   ]
  },
  {
   "cell_type": "code",
   "execution_count": 12,
   "metadata": {
    "ExecuteTime": {
     "end_time": "2025-02-25T19:28:16.082876Z",
     "start_time": "2025-02-25T19:28:16.010658Z"
    },
    "id": "cM_PfiQgV8mV",
    "outputId": "b4926814-f833-4531-80d7-90851ee0a116"
   },
   "outputs": [
    {
     "data": {
      "text/latex": [
       "$\\displaystyle V_a(s) =\\frac{400 \\left(s + 2\\right)}{s^{2} \\left(s + 6\\right)}\\;\\mathrm{Vs}$"
      ],
      "text/plain": [
       "<IPython.core.display.Math object>"
      ]
     },
     "metadata": {},
     "output_type": "display_data"
    },
    {
     "data": {
      "text/latex": [
       "$\\displaystyle V_b(s) =\\frac{400 \\cdot \\left(2 - s\\right)}{s^{2} \\left(s + 6\\right)}\\;\\mathrm{Vs}$"
      ],
      "text/plain": [
       "<IPython.core.display.Math object>"
      ]
     },
     "metadata": {},
     "output_type": "display_data"
    },
    {
     "data": {
      "text/latex": [
       "$\\displaystyle V_c(s) =\\frac{400 \\left(s + 2\\right)}{s^{2} \\left(s + 6\\right)}\\;\\mathrm{Vs}$"
      ],
      "text/plain": [
       "<IPython.core.display.Math object>"
      ]
     },
     "metadata": {},
     "output_type": "display_data"
    }
   ],
   "source": [
    "Va = (100/s)*I2\n",
    "Vb = (100/s)*(I3-I2)\n",
    "Vc = (100/s)*(I1-I3)\n",
    "\n",
    "Va = Va.simplify()\n",
    "Vb = Vb.simplify()\n",
    "Vc = Vc.simplify()\n",
    "\n",
    "symdisp('V_a(s) =', Va, 'Vs')\n",
    "symdisp('V_b(s) =', Vb, 'Vs')\n",
    "symdisp('V_c(s) =', Vc, 'Vs')"
   ]
  },
  {
   "cell_type": "code",
   "execution_count": 13,
   "metadata": {
    "ExecuteTime": {
     "end_time": "2025-02-25T19:28:16.108512Z",
     "start_time": "2025-02-25T19:28:16.083352Z"
    },
    "id": "g_9GVkpGV8mV",
    "outputId": "ab8cec0c-ce73-4123-f7e9-ec7d59a7f8ef"
   },
   "outputs": [
    {
     "data": {
      "text/latex": [
       "$\\displaystyle V_a(s) =- \\frac{44.44}{s + 6.0} + \\frac{44.44}{s} + \\frac{133.33}{s^{2}}\\;\\mathrm{Vs}$"
      ],
      "text/plain": [
       "<IPython.core.display.Math object>"
      ]
     },
     "metadata": {},
     "output_type": "display_data"
    }
   ],
   "source": [
    "symdisp('V_a(s) =', round_expr(partFrac(Va),2), 'Vs')"
   ]
  },
  {
   "cell_type": "code",
   "execution_count": 14,
   "metadata": {
    "ExecuteTime": {
     "end_time": "2025-02-25T19:28:16.126310Z",
     "start_time": "2025-02-25T19:28:16.109754Z"
    },
    "id": "A8iyxQ2FV8mX",
    "outputId": "f4c09050-1194-451e-8ef3-1859ff2881cc"
   },
   "outputs": [
    {
     "data": {
      "text/latex": [
       "$\\displaystyle V_b(s) =\\frac{88.89}{s + 6.0} - \\frac{88.89}{s} + \\frac{133.33}{s^{2}}\\;\\mathrm{Vs}$"
      ],
      "text/plain": [
       "<IPython.core.display.Math object>"
      ]
     },
     "metadata": {},
     "output_type": "display_data"
    }
   ],
   "source": [
    "symdisp('V_b(s) =', round_expr(partFrac(Vb),2), 'Vs')"
   ]
  },
  {
   "cell_type": "code",
   "execution_count": 15,
   "metadata": {
    "ExecuteTime": {
     "end_time": "2025-02-25T19:28:16.145612Z",
     "start_time": "2025-02-25T19:28:16.127315Z"
    },
    "id": "rpNyaONeV8mX",
    "outputId": "4fa0d8f2-e5fc-461d-ec55-6368e6624689"
   },
   "outputs": [
    {
     "data": {
      "text/latex": [
       "$\\displaystyle V_c(s) =- \\frac{44.44}{s + 6.0} + \\frac{44.44}{s} + \\frac{133.33}{s^{2}}\\;\\mathrm{Vs}$"
      ],
      "text/plain": [
       "<IPython.core.display.Math object>"
      ]
     },
     "metadata": {},
     "output_type": "display_data"
    }
   ],
   "source": [
    "symdisp('V_c(s) =', round_expr(partFrac(Vc),2), 'Vs')"
   ]
  },
  {
   "cell_type": "markdown",
   "metadata": {
    "id": "0IpgQuDTV8mX"
   },
   "source": [
    "d. Determinando $v_a(t)$, $v_b(t)$ e $v_c(t)$."
   ]
  },
  {
   "cell_type": "code",
   "execution_count": 16,
   "metadata": {
    "ExecuteTime": {
     "end_time": "2025-02-25T19:28:16.192553Z",
     "start_time": "2025-02-25T19:28:16.146619Z"
    },
    "id": "nl4SxN48V8mY",
    "outputId": "e79c9ac4-49e9-4e2e-e72e-14bd193589ae"
   },
   "outputs": [
    {
     "data": {
      "text/latex": [
       "$\\displaystyle v_a(t) =\\left(133.3333 t + 44.4444 - 44.4444 e^{- 6 t}\\right) \\theta\\left(t\\right)\\;\\mathrm{V}$"
      ],
      "text/plain": [
       "<IPython.core.display.Math object>"
      ]
     },
     "metadata": {},
     "output_type": "display_data"
    }
   ],
   "source": [
    "va = invLT(Va, s, t)\n",
    "va = round_expr(va,4)*u\n",
    "\n",
    "symdisp('v_a(t) =', va, 'V')"
   ]
  },
  {
   "cell_type": "code",
   "execution_count": 17,
   "metadata": {
    "ExecuteTime": {
     "end_time": "2025-02-25T19:28:16.231230Z",
     "start_time": "2025-02-25T19:28:16.193553Z"
    },
    "id": "vVQqhyUPV8mY",
    "outputId": "f65bacb2-667c-4659-c305-1da5225c0434"
   },
   "outputs": [
    {
     "data": {
      "text/latex": [
       "$\\displaystyle v_b(t) =\\left(133.333 t - 88.889 + 88.889 e^{- 6 t}\\right) \\theta\\left(t\\right)\\;\\mathrm{V}$"
      ],
      "text/plain": [
       "<IPython.core.display.Math object>"
      ]
     },
     "metadata": {},
     "output_type": "display_data"
    }
   ],
   "source": [
    "vb = invLT(Vb, s, t)\n",
    "vb = round_expr(vb,3)*u\n",
    "\n",
    "symdisp('v_b(t) =', vb, 'V')"
   ]
  },
  {
   "cell_type": "code",
   "execution_count": 18,
   "metadata": {
    "ExecuteTime": {
     "end_time": "2025-02-25T19:28:16.239720Z",
     "start_time": "2025-02-25T19:28:16.232558Z"
    },
    "id": "-yZQ4Q3aV8mY",
    "outputId": "3f4612e7-908d-4d4c-fc1b-3dfa41ccc465"
   },
   "outputs": [
    {
     "data": {
      "text/latex": [
       "$\\displaystyle v_c(t) =\\left(133.3333 t + 44.4444 - 44.4444 e^{- 6 t}\\right) \\theta\\left(t\\right)\\;\\mathrm{V}$"
      ],
      "text/plain": [
       "<IPython.core.display.Math object>"
      ]
     },
     "metadata": {},
     "output_type": "display_data"
    }
   ],
   "source": [
    "vc = va\n",
    "\n",
    "symdisp('v_c(t) =', vc, 'V')"
   ]
  },
  {
   "cell_type": "code",
   "execution_count": 19,
   "metadata": {
    "ExecuteTime": {
     "end_time": "2025-02-25T19:28:16.831643Z",
     "start_time": "2025-02-25T19:28:16.240727Z"
    },
    "id": "sjtr_EYmV8mY",
    "outputId": "9e9983f6-d5c4-4035-9a08-99b6c3d3c08f"
   },
   "outputs": [
    {
     "data": {
      "image/png": "[encoded data removed]",
      "text/plain": [
       "<Figure size 704x396 with 1 Axes>"
      ]
     },
     "execution_count": 19,
     "metadata": {},
     "output_type": "execute_result"
    }
   ],
   "source": [
    "# plota funções no domínio do tempo\n",
    "intervalo = np.arange(-4, 10, 0.01)\n",
    "symplot(t, [va, vb, vc], intervalo, ['$v_a(t)$','$v_b(t)$','$v_c(t)$'])"
   ]
  },
  {
   "cell_type": "markdown",
   "metadata": {
    "id": "7b59ix5LV8mZ"
   },
   "source": [
    "Pergunta: estas soluções fazem sentido para o circuito analisado?"
   ]
  },
  {
   "cell_type": "markdown",
   "metadata": {
    "id": "BUPN6YahV8mZ"
   },
   "source": [
    "### Problema 2\n",
    "\n",
    "Não existe nenhuma energia armazenada no circuito da figura a seguir no momento em que a fonte de tensão é conectada.\n",
    "\n",
    "<img src=\"https://github.com/edsonportosilva/ElectricCircuits/blob/master/Jupyter%20notebooks/figures/J14C3.png?raw=1\" width=\"600\">\n",
    "\n",
    "a. Determine $V_0(s)$.\\\n",
    "b. Determine $v_0(t)$."
   ]
  },
  {
   "cell_type": "markdown",
   "metadata": {
    "id": "lC6CYIRgV8mZ"
   },
   "source": [
    "<img src=\"https://github.com/edsonportosilva/ElectricCircuits/blob/master/Jupyter%20notebooks/figures/J14C4.png?raw=1\" width=\"600\">"
   ]
  },
  {
   "cell_type": "code",
   "execution_count": 20,
   "metadata": {
    "ExecuteTime": {
     "end_time": "2025-02-25T19:28:16.874642Z",
     "start_time": "2025-02-25T19:28:16.832647Z"
    },
    "id": "DZBOCABOV8mZ"
   },
   "outputs": [],
   "source": [
    "Ia, Ib, s = sp.symbols('Ia, Ib, s')\n",
    "\n",
    "# define o sistema de equações\n",
    "eq1 = sp.Eq(10*Ia + (s + 250/s)*Ib, 35/s)             \n",
    "eq2 = sp.Eq(Ia - (1 + 0.4*s)*Ib, 0)\n",
    "\n",
    "# resolve o sistema\n",
    "soluc = sp.solve([eq1, eq2],[Ia, Ib], dict=True)\n",
    "soluc\n",
    "\n",
    "Ia = [sol[Ia] for sol in soluc]\n",
    "Ib = [sol[Ib] for sol in soluc]\n",
    "\n",
    "Ia = Ia[0]\n",
    "Ib = Ib[0]"
   ]
  },
  {
   "cell_type": "code",
   "execution_count": 21,
   "metadata": {
    "ExecuteTime": {
     "end_time": "2025-02-25T19:28:16.905959Z",
     "start_time": "2025-02-25T19:28:16.875662Z"
    },
    "id": "Wr8eYzwSV8mZ",
    "outputId": "7064c064-edc2-45b7-e484-a8a17b530772"
   },
   "outputs": [
    {
     "data": {
      "text/latex": [
       "$\\displaystyle I_a(s) =\\frac{14.0 s + 35.0}{5.0 s^{2} + 10.0 s + 250.0}\\;\\mathrm{As}$"
      ],
      "text/plain": [
       "<IPython.core.display.Math object>"
      ]
     },
     "metadata": {},
     "output_type": "display_data"
    }
   ],
   "source": [
    "symdisp('I_a(s) =', Ia.simplify(), 'As')"
   ]
  },
  {
   "cell_type": "code",
   "execution_count": 22,
   "metadata": {
    "ExecuteTime": {
     "end_time": "2025-02-25T19:28:16.939414Z",
     "start_time": "2025-02-25T19:28:16.906963Z"
    },
    "id": "YHcmTWQ1V8mZ",
    "outputId": "10925e2a-020d-48da-d5df-d885698b39d2"
   },
   "outputs": [
    {
     "data": {
      "text/latex": [
       "$\\displaystyle I_b(s) =\\frac{7.0}{s^{2} + 2.0 s + 50.0}\\;\\mathrm{As}$"
      ],
      "text/plain": [
       "<IPython.core.display.Math object>"
      ]
     },
     "metadata": {},
     "output_type": "display_data"
    }
   ],
   "source": [
    "symdisp('I_b(s) =', Ib.simplify(), 'As')"
   ]
  },
  {
   "cell_type": "code",
   "execution_count": 23,
   "metadata": {
    "ExecuteTime": {
     "end_time": "2025-02-25T19:28:17.012016Z",
     "start_time": "2025-02-25T19:28:16.940484Z"
    },
    "id": "davxp05nV8ma",
    "outputId": "cb0b692f-6f4e-40df-8892-a07efe3420e2"
   },
   "outputs": [
    {
     "data": {
      "text/latex": [
       "$\\displaystyle V_0(s) =\\frac{147.0 s^{2} + 280.0 s + 8750.0}{s \\left(5.0 s^{2} + 10.0 s + 250.0\\right)}\\;\\mathrm{Vs}$"
      ],
      "text/plain": [
       "<IPython.core.display.Math object>"
      ]
     },
     "metadata": {},
     "output_type": "display_data"
    }
   ],
   "source": [
    "V0 = 35/s - 2*Ia\n",
    "\n",
    "symdisp('V_0(s) =', V0.simplify(), 'Vs')"
   ]
  },
  {
   "cell_type": "code",
   "execution_count": 24,
   "metadata": {
    "ExecuteTime": {
     "end_time": "2025-02-25T19:28:17.058650Z",
     "start_time": "2025-02-25T19:28:17.013019Z"
    },
    "id": "0p9jLv8IV8ma",
    "outputId": "90d19806-8085-4a90-a37f-fb42f638f84a"
   },
   "outputs": [
    {
     "data": {
      "text/latex": [
       "$\\displaystyle V_0(s) =\\frac{-2.8 - 0.6 i}{s + 1.0 + 7.0 i} + \\frac{-2.8 + 0.6 i}{s + 1.0 - 7.0 i} + \\frac{35.0}{s}\\;\\mathrm{Vs}$"
      ],
      "text/plain": [
       "<IPython.core.display.Math object>"
      ]
     },
     "metadata": {},
     "output_type": "display_data"
    }
   ],
   "source": [
    "symdisp('V_0(s) =', partFrac(V0), 'Vs')"
   ]
  },
  {
   "cell_type": "code",
   "execution_count": 25,
   "metadata": {
    "ExecuteTime": {
     "end_time": "2025-02-25T19:28:17.064081Z",
     "start_time": "2025-02-25T19:28:17.059654Z"
    },
    "id": "m5NcG_8vV8ma",
    "outputId": "84a50bd6-e0d3-4c9c-f0bd-6b2b207ea8b1"
   },
   "outputs": [
    {
     "data": {
      "text/plain": [
       "array([-1.+7.j, -1.-7.j,  0.+0.j])"
      ]
     },
     "execution_count": 25,
     "metadata": {},
     "output_type": "execute_result"
    }
   ],
   "source": [
    "raizes = np.roots([5, 10, 250, 0])\n",
    "raizes"
   ]
  },
  {
   "cell_type": "code",
   "execution_count": 26,
   "metadata": {
    "ExecuteTime": {
     "end_time": "2025-02-25T19:28:17.183645Z",
     "start_time": "2025-02-25T19:28:17.065087Z"
    },
    "id": "X0iMBpDJV8ma",
    "outputId": "b5fb41f1-4836-4c6e-8ee2-98338b86be6a"
   },
   "outputs": [
    {
     "data": {
      "text/latex": [
       "$\\displaystyle F(s) =\\frac{K}{s + σ + i ω} + \\frac{\\overline{K}}{s + σ - i ω}\\;\\mathrm{ }$"
      ],
      "text/plain": [
       "<IPython.core.display.Math object>"
      ]
     },
     "metadata": {},
     "output_type": "display_data"
    }
   ],
   "source": [
    "K    = sp.symbols('K')\n",
    "σ, ω = sp.symbols('σ, ω', real=True, positive=True)\n",
    "\n",
    "j = sp.I\n",
    "\n",
    "F = K/(s + σ + ω*j) + sp.conjugate(K)/(s + σ - ω*j)\n",
    "\n",
    "symdisp('F(s) =', F.simplify())"
   ]
  },
  {
   "cell_type": "code",
   "execution_count": 27,
   "metadata": {
    "ExecuteTime": {
     "end_time": "2025-02-25T19:28:17.315632Z",
     "start_time": "2025-02-25T19:28:17.184650Z"
    },
    "id": "YqiiFk5IV8mb",
    "outputId": "226ad186-5ae7-4717-abd1-aab4c8644272"
   },
   "outputs": [
    {
     "data": {
      "text/latex": [
       "$\\displaystyle f(t) =\\left(\\operatorname{re}{\\left(K e^{- i t ω}\\right)} + \\operatorname{re}{\\left(e^{i t ω} \\overline{K}\\right)}\\right) e^{- t σ}\\;\\mathrm{ }$"
      ],
      "text/plain": [
       "<IPython.core.display.Math object>"
      ]
     },
     "metadata": {},
     "output_type": "display_data"
    }
   ],
   "source": [
    "symdisp('f(t) =', sp.re(sp.inverse_laplace_transform(F, s, t).simplify()))"
   ]
  },
  {
   "cell_type": "code",
   "execution_count": 28,
   "metadata": {
    "ExecuteTime": {
     "end_time": "2025-02-25T19:28:17.476882Z",
     "start_time": "2025-02-25T19:28:17.318913Z"
    },
    "id": "LjlGrdWkV8mb",
    "outputId": "808ed847-ca7e-4271-a4bf-cb2b585dce0d"
   },
   "outputs": [
    {
     "data": {
      "text/latex": [
       "$\\displaystyle v_0(t) =\\left(35.0 - 1.2 e^{- 1.0 t} \\sin{\\left(7.0 t \\right)} - 5.6 e^{- 1.0 t} \\cos{\\left(7.0 t \\right)}\\right) \\theta\\left(t\\right)\\;\\mathrm{ }$"
      ],
      "text/plain": [
       "<IPython.core.display.Math object>"
      ]
     },
     "metadata": {},
     "output_type": "display_data"
    }
   ],
   "source": [
    "v0 = invLT(V0, s, t, partialFractions=True)\n",
    "v0 = round_expr(v0,2)*u\n",
    "\n",
    "symdisp('v_0(t) =', v0)"
   ]
  },
  {
   "cell_type": "code",
   "execution_count": 29,
   "metadata": {
    "ExecuteTime": {
     "end_time": "2025-02-25T19:28:17.670321Z",
     "start_time": "2025-02-25T19:28:17.477886Z"
    },
    "id": "ivadXkoyV8mb",
    "outputId": "dab9f945-42a3-40f6-e978-b5455a739564"
   },
   "outputs": [
    {
     "data": {
      "image/png": "[encoded data removed]",
      "text/plain": [
       "<Figure size 704x396 with 1 Axes>"
      ]
     },
     "execution_count": 29,
     "metadata": {},
     "output_type": "execute_result"
    }
   ],
   "source": [
    "# plota funções no domínio do tempo\n",
    "intervalo = np.arange(-4, 10, 0.05)\n",
    "symplot(t, v0, intervalo, '$v_0(t)$')"
   ]
  },
  {
   "cell_type": "markdown",
   "metadata": {},
   "source": [
    "### Problema 3\n",
    "\n",
    "Problema visto nos slides da aula 24.\n",
    "\n",
    "Simulação: https://tinyurl.com/23gkm54o"
   ]
  },
  {
   "cell_type": "markdown",
   "metadata": {},
   "source": [
    "**Resolução via tensões de nó**"
   ]
  },
  {
   "cell_type": "code",
   "execution_count": 30,
   "metadata": {
    "ExecuteTime": {
     "end_time": "2025-02-25T19:28:17.731474Z",
     "start_time": "2025-02-25T19:28:17.671446Z"
    },
    "hide_input": true
   },
   "outputs": [
    {
     "name": "stdout",
     "output_type": "stream",
     "text": [
      "Sistema de equações via tensões de nó:\n"
     ]
    },
    {
     "data": {
      "text/latex": [
       "$\\displaystyle (1):- \\frac{V_{1}}{10} + \\frac{60}{s} = 0.1 V_{1} s + \\frac{V_{1} - V_{2}}{20 s}\\;\\mathrm{ }$"
      ],
      "text/plain": [
       "<IPython.core.display.Math object>"
      ]
     },
     "metadata": {},
     "output_type": "display_data"
    },
    {
     "data": {
      "text/latex": [
       "$\\displaystyle (2):\\frac{V_{1} - V_{2}}{20 s} = \\frac{V_{1}}{4} + \\frac{V_{2}}{140}\\;\\mathrm{ }$"
      ],
      "text/plain": [
       "<IPython.core.display.Math object>"
      ]
     },
     "metadata": {},
     "output_type": "display_data"
    }
   ],
   "source": [
    "# tensão de nó\n",
    "V1, V2, s = sp.symbols('V_1, V_2, s')\n",
    "\n",
    "C = 100e-3\n",
    "L = 20\n",
    "Vg = 600/s\n",
    "\n",
    "ZC = 1/(s*C)\n",
    "ZL = s*L \n",
    "\n",
    "# define o sistema de equações\n",
    "eq1 = sp.Eq((Vg - V1)/10, (V1 - V2)/ZL + V1/ZC)             \n",
    "eq2 = sp.Eq((V1 - V2)/ZL, V2/140 + V1/4)\n",
    "\n",
    "print('Sistema de equações via tensões de nó:')\n",
    "symdisp('(1):', eq1)\n",
    "symdisp('(2):', eq2)\n",
    "\n",
    "# resolve o sistema\n",
    "soluc = sp.solve([eq1, eq2],[V1, V2], dict=True)[0]\n",
    "\n",
    "V1 = soluc[V1]\n",
    "V2 = soluc[V2]"
   ]
  },
  {
   "cell_type": "code",
   "execution_count": 31,
   "metadata": {
    "ExecuteTime": {
     "end_time": "2025-02-25T19:28:17.818441Z",
     "start_time": "2025-02-25T19:28:17.732724Z"
    },
    "hide_input": true
   },
   "outputs": [
    {
     "name": "stdout",
     "output_type": "stream",
     "text": [
      "Solução do sistema:\n"
     ]
    },
    {
     "data": {
      "text/latex": [
       "$\\displaystyle V_1(s) =\\frac{600.0 s + 4200.0}{s \\left(s^{2} + 8.0 s + 25.0\\right)}\\;\\mathrm{Vs}$"
      ],
      "text/plain": [
       "<IPython.core.display.Math object>"
      ]
     },
     "metadata": {},
     "output_type": "display_data"
    },
    {
     "data": {
      "text/latex": [
       "$\\displaystyle V_2(s) =\\frac{4200.0 - 21000.0 s}{s \\left(s^{2} + 8.0 s + 25.0\\right)}\\;\\mathrm{Vs}$"
      ],
      "text/plain": [
       "<IPython.core.display.Math object>"
      ]
     },
     "metadata": {},
     "output_type": "display_data"
    }
   ],
   "source": [
    "print('Solução do sistema:')\n",
    "symdisp('V_1(s) =', V1.simplify(), 'Vs')\n",
    "symdisp('V_2(s) =', V2.simplify(), 'Vs')"
   ]
  },
  {
   "cell_type": "code",
   "execution_count": 32,
   "metadata": {
    "ExecuteTime": {
     "end_time": "2025-02-25T19:28:17.843559Z",
     "start_time": "2025-02-25T19:28:17.819444Z"
    },
    "hide_input": true
   },
   "outputs": [
    {
     "data": {
      "text/latex": [
       "$\\displaystyle V_0(s) =\\frac{4200.0 - 21000.0 s}{s \\left(s^{2} + 8.0 s + 25.0\\right)}\\;\\mathrm{Vs}$"
      ],
      "text/plain": [
       "<IPython.core.display.Math object>"
      ]
     },
     "metadata": {},
     "output_type": "display_data"
    }
   ],
   "source": [
    "symdisp('V_0(s) =', V2.simplify(), 'Vs')"
   ]
  },
  {
   "cell_type": "code",
   "execution_count": 33,
   "metadata": {
    "ExecuteTime": {
     "end_time": "2025-02-25T19:28:17.881296Z",
     "start_time": "2025-02-25T19:28:17.844566Z"
    },
    "hide_input": true
   },
   "outputs": [
    {
     "data": {
      "text/latex": [
       "$\\displaystyle V_0(s) =\\frac{-84.0 - 3612.0 i}{s + 4.0 + 3.0 i} + \\frac{-84.0 + 3612.0 i}{s + 4.0 - 3.0 i} + \\frac{168.0}{s}\\;\\mathrm{Vs}$"
      ],
      "text/plain": [
       "<IPython.core.display.Math object>"
      ]
     },
     "metadata": {},
     "output_type": "display_data"
    }
   ],
   "source": [
    "V0 = V2\n",
    "symdisp('V_0(s) =', partFrac(V0), 'Vs')"
   ]
  },
  {
   "cell_type": "code",
   "execution_count": 34,
   "metadata": {
    "ExecuteTime": {
     "end_time": "2025-02-25T19:28:17.998806Z",
     "start_time": "2025-02-25T19:28:17.882298Z"
    },
    "hide_input": false
   },
   "outputs": [
    {
     "data": {
      "text/latex": [
       "$\\displaystyle v_0(t) =168.0 - 7224.0 e^{- 4.0 t} \\sin{\\left(3.0 t \\right)} - 168.0 e^{- 4.0 t} \\cos{\\left(3.0 t \\right)}\\;\\mathrm{V}$"
      ],
      "text/plain": [
       "<IPython.core.display.Math object>"
      ]
     },
     "metadata": {},
     "output_type": "display_data"
    }
   ],
   "source": [
    "v0 = invLT(V0, s, t, partialFractions=True)\n",
    "symdisp('v_0(t) =', v0, 'V')"
   ]
  },
  {
   "cell_type": "code",
   "execution_count": 35,
   "metadata": {
    "ExecuteTime": {
     "end_time": "2025-02-25T19:28:18.192596Z",
     "start_time": "2025-02-25T19:28:17.999815Z"
    },
    "hide_input": false
   },
   "outputs": [
    {
     "data": {
      "image/png": "[encoded data removed]",
      "text/plain": [
       "<Figure size 704x396 with 1 Axes>"
      ]
     },
     "execution_count": 35,
     "metadata": {},
     "output_type": "execute_result"
    }
   ],
   "source": [
    "# plota funções no domínio do tempo\n",
    "intervalo = np.arange(-0.25, 2.5, 0.005)\n",
    "symplot(t, v0*u, intervalo, '$v_0(t)$')"
   ]
  },
  {
   "cell_type": "markdown",
   "metadata": {},
   "source": [
    " **Resolução via correntes de malha**"
   ]
  },
  {
   "cell_type": "code",
   "execution_count": 36,
   "metadata": {
    "ExecuteTime": {
     "end_time": "2025-02-25T19:28:18.261574Z",
     "start_time": "2025-02-25T19:28:18.193817Z"
    },
    "hide_input": true
   },
   "outputs": [
    {
     "name": "stdout",
     "output_type": "stream",
     "text": [
      "Sistema de equações via correntes de malha:\n"
     ]
    },
    {
     "data": {
      "text/latex": [
       "$\\displaystyle (1):10 I_{a} + 10 I_{c} + \\frac{10.0 \\left(I_{a} - I_{b}\\right)}{s} - \\frac{600}{s} = 0\\;\\mathrm{ }$"
      ],
      "text/plain": [
       "<IPython.core.display.Math object>"
      ]
     },
     "metadata": {},
     "output_type": "display_data"
    },
    {
     "data": {
      "text/latex": [
       "$\\displaystyle (2):140 I_{b} + 20 s \\left(I_{b} + I_{c}\\right) - \\frac{10.0 \\left(I_{a} - I_{b}\\right)}{s} = 0\\;\\mathrm{ }$"
      ],
      "text/plain": [
       "<IPython.core.display.Math object>"
      ]
     },
     "metadata": {},
     "output_type": "display_data"
    },
    {
     "data": {
      "text/latex": [
       "$\\displaystyle (3):I_{c} = \\frac{2.5 \\left(I_{a} - I_{b}\\right)}{s}\\;\\mathrm{ }$"
      ],
      "text/plain": [
       "<IPython.core.display.Math object>"
      ]
     },
     "metadata": {},
     "output_type": "display_data"
    }
   ],
   "source": [
    "# Correntes de malha\n",
    "Ia, Ib, Ic, s = sp.symbols('I_a, I_b, I_c, s')\n",
    "\n",
    "C = 100e-3\n",
    "L = 20\n",
    "Vg = 600/s\n",
    "\n",
    "ZC = 1/(s*C)\n",
    "ZL = s*L \n",
    "\n",
    "Vϕ = ZC*(Ia - Ib)\n",
    "\n",
    "# define o sistema de equações\n",
    "eq1 = sp.Eq(-Vg + 10*(Ia + Ic) + ZC*(Ia-Ib), 0)             \n",
    "eq2 = sp.Eq(-ZC*(Ia-Ib) + ZL*(Ib + Ic) + 140*Ib,0)\n",
    "eq3 = sp.Eq(Ic, Vϕ/4)\n",
    "\n",
    "print('Sistema de equações via correntes de malha:')\n",
    "symdisp('(1):', eq1)\n",
    "symdisp('(2):', eq2)\n",
    "symdisp('(3):', eq3)\n",
    "\n",
    "# resolve o sistema\n",
    "soluc = sp.solve([eq1, eq2, eq3],[Ia, Ib, Ic], dict=True)[0]\n",
    "\n",
    "Ia = soluc[Ia]\n",
    "Ib = soluc[Ib]\n",
    "Ic = soluc[Ic]"
   ]
  },
  {
   "cell_type": "code",
   "execution_count": 37,
   "metadata": {
    "ExecuteTime": {
     "end_time": "2025-02-25T19:28:18.364397Z",
     "start_time": "2025-02-25T19:28:18.262578Z"
    },
    "hide_input": true
   },
   "outputs": [
    {
     "name": "stdout",
     "output_type": "stream",
     "text": [
      "Solução:\n"
     ]
    },
    {
     "data": {
      "text/latex": [
       "$\\displaystyle I_a(s) =\\frac{60.0 s^{2} + 270.0 s + 30.0}{s \\left(s^{2} + 8.0 s + 25.0\\right)}\\;\\mathrm{As}$"
      ],
      "text/plain": [
       "<IPython.core.display.Math object>"
      ]
     },
     "metadata": {},
     "output_type": "display_data"
    },
    {
     "data": {
      "text/latex": [
       "$\\displaystyle I_b(s) =\\frac{30.0 - 150.0 s}{s \\left(s^{2} + 8.0 s + 25.0\\right)}\\;\\mathrm{As}$"
      ],
      "text/plain": [
       "<IPython.core.display.Math object>"
      ]
     },
     "metadata": {},
     "output_type": "display_data"
    },
    {
     "data": {
      "text/latex": [
       "$\\displaystyle I_c(s) =\\frac{150.0 s + 1050.0}{s \\left(s^{2} + 8.0 s + 25.0\\right)}\\;\\mathrm{As}$"
      ],
      "text/plain": [
       "<IPython.core.display.Math object>"
      ]
     },
     "metadata": {},
     "output_type": "display_data"
    }
   ],
   "source": [
    "print('Solução:')\n",
    "symdisp('I_a(s) =', Ia.simplify(), 'As')\n",
    "symdisp('I_b(s) =', Ib.simplify(), 'As')\n",
    "symdisp('I_c(s) =', Ic.simplify(), 'As')"
   ]
  },
  {
   "cell_type": "code",
   "execution_count": 38,
   "metadata": {
    "ExecuteTime": {
     "end_time": "2025-02-25T19:28:18.396176Z",
     "start_time": "2025-02-25T19:28:18.365401Z"
    },
    "hide_input": true
   },
   "outputs": [
    {
     "data": {
      "text/latex": [
       "$\\displaystyle V_0(s) = 140I_b(s) = \\frac{4200.0 - 21000.0 s}{s \\left(s^{2} + 8.0 s + 25.0\\right)}\\;\\mathrm{Vs}$"
      ],
      "text/plain": [
       "<IPython.core.display.Math object>"
      ]
     },
     "metadata": {},
     "output_type": "display_data"
    }
   ],
   "source": [
    "V0 = 140 * Ib\n",
    "symdisp('V_0(s) = 140I_b(s) = ', V0.simplify(), 'Vs')"
   ]
  },
  {
   "cell_type": "code",
   "execution_count": 39,
   "metadata": {
    "ExecuteTime": {
     "end_time": "2025-02-25T19:28:18.475762Z",
     "start_time": "2025-02-25T19:28:18.397180Z"
    },
    "hide_input": true
   },
   "outputs": [
    {
     "data": {
      "text/latex": [
       "$\\displaystyle v_0(t) =168.0 - 7224.0 e^{- 4.0 t} \\sin{\\left(3.0 t \\right)} - 168.0 e^{- 4.0 t} \\cos{\\left(3.0 t \\right)}\\;\\mathrm{V}$"
      ],
      "text/plain": [
       "<IPython.core.display.Math object>"
      ]
     },
     "metadata": {},
     "output_type": "display_data"
    }
   ],
   "source": [
    "v0 = invLT(V0, s, t, partialFractions=True)\n",
    "symdisp('v_0(t) =', v0, 'V')"
   ]
  },
  {
   "cell_type": "markdown",
   "metadata": {},
   "source": [
    "## Ressonância em circuitos RLC"
   ]
  },
  {
   "cell_type": "code",
   "execution_count": 40,
   "metadata": {
    "ExecuteTime": {
     "end_time": "2025-02-25T19:28:18.877295Z",
     "start_time": "2025-02-25T19:28:18.476765Z"
    }
   },
   "outputs": [
    {
     "data": {
      "text/latex": [
       "$\\displaystyle v_g(t) = 10 \\sin{\\left(4.0 t \\right)}\\;\\mathrm{ }$"
      ],
      "text/plain": [
       "<IPython.core.display.Math object>"
      ]
     },
     "metadata": {},
     "output_type": "display_data"
    },
    {
     "data": {
      "text/latex": [
       "$\\displaystyle V_g(s) = \\frac{40.0}{s^{2} + 16.0}\\;\\mathrm{ }$"
      ],
      "text/plain": [
       "<IPython.core.display.Math object>"
      ]
     },
     "metadata": {},
     "output_type": "display_data"
    },
    {
     "data": {
      "text/latex": [
       "$\\displaystyle I(s) =\\frac{160.0 s}{1.0 s^{4} + 8.0 s^{3} + 32.0 s^{2} + 128.0 s + 256.0}\\;\\mathrm{ }$"
      ],
      "text/plain": [
       "<IPython.core.display.Math object>"
      ]
     },
     "metadata": {},
     "output_type": "display_data"
    }
   ],
   "source": [
    "s, I = sp.symbols('s, I')\n",
    "t = sp.symbols('t', real=True, positive=True)\n",
    "\n",
    "R = 2\n",
    "L = 0.25\n",
    "C = 0.25\n",
    "\n",
    "ω0 = 1/sp.sqrt(L*C)\n",
    "\n",
    "vg = 10*sp.sin(ω0*t)\n",
    "Vg = LT(vg, t, s)\n",
    "\n",
    "ZL = s*L\n",
    "Zc = 1/(s*C)\n",
    "\n",
    "symdisp('v_g(t) = ', vg)\n",
    "symdisp('V_g(s) = ', Vg)\n",
    "\n",
    "eq = sp.Eq(-Vg + R*I + ZL*I + Zc*I, 0)\n",
    "soluc = sp.solve(eq,[I], dict=True)[0]\n",
    "\n",
    "I = soluc[I]\n",
    "symdisp('I(s) =', adjustCoeff(I.simplify()))"
   ]
  },
  {
   "cell_type": "code",
   "execution_count": 41,
   "metadata": {
    "ExecuteTime": {
     "end_time": "2025-02-25T19:28:18.937318Z",
     "start_time": "2025-02-25T19:28:18.878299Z"
    },
    "hide_input": true
   },
   "outputs": [
    {
     "data": {
      "text/latex": [
       "$\\displaystyle I(s) =\\frac{2.5 i}{s + 4.0 i} - \\frac{2.5 i}{s - 4.0 i} - \\frac{1.25}{\\left(0.25 s + 1\\right)^{2}}\\;\\mathrm{As}$"
      ],
      "text/plain": [
       "<IPython.core.display.Math object>"
      ]
     },
     "metadata": {},
     "output_type": "display_data"
    }
   ],
   "source": [
    "symdisp('I(s) =', round_expr(partFrac(I),5), 'As')"
   ]
  },
  {
   "cell_type": "code",
   "execution_count": 42,
   "metadata": {
    "ExecuteTime": {
     "end_time": "2025-02-25T19:28:19.593663Z",
     "start_time": "2025-02-25T19:28:18.938366Z"
    },
    "hide_input": true
   },
   "outputs": [
    {
     "data": {
      "text/latex": [
       "$\\displaystyle i(t) =- 20.0 t e^{- 4.0 t} + 5.0 \\sin{\\left(4.0 t \\right)}\\;\\mathrm{A}$"
      ],
      "text/plain": [
       "<IPython.core.display.Math object>"
      ]
     },
     "metadata": {},
     "output_type": "display_data"
    },
    {
     "data": {
      "text/latex": [
       "$\\displaystyle v_c(t) =20.0 t e^{- 4.0 t} - 5.0 \\cos{\\left(4.0 t \\right)} + 5.0 e^{- 4.0 t}\\;\\mathrm{V}$"
      ],
      "text/plain": [
       "<IPython.core.display.Math object>"
      ]
     },
     "metadata": {},
     "output_type": "display_data"
    },
    {
     "data": {
      "text/latex": [
       "$\\displaystyle v_L(t) =20.0 t e^{- 4.0 t} + 5.0 \\cos{\\left(4.0 t \\right)} - 5.0 e^{- 4.0 t}\\;\\mathrm{V}$"
      ],
      "text/plain": [
       "<IPython.core.display.Math object>"
      ]
     },
     "metadata": {},
     "output_type": "display_data"
    }
   ],
   "source": [
    "i = invLT(I, s, t, partialFractions=True)\n",
    "vC = invLT(I*Zc, s, t, partialFractions=True)\n",
    "vL = invLT(I*ZL, s, t, partialFractions=True)\n",
    "\n",
    "symdisp('i(t) =', round_expr(i,2), 'A')\n",
    "symdisp('v_c(t) =', round_expr(vC,2), 'V')\n",
    "symdisp('v_L(t) =', round_expr(vL,2), 'V')"
   ]
  },
  {
   "cell_type": "code",
   "execution_count": 43,
   "metadata": {
    "ExecuteTime": {
     "end_time": "2025-02-25T19:28:19.822324Z",
     "start_time": "2025-02-25T19:28:19.594710Z"
    },
    "hide_input": true
   },
   "outputs": [
    {
     "data": {
      "image/png": "[encoded data removed]",
      "text/plain": [
       "<Figure size 704x396 with 1 Axes>"
      ]
     },
     "execution_count": 43,
     "metadata": {},
     "output_type": "execute_result"
    }
   ],
   "source": [
    "# plota funções no domínio do tempo\n",
    "intervalo = np.arange(-2, 5, 0.05)\n",
    "symplot(t, [i*u, vC*u, vL*u], intervalo, ['$i(t)$','$v_C(t)$','$v_L(t)$'])"
   ]
  }
 ],
 "metadata": {
  "colab": {
   "include_colab_link": true,
   "provenance": []
  },
  "jupytext": {
   "encoding": "# -*- coding: utf-8 -*-",
   "formats": "ipynb,py:light"
  },
  "kernelspec": {
   "display_name": "Python 3 (ipykernel)",
   "language": "python",
   "name": "python3"
  },
  "language_info": {
   "codemirror_mode": {
    "name": "ipython",
    "version": 3
   },
   "file_extension": ".py",
   "mimetype": "text/x-python",
   "name": "python",
   "nbconvert_exporter": "python",
   "pygments_lexer": "ipython3",
   "version": "3.11.5"
  },
  "toc": {
   "base_numbering": 1,
   "nav_menu": {},
   "number_sections": true,
   "sideBar": true,
   "skip_h1_title": true,
   "title_cell": "Table of Contents",
   "title_sidebar": "Contents",
   "toc_cell": true,
   "toc_position": {
    "height": "calc(100% - 180px)",
    "left": "10px",
    "top": "150px",
    "width": "200.475px"
   },
   "toc_section_display": true,
   "toc_window_display": true
  },
  "varInspector": {
   "cols": {
    "lenName": 16,
    "lenType": 16,
    "lenVar": 40
   },
   "kernels_config": {
    "python": {
     "delete_cmd_postfix": "",
     "delete_cmd_prefix": "del ",
     "library": "var_list.py",
     "varRefreshCmd": "print(var_dic_list())"
    },
    "r": {
     "delete_cmd_postfix": ") ",
     "delete_cmd_prefix": "rm(",
     "library": "var_list.r",
     "varRefreshCmd": "cat(var_dic_list()) "
    }
   },
   "types_to_exclude": [
    "module",
    "function",
    "builtin_function_or_method",
    "instance",
    "_Feature"
   ],
   "window_display": false
  }
 },
 "nbformat": 4,
 "nbformat_minor": 1
}
