{
 "cells": [
  {
   "cell_type": "markdown",
   "metadata": {
    "colab_type": "text",
    "id": "view-in-github"
   },
   "source": [
    "<a href=\"https://colab.research.google.com/github/edsonportosilva/ElectricCircuits/blob/master/Jupyter%20notebooks/11.1%20-%20A%20transformada%20de%20Laplace.ipynb\" target=\"_parent\"><img src=\"https://colab.research.google.com/assets/colab-badge.svg\" alt=\"Open In Colab\"/></a>"
   ]
  },
  {
   "cell_type": "code",
   "execution_count": 1,
   "metadata": {
    "ExecuteTime": {
     "end_time": "2023-07-21T20:05:46.589778Z",
     "start_time": "2023-07-21T20:05:46.558269Z"
    },
    "id": "vJ8NIW-RWasq",
    "outputId": "765ec4bf-59fc-4929-fed8-2a5332bb42c2"
   },
   "outputs": [],
   "source": [
    "from IPython.core.display import HTML\n",
    "HTML(\"\"\"\n",
    "<style>\n",
    ".output_png {\n",
    "    display: table-cell;\n",
    "    text-align: center;\n",
    "    vertical-align: middle;\n",
    "}\n",
    "</style>\n",
    "\"\"\")\n",
    "\n",
    "if 'google.colab' in str(get_ipython()):    \n",
    "    ! git clone -b master https://github.com/edsonportosilva/ElectricCircuits\n",
    "    from os import chdir as cd\n",
    "    cd('/content/ElectricCircuits/')\n",
    "    ! pip install -e ."
   ]
  },
  {
   "cell_type": "markdown",
   "metadata": {
    "id": "qbT6MNGLWast"
   },
   "source": [
    "# *Circuitos Elétricos I - Semana 11*"
   ]
  },
  {
   "cell_type": "markdown",
   "metadata": {
    "id": "fKzZKU2XWasu"
   },
   "source": [
    "### A integral de Laplace\n",
    "\n",
    "Seja $f(t)$ uma função definida no intervalo $0\\leq t \\leq \\infty$, com $t$ e $f(t)$ reais, então a função $F(s)$, definida pela integral de Laplace\n",
    "\n",
    "$$\\large\n",
    "\\begin{equation}\n",
    "F(s)=\\mathcal{L}\\{f(t)\\}=\\int_{0}^{\\infty} f(t) e^{-s t} dt,\\;\\; s \\in \\mathbb{C},\n",
    "\\end{equation}\n",
    "$$\n",
    "\n",
    "é conhecida como a transformada de Laplace de $f(t)$.\n",
    "\n",
    "#### A exponencial complexa\n",
    "\n",
    "Temos que $s = \\sigma + j\\omega$, logo\n",
    "\n",
    "$$ \n",
    "e^{-s t} = e^{-(\\sigma + j\\omega) t} = e^{-\\sigma t}e^{-j\\omega t} = e^{-\\sigma t} [\\cos(\\omega t) + j\\sin(\\omega t)]\n",
    "$$\n",
    "\n",
    "$$ \n",
    "\\begin{align}\n",
    "\\mathcal{L}\\{f(t)\\}&=\\int_{0}^{\\infty} f(t) e^{-\\sigma t} [\\cos(\\omega t) + j\\sin(\\omega t)] dt\\\\\n",
    "\\mathcal{L}\\{f(t)\\}&=\\int_{0}^{\\infty} f(t) e^{-\\sigma t} \\cos(\\omega t) dt + j\\int_{0}^{\\infty} f(t) e^{-\\sigma t}\\sin(\\omega t) dt\\\\\n",
    "\\mathcal{L}\\{f(t)\\}&=\\int_{0}^{\\infty} \\left[\\frac{f(t)}{e^{\\sigma t}}\\right] \\cos(\\omega t) dt + j\\int_{0}^{\\infty} \\left[\\frac{f(t)}{e^{\\sigma t}}\\right]\\sin(\\omega t) dt\n",
    "\\end{align}\n",
    "$$\n",
    "\n",
    "**Teorema da existência:** se $f(t)$ é uma função contínua por pedaços para $t$ no intervalo $[a,\\infty)$ e é exponencial de ordem $\\sigma_0$, então a integral de Laplace converge para $\\Re{(s)}>a$."
   ]
  },
  {
   "cell_type": "code",
   "execution_count": 2,
   "metadata": {
    "ExecuteTime": {
     "end_time": "2023-07-21T20:05:48.213357Z",
     "start_time": "2023-07-21T20:05:46.590749Z"
    },
    "id": "glp_L3YXWasv"
   },
   "outputs": [],
   "source": [
    "import matplotlib.pyplot as plt\n",
    "import numpy as np\n",
    "import sympy as sp\n",
    "from circuit.utils import round_expr, symdisp, symplot\n",
    "\n",
    "# temp workaround\n",
    "import warnings\n",
    "from matplotlib import MatplotlibDeprecationWarning\n",
    "warnings.filterwarnings('ignore', category=MatplotlibDeprecationWarning)"
   ]
  },
  {
   "cell_type": "code",
   "execution_count": 3,
   "metadata": {
    "ExecuteTime": {
     "end_time": "2023-07-21T20:05:48.228344Z",
     "start_time": "2023-07-21T20:05:48.216383Z"
    },
    "id": "8HcpowpRWasw"
   },
   "outputs": [],
   "source": [
    "sp.init_printing()\n",
    "\n",
    "plt.rcParams['figure.figsize'] = 6, 4\n",
    "plt.rcParams['legend.fontsize'] = 13\n",
    "plt.rcParams['lines.linewidth'] = 2\n",
    "plt.rcParams['axes.grid'] = False"
   ]
  },
  {
   "cell_type": "markdown",
   "metadata": {
    "id": "xmQXq2nvWasw"
   },
   "source": [
    "#### Definindo algumas variáveis simbólicas de interesse"
   ]
  },
  {
   "cell_type": "code",
   "execution_count": 4,
   "metadata": {
    "ExecuteTime": {
     "end_time": "2023-07-21T20:05:48.636153Z",
     "start_time": "2023-07-21T20:05:48.229317Z"
    },
    "id": "9cGPSDWNWasw"
   },
   "outputs": [],
   "source": [
    "t     = sp.symbols('t', real=True)\n",
    "s     = sp.symbols('s')\n",
    "a     = sp.symbols('a', real=True, positive=True)\n",
    "omega = sp.symbols('omega', real=True)"
   ]
  },
  {
   "cell_type": "markdown",
   "metadata": {
    "id": "8pUxtsHyWasx"
   },
   "source": [
    "## Transformada de Laplace no Sympy"
   ]
  },
  {
   "cell_type": "code",
   "execution_count": 5,
   "metadata": {
    "ExecuteTime": {
     "end_time": "2023-07-21T20:05:49.215386Z",
     "start_time": "2023-07-21T20:05:48.637235Z"
    },
    "id": "l8VpsxZUWasx"
   },
   "outputs": [],
   "source": [
    "# transformada de Laplace\n",
    "def L(f,t,s):\n",
    "    return sp.laplace_transform(f, t, s, noconds=True)\n",
    "\n",
    "# transformada inversa de Laplace\n",
    "def invL(F,s,t):\n",
    "    return sp.inverse_laplace_transform(F, s, t, noconds=True)"
   ]
  },
  {
   "cell_type": "code",
   "execution_count": 6,
   "metadata": {
    "ExecuteTime": {
     "end_time": "2023-07-21T20:05:49.651176Z",
     "start_time": "2023-07-21T20:05:49.217411Z"
    },
    "id": "9F_xzy6TWasy",
    "outputId": "1fc41908-c91b-431a-c174-16a69c52d38a"
   },
   "outputs": [
    {
     "name": "stdout",
     "output_type": "stream",
     "text": [
      "Help on function laplace_transform in module sympy.integrals.transforms:\n",
      "\n",
      "laplace_transform(f, t, s, legacy_matrix=True, **hints)\n",
      "    Compute the Laplace Transform `F(s)` of `f(t)`,\n",
      "    \n",
      "    .. math :: F(s) = \\int_{0^{-}}^\\infty e^{-st} f(t) \\mathrm{d}t.\n",
      "    \n",
      "    Explanation\n",
      "    ===========\n",
      "    \n",
      "    For all sensible functions, this converges absolutely in a\n",
      "    half-plane\n",
      "    \n",
      "    .. math :: a < \\operatorname{Re}(s)\n",
      "    \n",
      "    This function returns ``(F, a, cond)`` where ``F`` is the Laplace\n",
      "    transform of ``f``, `a` is the half-plane of convergence, and `cond` are\n",
      "    auxiliary convergence conditions.\n",
      "    \n",
      "    The implementation is rule-based, and if you are interested in which\n",
      "    rules are applied, and whether integration is attemped, you can switch\n",
      "    debug information on by setting ``sympy.SYMPY_DEBUG=True``.\n",
      "    \n",
      "    The lower bound is `0-`, meaning that this bound should be approached\n",
      "    from the lower side. This is only necessary if distributions are involved.\n",
      "    At present, it is only done if `f(t)` contains ``DiracDelta``, in which\n",
      "    case the Laplace transform is computed implicitly as\n",
      "    \n",
      "    .. math :: F(s) = \\lim_{\\tau\\to 0^{-}} \\int_{\\tau}^\\infty e^{-st} f(t) \\mathrm{d}t\n",
      "    \n",
      "    by applying rules.\n",
      "    \n",
      "    If the integral cannot be fully computed in closed form, this function\n",
      "    returns an unevaluated :class:`LaplaceTransform` object.\n",
      "    \n",
      "    For a description of possible hints, refer to the docstring of\n",
      "    :func:`sympy.integrals.transforms.IntegralTransform.doit`. If ``noconds=True``,\n",
      "    only `F` will be returned (i.e. not ``cond``, and also not the plane ``a``).\n",
      "    \n",
      "    .. deprecated:: 1.9\n",
      "        Legacy behavior for matrices where ``laplace_transform`` with\n",
      "        ``noconds=False`` (the default) returns a Matrix whose elements are\n",
      "        tuples. The behavior of ``laplace_transform`` for matrices will change\n",
      "        in a future release of SymPy to return a tuple of the transformed\n",
      "        Matrix and the convergence conditions for the matrix as a whole. Use\n",
      "        ``legacy_matrix=False`` to enable the new behavior.\n",
      "    \n",
      "    Examples\n",
      "    ========\n",
      "    \n",
      "    >>> from sympy import DiracDelta, exp, laplace_transform\n",
      "    >>> from sympy.abc import t, s, a\n",
      "    >>> laplace_transform(t**4, t, s)\n",
      "    (24/s**5, 0, True)\n",
      "    >>> laplace_transform(t**a, t, s)\n",
      "    (gamma(a + 1)/(s*s**a), 0, re(a) > -1)\n",
      "    >>> laplace_transform(DiracDelta(t)-a*exp(-a*t),t,s)\n",
      "    (s/(a + s), Max(0, -a), True)\n",
      "    \n",
      "    See Also\n",
      "    ========\n",
      "    \n",
      "    inverse_laplace_transform, mellin_transform, fourier_transform\n",
      "    hankel_transform, inverse_hankel_transform\n",
      "\n"
     ]
    }
   ],
   "source": [
    "help(sp.laplace_transform)"
   ]
  },
  {
   "cell_type": "markdown",
   "metadata": {
    "id": "NUtSb0ooWasy"
   },
   "source": [
    "## Função degrau unitário\n",
    "\n",
    "#### Domínio do tempo"
   ]
  },
  {
   "cell_type": "code",
   "execution_count": 7,
   "metadata": {
    "ExecuteTime": {
     "end_time": "2023-07-21T20:05:49.915203Z",
     "start_time": "2023-07-21T20:05:49.658153Z"
    },
    "id": "gNwe8rgtWasz",
    "outputId": "3536513e-9ecf-47d4-b6ed-0546c1df45ec"
   },
   "outputs": [
    {
     "data": {
      "text/latex": [
       "$\\displaystyle f(t) =\\theta\\left(t\\right)\\;\\mathrm{ }$"
      ],
      "text/plain": [
       "<IPython.core.display.Math object>"
      ]
     },
     "metadata": {},
     "output_type": "display_data"
    }
   ],
   "source": [
    "f = sp.Heaviside(t) # função degrau unitário\n",
    "\n",
    "symdisp('f(t) =', f)"
   ]
  },
  {
   "cell_type": "code",
   "execution_count": 8,
   "metadata": {
    "ExecuteTime": {
     "end_time": "2023-07-21T20:05:50.524886Z",
     "start_time": "2023-07-21T20:05:49.916094Z"
    },
    "id": "FHFNhJo_Wasz",
    "outputId": "33544c32-0a4b-4ee1-b560-0467dcde631d"
   },
   "outputs": [
    {
     "data": {
      "image/png": "[encoded data removed]",
      "text/plain": [
       "<Figure size 432x288 with 1 Axes>"
      ]
     },
     "execution_count": 8,
     "metadata": {},
     "output_type": "execute_result"
    }
   ],
   "source": [
    "# plota função no domínio do tempo\n",
    "intervalo = np.arange(-4, 4, 0.01)\n",
    "symplot(t, f, intervalo, 'u(t)')"
   ]
  },
  {
   "cell_type": "markdown",
   "metadata": {
    "id": "rGclV7fvWasz"
   },
   "source": [
    "#### Domínio de Laplace"
   ]
  },
  {
   "cell_type": "code",
   "execution_count": 9,
   "metadata": {
    "ExecuteTime": {
     "end_time": "2023-07-21T20:05:51.183376Z",
     "start_time": "2023-07-21T20:05:50.525854Z"
    },
    "id": "Ypj1IR0SWasz",
    "outputId": "fcb63d94-19d1-46df-a867-2866e29d1ed1"
   },
   "outputs": [
    {
     "data": {
      "text/latex": [
       "$\\displaystyle F(s) =\\frac{1}{s}\\;\\mathrm{ }$"
      ],
      "text/plain": [
       "<IPython.core.display.Math object>"
      ]
     },
     "metadata": {},
     "output_type": "display_data"
    }
   ],
   "source": [
    "# calcula a transformada de Laplace de u(t)\n",
    "F = L(f,t,s)\n",
    "\n",
    "symdisp('F(s) =', F)"
   ]
  },
  {
   "cell_type": "code",
   "execution_count": 10,
   "metadata": {
    "ExecuteTime": {
     "end_time": "2023-07-21T20:05:51.198905Z",
     "start_time": "2023-07-21T20:05:51.185371Z"
    },
    "id": "hPHs-TrWWas0",
    "outputId": "b3ad5e95-a757-4781-b731-f4e9fae55a95"
   },
   "outputs": [
    {
     "data": {
      "text/latex": [
       "$\\displaystyle f(t) =\\theta\\left(t - 2\\right)\\;\\mathrm{ }$"
      ],
      "text/plain": [
       "<IPython.core.display.Math object>"
      ]
     },
     "metadata": {},
     "output_type": "display_data"
    }
   ],
   "source": [
    "f = sp.Heaviside(t-2) # função degrau unitário em t=2\n",
    "\n",
    "symdisp('f(t) =', f)"
   ]
  },
  {
   "cell_type": "code",
   "execution_count": 11,
   "metadata": {
    "ExecuteTime": {
     "end_time": "2023-07-21T20:05:51.960633Z",
     "start_time": "2023-07-21T20:05:51.199873Z"
    },
    "id": "mRmp-9odWas0",
    "outputId": "aa4571f5-e566-4331-da8b-17f7c310a41b"
   },
   "outputs": [
    {
     "data": {
      "image/png": "[encoded data removed]",
      "text/plain": [
       "<Figure size 432x288 with 1 Axes>"
      ]
     },
     "execution_count": 11,
     "metadata": {},
     "output_type": "execute_result"
    }
   ],
   "source": [
    "# plota função no domínio do tempo\n",
    "intervalo = np.arange(-4, 4, 0.01)\n",
    "symplot(t, f, intervalo, 'u(t-2)')"
   ]
  },
  {
   "cell_type": "code",
   "execution_count": 12,
   "metadata": {
    "ExecuteTime": {
     "end_time": "2023-07-21T20:05:52.270756Z",
     "start_time": "2023-07-21T20:05:51.962602Z"
    },
    "id": "DZtaN8CWWas0",
    "outputId": "63315eb1-44c5-4dc1-f9d4-70c421511598"
   },
   "outputs": [
    {
     "data": {
      "text/latex": [
       "$\\displaystyle F(s) =\\frac{e^{- 2 s}}{s}\\;\\mathrm{ }$"
      ],
      "text/plain": [
       "<IPython.core.display.Math object>"
      ]
     },
     "metadata": {},
     "output_type": "display_data"
    }
   ],
   "source": [
    "F = L(f,t,s)\n",
    "\n",
    "symdisp('F(s) =', F)"
   ]
  },
  {
   "cell_type": "code",
   "execution_count": 13,
   "metadata": {
    "ExecuteTime": {
     "end_time": "2023-07-21T20:05:52.738348Z",
     "start_time": "2023-07-21T20:05:52.271753Z"
    },
    "id": "12dNcrMzWas0",
    "outputId": "9240ea19-49b8-4bf4-e97c-897a877af81c"
   },
   "outputs": [
    {
     "data": {
      "image/png": "[encoded data removed]",
      "text/plain": [
       "<Figure size 432x288 with 1 Axes>"
      ]
     },
     "execution_count": 13,
     "metadata": {},
     "output_type": "execute_result"
    }
   ],
   "source": [
    "u1 = sp.Heaviside(t)   # função degrau unitário em t=0\n",
    "u2 = sp.Heaviside(t-2) # função degrau unitário em t=2\n",
    "\n",
    "# plota função no domínio do tempo\n",
    "intervalo = np.arange(-4, 4, 0.01)\n",
    "symplot(t, u1-u2, intervalo, 'u(t)-u(t-2)')"
   ]
  },
  {
   "cell_type": "code",
   "execution_count": 14,
   "metadata": {
    "ExecuteTime": {
     "end_time": "2023-07-21T20:05:53.034682Z",
     "start_time": "2023-07-21T20:05:52.739316Z"
    },
    "id": "KO0N9IYtWas1",
    "outputId": "8d177702-6d1f-406b-cc56-f8005d2cbff0"
   },
   "outputs": [
    {
     "data": {
      "text/latex": [
       "$\\displaystyle G(s) =\\frac{1}{s} - \\frac{e^{- 2 s}}{s}\\;\\mathrm{ }$"
      ],
      "text/plain": [
       "<IPython.core.display.Math object>"
      ]
     },
     "metadata": {},
     "output_type": "display_data"
    }
   ],
   "source": [
    "G = L(u1-u2,t,s)\n",
    "\n",
    "symdisp('G(s) =', G)"
   ]
  },
  {
   "cell_type": "markdown",
   "metadata": {
    "id": "3ta-wA84Was1"
   },
   "source": [
    "## Função impulso unitário\n",
    "\n",
    "#### Domínio do tempo"
   ]
  },
  {
   "cell_type": "code",
   "execution_count": 15,
   "metadata": {
    "ExecuteTime": {
     "end_time": "2023-07-21T20:05:53.127523Z",
     "start_time": "2023-07-21T20:05:53.035679Z"
    },
    "id": "61e4vLXTWas1",
    "outputId": "4e4bcc69-2971-49c3-cb49-9fe96e84409b"
   },
   "outputs": [
    {
     "data": {
      "text/latex": [
       "$\\displaystyle f(t) =\\delta\\left(t\\right)\\;\\mathrm{ }$"
      ],
      "text/plain": [
       "<IPython.core.display.Math object>"
      ]
     },
     "metadata": {},
     "output_type": "display_data"
    }
   ],
   "source": [
    "f = sp.DiracDelta(t)\n",
    "\n",
    "symdisp('f(t) =', f)"
   ]
  },
  {
   "cell_type": "markdown",
   "metadata": {
    "id": "JNMFbm2oWas1"
   },
   "source": [
    "#### Domínio de Laplace"
   ]
  },
  {
   "cell_type": "code",
   "execution_count": 16,
   "metadata": {
    "ExecuteTime": {
     "end_time": "2023-07-21T20:05:53.267672Z",
     "start_time": "2023-07-21T20:05:53.128524Z"
    },
    "id": "htsr9cCtWas2",
    "outputId": "a17fea3b-0011-4f5d-aef5-eaec65350415"
   },
   "outputs": [
    {
     "data": {
      "text/latex": [
       "$\\displaystyle F(s) =1\\;\\mathrm{ }$"
      ],
      "text/plain": [
       "<IPython.core.display.Math object>"
      ]
     },
     "metadata": {},
     "output_type": "display_data"
    }
   ],
   "source": [
    "# calcula a transformada de Laplace de δ(t)\n",
    "F = L(f,t,s)\n",
    "\n",
    "symdisp('F(s) =', F)"
   ]
  },
  {
   "cell_type": "markdown",
   "metadata": {
    "id": "w3c-CupKWas2"
   },
   "source": [
    "## Função exponencial\n",
    "\n",
    "#### Domínio do tempo"
   ]
  },
  {
   "cell_type": "code",
   "execution_count": 17,
   "metadata": {
    "ExecuteTime": {
     "end_time": "2023-07-21T20:05:53.517051Z",
     "start_time": "2023-07-21T20:05:53.268665Z"
    },
    "id": "970FNoirWas2",
    "outputId": "71931533-98ac-4516-ba65-a7879b94110f"
   },
   "outputs": [
    {
     "data": {
      "text/latex": [
       "$\\displaystyle f(t) =e^{- a t}\\;\\mathrm{ }$"
      ],
      "text/plain": [
       "<IPython.core.display.Math object>"
      ]
     },
     "metadata": {},
     "output_type": "display_data"
    }
   ],
   "source": [
    "f = sp.exp(-a*t)\n",
    "\n",
    "symdisp('f(t) =', f)"
   ]
  },
  {
   "cell_type": "code",
   "execution_count": 18,
   "metadata": {
    "ExecuteTime": {
     "end_time": "2023-07-21T20:05:53.781567Z",
     "start_time": "2023-07-21T20:05:53.518048Z"
    },
    "id": "_qwprbkTWas2",
    "outputId": "49c07152-755a-4168-c0fd-b3f02908278c"
   },
   "outputs": [
    {
     "data": {
      "image/png": "[encoded data removed]",
      "text/plain": [
       "<Figure size 432x288 with 1 Axes>"
      ]
     },
     "execution_count": 18,
     "metadata": {},
     "output_type": "execute_result"
    }
   ],
   "source": [
    "# plota função no domínio do tempo\n",
    "intervalo = np.arange(-1, 4, 0.01)\n",
    "symplot(t, f.subs({a:2}), intervalo, 'f(t)')"
   ]
  },
  {
   "cell_type": "markdown",
   "metadata": {
    "id": "qDh36kASWas2"
   },
   "source": [
    "#### Domínio de Laplace"
   ]
  },
  {
   "cell_type": "code",
   "execution_count": 19,
   "metadata": {
    "ExecuteTime": {
     "end_time": "2023-07-21T20:05:54.017647Z",
     "start_time": "2023-07-21T20:05:53.782565Z"
    },
    "id": "v41paa5PWas2",
    "outputId": "fcef2926-1cb1-4fef-c3ba-aa92311d9127"
   },
   "outputs": [
    {
     "data": {
      "text/latex": [
       "$\\displaystyle F(s) =\\frac{1}{a + s}\\;\\mathrm{ }$"
      ],
      "text/plain": [
       "<IPython.core.display.Math object>"
      ]
     },
     "metadata": {},
     "output_type": "display_data"
    }
   ],
   "source": [
    "# calcula a transformada de Laplace de f(t)\n",
    "F = L(f,t,s)\n",
    "\n",
    "symdisp('F(s) =', F)"
   ]
  },
  {
   "cell_type": "markdown",
   "metadata": {
    "id": "-YxTYCPJWas3"
   },
   "source": [
    "## Função cosseno amortecido\n",
    "\n",
    "#### Domínio do tempo"
   ]
  },
  {
   "cell_type": "code",
   "execution_count": 20,
   "metadata": {
    "ExecuteTime": {
     "end_time": "2023-07-21T20:05:54.299362Z",
     "start_time": "2023-07-21T20:05:54.018617Z"
    },
    "id": "43zMvZoWWas3",
    "outputId": "ada178e0-abc9-416f-af29-c9e2e670450b"
   },
   "outputs": [
    {
     "data": {
      "text/latex": [
       "$\\displaystyle g(t) =e^{- a t} \\cos{\\left(\\omega t \\right)}\\;\\mathrm{ }$"
      ],
      "text/plain": [
       "<IPython.core.display.Math object>"
      ]
     },
     "metadata": {},
     "output_type": "display_data"
    }
   ],
   "source": [
    "g = sp.exp(-a*t)*sp.cos(omega*t)\n",
    "\n",
    "symdisp('g(t) =', g)"
   ]
  },
  {
   "cell_type": "code",
   "execution_count": 21,
   "metadata": {
    "ExecuteTime": {
     "end_time": "2023-07-21T20:05:54.519582Z",
     "start_time": "2023-07-21T20:05:54.300354Z"
    },
    "id": "y7REV06qWas3",
    "outputId": "a0287e18-be7c-4512-d219-aabb0c77658c"
   },
   "outputs": [
    {
     "data": {
      "image/png": "[encoded data removed]",
      "text/plain": [
       "<Figure size 432x288 with 1 Axes>"
      ]
     },
     "execution_count": 21,
     "metadata": {},
     "output_type": "execute_result"
    }
   ],
   "source": [
    "# plota função no domínio do tempo\n",
    "intervalo = np.arange(-1, 4, 0.01)\n",
    "symplot(t, g.subs({a:2, omega:10}), intervalo, 'g(t)')"
   ]
  },
  {
   "cell_type": "code",
   "execution_count": 22,
   "metadata": {
    "ExecuteTime": {
     "end_time": "2023-07-21T20:05:54.691144Z",
     "start_time": "2023-07-21T20:05:54.520550Z"
    },
    "id": "DbiQFOxOWas3",
    "outputId": "4a6aa068-6004-4cd3-da92-c844631fb791"
   },
   "outputs": [
    {
     "data": {
      "text/latex": [
       "$\\displaystyle G(s) =\\frac{a + s}{\\omega^{2} + \\left(a + s\\right)^{2}}\\;\\mathrm{ }$"
      ],
      "text/plain": [
       "<IPython.core.display.Math object>"
      ]
     },
     "metadata": {},
     "output_type": "display_data"
    }
   ],
   "source": [
    "G = L(g,t,s)\n",
    "\n",
    "symdisp('G(s) =', G)"
   ]
  },
  {
   "cell_type": "markdown",
   "metadata": {
    "id": "iacmcxJhWas3"
   },
   "source": [
    "## Resposta subamortecida de um circuito de segunda ordem"
   ]
  },
  {
   "cell_type": "markdown",
   "metadata": {
    "id": "ziAYUqWjWas3"
   },
   "source": [
    "#### Domínio do tempo"
   ]
  },
  {
   "cell_type": "code",
   "execution_count": 23,
   "metadata": {
    "ExecuteTime": {
     "end_time": "2023-07-21T20:05:54.769575Z",
     "start_time": "2023-07-21T20:05:54.692113Z"
    },
    "id": "x_SVsk0lWas3",
    "outputId": "66d950ca-d169-499c-af07-677298eca379"
   },
   "outputs": [
    {
     "data": {
      "text/latex": [
       "$\\displaystyle h(t) =\\left(B_{1} \\cos{\\left(\\omega t \\right)} + B_{2} \\sin{\\left(\\omega t \\right)}\\right) e^{- a t}\\;\\mathrm{ }$"
      ],
      "text/plain": [
       "<IPython.core.display.Math object>"
      ]
     },
     "metadata": {},
     "output_type": "display_data"
    }
   ],
   "source": [
    "B1, B2 = sp.symbols('B1, B2', real=True)\n",
    "\n",
    "h = sp.exp(-a*t)*(B1*sp.cos(omega*t) + B2*sp.sin(omega*t))\n",
    "\n",
    "symdisp('h(t) =', h)"
   ]
  },
  {
   "cell_type": "markdown",
   "metadata": {
    "id": "l8VH1LVKWas4"
   },
   "source": [
    "#### Domínio de Laplace"
   ]
  },
  {
   "cell_type": "code",
   "execution_count": 24,
   "metadata": {
    "ExecuteTime": {
     "end_time": "2023-07-21T20:05:56.093554Z",
     "start_time": "2023-07-21T20:05:54.775507Z"
    },
    "id": "CBvHTpl6Was4",
    "outputId": "f2e5587e-d043-4b99-9e0e-cea7076c7e61"
   },
   "outputs": [
    {
     "data": {
      "text/latex": [
       "$\\displaystyle H(s) =\\frac{B_{1} \\left(a + s\\right) + B_{2} \\omega}{\\omega^{2} + \\left(a + s\\right)^{2}}\\;\\mathrm{ }$"
      ],
      "text/plain": [
       "<IPython.core.display.Math object>"
      ]
     },
     "metadata": {},
     "output_type": "display_data"
    }
   ],
   "source": [
    "H = L(h,t,s)\n",
    "\n",
    "symdisp('H(s) =', H)"
   ]
  },
  {
   "cell_type": "code",
   "execution_count": 25,
   "metadata": {
    "ExecuteTime": {
     "end_time": "2023-07-21T20:06:03.016137Z",
     "start_time": "2023-07-21T20:05:56.094603Z"
    },
    "id": "8oh9mcHKWas4",
    "outputId": "a981425a-e17e-44e5-de8e-45a9d50fbcc1"
   },
   "outputs": [
    {
     "data": {
      "text/latex": [
       "$\\displaystyle h_1(t) =\\left(B_{1} \\cos{\\left(\\omega t \\right)} + B_{2} \\sin{\\left(\\omega t \\right)}\\right) e^{- a t} \\theta\\left(t\\right)\\;\\mathrm{ }$"
      ],
      "text/plain": [
       "<IPython.core.display.Math object>"
      ]
     },
     "metadata": {},
     "output_type": "display_data"
    }
   ],
   "source": [
    "h1 = invL(H,s,t)\n",
    "\n",
    "symdisp('h_1(t) =', h1)"
   ]
  },
  {
   "cell_type": "markdown",
   "metadata": {
    "id": "I_mcP5xIWas4"
   },
   "source": [
    "## Gere sua tabela de transformadas"
   ]
  },
  {
   "cell_type": "code",
   "execution_count": 26,
   "metadata": {
    "ExecuteTime": {
     "end_time": "2023-07-21T20:06:03.031782Z",
     "start_time": "2023-07-21T20:06:03.016979Z"
    },
    "id": "xcPOtY3cWas4",
    "outputId": "7720c667-e418-4a41-a427-cd2f0ff9f8ef"
   },
   "outputs": [
    {
     "data": {
      "text/latex": [
       "$\\displaystyle f(t) =\\left[ 1, \\  t, \\  e^{- a t}, \\  t e^{- a t}, \\  t^{2} e^{- a t}, \\  \\sin{\\left(\\omega t \\right)}, \\  \\cos{\\left(\\omega t \\right)}, \\  1 - e^{- a t}, \\  e^{- a t} \\sin{\\left(\\omega t \\right)}, \\  e^{- a t} \\cos{\\left(\\omega t \\right)}\\right]\\;\\mathrm{ }$"
      ],
      "text/plain": [
       "<IPython.core.display.Math object>"
      ]
     },
     "metadata": {},
     "output_type": "display_data"
    }
   ],
   "source": [
    "func = [1,\n",
    "         t,\n",
    "         sp.exp(-a*t),\n",
    "         t*sp.exp(-a*t),\n",
    "         t**2*sp.exp(-a*t),\n",
    "         sp.sin(omega*t),\n",
    "         sp.cos(omega*t),\n",
    "         1 - sp.exp(-a*t),\n",
    "         sp.exp(-a*t)*sp.sin(omega*t),\n",
    "         sp.exp(-a*t)*sp.cos(omega*t),\n",
    "         ]\n",
    "func\n",
    "\n",
    "symdisp('f(t) =', func)"
   ]
  },
  {
   "cell_type": "code",
   "execution_count": 27,
   "metadata": {
    "ExecuteTime": {
     "end_time": "2023-07-21T20:06:03.669273Z",
     "start_time": "2023-07-21T20:06:03.032502Z"
    },
    "id": "5rHST8jcWas4",
    "outputId": "1c306715-df3a-43b2-f3af-70cad67be79d"
   },
   "outputs": [
    {
     "data": {
      "text/latex": [
       "$\\displaystyle F(s) =\\left[ \\frac{1}{s}, \\  \\frac{1}{s^{2}}, \\  \\frac{1}{a + s}, \\  \\frac{1}{\\left(a + s\\right)^{2}}, \\  \\frac{2}{\\left(a + s\\right)^{3}}, \\  \\frac{\\omega}{\\omega^{2} + s^{2}}, \\  \\frac{s}{\\omega^{2} + s^{2}}, \\  \\frac{a}{s \\left(a + s\\right)}, \\  \\frac{\\omega}{\\omega^{2} + \\left(a + s\\right)^{2}}, \\  \\frac{a + s}{\\omega^{2} + \\left(a + s\\right)^{2}}\\right]\\;\\mathrm{ }$"
      ],
      "text/plain": [
       "<IPython.core.display.Math object>"
      ]
     },
     "metadata": {},
     "output_type": "display_data"
    }
   ],
   "source": [
    "Fs = [L(f,t,s) for f in func]\n",
    "\n",
    "symdisp('F(s) =', Fs)"
   ]
  }
 ],
 "metadata": {
  "colab": {
   "include_colab_link": true,
   "provenance": []
  },
  "jupytext": {
   "encoding": "# -*- coding: utf-8 -*-",
   "formats": "ipynb,py:light"
  },
  "kernelspec": {
   "display_name": "Python 3 (ipykernel)",
   "language": "python",
   "name": "python3"
  },
  "language_info": {
   "codemirror_mode": {
    "name": "ipython",
    "version": 3
   },
   "file_extension": ".py",
   "mimetype": "text/x-python",
   "name": "python",
   "nbconvert_exporter": "python",
   "pygments_lexer": "ipython3",
   "version": "3.9.7"
  },
  "toc": {
   "base_numbering": 1,
   "nav_menu": {},
   "number_sections": true,
   "sideBar": true,
   "skip_h1_title": true,
   "title_cell": "Table of Contents",
   "title_sidebar": "Contents",
   "toc_cell": true,
   "toc_position": {
    "height": "calc(100% - 180px)",
    "left": "10px",
    "top": "150px",
    "width": "200.475px"
   },
   "toc_section_display": true,
   "toc_window_display": true
  },
  "varInspector": {
   "cols": {
    "lenName": 16,
    "lenType": 16,
    "lenVar": 40
   },
   "kernels_config": {
    "python": {
     "delete_cmd_postfix": "",
     "delete_cmd_prefix": "del ",
     "library": "var_list.py",
     "varRefreshCmd": "print(var_dic_list())"
    },
    "r": {
     "delete_cmd_postfix": ") ",
     "delete_cmd_prefix": "rm(",
     "library": "var_list.r",
     "varRefreshCmd": "cat(var_dic_list()) "
    }
   },
   "types_to_exclude": [
    "module",
    "function",
    "builtin_function_or_method",
    "instance",
    "_Feature"
   ],
   "window_display": false
  }
 },
 "nbformat": 4,
 "nbformat_minor": 1
}
