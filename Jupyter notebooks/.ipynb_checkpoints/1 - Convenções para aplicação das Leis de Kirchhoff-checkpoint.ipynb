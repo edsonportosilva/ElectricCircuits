{
 "cells": [
  {
   "cell_type": "markdown",
   "metadata": {
    "colab_type": "text",
    "id": "view-in-github"
   },
   "source": [
    "<a href=\"https://colab.research.google.com/github/edsonportosilva/ElectricCircuits/blob/master/Jupyter%20notebooks/Circuitos%20El%C3%A9tricos%20I%20-%20Semana%201%20-%20Conven%C3%A7%C3%B5es%20para%20aplica%C3%A7%C3%A3o%20das%20Leis%20de%20Kirchhoff.ipynb\" target=\"_parent\"><img src=\"https://colab.research.google.com/assets/colab-badge.svg\" alt=\"Open In Colab\"/></a>"
   ]
  },
  {
   "cell_type": "code",
   "execution_count": 1,
   "metadata": {
    "ExecuteTime": {
     "end_time": "2023-07-21T18:37:46.530064Z",
     "start_time": "2023-07-21T18:37:46.510118Z"
    },
    "colab": {
     "base_uri": "https://localhost:8080/"
    },
    "id": "O1lt6sYYCmTJ",
    "lines_to_next_cell": 2,
    "outputId": "5ad5be9c-8d7c-4992-8832-543efca882c6"
   },
   "outputs": [],
   "source": [
    "from IPython.core.display import HTML\n",
    "HTML(\"\"\"\n",
    "<style>\n",
    ".output_png {\n",
    "    display: table-cell;\n",
    "    text-align: center;\n",
    "    vertical-align: middle;\n",
    "}\n",
    "</style>\n",
    "\"\"\")\n",
    "\n",
    "if 'google.colab' in str(get_ipython()):    \n",
    "    ! git clone -b master https://github.com/edsonportosilva/ElectricCircuits\n",
    "    from os import chdir as cd\n",
    "    cd('/content/ElectricCircuits/')\n",
    "    ! pip install ."
   ]
  },
  {
   "cell_type": "markdown",
   "metadata": {
    "id": "shtPIZVVCmTM"
   },
   "source": [
    "# *Circuitos Elétricos I*"
   ]
  },
  {
   "cell_type": "markdown",
   "metadata": {
    "id": "Mj2FFoAECmTN"
   },
   "source": [
    "## 1 - Convenções para aplicação das Leis de Kirchhoff na análise de circuitos\n",
    "\n",
    "Neste notebook faremos um exercício comparativo entre as diferentes convenções que utilizamos na aplicação das Leis de Kirchhoff na análise de circuitos lineares. \n",
    "\n",
    "Em particular veremos que:\n",
    "\n",
    "* A escolha das referências para sentido da corrente e polaridade da tensão é arbitrária, ou seja, existem diversas escolhas possíveis. Uma vez escolhido o conjunto de referências para a análise de determinado circuito, o resultado das equações do circuito deve ser interpretado de acordo com as referências adotadas.\n",
    "\n",
    "* A convenção passiva deve sempre ser obedecida na escrita das equações do circuito.\n",
    "\n",
    "Primeiramente, vamos analisar o circuito ilustrado na figura a seguir considerando o conjunto de referências indicado no diagrama (Caso 1)."
   ]
  },
  {
   "cell_type": "markdown",
   "metadata": {
    "id": "Mj2FFoAECmTN"
   },
   "source": [
    "### Caso 1\n",
    "\n",
    "<img src=\"./figures/J1C1.png\" width=\"500\">\n",
    "\n",
    "#### Encontrando as equações do circuito"
   ]
  },
  {
   "cell_type": "markdown",
   "metadata": {
    "id": "qvVFL19qCmTO"
   },
   "source": [
    "**Lei de Kirchhoff das tensões (LKT)**\n",
    "\n",
    "Em qualquer malha frechada do circuito $\\sum_k v_k = 0$\n",
    "\n",
    "`Convenção arbitrária (1): ao percorrer a malha, escolha um sinal (+ ou -) para indicar aumentos de tensão e o sinal oposto para indicar quedas de tensão no somatório da LKT.`\n",
    "\n",
    "Logo, atribuindo o sinal (-) para aumentos de tensão e o sinal (+) para quedas de tensão, ao aplicar a LKT no circuito mostrado acima, temos:\n",
    "\n",
    "$$ \n",
    "\\begin{align}\n",
    "-10 + v_1 + v_2 &= 0\\\\\n",
    "-v_2 + v_3 + v_4 &= 0\n",
    "\\end{align}\n",
    "$$"
   ]
  },
  {
   "cell_type": "markdown",
   "metadata": {
    "id": "T3sRg4keCmTP"
   },
   "source": [
    "**Lei de Kirchhoff das correntes (LKC)**\n",
    "\n",
    "Em qualquer nó do circuito $\\sum_k i_k = 0$\n",
    "\n",
    "`Convenção arbitrária (2): para o nó em questão, escolha um sinal (+ ou -) para indicar correntes chegando ao nó e o sinal oposto para indicar correntes deixando o nó no somatório da LKT.`\n",
    "\n",
    "ou, para evitar erros com troca de sinais, simplesmente faça\n",
    "\n",
    "`Somatório das correntes chegando ao nó igual ao somatório das correntes deixando o nó.`\n",
    "\n",
    "$$ \n",
    "\\begin{align}\n",
    "i_1 &= i_2 + i_3\\\\\n",
    "i_3 &= -0.5~A\n",
    "\\end{align}\n",
    "$$"
   ]
  },
  {
   "cell_type": "markdown",
   "metadata": {
    "id": "Vq1WhDihCmTP"
   },
   "source": [
    "**Lei de Ohm (+convenção passiva)**\n",
    "\n",
    "`Convenção passiva (3): qualquer expressão que relacione as grandezas de tensão e corrente num elemento ideal de dois terminais deve ser escrita de acordo com a convenção passiva.`\n",
    "\n",
    "A convenção passiva estabelece que:\n",
    "\n",
    "1. Se o sentido de referência adotado para corrente coincide com a queda de tensão na polaridade de referência ($+ \\rightarrow -$), *qualquer expressão envolvendo $v$ e $i$* para o elemento em questão deve ser escrita com **sinal positivo**.\n",
    "\n",
    "\n",
    "2. Se o sentido de referência adotado para corrente coincide com o aumento de tensão na polaridade de referência ($+ \\leftarrow -$), *qualquer expressão envolvendo $v$ e $i$* para o elemento em questão deve ser escrita com **sinal negativo**.\n",
    "\n",
    "A Lei de Ohm expressa a relação entre tensão, corrente e resistência num resistor ideal. Logo, as expressões da Lei de Ohm devem obedecer a convenção passiva. \n",
    "\n",
    "Desse modo, podemos escrever as seguintes equações para o circuito acima. \n",
    "\n",
    "$$ \n",
    "\\begin{align}\n",
    "v_1 &= 10i_1\\\\\n",
    "v_2 &= 50i_2\\\\\n",
    "v_3 &= 20i_3\n",
    "\\end{align}\n",
    "$$"
   ]
  },
  {
   "cell_type": "markdown",
   "metadata": {
    "id": "vjPAI94iCmTQ"
   },
   "source": [
    "Logo:\n",
    "\n",
    "$$ \n",
    "\\begin{align}\n",
    "-10 + 10i_1 + 50i_2 &= 0\\\\\n",
    "-50i_2 -10 + v_4 &= 0\\\\\n",
    "i_1 - i_2 &= -0.5\n",
    "\\end{align}\n",
    "$$\n",
    "\n",
    "Rearranjando as equações:\n",
    "\n",
    "$$ \n",
    "\\begin{align}\n",
    " 10i_1 + 50i_2 &= 10\\\\\n",
    "-50i_2 + v_4 &= 10\\\\\n",
    "i_1 - i_2 &= -0.5\n",
    "\\end{align}\n",
    "$$"
   ]
  },
  {
   "cell_type": "markdown",
   "metadata": {
    "id": "-sasV6DzCmTQ"
   },
   "source": [
    "#### Solucionando as equações do circuito"
   ]
  },
  {
   "cell_type": "code",
   "execution_count": 3,
   "metadata": {
    "ExecuteTime": {
     "end_time": "2023-07-21T18:37:48.977668Z",
     "start_time": "2023-07-21T18:37:46.997786Z"
    },
    "id": "rElDlGS1CmTR"
   },
   "outputs": [],
   "source": [
    "import sympy as sp\n",
    "import numpy as np\n",
    "from circuit.utils import symdisp"
   ]
  },
  {
   "cell_type": "code",
   "execution_count": 10,
   "metadata": {
    "ExecuteTime": {
     "end_time": "2023-07-21T18:54:11.615669Z",
     "start_time": "2023-07-21T18:54:11.582598Z"
    },
    "colab": {
     "base_uri": "https://localhost:8080/",
     "height": 120
    },
    "id": "KWO5-o2oCmTR",
    "outputId": "bb70f2db-9e36-4a49-c631-de8d7224839f"
   },
   "outputs": [
    {
     "name": "stdout",
     "output_type": "stream",
     "text": [
      "Solução do sistema:\n"
     ]
    },
    {
     "data": {
      "text/latex": [
       "$\\displaystyle i_1 = -0.25\\;\\mathrm{A}$"
      ],
      "text/plain": [
       "<IPython.core.display.Math object>"
      ]
     },
     "metadata": {},
     "output_type": "display_data"
    },
    {
     "data": {
      "text/latex": [
       "$\\displaystyle i_2 = 0.25\\;\\mathrm{A}$"
      ],
      "text/plain": [
       "<IPython.core.display.Math object>"
      ]
     },
     "metadata": {},
     "output_type": "display_data"
    },
    {
     "data": {
      "text/latex": [
       "$\\displaystyle i_3 = -0.5\\;\\mathrm{A}$"
      ],
      "text/plain": [
       "<IPython.core.display.Math object>"
      ]
     },
     "metadata": {},
     "output_type": "display_data"
    },
    {
     "data": {
      "text/latex": [
       "$\\displaystyle v_4 = 22.5\\;\\mathrm{V}$"
      ],
      "text/plain": [
       "<IPython.core.display.Math object>"
      ]
     },
     "metadata": {},
     "output_type": "display_data"
    }
   ],
   "source": [
    "# define as N variáveis desconhecidas\n",
    "i1, i2, v4 = sp.symbols('i1, i2, v4')\n",
    "\n",
    "# define os sistema de N equações\n",
    "eq1 = sp.Eq(10*i1 + 50*i2, 10)             \n",
    "eq2 = sp.Eq(-50*i2 + v4, 10)  \n",
    "eq3 = sp.Eq(i1 -i2, -0.5)\n",
    "\n",
    "# resolve o sistema\n",
    "soluc = sp.solve((eq1, eq2, eq3), dict=True)[0]\n",
    "\n",
    "i1 = soluc[i1]\n",
    "i2 = soluc[i2]\n",
    "v4 = soluc[v4] \n",
    "i3 = -0.5\n",
    "\n",
    "print('Solução do sistema:')\n",
    "symdisp('i_1 = ', round(i1,3), 'A')\n",
    "symdisp('i_2 = ', round(i2,3), 'A')\n",
    "symdisp('i_3 = ', round(i3,3), 'A')\n",
    "symdisp('v_4 = ', round(v4,3), 'V')"
   ]
  },
  {
   "cell_type": "markdown",
   "metadata": {
    "id": "2awvSU-WCmTS"
   },
   "source": [
    "#### Cálculo das potências"
   ]
  },
  {
   "cell_type": "code",
   "execution_count": 11,
   "metadata": {
    "ExecuteTime": {
     "end_time": "2023-07-21T18:54:12.626255Z",
     "start_time": "2023-07-21T18:54:12.606175Z"
    },
    "colab": {
     "base_uri": "https://localhost:8080/",
     "height": 141
    },
    "id": "vscVpbhhCmTS",
    "outputId": "5dc0f5ae-e5bb-4ce7-af45-bf76c9e474cc"
   },
   "outputs": [
    {
     "name": "stdout",
     "output_type": "stream",
     "text": [
      "Potências:\n"
     ]
    },
    {
     "data": {
      "text/latex": [
       "$\\displaystyle p_{10V} = 2.5\\;\\mathrm{W}$"
      ],
      "text/plain": [
       "<IPython.core.display.Math object>"
      ]
     },
     "metadata": {},
     "output_type": "display_data"
    },
    {
     "data": {
      "text/latex": [
       "$\\displaystyle p_1 = 0.625\\;\\mathrm{W}$"
      ],
      "text/plain": [
       "<IPython.core.display.Math object>"
      ]
     },
     "metadata": {},
     "output_type": "display_data"
    },
    {
     "data": {
      "text/latex": [
       "$\\displaystyle p_2 = 3.125\\;\\mathrm{W}$"
      ],
      "text/plain": [
       "<IPython.core.display.Math object>"
      ]
     },
     "metadata": {},
     "output_type": "display_data"
    },
    {
     "data": {
      "text/latex": [
       "$\\displaystyle p_3 = 5.0\\;\\mathrm{W}$"
      ],
      "text/plain": [
       "<IPython.core.display.Math object>"
      ]
     },
     "metadata": {},
     "output_type": "display_data"
    },
    {
     "data": {
      "text/latex": [
       "$\\displaystyle p_4 = -11.25\\;\\mathrm{W}$"
      ],
      "text/plain": [
       "<IPython.core.display.Math object>"
      ]
     },
     "metadata": {},
     "output_type": "display_data"
    }
   ],
   "source": [
    "# expressões para a Lei de Ohm (convenção passiva)\n",
    "# v1 = \n",
    "# v2 = \n",
    "# v3 = \n",
    "\n",
    "# expressões para as potências (convenção passiva)\n",
    "p10V = -10*i1\n",
    "p1   = 10*i1**2\n",
    "p2   = 50*i2**2\n",
    "p3   = 20*i3**2\n",
    "p4   = v4*i3\n",
    "\n",
    "print('Potências:')\n",
    "symdisp('p_{10V} = ', round(p10V,3), 'W')\n",
    "symdisp('p_1 = ', round(p1,3), 'W')\n",
    "symdisp('p_2 = ', round(p2,3), 'W')\n",
    "symdisp('p_3 = ', round(p3,3), 'W')\n",
    "symdisp('p_4 = ', round(p4,3), 'W')"
   ]
  },
  {
   "cell_type": "code",
   "execution_count": 12,
   "metadata": {
    "ExecuteTime": {
     "end_time": "2023-07-21T18:54:13.344844Z",
     "start_time": "2023-07-21T18:54:13.325636Z"
    },
    "colab": {
     "base_uri": "https://localhost:8080/",
     "height": 56
    },
    "id": "UbNfxF_iCmTS",
    "outputId": "8f9bb10a-96fa-478f-fbdd-187c00e15fb1"
   },
   "outputs": [
    {
     "name": "stdout",
     "output_type": "stream",
     "text": [
      "Somatório das potências :\n"
     ]
    },
    {
     "data": {
      "text/latex": [
       "$\\displaystyle \\Sigma p = 0\\;\\mathrm{W}$"
      ],
      "text/plain": [
       "<IPython.core.display.Math object>"
      ]
     },
     "metadata": {},
     "output_type": "display_data"
    }
   ],
   "source": [
    "# calcula somatório das potências\n",
    "print('Somatório das potências :')\n",
    "symdisp('\\Sigma p = ', round(p10V+p1+p2+p3+p4,4), 'W')"
   ]
  },
  {
   "cell_type": "markdown",
   "metadata": {
    "id": "dGf532npCmTS"
   },
   "source": [
    "Cheque os resultados com a simulação do circuito no Falstad: https://tinyurl.com/yfbwd4vz"
   ]
  },
  {
   "cell_type": "markdown",
   "metadata": {
    "id": "LBCCr4w9CmTT"
   },
   "source": [
    "### Caso 2\n",
    "\n",
    "Agora vamos resolver o mesmo circuito, porém adotando um conjunto de referências diferente, como ilustrado no digrama da figura a seguir. Resolva o circuito e compare os resultados com os obtidos na resolução do Caso 1.\n",
    "\n",
    "<img src=\"./figures/J1C2.png\" width=\"500\">"
   ]
  },
  {
   "cell_type": "code",
   "execution_count": 8,
   "metadata": {
    "ExecuteTime": {
     "end_time": "2023-07-21T18:37:49.945001Z",
     "start_time": "2023-07-21T18:37:49.525090Z"
    },
    "id": "C_diAtOtCmTT"
   },
   "outputs": [
    {
     "ename": "TypeError",
     "evalue": "__new__() missing 1 required positional argument: 'lhs'",
     "output_type": "error",
     "traceback": [
      "\u001b[1;31m---------------------------------------------------------------------------\u001b[0m",
      "\u001b[1;31mTypeError\u001b[0m                                 Traceback (most recent call last)",
      "Input \u001b[1;32mIn [8]\u001b[0m, in \u001b[0;36m<cell line: 5>\u001b[1;34m()\u001b[0m\n\u001b[0;32m      2\u001b[0m i1, i2, v4 \u001b[38;5;241m=\u001b[39m sp\u001b[38;5;241m.\u001b[39msymbols(\u001b[38;5;124m'\u001b[39m\u001b[38;5;124mi1, i2, v4\u001b[39m\u001b[38;5;124m'\u001b[39m)\n\u001b[0;32m      4\u001b[0m \u001b[38;5;66;03m# define os sistema de N equações\u001b[39;00m\n\u001b[1;32m----> 5\u001b[0m eq1 \u001b[38;5;241m=\u001b[39m \u001b[43msp\u001b[49m\u001b[38;5;241;43m.\u001b[39;49m\u001b[43mEq\u001b[49m\u001b[43m(\u001b[49m\u001b[43m \u001b[49m\u001b[43m)\u001b[49m             \n\u001b[0;32m      6\u001b[0m eq2 \u001b[38;5;241m=\u001b[39m sp\u001b[38;5;241m.\u001b[39mEq( )  \n\u001b[0;32m      7\u001b[0m eq3 \u001b[38;5;241m=\u001b[39m sp\u001b[38;5;241m.\u001b[39mEq( )\n",
      "\u001b[1;31mTypeError\u001b[0m: __new__() missing 1 required positional argument: 'lhs'"
     ]
    }
   ],
   "source": [
    "# define as N variáveis desconhecidas\n",
    "i1, i2, v4 = sp.symbols('i1, i2, v4')\n",
    "\n",
    "# define os sistema de N equações\n",
    "eq1 = sp.Eq( )             \n",
    "eq2 = sp.Eq( )  \n",
    "eq3 = sp.Eq( )\n",
    "\n",
    "# resolve o sistema\n",
    "soluc = sp.solve((eq1, eq2, eq3), dict=True)[0]\n",
    "\n",
    "i1 = soluc[i1]\n",
    "i2 = soluc[i2]\n",
    "v4 = soluc[v4] \n",
    "i3 = 0.5\n",
    "\n",
    "print('Solução do sistema:')\n",
    "symdisp('i_1 = ', round(i1,3), 'A')\n",
    "symdisp('i_2 = ', round(i2,3), 'A')\n",
    "symdisp('i_3 = ', round(i3,3), 'A')\n",
    "symdisp('v_4 = ', round(v4,3), 'V')"
   ]
  },
  {
   "cell_type": "code",
   "execution_count": null,
   "metadata": {
    "ExecuteTime": {
     "end_time": "2023-07-21T18:37:49.945951Z",
     "start_time": "2023-07-21T18:37:49.945951Z"
    },
    "id": "HMW4WuAlCmTT"
   },
   "outputs": [],
   "source": [
    "# expressões para a Lei de Ohm (convenção passiva)\n",
    "v1 = \n",
    "v2 = \n",
    "v3 = \n",
    "\n",
    "# expressões para as potências (convenção passiva)\n",
    "p10V = \n",
    "p1   = \n",
    "p2   =  \n",
    "p3   = \n",
    "p4   = \n",
    "\n",
    "print('Potências:')\n",
    "symdisp('p_{10V} = ', round(p10V,3), 'W')\n",
    "symdisp('p_1 = ', round(p1,3), 'W')\n",
    "symdisp('p_2 = ', round(p2,3), 'W')\n",
    "symdisp('p_3 = ', round(p3,3), 'W')\n",
    "symdisp('p_4 = ', round(p4,3), 'W')"
   ]
  },
  {
   "cell_type": "markdown",
   "metadata": {
    "id": "ZQwR6ITFCmTT"
   },
   "source": [
    "### Caso 3\n",
    "\n",
    "Vamos testar mais uma configuração de referências, como ilustrado no digrama da figura a seguir. Resolva o circuito e compare os resultados com os obtidos na resolução dos casos 1 e 2.\n",
    "\n",
    "<img src=\"./figures/J1C3.png\" width=\"500\">"
   ]
  },
  {
   "cell_type": "code",
   "execution_count": null,
   "metadata": {
    "ExecuteTime": {
     "end_time": "2023-07-21T18:37:49.947945Z",
     "start_time": "2023-07-21T18:37:49.947945Z"
    },
    "id": "7rDK5wfdCmTU"
   },
   "outputs": [],
   "source": [
    "# define as N variáveis desconhecidas\n",
    "i1, i2, v4 = sp.symbols('i1, i2, v4')\n",
    "\n",
    "# define os sistema de N equações\n",
    "eq1 = sp.Eq( )             \n",
    "eq2 = sp.Eq( )  \n",
    "eq3 = sp.Eq( )\n",
    "\n",
    "# resolve o sistema\n",
    "soluc = sp.solve((eq1, eq2, eq3), dict=True)[0]\n",
    "\n",
    "i1 = soluc[i1]\n",
    "i2 = soluc[i2]\n",
    "v4 = soluc[v4] \n",
    "i3 = 0.5\n",
    "\n",
    "print('Solução do sistema:')\n",
    "symdisp('i_1 = ', round(i1,3), 'A')\n",
    "symdisp('i_2 = ', round(i2,3), 'A')\n",
    "symdisp('i_3 = ', round(i3,3), 'A')\n",
    "symdisp('v_4 = ', round(v4,3), 'V')"
   ]
  },
  {
   "cell_type": "code",
   "execution_count": null,
   "metadata": {
    "ExecuteTime": {
     "end_time": "2023-07-21T18:37:49.948942Z",
     "start_time": "2023-07-21T18:37:49.948942Z"
    },
    "id": "nhtHWgOjCmTU"
   },
   "outputs": [],
   "source": [
    "# expressões para a Lei de Ohm (convenção passiva)\n",
    "v1 = \n",
    "v2 = \n",
    "v3 = \n",
    "\n",
    "# expressões para as potências (convenção passiva)\n",
    "p10V = \n",
    "p1   = \n",
    "p2   =  \n",
    "p3   = \n",
    "p4   = \n",
    "\n",
    "print('Potências:')\n",
    "symdisp('p_{10V} = ', round(p10V,3), 'W')\n",
    "symdisp('p_1 = ', round(p1,3), 'W')\n",
    "symdisp('p_2 = ', round(p2,3), 'W')\n",
    "symdisp('p_3 = ', round(p3,3), 'W')\n",
    "symdisp('p_4 = ', round(p4,3), 'W')"
   ]
  }
 ],
 "metadata": {
  "colab": {
   "include_colab_link": true,
   "provenance": []
  },
  "jupytext": {
   "encoding": "# -*- coding: utf-8 -*-",
   "formats": "ipynb,py:light"
  },
  "kernelspec": {
   "display_name": "Python 3 (ipykernel)",
   "language": "python",
   "name": "python3"
  },
  "language_info": {
   "codemirror_mode": {
    "name": "ipython",
    "version": 3
   },
   "file_extension": ".py",
   "mimetype": "text/x-python",
   "name": "python",
   "nbconvert_exporter": "python",
   "pygments_lexer": "ipython3",
   "version": "3.9.7"
  },
  "toc": {
   "base_numbering": 1,
   "nav_menu": {},
   "number_sections": true,
   "sideBar": true,
   "skip_h1_title": true,
   "title_cell": "Table of Contents",
   "title_sidebar": "Contents",
   "toc_cell": true,
   "toc_position": {},
   "toc_section_display": true,
   "toc_window_display": true
  },
  "varInspector": {
   "cols": {
    "lenName": 16,
    "lenType": 16,
    "lenVar": 40
   },
   "kernels_config": {
    "python": {
     "delete_cmd_postfix": "",
     "delete_cmd_prefix": "del ",
     "library": "var_list.py",
     "varRefreshCmd": "print(var_dic_list())"
    },
    "r": {
     "delete_cmd_postfix": ") ",
     "delete_cmd_prefix": "rm(",
     "library": "var_list.r",
     "varRefreshCmd": "cat(var_dic_list()) "
    }
   },
   "types_to_exclude": [
    "module",
    "function",
    "builtin_function_or_method",
    "instance",
    "_Feature"
   ],
   "window_display": false
  }
 },
 "nbformat": 4,
 "nbformat_minor": 1
}
