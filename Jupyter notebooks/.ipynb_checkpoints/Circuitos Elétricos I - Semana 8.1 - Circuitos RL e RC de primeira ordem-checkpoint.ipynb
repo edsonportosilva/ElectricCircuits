{
 "cells": [
  {
   "cell_type": "markdown",
   "metadata": {
    "colab_type": "text",
    "id": "view-in-github"
   },
   "source": [
    "<a href=\"https://colab.research.google.com/github/edsonportosilva/ElectricCircuits/blob/master/Jupyter%20notebooks/Circuitos%20El%C3%A9tricos%20I%20-%20Semana%208.1%20-%20Circuitos%20RL%20e%20RC%20de%20primeira%20ordem.ipynb\" target=\"_parent\"><img src=\"https://colab.research.google.com/assets/colab-badge.svg\" alt=\"Open In Colab\"/></a>"
   ]
  },
  {
   "cell_type": "code",
   "execution_count": 1,
   "metadata": {
    "ExecuteTime": {
     "end_time": "2022-02-22T12:18:10.830941Z",
     "start_time": "2022-02-22T12:18:08.532535Z"
    },
    "id": "eGDmQZQVUZwD"
   },
   "outputs": [
    {
     "data": {
      "text/html": [
       "\n",
       "<style>\n",
       ".output_png {\n",
       "    display: table-cell;\n",
       "    text-align: center;\n",
       "    vertical-align: middle;\n",
       "}\n",
       "</style>\n"
      ],
      "text/plain": [
       "<IPython.core.display.HTML object>"
      ]
     },
     "execution_count": 1,
     "metadata": {},
     "output_type": "execute_result"
    }
   ],
   "source": [
    "if 'google.colab' in str(get_ipython()):    \n",
    "    ! git clone -b master https://github.com/edsonportosilva/ElectricCircuits\n",
    "    from os import chdir as cd\n",
    "    cd('/content/ElectricCircuits/')\n",
    "    ! pip install -e .\n",
    "    \n",
    "from IPython.core.display import HTML\n",
    "from IPython.display import Image\n",
    "import ipywidgets as widgets\n",
    "import IPython.display as display\n",
    "\n",
    "import sympy as sp\n",
    "import numpy as np\n",
    "from circuit.utils import symplot, symdisp, round_expr\n",
    "\n",
    "HTML(\"\"\"\n",
    "<style>\n",
    ".output_png {\n",
    "    display: table-cell;\n",
    "    text-align: center;\n",
    "    vertical-align: middle;\n",
    "}\n",
    "</style>\n",
    "\"\"\")"
   ]
  },
  {
   "cell_type": "markdown",
   "metadata": {
    "id": "rQfAMN5SUZwF"
   },
   "source": [
    "# *Circuitos Elétricos I - Semana 8*"
   ]
  },
  {
   "cell_type": "markdown",
   "metadata": {
    "id": "9STHy2_7UZwG"
   },
   "source": [
    "### Circuitos RL e RC de primeira ordem\n",
    "\n",
    "Os quatro tipos possíveis de circuitos de primeira ordem estão ilustrados na figura abaixo.\n",
    "\n",
    "<img src=\"https://github.com/edsonportosilva/ElectricCircuits/blob/master/Jupyter%20notebooks/figures/J11C1.png?raw=1\" width=\"700\">"
   ]
  },
  {
   "cell_type": "markdown",
   "metadata": {
    "id": "jZgtzIpcUZwH"
   },
   "source": [
    "Lembrando que um circuito de primeira ordem qualquer, com vários resistores e fontes, por exemplo, pode ser reduzido a um dos quatro circuitos acima fazendo $R=R_{th}$, $v_s=v_{th}$ e $i_s=i_{N}$. Logo, desde que o circuito contenha apenas um elemento indutor ou capacitor, a análise de um circuito de primeira ordem deve ser feita primeiramente determinando-se o circuito equivalente de Thévenin ou de Norton conectado aos terminais do elemento em questão."
   ]
  },
  {
   "cell_type": "markdown",
   "metadata": {
    "id": "K6fMqJMxUZwH"
   },
   "source": [
    "### EDO linear homogênea\n",
    "\n",
    "Seja para a corrente passando pelo indutor (circuito RL) ou para a tensão aplicada aos terminais do capacitor (circuito RC), a aplicação das leis de Kirchhoff e da **convenção passiva** nos circuitos RL e RC sempre levarão a uma EDO homogênea separável de primeira ordem do tipo\n",
    "\n",
    "$$ \\begin{equation}\\label{eq1} \\large \\frac{dx(t)}{dt} = -\\frac{1}{\\tau}x(t), \\end{equation}$$ \n",
    "\n",
    "com $\\tau$ sendo a constante de tempo do circuito. A solução de (\\ref{eq1}) pode ser obtida via integração fazendo\n",
    "\n",
    "$$ \\begin{equation}  \\large \\int_{x\\left(t_{0}^+\\right)}^{x(t)} \\frac{d u}{u}=-\\frac{1}{\\tau} \\int_{t_{0}^+}^{t} d v \\end{equation}$$.\n",
    "\n",
    "Logo, a solução da EDO homogênea será dada por  $$ \\begin{equation} \\large x(t) = x(t_0^+)e^{-\\frac{(t-t_0^+)}{\\tau}}. \\end{equation} $$"
   ]
  },
  {
   "cell_type": "markdown",
   "metadata": {
    "id": "pNI0WCVnUZwI"
   },
   "source": [
    "### Resposta natural\n",
    "\n",
    "A resposta natural de circuitos RL/RC corresponderá a solução da EDO homogênea, ou seja,\n",
    "\n",
    "$$ \\begin{equation} \\large i_L(t) = i_L(t_0^+)e^{-\\frac{(t-t_0^+)}{\\tau}}, \\end{equation}$$\n",
    "\n",
    "com $\\tau = L/R$ para o circuito RL e\n",
    "\n",
    "$$\\begin{equation}  \\large v_C(t) = v_C(t_0^+)e^{-\\frac{(t-t_0^+)}{\\tau}}, \\end{equation} $$\n",
    "\n",
    "com $\\tau = RC$ para o circuito RC."
   ]
  },
  {
   "cell_type": "markdown",
   "metadata": {
    "id": "65hXUnWEUZwI"
   },
   "source": [
    "### Resposta ao degrau\n",
    "\n",
    "A resposta ao degrau de circuitos RL/RC corresponderá a solução da EDO homogênea adicionada da solução particular (ou solução de regime estacionário). Logo,\n",
    "\n",
    "$$\n",
    "\\begin{equation}\n",
    "\\large i_L(t) = i_L(\\infty) + A i_L(t_0^+)e^{-\\frac{(t-t_0^+)}{\\tau}}, \\label{RL1}\n",
    "\\end{equation}\n",
    "$$\n",
    "\n",
    "com $\\tau = L/R$ para o circuito RL e\n",
    "\n",
    "$$\n",
    "\\begin{equation} \n",
    "\\large v_C(t) = v_C(\\infty) + Av_C(t_0^+)e^{-\\frac{(t-t_0^+)}{\\tau}},\\label{RC1} \n",
    "\\end{equation}\n",
    "$$\n",
    "\n",
    "com $\\tau = RC$ para o circuito RC.\n",
    "\n",
    "em que $A$ é uma constante da solução geral da EDO. O valor da constante $A$ pode ser determinado considerando o problema de valor inicial, ou seja, utilizando as condições iniciais de corrente no indutor ou tensão no capacitor (condições de contorno). \n",
    "\n",
    "Desse modo, para o circuito RL sabemos que $t\\to t_0^+\\;s \\Rightarrow i_L(t)\\to i_L(t_0^+)$, logo\n",
    "\n",
    "$$\\large{\\begin{align} i_L(t_0^+) &= i_L(\\infty) + A i_L(t_0^+) e^{-\\frac{(t_0^+-t_0^+)}{\\tau}}\\nonumber\\\\ &= i_L(\\infty) + A i_L(t_0^+) \\nonumber\\\\ \\Rightarrow A &= \\frac{i_L(t_0^+)- i_L(\\infty)}{i_L(t_0^+)}\\nonumber\n",
    "\\end{align} }$$\n",
    "\n",
    "e para o circuito RC sabemos que $t\\to t_0^+\\;s \\Rightarrow v_C(t)\\to v_C(t_0^+)$, logo\n",
    "\n",
    "$$\\large{\\begin{align} v_C(t_0^+) &= v_C(\\infty) + A v_C(t_0^+)e^{-\\frac{(t_0^+-t_0^+)}{\\tau}}\\nonumber\\\\ &= v_C(\\infty) + A v_C(t_0^+) \\nonumber\\\\ \\Rightarrow A &= \\frac{v_C(t_0^+)- v_C(\\infty)}{v_C(t_0^+)}\\nonumber\n",
    "\\end{align} }$$\n",
    "\n",
    "Substituindo os valores encontrados de $A$ nas equações ($\\ref{RL1}$) e ($\\ref{RC1}$) obtemos as expressões para a solução geral dos circuitos de primeira ordem."
   ]
  },
  {
   "cell_type": "markdown",
   "metadata": {
    "id": "-bfuip0EUZwJ"
   },
   "source": [
    "### Resposta geral\n",
    "\n",
    "A resposta geral de circuitos RL/RC corresponderá às expressões,\n",
    "\n",
    "$$ \\begin{equation} \\large i_L(t) = i_L(\\infty) + \\left[i_L(t_0^+)- i_L(\\infty)\\right]e^{-\\frac{(t-t_0^+)}{\\tau}},\\end{equation} $$\n",
    "\n",
    "com $\\tau = L/R$ para o circuito RL e\n",
    "\n",
    "$$ \\begin{equation} \\large v_C(t) = v_C(\\infty) + \\left[v_C(t_0^+)- v_C(\\infty)\\right]e^{-\\frac{(t-t_0^+)}{\\tau}},\\end{equation} $$\n",
    "\n",
    "com $\\tau = RC$ para o circuito RC.\n",
    "\n",
    "Finalmente, para qualquer circuito de primeira ordem,\n",
    "\n",
    "$$\\begin{equation}  \\large x(t) = x(\\infty) + \\left[x(t_0^+)-x(\\infty)\\right]e^{-\\frac{(t-t_0^+)}{\\tau}},\\end{equation} $$\n",
    "\n",
    "com $\\tau$ sendo a constante de tempo associada a este circuito."
   ]
  },
  {
   "cell_type": "markdown",
   "metadata": {
    "id": "UBO6eAquUZwK"
   },
   "source": [
    "### Problema 1\n",
    "\n",
    "Para circuito da figura abaixo, a chave encontra-se conectada ao terminal $a$ há muito tempo. Em $t=0s$, posição da chave muda do ponto $a$ para o ponto $b$. Em $t=20 ms$, a chave é desconectada do ponto $b$, permanecendo aberta. Determine:\n",
    "\n",
    "a. A corrente no indutor para $0^+s\\leq t \\leq 20^-ms$.\\\n",
    "b. A tensão nos terminais indutor em $t=0^-s$ e $t=0^+s$.\\\n",
    "c. A tensão nos terminais do resistor de 40 $\\Omega$ em $t=0^-s$ e $t=0^+s$.\\\n",
    "d. A corrente no indutor para $t\\geq20^+ms$.\\\n",
    "e. A tensão nos terminais do indutor em $t=20^+ms$.\n",
    "\n",
    "\n",
    "<img src=\"https://github.com/edsonportosilva/ElectricCircuits/blob/master/Jupyter%20notebooks/figures/J11C2.png?raw=1\" width=\"600\">"
   ]
  },
  {
   "cell_type": "markdown",
   "metadata": {
    "id": "3r9Qc1cqUZwK"
   },
   "source": [
    "Simulação do circuito disponível no link: https://tinyurl.com/yfs69qqu\n",
    "\n",
    "#### Visualização das curvas $i_L(t)$, $v_L(t)$ e $p_L(t)$"
   ]
  },
  {
   "cell_type": "code",
   "execution_count": 2,
   "metadata": {
    "ExecuteTime": {
     "end_time": "2022-02-25T12:20:13.987895Z",
     "start_time": "2022-02-25T12:20:11.775529Z"
    },
    "id": "iPBgNrgyUZwK",
    "outputId": "50d65953-ccdb-4c15-84f9-8c1ef652b462"
   },
   "outputs": [
    {
     "data": {
      "text/latex": [
       "$\\displaystyle i_L(t) =\\begin{cases} 2.9 & \\text{for}\\: t < 0 \\\\-4.444 + 7.344 e^{- 18.0 t} & \\text{otherwise} \\end{cases}\\;mA$"
      ],
      "text/plain": [
       "<IPython.core.display.Math object>"
      ]
     },
     "metadata": {},
     "output_type": "display_data"
    },
    {
     "data": {
      "image/png": "[encoded data removed]",
      "text/plain": [
       "<Figure size 432x288 with 1 Axes>"
      ]
     },
     "execution_count": 2,
     "metadata": {},
     "output_type": "execute_result"
    }
   ],
   "source": [
    "# parâmetros do circuito\n",
    "L   = 1\n",
    "vth = -80e-3\n",
    "Rth = 18\n",
    "\n",
    "# informações obtidas pela análise do circuito\n",
    "iL_inf = vth/Rth # iL(infinito)\n",
    "iL_t0  = 2.9e-3  # iL(t0+)\n",
    "\n",
    "τ = L/Rth  # constante de tempo do circuito RL\n",
    "t0  = 0    # instante inicial\n",
    "\n",
    "t = sp.symbols('t', real=True) # define a variável tempo\n",
    "\n",
    "iL = sp.Piecewise( (iL_t0, t<0),                                              # iL(t) para t<t0-\n",
    "                   (iL_inf + (iL_t0 - iL_inf)*sp.exp(-(t-t0)/τ), t>=0) )*1000 # iL(t) para t>t0+\n",
    "\n",
    "symdisp('i_L(t) =', round_expr(iL.simplify(), 3), 'mA')\n",
    "\n",
    "intervalo  = np.linspace(t0-2*τ, t0+8*τ, 400)\n",
    "symplot(t, iL, intervalo, funLabel = '$i_L(t)$ [mA]')"
   ]
  },
  {
   "cell_type": "code",
   "execution_count": 3,
   "metadata": {
    "ExecuteTime": {
     "end_time": "2022-02-25T12:21:15.615185Z",
     "start_time": "2022-02-25T12:21:13.735682Z"
    },
    "id": "FnJUZornUZwL",
    "outputId": "2483d723-c6e9-4e5b-cf90-877c5799ec95"
   },
   "outputs": [
    {
     "data": {
      "text/latex": [
       "$\\displaystyle v_L(t) = \\begin{cases} 0 & \\text{for}\\: t < 0 \\\\- 132.2 e^{- 18.0 t} & \\text{otherwise} \\end{cases}\\; mV$"
      ],
      "text/plain": [
       "<IPython.core.display.Math object>"
      ]
     },
     "metadata": {},
     "output_type": "display_data"
    },
    {
     "data": {
      "image/png": "[encoded data removed]",
      "text/plain": [
       "<Figure size 432x288 with 1 Axes>"
      ]
     },
     "execution_count": 3,
     "metadata": {},
     "output_type": "execute_result"
    }
   ],
   "source": [
    "vL = L*sp.diff(iL,t)\n",
    "vL = vL.simplify()\n",
    "\n",
    "symdisp('v_L(t) = ', vL, ' mV')\n",
    "\n",
    "symplot(t, vL, intervalo, funLabel = '$v_L(t)$ [mV]')"
   ]
  },
  {
   "cell_type": "code",
   "execution_count": 4,
   "metadata": {
    "ExecuteTime": {
     "end_time": "2022-02-25T12:22:31.494033Z",
     "start_time": "2022-02-25T12:22:30.055464Z"
    },
    "id": "Ilmv-VP1UZwM",
    "outputId": "552435a4-6064-4359-94dc-c58a5011009c"
   },
   "outputs": [
    {
     "data": {
      "text/latex": [
       "$\\displaystyle p_L(t) = \\begin{cases} 0 & \\text{for}\\: t < 0 \\\\\\left(587.556 e^{18.0 t} - 970.936\\right) e^{- 36.0 t} & \\text{otherwise} \\end{cases}\\; μW$"
      ],
      "text/plain": [
       "<IPython.core.display.Math object>"
      ]
     },
     "metadata": {},
     "output_type": "display_data"
    },
    {
     "data": {
      "image/png": "[encoded data removed]",
      "text/plain": [
       "<Figure size 432x288 with 1 Axes>"
      ]
     },
     "execution_count": 4,
     "metadata": {},
     "output_type": "execute_result"
    }
   ],
   "source": [
    "pL = vL*iL\n",
    "pL = pL.simplify()\n",
    "\n",
    "symdisp('p_L(t) = ', round_expr(pL,3), ' μW')\n",
    "\n",
    "symplot(t, pL, intervalo, funLabel = '$p_L(t)$ [μW]')"
   ]
  },
  {
   "cell_type": "code",
   "execution_count": 5,
   "metadata": {
    "ExecuteTime": {
     "end_time": "2022-02-22T12:18:12.280668Z",
     "start_time": "2022-02-22T12:18:12.175731Z"
    },
    "hide_input": false,
    "id": "g4RQT4S1UZwM"
   },
   "outputs": [
    {
     "data": {
      "application/vnd.jupyter.widget-view+json": {
       "model_id": "8c96fc001fd049cdaafa0971c682feb0",
       "version_major": 2,
       "version_minor": 0
      },
      "text/plain": [
       "HBox(children=(Image(value=b'GIF89a\\xb0\\x01 \\x01\\xf7\\xea\\x00\\x00\\x00\\x00\\x01\\x01\\x01\\x03\\x03\\x03\\x04\\x04\\x04\\x…"
      ]
     },
     "metadata": {},
     "output_type": "display_data"
    }
   ],
   "source": [
    "import ipywidgets as widgets\n",
    "import IPython.display as display\n",
    "\n",
    "img1 = open('./figures/J11C2a.gif', 'rb').read()\n",
    "img2 = open('./figures/J11C2b.gif', 'rb').read()\n",
    "\n",
    "wi1 = widgets.Image(value=img1, format='gif', width=600, height=400)\n",
    "wi2 = widgets.Image(value=img2, format='gif', width=600, height=400)\n",
    "\n",
    "sidebyside = widgets.HBox([wi1, wi2])\n",
    "display.display(sidebyside)"
   ]
  },
  {
   "cell_type": "markdown",
   "metadata": {
    "id": "XmOdCPiOUZwM"
   },
   "source": [
    "### Problema 2\n",
    "\n",
    "No circuito da figura abaixo, antes de conectado ao circuito, o capacitor possui uma tensão inicial de $v_C=10~V$. Em $t=0s$, o capacitor é conectado ao circuito. Determine:\n",
    "\n",
    "a. O circuito equivalente de Thévenin do ponto de vista dos terminais do capacitor.\\\n",
    "b. A tensão no capacitor $v_C(t)$ para $t\\geq 0^+s$.\\\n",
    "c. A tensão $v_x(t)$ para $t\\geq 0^+s$. \n",
    "\n",
    "<img src=\"https://github.com/edsonportosilva/ElectricCircuits/blob/master/Jupyter%20notebooks/figures/J11C3.png?raw=1\" width=\"600\">"
   ]
  },
  {
   "cell_type": "markdown",
   "metadata": {
    "id": "nTTHi5x-UZwM"
   },
   "source": [
    "Simulação do circuito disponível no link: https://tinyurl.com/yzhty8w3"
   ]
  }
 ],
 "metadata": {
  "colab": {
   "include_colab_link": true,
   "provenance": []
  },
  "jupytext": {
   "encoding": "# -*- coding: utf-8 -*-",
   "formats": "ipynb,py:light"
  },
  "kernelspec": {
   "display_name": "Python 3 (ipykernel)",
   "language": "python",
   "name": "python3"
  },
  "language_info": {
   "codemirror_mode": {
    "name": "ipython",
    "version": 3
   },
   "file_extension": ".py",
   "mimetype": "text/x-python",
   "name": "python",
   "nbconvert_exporter": "python",
   "pygments_lexer": "ipython3",
   "version": "3.9.7"
  },
  "toc": {
   "base_numbering": 1,
   "nav_menu": {},
   "number_sections": true,
   "sideBar": true,
   "skip_h1_title": true,
   "title_cell": "Table of Contents",
   "title_sidebar": "Contents",
   "toc_cell": true,
   "toc_position": {
    "height": "calc(100% - 180px)",
    "left": "10px",
    "top": "150px",
    "width": "200.475px"
   },
   "toc_section_display": true,
   "toc_window_display": true
  },
  "varInspector": {
   "cols": {
    "lenName": 16,
    "lenType": 16,
    "lenVar": 40
   },
   "kernels_config": {
    "python": {
     "delete_cmd_postfix": "",
     "delete_cmd_prefix": "del ",
     "library": "var_list.py",
     "varRefreshCmd": "print(var_dic_list())"
    },
    "r": {
     "delete_cmd_postfix": ") ",
     "delete_cmd_prefix": "rm(",
     "library": "var_list.r",
     "varRefreshCmd": "cat(var_dic_list()) "
    }
   },
   "types_to_exclude": [
    "module",
    "function",
    "builtin_function_or_method",
    "instance",
    "_Feature"
   ],
   "window_display": false
  }
 },
 "nbformat": 4,
 "nbformat_minor": 1
}
