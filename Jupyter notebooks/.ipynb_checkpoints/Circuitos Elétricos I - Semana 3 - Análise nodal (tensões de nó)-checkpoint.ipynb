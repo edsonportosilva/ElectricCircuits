{
 "cells": [
  {
   "cell_type": "code",
   "execution_count": 1,
   "metadata": {
    "ExecuteTime": {
     "end_time": "2021-12-09T19:46:35.564378Z",
     "start_time": "2021-12-09T19:46:35.546387Z"
    }
   },
   "outputs": [
    {
     "data": {
      "text/html": [
       "\n",
       "<style>\n",
       ".output_png {\n",
       "    display: table-cell;\n",
       "    text-align: center;\n",
       "    vertical-align: middle;\n",
       "}\n",
       "</style>\n"
      ],
      "text/plain": [
       "<IPython.core.display.HTML object>"
      ]
     },
     "execution_count": 1,
     "metadata": {},
     "output_type": "execute_result"
    }
   ],
   "source": [
    "from IPython.core.display import HTML\n",
    "from IPython.display import Image\n",
    "HTML(\"\"\"\n",
    "<style>\n",
    ".output_png {\n",
    "    display: table-cell;\n",
    "    text-align: center;\n",
    "    vertical-align: middle;\n",
    "}\n",
    "</style>\n",
    "\"\"\")"
   ]
  },
  {
   "cell_type": "markdown",
   "metadata": {},
   "source": [
    "# *Circuitos Elétricos I - Semana 3*"
   ]
  },
  {
   "cell_type": "markdown",
   "metadata": {},
   "source": [
    "## Resolução de circuitos utilizando análise nodal: método das tensões de nó.\n",
    "\n",
    "\n",
    "### Procedimento de solução:\n",
    "\n",
    "**Passo 1**: identifique todos os $n_e$ nós essenciais do circuito, selecione um deles como um nó de referência (terra) e, em seguida, atribua uma tensão de nó para cada um dos $n_e - 1$ nós essenciais restantes.\n",
    "\n",
    "**Passo 2**: em cada um dos $n_e - 1$ nós essenciais, obtenha uma equação aplicando a lei de Kirchhoff das correntes (LKC), ou seja, uma equação indicando que a soma de todas as correntes saindo do nó é igual a soma das correntes deixando o nó.\n",
    "\n",
    "**Passo 3**: escreva as equações obtidas em função das tensões de nó.\n",
    "\n",
    "**Passo 4**: resolva o sistema de $n_e - 1$ equações independentes para determinar as tensões de nó desconhecidas.\n",
    "\n",
    "**Passo 5**: determine os valores das grandezas de interesse a partir das tensões de nó obtidas.\n",
    "\n",
    "\n",
    "### Problema 1\n",
    "\n",
    "Aplicando o método das tensões de nó, determine todas as correntes e potências desenvolvidas por cada elemento no circuito a seguir:\n",
    "\n",
    "<img src=\"./figures/J4C1.png\" width=\"500\">"
   ]
  },
  {
   "cell_type": "markdown",
   "metadata": {},
   "source": [
    "### Solução das equações"
   ]
  },
  {
   "cell_type": "code",
   "execution_count": 2,
   "metadata": {
    "ExecuteTime": {
     "end_time": "2021-12-09T19:46:38.441326Z",
     "start_time": "2021-12-09T19:46:35.567374Z"
    }
   },
   "outputs": [],
   "source": [
    "from utils import symdisp\n",
    "import sympy as sp"
   ]
  },
  {
   "cell_type": "code",
   "execution_count": 3,
   "metadata": {
    "ExecuteTime": {
     "end_time": "2021-12-09T19:46:38.644200Z",
     "start_time": "2021-12-09T19:46:38.445327Z"
    }
   },
   "outputs": [
    {
     "name": "stdout",
     "output_type": "stream",
     "text": [
      "Solução do sistema:\n"
     ]
    },
    {
     "data": {
      "text/latex": [
       "$\\displaystyle v_a = -1.33\\; V$"
      ],
      "text/plain": [
       "<IPython.core.display.Math object>"
      ]
     },
     "metadata": {},
     "output_type": "display_data"
    },
    {
     "data": {
      "text/latex": [
       "$\\displaystyle v_b = 2\\; V$"
      ],
      "text/plain": [
       "<IPython.core.display.Math object>"
      ]
     },
     "metadata": {},
     "output_type": "display_data"
    },
    {
     "data": {
      "text/latex": [
       "$\\displaystyle v_c = 0\\; V$"
      ],
      "text/plain": [
       "<IPython.core.display.Math object>"
      ]
     },
     "metadata": {},
     "output_type": "display_data"
    },
    {
     "data": {
      "text/latex": [
       "$\\displaystyle v_d = 0.67\\; V$"
      ],
      "text/plain": [
       "<IPython.core.display.Math object>"
      ]
     },
     "metadata": {},
     "output_type": "display_data"
    }
   ],
   "source": [
    "# define as N variáveis desconhecidas\n",
    "va, vb, vc, vd = sp.symbols('va, vb, vc, vd')\n",
    "\n",
    "# define os sistema de N equações\n",
    "eq1 = sp.Eq()             \n",
    "eq2 = sp.Eq()\n",
    "eq3 = sp.Eq()\n",
    "eq4 = sp.Eq()\n",
    "\n",
    "# resolve o sistema\n",
    "soluc = sp.solve((eq1, eq2, eq3, eq4), dict=True)\n",
    "soluc = soluc[0]\n",
    "\n",
    "va = soluc[va]\n",
    "vb = soluc[vb]\n",
    "vc = soluc[vc]\n",
    "vd = soluc[vd]\n",
    "\n",
    "print('Solução do sistema:')\n",
    "symdisp('v_a = ', round(va, 2), ' V')\n",
    "symdisp('v_b = ', round(vb, 2), ' V')\n",
    "symdisp('v_c = ', round(vc, 2), ' V')\n",
    "symdisp('v_d = ', round(vd, 2), ' V')"
   ]
  },
  {
   "cell_type": "markdown",
   "metadata": {},
   "source": [
    "### Cálculo das correntes"
   ]
  },
  {
   "cell_type": "code",
   "execution_count": null,
   "metadata": {},
   "outputs": [],
   "source": [
    "i2 = \n",
    "ix = \n",
    "i3 = \n",
    "i4 = \n",
    "i6 = \n",
    "i1 = \n",
    "i5 = \n",
    "\n",
    "print('Correntes:')\n",
    "symdisp('i_1 = ', round(i1, 2), ' A')\n",
    "symdisp('i_2 = ', round(i2, 2), ' A')\n",
    "symdisp('i_3 = ', round(i3, 2), ' A')\n",
    "symdisp('i_4 = ', round(i4, 2), ' A')\n",
    "symdisp('i_5 = ', round(i5, 2), ' A')\n",
    "symdisp('i_6 = ', round(i6, 2), ' A')\n",
    "symdisp('i_x = ', round(ix, 2), ' A')"
   ]
  },
  {
   "cell_type": "markdown",
   "metadata": {},
   "source": [
    "### Cálculo das potências"
   ]
  },
  {
   "cell_type": "code",
   "execution_count": null,
   "metadata": {},
   "outputs": [],
   "source": [
    "pR = \n",
    "p10V = \n",
    "p05A = \n",
    "p12V = \n",
    "p2ix = \n",
    "\n",
    "# calcula somatório das potências\n",
    "print('Somatório das potências : %.2f W\\n' %(pR+p10V+p05A+p12V+p2ix))"
   ]
  },
  {
   "cell_type": "markdown",
   "metadata": {},
   "source": [
    "## Resolução de circuitos utilizando análise de malhas: correntes de malha.\n",
    "\n",
    "\n",
    "### Procedimento de solução:\n",
    "\n",
    "**Passo 1**: identifique todas as malhas simples e atribua a cada uma delas uma corrente de malha desconhecida. A escolha sentido de referência para cada corrente de malha é arbitrário. Por conveniência, costuma-se definir utilizar o mesmo sentido para todas as correntes de malha.\n",
    "\n",
    "**Passo 2**: para cada uma das malhas simples do circuito, obtenha uma equação aplicando a lei de Kirchhoff das tensões (LKT).\n",
    "\n",
    "**Passo 3**: resolva o sistema de equações independentes resultantes para determinar as correntes de malha.\n",
    "\n",
    "**Passo 4**: determine os valores das grandezas de interesse a partir das correntes de malha obtidas.\n",
    "\n",
    "### Problema 2\n",
    "\n",
    "Aplicando o método das correntes de malha, determine todas as correntes e potências desenvolvidas por cada elemento no circuito a seguir:\n",
    "\n",
    "<img src=\"./figures/J4C2.png\" width=\"500\">"
   ]
  },
  {
   "cell_type": "markdown",
   "metadata": {},
   "source": [
    "### Solução das equações"
   ]
  },
  {
   "cell_type": "code",
   "execution_count": 11,
   "metadata": {
    "ExecuteTime": {
     "end_time": "2021-12-09T20:00:46.288796Z",
     "start_time": "2021-12-09T20:00:46.250819Z"
    }
   },
   "outputs": [
    {
     "name": "stdout",
     "output_type": "stream",
     "text": [
      "Correntes:\n"
     ]
    },
    {
     "data": {
      "text/latex": [
       "$\\displaystyle i_a = 1\\; A$"
      ],
      "text/plain": [
       "<IPython.core.display.Math object>"
      ]
     },
     "metadata": {},
     "output_type": "display_data"
    },
    {
     "data": {
      "text/latex": [
       "$\\displaystyle i_b = 1\\; A$"
      ],
      "text/plain": [
       "<IPython.core.display.Math object>"
      ]
     },
     "metadata": {},
     "output_type": "display_data"
    },
    {
     "data": {
      "text/latex": [
       "$\\displaystyle i_c = 0.5\\; A$"
      ],
      "text/plain": [
       "<IPython.core.display.Math object>"
      ]
     },
     "metadata": {},
     "output_type": "display_data"
    },
    {
     "data": {
      "text/latex": [
       "$\\displaystyle i_d = 4.5\\; A$"
      ],
      "text/plain": [
       "<IPython.core.display.Math object>"
      ]
     },
     "metadata": {},
     "output_type": "display_data"
    }
   ],
   "source": [
    "# define as N variáveis desconhecidas\n",
    "Ia, Ib, Ic, Id = sp.symbols('ia, ib, ic, id')\n",
    "\n",
    "# define os sistema de N equações\n",
    "eq1 = sp.Eq()             \n",
    "eq2 = sp.Eq()             \n",
    "eq3 = sp.Eq()             \n",
    "eq4 = sp.Eq()  \n",
    "\n",
    "# resolve o sistema\n",
    "soluc = sp.solve((eq1, eq2, eq3, eq4), dict=True)\n",
    "soluc = soluc[0]\n",
    "\n",
    "Ia = soluc[Ia]\n",
    "Ib = soluc[Ib]\n",
    "Ic = soluc[Ic]\n",
    "Id = soluc[Id]\n",
    "\n",
    "print('Correntes:')\n",
    "symdisp('i_a = ', round(Ia, 2), ' A')\n",
    "symdisp('i_b = ', round(Ib, 2), ' A')\n",
    "symdisp('i_c = ', round(Ic, 2), ' A')\n",
    "symdisp('i_d = ', round(Id, 2), ' A')"
   ]
  },
  {
   "cell_type": "markdown",
   "metadata": {},
   "source": [
    "### Cálculo das correntes"
   ]
  },
  {
   "cell_type": "code",
   "execution_count": null,
   "metadata": {},
   "outputs": [],
   "source": [
    "i2 = \n",
    "ix = \n",
    "i3 = \n",
    "i4 = \n",
    "i6 = \n",
    "i1 = \n",
    "i5 = \n",
    "\n",
    "print('Correntes:')\n",
    "symdisp('i_1 = ', round(i1, 2), ' A')\n",
    "symdisp('i_2 = ', round(i2, 2), ' A')\n",
    "symdisp('i_3 = ', round(i3, 2), ' A')\n",
    "symdisp('i_4 = ', round(i4, 2), ' A')\n",
    "symdisp('i_5 = ', round(i5, 2), ' A')\n",
    "symdisp('i_6 = ', round(i6, 2), ' A')\n",
    "symdisp('i_x = ', round(ix, 2), ' A')"
   ]
  },
  {
   "cell_type": "markdown",
   "metadata": {},
   "source": [
    "### Cálculo das potências"
   ]
  },
  {
   "cell_type": "code",
   "execution_count": null,
   "metadata": {},
   "outputs": [],
   "source": [
    "pR = \n",
    "p10V = \n",
    "p05A = \n",
    "p12V = \n",
    "p2ix =\n",
    "\n",
    "# calcula somatório das potências\n",
    "print('Somatório das potências : %.2f W\\n' %(pR+p10V+p05A+p12V+p2ix))"
   ]
  }
 ],
 "metadata": {
  "jupytext": {
   "encoding": "# -*- coding: utf-8 -*-",
   "formats": "ipynb,py:light"
  },
  "kernelspec": {
   "display_name": "Python 3 (ipykernel)",
   "language": "python",
   "name": "python3"
  },
  "language_info": {
   "codemirror_mode": {
    "name": "ipython",
    "version": 3
   },
   "file_extension": ".py",
   "mimetype": "text/x-python",
   "name": "python",
   "nbconvert_exporter": "python",
   "pygments_lexer": "ipython3",
   "version": "3.9.7"
  },
  "toc": {
   "base_numbering": 1,
   "nav_menu": {},
   "number_sections": true,
   "sideBar": true,
   "skip_h1_title": true,
   "title_cell": "Table of Contents",
   "title_sidebar": "Contents",
   "toc_cell": true,
   "toc_position": {
    "height": "calc(100% - 180px)",
    "left": "10px",
    "top": "150px",
    "width": "200.475px"
   },
   "toc_section_display": true,
   "toc_window_display": true
  },
  "varInspector": {
   "cols": {
    "lenName": 16,
    "lenType": 16,
    "lenVar": 40
   },
   "kernels_config": {
    "python": {
     "delete_cmd_postfix": "",
     "delete_cmd_prefix": "del ",
     "library": "var_list.py",
     "varRefreshCmd": "print(var_dic_list())"
    },
    "r": {
     "delete_cmd_postfix": ") ",
     "delete_cmd_prefix": "rm(",
     "library": "var_list.r",
     "varRefreshCmd": "cat(var_dic_list()) "
    }
   },
   "types_to_exclude": [
    "module",
    "function",
    "builtin_function_or_method",
    "instance",
    "_Feature"
   ],
   "window_display": false
  }
 },
 "nbformat": 4,
 "nbformat_minor": 2
}
