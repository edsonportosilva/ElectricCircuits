{
 "cells": [
  {
   "cell_type": "markdown",
   "metadata": {},
   "source": [
    "# *Circuitos Elétricos I - Semana 10*"
   ]
  },
  {
   "cell_type": "markdown",
   "metadata": {},
   "source": [
    "### Problema 1\n",
    "  \n",
    "(Problema 7.19 - Nilsson) Para o circuito abaixo, pede-se:\n",
    "\n",
    "<img src=\"./figures/J13C1.png\" width=\"400\">\n",
    "\n",
    "a) Determine a tensão $v_0(t)$ sobre o indutor de $48\\;mH$ para $t\\geq0$.\\\n",
    "b) Determine a corrente $i_0(t)$ sobre o indutor de $48\\;mH$ para $t\\geq0$.\\\n",
    "c) Determine a energia consumida pelo resistor de $2.5\\;k\\Omega$ no intervalo $0\\leq t \\leq\\infty$.\n",
    "\n",
    "Link para a simulação do circuito: https://tinyurl.com/yj69udn8"
   ]
  },
  {
   "cell_type": "code",
   "execution_count": 1,
   "metadata": {},
   "outputs": [],
   "source": [
    "# valores das indutâncias\n",
    "L1 = 20e-3\n",
    "L2 = 80e-3\n",
    "L3 = 48e-3\n",
    "\n",
    "# valores iniciais das correntes\n",
    "i1_0 = 5e-3\n",
    "i2_0 = 5e-3\n",
    "i3_0 = 0"
   ]
  },
  {
   "cell_type": "code",
   "execution_count": 2,
   "metadata": {},
   "outputs": [
    {
     "name": "stdout",
     "output_type": "stream",
     "text": [
      "Leq =  50.0  mH\n"
     ]
    }
   ],
   "source": [
    "# indutância equivalente\n",
    "Leq1 = (L2*L3)/(L2+L3)\n",
    "Leq  = L1 + Leq1\n",
    "\n",
    "print('Leq = ', Leq/1e-3, ' mH')"
   ]
  },
  {
   "cell_type": "code",
   "execution_count": 3,
   "metadata": {},
   "outputs": [
    {
     "name": "stdout",
     "output_type": "stream",
     "text": [
      "τ =  2e-05  s\n"
     ]
    }
   ],
   "source": [
    "R = 2.5e3\n",
    "\n",
    "# constante de tempo\n",
    "τ = Leq/R\n",
    "\n",
    "print('τ = ', τ, ' s')"
   ]
  },
  {
   "cell_type": "code",
   "execution_count": 4,
   "metadata": {},
   "outputs": [
    {
     "name": "stdout",
     "output_type": "stream",
     "text": [
      "Corrente no indutor equivalente:\n",
      "iL(t) =  5.0*exp(-50000.0*t)  mA\n"
     ]
    }
   ],
   "source": [
    "import sympy as sp\n",
    "\n",
    "iL_inf = 0\n",
    "iL_0   = i1_0\n",
    "\n",
    "# define as variável tempo \n",
    "t = sp.symbols('t')\n",
    "\n",
    "# define i(t)\n",
    "iL = iL_inf + (iL_0 - iL_inf)*sp.exp(-t/τ)\n",
    "\n",
    "print('Corrente no indutor equivalente:')\n",
    "print('iL(t) = ', iL/1e-3 , ' mA')"
   ]
  },
  {
   "cell_type": "code",
   "execution_count": 5,
   "metadata": {},
   "outputs": [
    {
     "name": "stdout",
     "output_type": "stream",
     "text": [
      "v0(t) =  -7.5*exp(-50000.0*t)  V\n"
     ]
    }
   ],
   "source": [
    "# calcula v0\n",
    "v0 = Leq1*sp.diff(iL,t)\n",
    "\n",
    "print('v0(t) = ', v0 , ' V')"
   ]
  },
  {
   "cell_type": "code",
   "execution_count": 6,
   "metadata": {},
   "outputs": [
    {
     "name": "stdout",
     "output_type": "stream",
     "text": [
      "Correntes nos indutores:\n",
      "i1(t) =  5.0*exp(-50000.0*t)  mA\n",
      "i2(t) =  3.125 + 1.875*exp(-50000.0*t)  mA\n",
      "i3(t) =  -3.125 + 3.125*exp(-50000.0*t)  mA\n"
     ]
    }
   ],
   "source": [
    "# correntes nos indutores em função da tensão aplicada aos terminais\n",
    "i1 = iL\n",
    "i2 = (1/L2)*sp.integrate(v0, (t, 0, t)) + i2_0\n",
    "i3 = (1/L3)*sp.integrate(v0, (t, 0, t)) + i3_0\n",
    "\n",
    "print('Correntes nos indutores:')\n",
    "print('i1(t) = ', i1/1e-3 , ' mA')\n",
    "print('i2(t) = ', i2/1e-3 , ' mA')\n",
    "print('i3(t) = ', i3/1e-3 , ' mA')"
   ]
  },
  {
   "cell_type": "code",
   "execution_count": 7,
   "metadata": {},
   "outputs": [
    {
     "name": "stdout",
     "output_type": "stream",
     "text": [
      "Energia inicial armazenada nos indutores:\n",
      "E1(0) = 0.25 μJ\n",
      "E2(0) = 1.00 μJ\n",
      "E3(0) = 0.00 μJ\n"
     ]
    }
   ],
   "source": [
    "# calculando os valores de energia em t=0\n",
    "E1_0 = (1/2)*L1*(i1.evalf(subs={t:0}))**2\n",
    "E2_0 = (1/2)*L2*(i2.evalf(subs={t:0}))**2\n",
    "E3_0 = (1/2)*L3*(i3.evalf(subs={t:0}))**2\n",
    "\n",
    "print('Energia inicial armazenada nos indutores:')\n",
    "print('E1(0) = %.2f μJ' %(E1_0/1e-6))\n",
    "print('E2(0) = %.2f μJ' %(E2_0/1e-6))\n",
    "print('E3(0) = %.2f μJ' %(E3_0/1e-6))"
   ]
  },
  {
   "cell_type": "code",
   "execution_count": 8,
   "metadata": {},
   "outputs": [
    {
     "name": "stdout",
     "output_type": "stream",
     "text": [
      "Energia final armazenada nos indutores:\n",
      "E1(oo) = 0.00 μJ\n",
      "E2(oo) = 0.39 μJ\n",
      "E3(oo) = 0.23 μJ\n"
     ]
    }
   ],
   "source": [
    "# calculando os valores de energia em t =oo\n",
    "E1_inf = (1/2)*L1*(i1.evalf(subs={t:100}))**2\n",
    "E2_inf = (1/2)*L2*(i2.evalf(subs={t:100}))**2\n",
    "E3_inf = (1/2)*L3*(i3.evalf(subs={t:100}))**2\n",
    "\n",
    "print('Energia final armazenada nos indutores:')\n",
    "print('E1(oo) = %.2f μJ' %(E1_inf/1e-6))\n",
    "print('E2(oo) = %.2f μJ' %(E2_inf/1e-6))\n",
    "print('E3(oo) = %.2f μJ' %(E3_inf/1e-6))"
   ]
  },
  {
   "cell_type": "code",
   "execution_count": 9,
   "metadata": {},
   "outputs": [
    {
     "name": "stdout",
     "output_type": "stream",
     "text": [
      "Variação da energia armazenada nos indutores:\n",
      "ΔE = -0.63 μJ\n"
     ]
    }
   ],
   "source": [
    "# calculando a variação de energia nos indutores\n",
    "\n",
    "ΔE = (E1_inf-E1_0) + (E2_inf-E2_0) + (E3_inf-E3_0)\n",
    "\n",
    "print('Variação da energia armazenada nos indutores:')\n",
    "print('ΔE = %.2f μJ' %(ΔE/1e-6))"
   ]
  },
  {
   "cell_type": "code",
   "execution_count": 10,
   "metadata": {},
   "outputs": [
    {
     "name": "stdout",
     "output_type": "stream",
     "text": [
      "Energia consumida pelo resistor:\n",
      "E = 0.63 μJ\n"
     ]
    }
   ],
   "source": [
    "# define tensão sobre o resistor vR(t)\n",
    "vR = R*i1 \n",
    "\n",
    "# potência consumida pelo resistor\n",
    "p = vR*i1\n",
    "\n",
    "# energia consumida pelo resistor\n",
    "E = sp.integrate(p, (t, 0, sp.oo))\n",
    "print('Energia consumida pelo resistor:')\n",
    "print('E = %.2f μJ' %(E/1e-6))"
   ]
  }
 ],
 "metadata": {
  "jupytext": {
   "encoding": "# -*- coding: utf-8 -*-",
   "formats": "ipynb,py:light"
  },
  "kernelspec": {
   "display_name": "Python 3 (ipykernel)",
   "language": "python",
   "name": "python3"
  },
  "language_info": {
   "codemirror_mode": {
    "name": "ipython",
    "version": 3
   },
   "file_extension": ".py",
   "mimetype": "text/x-python",
   "name": "python",
   "nbconvert_exporter": "python",
   "pygments_lexer": "ipython3",
   "version": "3.9.7"
  },
  "toc": {
   "base_numbering": 1,
   "nav_menu": {},
   "number_sections": true,
   "sideBar": true,
   "skip_h1_title": true,
   "title_cell": "Table of Contents",
   "title_sidebar": "Contents",
   "toc_cell": true,
   "toc_position": {
    "height": "calc(100% - 180px)",
    "left": "10px",
    "top": "150px",
    "width": "200.475px"
   },
   "toc_section_display": true,
   "toc_window_display": true
  }
 },
 "nbformat": 4,
 "nbformat_minor": 2
}
