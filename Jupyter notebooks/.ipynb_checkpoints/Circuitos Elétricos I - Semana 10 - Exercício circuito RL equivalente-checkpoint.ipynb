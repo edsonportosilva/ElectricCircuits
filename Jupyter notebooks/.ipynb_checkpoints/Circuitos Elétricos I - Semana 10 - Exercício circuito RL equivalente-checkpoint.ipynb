{
 "cells": [
  {
   "cell_type": "markdown",
   "metadata": {
    "colab_type": "text",
    "id": "view-in-github"
   },
   "source": [
    "<a href=\"https://colab.research.google.com/github/edsonportosilva/ElectricCircuits/blob/master/Jupyter%20notebooks/Circuitos%20El%C3%A9tricos%20I%20-%20Semana%2010%20-%20Exerc%C3%ADcio%20circuito%20RL%20equivalente.ipynb\" target=\"_parent\"><img src=\"https://colab.research.google.com/assets/colab-badge.svg\" alt=\"Open In Colab\"/></a>"
   ]
  },
  {
   "cell_type": "code",
   "execution_count": null,
   "metadata": {
    "id": "ILDj89ZbXcXp"
   },
   "outputs": [],
   "source": [
    "if 'google.colab' in str(get_ipython()):    \n",
    "    ! git clone -b master https://github.com/edsonportosilva/ElectricCircuits\n",
    "    from os import chdir as cd\n",
    "    cd('/content/ElectricCircuits/Jupyter notebooks')"
   ]
  },
  {
   "cell_type": "markdown",
   "metadata": {
    "id": "QyZiYz1zXbe0"
   },
   "source": [
    "# *Circuitos Elétricos I - Semana 10*"
   ]
  },
  {
   "cell_type": "markdown",
   "metadata": {
    "id": "1Xabg8wNXbe3"
   },
   "source": [
    "### Problema 1\n",
    "  \n",
    "(Problema 7.19 - Nilsson) Para o circuito abaixo, pede-se:\n",
    "\n",
    "<img src=\"https://github.com/edsonportosilva/ElectricCircuits/blob/master/Jupyter%20notebooks/figures/J13C1.png?raw=1\" width=\"400\">\n",
    "\n",
    "a) Determine a tensão $v_0(t)$ sobre o indutor de $48\\;mH$ para $t\\geq0$.\\\n",
    "b) Determine a corrente $i_0(t)$ sobre o indutor de $48\\;mH$ para $t\\geq0$.\\\n",
    "c) Determine a energia consumida pelo resistor de $2.5\\;k\\Omega$ no intervalo $0\\leq t \\leq\\infty$.\n",
    "\n",
    "Link para a simulação do circuito: https://tinyurl.com/yj69udn8"
   ]
  },
  {
   "cell_type": "code",
   "execution_count": null,
   "metadata": {
    "id": "Bx0x88LzXbe4"
   },
   "outputs": [],
   "source": [
    "# valores das indutâncias\n",
    "L1 = 20e-3\n",
    "L2 = 80e-3\n",
    "L3 = 48e-3\n",
    "\n",
    "# valores iniciais das correntes\n",
    "i1_0 = 5e-3\n",
    "i2_0 = 5e-3\n",
    "i3_0 = 0"
   ]
  },
  {
   "cell_type": "code",
   "execution_count": null,
   "metadata": {
    "id": "Z9cvnJvgXbe5",
    "outputId": "865c9c25-7f4f-44c3-cf06-11ce91719474"
   },
   "outputs": [
    {
     "name": "stdout",
     "output_type": "stream",
     "text": [
      "Leq =  50.0  mH\n"
     ]
    }
   ],
   "source": [
    "# indutância equivalente\n",
    "Leq1 = (L2*L3)/(L2+L3)\n",
    "Leq  = L1 + Leq1\n",
    "\n",
    "print('Leq = ', Leq/1e-3, ' mH')"
   ]
  },
  {
   "cell_type": "code",
   "execution_count": null,
   "metadata": {
    "id": "RsYxzq9GXbe6",
    "outputId": "0e8da163-3749-4c5f-9746-c4c15f119117"
   },
   "outputs": [
    {
     "name": "stdout",
     "output_type": "stream",
     "text": [
      "τ =  2e-05  s\n"
     ]
    }
   ],
   "source": [
    "R = 2.5e3\n",
    "\n",
    "# constante de tempo\n",
    "τ = Leq/R\n",
    "\n",
    "print('τ = ', τ, ' s')"
   ]
  },
  {
   "cell_type": "code",
   "execution_count": null,
   "metadata": {
    "id": "90uaJsdUXbe6",
    "outputId": "0b1edbda-3e14-4b51-a814-75616fe48ab7"
   },
   "outputs": [
    {
     "name": "stdout",
     "output_type": "stream",
     "text": [
      "Corrente no indutor equivalente:\n",
      "iL(t) =  5.0*exp(-50000.0*t)  mA\n"
     ]
    }
   ],
   "source": [
    "import sympy as sp\n",
    "\n",
    "iL_inf = 0\n",
    "iL_0   = i1_0\n",
    "\n",
    "# define as variável tempo \n",
    "t = sp.symbols('t')\n",
    "\n",
    "# define i(t)\n",
    "iL = iL_inf + (iL_0 - iL_inf)*sp.exp(-t/τ)\n",
    "\n",
    "print('Corrente no indutor equivalente:')\n",
    "print('iL(t) = ', iL/1e-3 , ' mA')"
   ]
  },
  {
   "cell_type": "code",
   "execution_count": null,
   "metadata": {
    "id": "rZawDEuGXbe7",
    "outputId": "b6e5d52b-60b5-4f38-b601-553bd6d7bd42"
   },
   "outputs": [
    {
     "name": "stdout",
     "output_type": "stream",
     "text": [
      "v0(t) =  -7.5*exp(-50000.0*t)  V\n"
     ]
    }
   ],
   "source": [
    "# calcula v0\n",
    "v0 = Leq1*sp.diff(iL,t)\n",
    "\n",
    "print('v0(t) = ', v0 , ' V')"
   ]
  },
  {
   "cell_type": "code",
   "execution_count": null,
   "metadata": {
    "id": "XmBYMUAAXbe8",
    "outputId": "857b82bb-8887-44fc-adba-750dcce27781"
   },
   "outputs": [
    {
     "name": "stdout",
     "output_type": "stream",
     "text": [
      "Correntes nos indutores:\n",
      "i1(t) =  5.0*exp(-50000.0*t)  mA\n",
      "i2(t) =  3.125 + 1.875*exp(-50000.0*t)  mA\n",
      "i3(t) =  -3.125 + 3.125*exp(-50000.0*t)  mA\n"
     ]
    }
   ],
   "source": [
    "# correntes nos indutores em função da tensão aplicada aos terminais\n",
    "i1 = iL\n",
    "i2 = (1/L2)*sp.integrate(v0, (t, 0, t)) + i2_0\n",
    "i3 = (1/L3)*sp.integrate(v0, (t, 0, t)) + i3_0\n",
    "\n",
    "print('Correntes nos indutores:')\n",
    "print('i1(t) = ', i1/1e-3 , ' mA')\n",
    "print('i2(t) = ', i2/1e-3 , ' mA')\n",
    "print('i3(t) = ', i3/1e-3 , ' mA')"
   ]
  },
  {
   "cell_type": "code",
   "execution_count": null,
   "metadata": {
    "id": "kolNrBnMXbe8",
    "outputId": "597b194c-95f8-4e38-e929-e2cdf3c9abfa"
   },
   "outputs": [
    {
     "name": "stdout",
     "output_type": "stream",
     "text": [
      "Energia inicial armazenada nos indutores:\n",
      "E1(0) = 0.25 μJ\n",
      "E2(0) = 1.00 μJ\n",
      "E3(0) = 0.00 μJ\n"
     ]
    }
   ],
   "source": [
    "# calculando os valores de energia em t=0\n",
    "E1_0 = (1/2)*L1*(i1.evalf(subs={t:0}))**2\n",
    "E2_0 = (1/2)*L2*(i2.evalf(subs={t:0}))**2\n",
    "E3_0 = (1/2)*L3*(i3.evalf(subs={t:0}))**2\n",
    "\n",
    "print('Energia inicial armazenada nos indutores:')\n",
    "print('E1(0) = %.2f μJ' %(E1_0/1e-6))\n",
    "print('E2(0) = %.2f μJ' %(E2_0/1e-6))\n",
    "print('E3(0) = %.2f μJ' %(E3_0/1e-6))"
   ]
  },
  {
   "cell_type": "code",
   "execution_count": null,
   "metadata": {
    "id": "S68PuPBCXbe9",
    "outputId": "eee56f24-ac11-436e-ccef-21769b1adef7"
   },
   "outputs": [
    {
     "name": "stdout",
     "output_type": "stream",
     "text": [
      "Energia final armazenada nos indutores:\n",
      "E1(oo) = 0.00 μJ\n",
      "E2(oo) = 0.39 μJ\n",
      "E3(oo) = 0.23 μJ\n"
     ]
    }
   ],
   "source": [
    "# calculando os valores de energia em t =oo\n",
    "E1_inf = (1/2)*L1*(i1.evalf(subs={t:100}))**2\n",
    "E2_inf = (1/2)*L2*(i2.evalf(subs={t:100}))**2\n",
    "E3_inf = (1/2)*L3*(i3.evalf(subs={t:100}))**2\n",
    "\n",
    "print('Energia final armazenada nos indutores:')\n",
    "print('E1(oo) = %.2f μJ' %(E1_inf/1e-6))\n",
    "print('E2(oo) = %.2f μJ' %(E2_inf/1e-6))\n",
    "print('E3(oo) = %.2f μJ' %(E3_inf/1e-6))"
   ]
  },
  {
   "cell_type": "code",
   "execution_count": null,
   "metadata": {
    "id": "xnTSuCgXXbe9",
    "outputId": "8900fc8f-d8b1-479b-b934-c92f7d93adab"
   },
   "outputs": [
    {
     "name": "stdout",
     "output_type": "stream",
     "text": [
      "Variação da energia armazenada nos indutores:\n",
      "ΔE = -0.63 μJ\n"
     ]
    }
   ],
   "source": [
    "# calculando a variação de energia nos indutores\n",
    "\n",
    "ΔE = (E1_inf-E1_0) + (E2_inf-E2_0) + (E3_inf-E3_0)\n",
    "\n",
    "print('Variação da energia armazenada nos indutores:')\n",
    "print('ΔE = %.2f μJ' %(ΔE/1e-6))"
   ]
  },
  {
   "cell_type": "code",
   "execution_count": null,
   "metadata": {
    "id": "8meRIv05Xbe9",
    "outputId": "3bf96849-8a2b-46c7-d3fa-119fc8bf3265"
   },
   "outputs": [
    {
     "name": "stdout",
     "output_type": "stream",
     "text": [
      "Energia consumida pelo resistor:\n",
      "E = 0.63 μJ\n"
     ]
    }
   ],
   "source": [
    "# define tensão sobre o resistor vR(t)\n",
    "vR = R*i1 \n",
    "\n",
    "# potência consumida pelo resistor\n",
    "p = vR*i1\n",
    "\n",
    "# energia consumida pelo resistor\n",
    "E = sp.integrate(p, (t, 0, sp.oo))\n",
    "print('Energia consumida pelo resistor:')\n",
    "print('E = %.2f μJ' %(E/1e-6))"
   ]
  }
 ],
 "metadata": {
  "colab": {
   "include_colab_link": true,
   "provenance": []
  },
  "jupytext": {
   "encoding": "# -*- coding: utf-8 -*-",
   "formats": "ipynb,py:light"
  },
  "kernelspec": {
   "display_name": "Python 3 (ipykernel)",
   "language": "python",
   "name": "python3"
  },
  "language_info": {
   "codemirror_mode": {
    "name": "ipython",
    "version": 3
   },
   "file_extension": ".py",
   "mimetype": "text/x-python",
   "name": "python",
   "nbconvert_exporter": "python",
   "pygments_lexer": "ipython3",
   "version": "3.9.7"
  },
  "toc": {
   "base_numbering": 1,
   "nav_menu": {},
   "number_sections": true,
   "sideBar": true,
   "skip_h1_title": true,
   "title_cell": "Table of Contents",
   "title_sidebar": "Contents",
   "toc_cell": true,
   "toc_position": {
    "height": "calc(100% - 180px)",
    "left": "10px",
    "top": "150px",
    "width": "200.475px"
   },
   "toc_section_display": true,
   "toc_window_display": true
  }
 },
 "nbformat": 4,
 "nbformat_minor": 1
}
