{
 "cells": [
  {
   "cell_type": "code",
   "execution_count": null,
   "id": "aae0b9ab",
   "metadata": {
    "ExecuteTime": {
     "start_time": "2023-04-25T12:07:50.934Z"
    }
   },
   "outputs": [],
   "source": [
    "import numpy as np\n",
    "import magpylib as magpy\n",
    "import pyvista as pv\n",
    "\n",
    "#pv.set_jupyter_backend('panel') # improve rending in a jupyter notebook\n",
    "\n",
    "coil1 = magpy.Collection()\n",
    "for z in np.linspace(-8, 8, 16):\n",
    "    winding = magpy.current.Loop(\n",
    "        current=100,\n",
    "        diameter=10,\n",
    "        position=(0,0,z),\n",
    "    )\n",
    "    coil1.add(winding)\n",
    "\n",
    "grid = pv.UniformGrid(\n",
    "    dimensions=(41, 41, 41),\n",
    "    spacing=(2, 2, 2),\n",
    "    origin=(-40, -40, -40),\n",
    ")\n",
    "\n",
    "# compute B-field and add as data to grid\n",
    "grid['B'] = coil1.getB(grid.points)\n",
    "\n",
    "# compute field lines\n",
    "seed = pv.Disc(inner=1, outer=5.2, r_res=3, c_res=12)\n",
    "strl = grid.streamlines_from_source(\n",
    "    seed,\n",
    "    vectors='B',\n",
    "    max_time=180,\n",
    "    initial_step_length=0.01,\n",
    "    integration_direction='both',\n",
    ")\n",
    "\n",
    "# create plotting scene\n",
    "pl = pv.Plotter()\n",
    "\n",
    "# add field lines and legend to scene\n",
    "legend_args = {\n",
    "    'title': 'B [mT]',\n",
    "    'title_font_size': 20,\n",
    "    'color': 'black',\n",
    "    'position_y': 0.25,\n",
    "    'vertical': True,\n",
    "}\n",
    "\n",
    "# draw coils\n",
    "magpy.show(coil1, canvas=pl, backend='pyvista')\n",
    "\n",
    "# add streamlines\n",
    "pl.add_mesh(\n",
    "    strl.tube(radius=.2),\n",
    "    cmap=\"bwr\",\n",
    "    scalar_bar_args=legend_args,\n",
    ")\n",
    "# display scene\n",
    "pl.camera.position=(160, 10, -10)\n",
    "pl.set_background(\"white\")\n",
    "pl.show()"
   ]
  },
  {
   "cell_type": "code",
   "execution_count": null,
   "id": "ab94e2a9",
   "metadata": {},
   "outputs": [],
   "source": []
  }
 ],
 "metadata": {
  "kernelspec": {
   "display_name": "Python 3 (ipykernel)",
   "language": "python",
   "name": "python3"
  },
  "language_info": {
   "codemirror_mode": {
    "name": "ipython",
    "version": 3
   },
   "file_extension": ".py",
   "mimetype": "text/x-python",
   "name": "python",
   "nbconvert_exporter": "python",
   "pygments_lexer": "ipython3",
   "version": "3.9.7"
  },
  "toc": {
   "base_numbering": 1,
   "nav_menu": {},
   "number_sections": true,
   "sideBar": true,
   "skip_h1_title": false,
   "title_cell": "Table of Contents",
   "title_sidebar": "Contents",
   "toc_cell": false,
   "toc_position": {},
   "toc_section_display": true,
   "toc_window_display": false
  }
 },
 "nbformat": 4,
 "nbformat_minor": 5
}
