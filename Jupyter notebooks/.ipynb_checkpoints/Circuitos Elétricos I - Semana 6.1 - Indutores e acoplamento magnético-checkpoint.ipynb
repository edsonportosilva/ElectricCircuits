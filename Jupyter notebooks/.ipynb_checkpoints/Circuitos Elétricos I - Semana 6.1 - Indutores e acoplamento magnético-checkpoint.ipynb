{
 "cells": [
  {
   "cell_type": "markdown",
   "metadata": {
    "colab_type": "text",
    "id": "view-in-github"
   },
   "source": [
    "<a href=\"https://colab.research.google.com/github/edsonportosilva/ElectricCircuits/blob/master/Jupyter%20notebooks/Circuitos%20El%C3%A9tricos%20I%20-%20Semana%206.1%20-%20Indutores%20e%20acoplamento%20magn%C3%A9tico.ipynb\" target=\"_parent\"><img src=\"https://colab.research.google.com/assets/colab-badge.svg\" alt=\"Open In Colab\"/></a>"
   ]
  },
  {
   "cell_type": "code",
   "execution_count": 1,
   "metadata": {
    "ExecuteTime": {
     "end_time": "2022-02-15T11:08:27.919494Z",
     "start_time": "2022-02-15T11:08:24.644535Z"
    },
    "id": "rXANr_QORwkc"
   },
   "outputs": [],
   "source": [
    "if 'google.colab' in str(get_ipython()):    \n",
    "    ! git clone -b master https://github.com/edsonportosilva/ElectricCircuits\n",
    "    from os import chdir as cd\n",
    "    cd('/content/ElectricCircuits/')\n",
    "    ! pip install -e ."
   ]
  },
  {
   "cell_type": "code",
   "execution_count": 2,
   "metadata": {},
   "outputs": [
    {
     "data": {
      "text/html": [
       "\n",
       "<style>\n",
       ".output_png {\n",
       "    display: table-cell;\n",
       "    text-align: center;\n",
       "    vertical-align: middle;\n",
       "}\n",
       "</style>\n"
      ],
      "text/plain": [
       "<IPython.core.display.HTML object>"
      ]
     },
     "execution_count": 2,
     "metadata": {},
     "output_type": "execute_result"
    }
   ],
   "source": [
    "from IPython.core.display import HTML\n",
    "\n",
    "import sympy as sp\n",
    "from sympy import oo\n",
    "from circuit.utils import symplot, symdisp, round_expr\n",
    "import numpy as np\n",
    "\n",
    "HTML(\"\"\"\n",
    "<style>\n",
    ".output_png {\n",
    "    display: table-cell;\n",
    "    text-align: center;\n",
    "    vertical-align: middle;\n",
    "}\n",
    "</style>\n",
    "\"\"\")"
   ]
  },
  {
   "cell_type": "markdown",
   "metadata": {
    "id": "d3FbA-ZURwkf"
   },
   "source": [
    "# *Circuitos Elétricos I - Semana 6*"
   ]
  },
  {
   "cell_type": "markdown",
   "metadata": {
    "id": "2As4VIMeRwkg"
   },
   "source": [
    "### Problema 1\n",
    "  \n",
    "Para o circuito abaixo, tem-se que $v(t)=-1800te^{-20t}$ para $t\\geq0$ e $i_1(0)=4\\;A$ e $i_2(0)=-16\\;A$\n",
    "\n",
    "a) Determine $i_1(t)$ e $i_2(t)$ para $t\\geq0$.\\\n",
    "b) Determine a energia fornecida à fonte de tensão no intervalo $0\\leq t \\leq\\infty$.\\\n",
    "c) Determine a energia inicial armazenada nos indutores.\\\n",
    "d) Determine a energia final armazenada nos indutores.\n",
    "\n",
    "<img src=\"https://github.com/edsonportosilva/ElectricCircuits/blob/master/Jupyter%20notebooks/figures/J8C1.png?raw=1\" width=\"500\">"
   ]
  },
  {
   "cell_type": "code",
   "execution_count": 3,
   "metadata": {
    "ExecuteTime": {
     "end_time": "2022-02-08T12:18:08.341860Z",
     "start_time": "2022-02-08T12:18:07.984593Z"
    },
    "id": "85hU0BSqRwkh"
   },
   "outputs": [
    {
     "data": {
      "text/latex": [
       "$\\displaystyle v(t) = - 1800 t e^{- 20 t}\\;V$"
      ],
      "text/plain": [
       "<IPython.core.display.Math object>"
      ]
     },
     "metadata": {},
     "output_type": "display_data"
    }
   ],
   "source": [
    "# define as variáveis \n",
    "t = sp.symbols('t', real=True)\n",
    "\n",
    "# expressão para a tensão v(t)\n",
    "v = -1800*t*sp.exp(-20*t)\n",
    "\n",
    "symdisp('v(t) = ', v, 'V')"
   ]
  },
  {
   "cell_type": "code",
   "execution_count": 4,
   "metadata": {
    "ExecuteTime": {
     "end_time": "2022-02-08T12:18:08.579764Z",
     "start_time": "2022-02-08T12:18:08.343856Z"
    },
    "id": "0bPSEMtLRwkh"
   },
   "outputs": [
    {
     "data": {
      "image/png": "[encoded data removed]",
      "text/plain": [
       "<Figure size 432x288 with 1 Axes>"
      ]
     },
     "execution_count": 4,
     "metadata": {},
     "output_type": "execute_result"
    }
   ],
   "source": [
    "tmax = 0.5\n",
    "intervalo = np.linspace(0, tmax, num=1000)\n",
    "symplot(t, v, intervalo, funLabel= 'v(t)')"
   ]
  },
  {
   "cell_type": "code",
   "execution_count": 5,
   "metadata": {
    "ExecuteTime": {
     "end_time": "2022-02-08T12:18:08.595747Z",
     "start_time": "2022-02-08T12:18:08.581758Z"
    },
    "id": "vtNaD_KaRwki"
   },
   "outputs": [],
   "source": [
    "# valores das indutâncias\n",
    "L1 = 10\n",
    "L2 = 30\n",
    "\n",
    "# valores iniciais das correntes nos indutores\n",
    "i1_0 = 4\n",
    "i2_0 = -16\n",
    "\n",
    "#i1_0 = 1\n",
    "#i2_0 = 2"
   ]
  },
  {
   "cell_type": "code",
   "execution_count": 6,
   "metadata": {
    "ExecuteTime": {
     "end_time": "2022-02-08T12:18:08.737660Z",
     "start_time": "2022-02-08T12:18:08.597746Z"
    },
    "id": "PCkLBV16Rwki"
   },
   "outputs": [
    {
     "name": "stdout",
     "output_type": "stream",
     "text": [
      "Correntes nos indutores:\n"
     ]
    },
    {
     "data": {
      "text/latex": [
       "$\\displaystyle i_1(t) = - 0.05 \\cdot \\left(180 t + 9\\right) e^{- 20 t} + 4.45\\; A$"
      ],
      "text/plain": [
       "<IPython.core.display.Math object>"
      ]
     },
     "metadata": {},
     "output_type": "display_data"
    },
    {
     "data": {
      "text/latex": [
       "$\\displaystyle i_2(t) = - 0.02 \\cdot \\left(180 t + 9\\right) e^{- 20 t} - 15.85\\; A$"
      ],
      "text/plain": [
       "<IPython.core.display.Math object>"
      ]
     },
     "metadata": {},
     "output_type": "display_data"
    }
   ],
   "source": [
    "# correntes nos indutores em função da tensão aplicada aos terminais\n",
    "i1 = -(1/L1)*sp.integrate(v, (t, 0, t)) + i1_0\n",
    "i2 = -(1/L2)*sp.integrate(v, (t, 0, t)) + i2_0\n",
    "\n",
    "print('Correntes nos indutores:')\n",
    "symdisp('i_1(t) = ', round_expr(i1, 2) , ' A')\n",
    "symdisp('i_2(t) = ', round_expr(i2, 2) , ' A')"
   ]
  },
  {
   "cell_type": "code",
   "execution_count": 7,
   "metadata": {
    "ExecuteTime": {
     "end_time": "2022-02-08T12:18:09.323179Z",
     "start_time": "2022-02-08T12:18:08.743656Z"
    },
    "id": "zzVJVpy_Rwkj"
   },
   "outputs": [
    {
     "data": {
      "image/png": "[encoded data removed]",
      "text/plain": [
       "<Figure size 432x288 with 1 Axes>"
      ]
     },
     "execution_count": 7,
     "metadata": {},
     "output_type": "execute_result"
    }
   ],
   "source": [
    "tmax = 0.5\n",
    "intervalo = np.linspace(0, tmax, num=1000)\n",
    "symplot(t, i1, intervalo, funLabel= '$i_1(t)$')"
   ]
  },
  {
   "cell_type": "code",
   "execution_count": 8,
   "metadata": {
    "ExecuteTime": {
     "end_time": "2022-02-08T12:18:09.529053Z",
     "start_time": "2022-02-08T12:18:09.325179Z"
    },
    "id": "hFDmU0DGRwkj"
   },
   "outputs": [
    {
     "data": {
      "image/png": "[encoded data removed]",
      "text/plain": [
       "<Figure size 432x288 with 1 Axes>"
      ]
     },
     "execution_count": 8,
     "metadata": {},
     "output_type": "execute_result"
    }
   ],
   "source": [
    "symplot(t, i2, intervalo, funLabel= '$i_2(t)$')"
   ]
  },
  {
   "cell_type": "code",
   "execution_count": 9,
   "metadata": {
    "ExecuteTime": {
     "end_time": "2022-02-08T12:18:09.686955Z",
     "start_time": "2022-02-08T12:18:09.531051Z"
    },
    "id": "NHjcrYvIRwkk"
   },
   "outputs": [
    {
     "data": {
      "text/latex": [
       "$\\displaystyle p(t) = 1800 t \\left(12.0 t + 11.4 e^{20 t} + 0.6\\right) e^{- 40 t}\\;W$"
      ],
      "text/plain": [
       "<IPython.core.display.Math object>"
      ]
     },
     "metadata": {},
     "output_type": "display_data"
    }
   ],
   "source": [
    "# LKC\n",
    "i = i1 + i2\n",
    "\n",
    "# potência desenvolvida pela fonte\n",
    "p = v*i\n",
    "\n",
    "symdisp('p(t) = ', round_expr(p.simplify(),2), 'W')"
   ]
  },
  {
   "cell_type": "code",
   "execution_count": 10,
   "metadata": {
    "ExecuteTime": {
     "end_time": "2022-02-08T12:18:09.891829Z",
     "start_time": "2022-02-08T12:18:09.688954Z"
    },
    "id": "QlpzyWWsRwkk"
   },
   "outputs": [
    {
     "data": {
      "image/png": "[encoded data removed]",
      "text/plain": [
       "<Figure size 432x288 with 1 Axes>"
      ]
     },
     "execution_count": 10,
     "metadata": {},
     "output_type": "execute_result"
    }
   ],
   "source": [
    "symplot(t, p, intervalo, funLabel= '$p(t)$')"
   ]
  },
  {
   "cell_type": "code",
   "execution_count": 11,
   "metadata": {
    "ExecuteTime": {
     "end_time": "2022-02-08T12:18:10.268596Z",
     "start_time": "2022-02-08T12:18:09.894827Z"
    },
    "id": "CpLtgMhRRwkk"
   },
   "outputs": [
    {
     "name": "stdout",
     "output_type": "stream",
     "text": [
      "Energia entrege à fonte quando t tende a infinito:\n"
     ]
    },
    {
     "data": {
      "text/latex": [
       "$\\displaystyle E = 52.65\\;J$"
      ],
      "text/plain": [
       "<IPython.core.display.Math object>"
      ]
     },
     "metadata": {},
     "output_type": "display_data"
    }
   ],
   "source": [
    "# energia entrege à fonte\n",
    "E = sp.integrate(p, (t, 0, oo))\n",
    "\n",
    "print('Energia entrege à fonte quando t tende a infinito:')\n",
    "symdisp('E = ', E, 'J')"
   ]
  },
  {
   "cell_type": "code",
   "execution_count": 12,
   "metadata": {
    "ExecuteTime": {
     "end_time": "2022-02-08T12:18:10.300577Z",
     "start_time": "2022-02-08T12:18:10.270598Z"
    },
    "id": "zBEJ6L-3Rwkl"
   },
   "outputs": [
    {
     "name": "stdout",
     "output_type": "stream",
     "text": [
      "Energia inicial armazenada nos indutores:\n"
     ]
    },
    {
     "data": {
      "text/latex": [
       "$\\displaystyle E_1(0) = 80.0\\;J$"
      ],
      "text/plain": [
       "<IPython.core.display.Math object>"
      ]
     },
     "metadata": {},
     "output_type": "display_data"
    },
    {
     "data": {
      "text/latex": [
       "$\\displaystyle E_2(0) = 3840.0\\;J$"
      ],
      "text/plain": [
       "<IPython.core.display.Math object>"
      ]
     },
     "metadata": {},
     "output_type": "display_data"
    }
   ],
   "source": [
    "# calculando os valores de energia em t=0\n",
    "\n",
    "E1_0 = (1/2)*L1*(i1.evalf(subs={t:0}))**2\n",
    "E2_0 = (1/2)*L2*(i2.evalf(subs={t:0}))**2\n",
    "\n",
    "print('Energia inicial armazenada nos indutores:')\n",
    "symdisp('E_1(0) = ', E1_0, 'J')\n",
    "symdisp('E_2(0) = ', E2_0, 'J')"
   ]
  },
  {
   "cell_type": "code",
   "execution_count": 13,
   "metadata": {
    "ExecuteTime": {
     "end_time": "2022-02-08T12:18:10.331557Z",
     "start_time": "2022-02-08T12:18:10.302580Z"
    },
    "id": "GuuXz0y-Rwkl"
   },
   "outputs": [
    {
     "name": "stdout",
     "output_type": "stream",
     "text": [
      "Energia final armazenada nos indutores:\n"
     ]
    },
    {
     "data": {
      "text/latex": [
       "$\\displaystyle E_1(\\infty) = 99.01\\;J$"
      ],
      "text/plain": [
       "<IPython.core.display.Math object>"
      ]
     },
     "metadata": {},
     "output_type": "display_data"
    },
    {
     "data": {
      "text/latex": [
       "$\\displaystyle E_2(\\infty) = 3768.34\\;J$"
      ],
      "text/plain": [
       "<IPython.core.display.Math object>"
      ]
     },
     "metadata": {},
     "output_type": "display_data"
    }
   ],
   "source": [
    "# calculando os valores de energia em t =oo\n",
    "\n",
    "E1_inf = (1/2)*L1*(i1.evalf(subs={t:100}))**2\n",
    "E2_inf = (1/2)*L2*(i2.evalf(subs={t:100}))**2\n",
    "\n",
    "print('Energia final armazenada nos indutores:')\n",
    "symdisp('E_1(\\infty) = ', round_expr(E1_inf, 2), 'J')\n",
    "symdisp('E_2(\\infty) = ', round_expr(E2_inf, 2), 'J')"
   ]
  },
  {
   "cell_type": "code",
   "execution_count": 14,
   "metadata": {
    "ExecuteTime": {
     "end_time": "2022-02-08T12:18:10.346550Z",
     "start_time": "2022-02-08T12:18:10.333556Z"
    },
    "id": "0GiFsXn9Rwkl",
    "lines_to_next_cell": 0
   },
   "outputs": [
    {
     "name": "stdout",
     "output_type": "stream",
     "text": [
      "Variação da energia armazenada nos indutores:\n"
     ]
    },
    {
     "data": {
      "text/latex": [
       "$\\displaystyle ΔE = -52.65\\;J$"
      ],
      "text/plain": [
       "<IPython.core.display.Math object>"
      ]
     },
     "metadata": {},
     "output_type": "display_data"
    }
   ],
   "source": [
    "# calculando a variação de energia nos indutores\n",
    "\n",
    "ΔE = (E1_inf-E1_0) + (E2_inf-E2_0)\n",
    "\n",
    "print('Variação da energia armazenada nos indutores:')\n",
    "symdisp('ΔE = ', round_expr(ΔE,2), 'J')"
   ]
  },
  {
   "cell_type": "markdown",
   "metadata": {
    "id": "AJ3NrYU4Rwkm"
   },
   "source": [
    "### Problema 2\n",
    "\n",
    "Obtendo expressões para as indutâncias equivalentes em circuitos com acoplamento magnético\n",
    "\n",
    "<img src=\"https://github.com/edsonportosilva/ElectricCircuits/blob/master/Jupyter%20notebooks/figures/J8C2.png?raw=1\" width=\"700\">"
   ]
  },
  {
   "cell_type": "markdown",
   "metadata": {
    "id": "iKxpvGRLRwkm"
   },
   "source": [
    "#### Associação em paralelo"
   ]
  },
  {
   "cell_type": "markdown",
   "metadata": {
    "id": "lEGqx1ORRwkn"
   },
   "source": [
    "$$\n",
    "\\begin{aligned}\n",
    "&v_L = L_{1} \\frac{d i_{1}}{d t}+M \\frac{d i_{2}}{d t}\\\\\n",
    "&v_L = L_{2} \\frac{d i_{2}}{d t}+M \\frac{d i_{1}}{d t}\n",
    "\\end{aligned}\n",
    "$$"
   ]
  },
  {
   "cell_type": "markdown",
   "metadata": {
    "id": "dCsvGYK1Rwkn"
   },
   "source": [
    "#### Definindo as equações do circuito na forma matricial"
   ]
  },
  {
   "cell_type": "code",
   "execution_count": 15,
   "metadata": {
    "ExecuteTime": {
     "end_time": "2022-02-08T12:13:32.241868Z",
     "start_time": "2022-02-08T12:13:32.228877Z"
    },
    "hide_input": true,
    "id": "-BEJ-4ENRwkn",
    "lines_to_next_cell": 2
   },
   "outputs": [],
   "source": [
    "L1, L2, M, vL, t = sp.symbols('L_1, L_2, M, v_L, t', real=True)"
   ]
  },
  {
   "cell_type": "code",
   "execution_count": 16,
   "metadata": {
    "ExecuteTime": {
     "end_time": "2022-02-15T14:53:36.592473Z",
     "start_time": "2022-02-15T14:53:36.516514Z"
    },
    "hide_input": false,
    "id": "51b2wiSBRwkn",
    "outputId": "ffb884a1-b09b-485c-c2d9-4b5ac6e52363"
   },
   "outputs": [
    {
     "data": {
      "text/latex": [
       "$\\displaystyle A = \\left[\\begin{matrix}L_{1} & - M\\\\- M & L_{2}\\end{matrix}\\right]\\; $"
      ],
      "text/plain": [
       "<IPython.core.display.Math object>"
      ]
     },
     "metadata": {},
     "output_type": "display_data"
    },
    {
     "data": {
      "text/latex": [
       "$\\displaystyle V = \\left[\\begin{matrix}\\operatorname{v_{L}}{\\left(t \\right)}\\\\\\operatorname{v_{L}}{\\left(t \\right)}\\end{matrix}\\right]\\; $"
      ],
      "text/plain": [
       "<IPython.core.display.Math object>"
      ]
     },
     "metadata": {},
     "output_type": "display_data"
    },
    {
     "data": {
      "text/latex": [
       "$\\displaystyle \\frac{dI}{dt} = \\left[\\begin{matrix}\\frac{d}{d t} \\operatorname{i_{1}}{\\left(t \\right)}\\\\\\frac{d}{d t} \\operatorname{i_{2}}{\\left(t \\right)}\\end{matrix}\\right]\\; $"
      ],
      "text/plain": [
       "<IPython.core.display.Math object>"
      ]
     },
     "metadata": {},
     "output_type": "display_data"
    }
   ],
   "source": [
    "# define a variável tempo \n",
    "t = sp.symbols('t', real=True)\n",
    "\n",
    "# define as indutâncias\n",
    "L1, L2, M = sp.symbols('L_1, L_2, M', real=True, positive=True)\n",
    "\n",
    "# define as correntes i1 e i2\n",
    "i1 = sp.Function('i_1')(t)\n",
    "i2 = sp.Function('i_2')(t)\n",
    "\n",
    "# define a tensão vL\n",
    "vL = sp.Function('v_L')(t)\n",
    "\n",
    "# define as equações do circuito no formato matricial\n",
    "A  = sp.Matrix([[L1, -M],[-M, L2]])\n",
    "V  = sp.Matrix([[vL],[vL]])\n",
    "\n",
    "I  = sp.Matrix([[i1],[i2]])\n",
    "dI = sp.diff(I, t)\n",
    "\n",
    "symdisp('A = ', A)\n",
    "symdisp('V = ', V)\n",
    "symdisp(r'\\frac{dI}{dt} = ', dI)"
   ]
  },
  {
   "cell_type": "markdown",
   "metadata": {
    "id": "Vj7tXsKxRwko"
   },
   "source": [
    "#### Equação da tensão em função das correntes na forma matricial"
   ]
  },
  {
   "cell_type": "code",
   "execution_count": 17,
   "metadata": {
    "ExecuteTime": {
     "end_time": "2022-02-15T14:53:40.887259Z",
     "start_time": "2022-02-15T14:53:40.820301Z"
    },
    "hide_input": false,
    "id": "do_451ITRwko",
    "outputId": "d4d4de8b-e939-4d4c-d1d2-90472c65e298"
   },
   "outputs": [
    {
     "data": {
      "text/latex": [
       "$\\displaystyle \\left[\\begin{matrix}\\operatorname{v_{L}}{\\left(t \\right)}\\\\\\operatorname{v_{L}}{\\left(t \\right)}\\end{matrix}\\right] = \\left[\\begin{matrix}L_{1} \\frac{d}{d t} \\operatorname{i_{1}}{\\left(t \\right)} - M \\frac{d}{d t} \\operatorname{i_{2}}{\\left(t \\right)}\\\\L_{2} \\frac{d}{d t} \\operatorname{i_{2}}{\\left(t \\right)} - M \\frac{d}{d t} \\operatorname{i_{1}}{\\left(t \\right)}\\end{matrix}\\right]$"
      ],
      "text/plain": [
       "Eq(Matrix([\n",
       "[v_L(t)],\n",
       "[v_L(t)]]), Matrix([\n",
       "[L_1*Derivative(i_1(t), t) - M*Derivative(i_2(t), t)],\n",
       "[L_2*Derivative(i_2(t), t) - M*Derivative(i_1(t), t)]]))"
      ]
     },
     "execution_count": 17,
     "metadata": {},
     "output_type": "execute_result"
    }
   ],
   "source": [
    "sp.Eq(V, A*dI)"
   ]
  },
  {
   "cell_type": "markdown",
   "metadata": {
    "hide_input": true,
    "id": "DPwstDMNRwko"
   },
   "source": [
    "#### Determinado a inversa da matriz de indutâncias $A$"
   ]
  },
  {
   "cell_type": "code",
   "execution_count": 18,
   "metadata": {
    "ExecuteTime": {
     "end_time": "2022-02-15T14:53:45.748346Z",
     "start_time": "2022-02-15T14:53:44.956822Z"
    },
    "hide_input": false,
    "id": "zOj_322MRwko",
    "outputId": "43208b89-c6f3-4aad-b535-f59de8de759b"
   },
   "outputs": [
    {
     "data": {
      "text/latex": [
       "$\\displaystyle A^{-1} = \\left[\\begin{matrix}\\frac{L_{2}}{L_{1} L_{2} - M^{2}} & \\frac{M}{L_{1} L_{2} - M^{2}}\\\\\\frac{M}{L_{1} L_{2} - M^{2}} & \\frac{L_{1}}{L_{1} L_{2} - M^{2}}\\end{matrix}\\right]\\; $"
      ],
      "text/plain": [
       "<IPython.core.display.Math object>"
      ]
     },
     "metadata": {},
     "output_type": "display_data"
    }
   ],
   "source": [
    "# matriz inversa de A\n",
    "symdisp('A^{-1} = ' , A**-1)"
   ]
  },
  {
   "cell_type": "markdown",
   "metadata": {
    "id": "m2Vs8NrnRwkp"
   },
   "source": [
    "#### Determinando o vetor de derivadas das correntes"
   ]
  },
  {
   "cell_type": "code",
   "execution_count": 19,
   "metadata": {
    "ExecuteTime": {
     "end_time": "2022-02-15T14:53:51.209101Z",
     "start_time": "2022-02-15T14:53:50.479541Z"
    },
    "hide_input": false,
    "id": "KGK-9aOaRwkp",
    "outputId": "e3c3eae3-8f15-4eb2-efd3-3c2d6c8002c4"
   },
   "outputs": [
    {
     "data": {
      "text/latex": [
       "$\\displaystyle \\frac{dI}{dt} = \\left[\\begin{matrix}\\frac{\\left(L_{2} + M\\right) \\operatorname{v_{L}}{\\left(t \\right)}}{L_{1} L_{2} - M^{2}}\\\\\\frac{\\left(L_{1} + M\\right) \\operatorname{v_{L}}{\\left(t \\right)}}{L_{1} L_{2} - M^{2}}\\end{matrix}\\right]\\; $"
      ],
      "text/plain": [
       "<IPython.core.display.Math object>"
      ]
     },
     "metadata": {},
     "output_type": "display_data"
    }
   ],
   "source": [
    "# calcula o vetor de derivadas das correntes\n",
    "dI = (A**-1)*V\n",
    "\n",
    "dI.simplify()\n",
    "\n",
    "symdisp(r'\\frac{dI}{dt} = ', dI)"
   ]
  },
  {
   "cell_type": "markdown",
   "metadata": {
    "id": "igLuCkLvRwkp"
   },
   "source": [
    "#### LKC"
   ]
  },
  {
   "cell_type": "code",
   "execution_count": 20,
   "metadata": {
    "ExecuteTime": {
     "end_time": "2022-02-15T14:53:54.406548Z",
     "start_time": "2022-02-15T14:53:54.364575Z"
    },
    "hide_input": false,
    "id": "i_9hw3TrRwkp",
    "outputId": "773f7ca0-4400-46bc-ed54-dcdcdf3d9cba"
   },
   "outputs": [
    {
     "data": {
      "text/latex": [
       "$\\displaystyle \\frac{di_0}{dt} = \\frac{di_1}{dt} + \\frac{di_2}{dt} =  \\frac{\\left(L_{1} + M\\right) \\operatorname{v_{L}}{\\left(t \\right)}}{L_{1} L_{2} - M^{2}} + \\frac{\\left(L_{2} + M\\right) \\operatorname{v_{L}}{\\left(t \\right)}}{L_{1} L_{2} - M^{2}}\\; $"
      ],
      "text/plain": [
       "<IPython.core.display.Math object>"
      ]
     },
     "metadata": {},
     "output_type": "display_data"
    }
   ],
   "source": [
    "# di0/dt = di1/dt + di2/dt\n",
    "dI0 = dI[0] + dI[1]\n",
    "\n",
    "symdisp(r'\\frac{di_0}{dt} = \\frac{di_1}{dt} + \\frac{di_2}{dt} =  ', dI0)"
   ]
  },
  {
   "cell_type": "markdown",
   "metadata": {
    "id": "bupkpGp4Rwkp"
   },
   "source": [
    "#### Obtendo a expressão para a indutância equivalente"
   ]
  },
  {
   "cell_type": "code",
   "execution_count": 21,
   "metadata": {
    "ExecuteTime": {
     "end_time": "2022-02-15T14:54:13.100008Z",
     "start_time": "2022-02-15T14:54:12.930110Z"
    },
    "hide_input": false,
    "id": "s3rRPZH6Rwkp",
    "outputId": "c279eff9-db05-4ba0-e3d9-9cc801c1d8a2"
   },
   "outputs": [
    {
     "data": {
      "text/latex": [
       "$\\displaystyle L_{eq} = \\frac{L_{1} L_{2} - M^{2}}{L_{1} + L_{2} + 2 M}\\; $"
      ],
      "text/plain": [
       "<IPython.core.display.Math object>"
      ]
     },
     "metadata": {},
     "output_type": "display_data"
    }
   ],
   "source": [
    "# indutância equivalente: vL = Leq*di0/dt -> Leq = vL/di0/dt\n",
    "Leq = vL/dI0\n",
    "\n",
    "symdisp('L_{eq} = ', Leq.simplify())"
   ]
  },
  {
   "cell_type": "markdown",
   "metadata": {
    "id": "aZenH-aERwkq"
   },
   "source": [
    "Exemplos de circuitos com indutância mútua:\n",
    "\n",
    "Em paralelo: https://tinyurl.com/y9zo85wm \\\n",
    "Em série: https://tinyurl.com/y7jrvv2y"
   ]
  }
 ],
 "metadata": {
  "colab": {
   "include_colab_link": true,
   "provenance": []
  },
  "jupytext": {
   "encoding": "# -*- coding: utf-8 -*-",
   "formats": "ipynb,py:light"
  },
  "kernelspec": {
   "display_name": "Python 3 (ipykernel)",
   "language": "python",
   "name": "python3"
  },
  "language_info": {
   "codemirror_mode": {
    "name": "ipython",
    "version": 3
   },
   "file_extension": ".py",
   "mimetype": "text/x-python",
   "name": "python",
   "nbconvert_exporter": "python",
   "pygments_lexer": "ipython3",
   "version": "3.9.12"
  },
  "toc": {
   "base_numbering": 1,
   "nav_menu": {},
   "number_sections": true,
   "sideBar": true,
   "skip_h1_title": true,
   "title_cell": "Table of Contents",
   "title_sidebar": "Contents",
   "toc_cell": true,
   "toc_position": {
    "height": "calc(100% - 180px)",
    "left": "10px",
    "top": "150px",
    "width": "200.475px"
   },
   "toc_section_display": true,
   "toc_window_display": true
  },
  "varInspector": {
   "cols": {
    "lenName": 16,
    "lenType": 16,
    "lenVar": 40
   },
   "kernels_config": {
    "python": {
     "delete_cmd_postfix": "",
     "delete_cmd_prefix": "del ",
     "library": "var_list.py",
     "varRefreshCmd": "print(var_dic_list())"
    },
    "r": {
     "delete_cmd_postfix": ") ",
     "delete_cmd_prefix": "rm(",
     "library": "var_list.r",
     "varRefreshCmd": "cat(var_dic_list()) "
    }
   },
   "types_to_exclude": [
    "module",
    "function",
    "builtin_function_or_method",
    "instance",
    "_Feature"
   ],
   "window_display": false
  }
 },
 "nbformat": 4,
 "nbformat_minor": 1
}
