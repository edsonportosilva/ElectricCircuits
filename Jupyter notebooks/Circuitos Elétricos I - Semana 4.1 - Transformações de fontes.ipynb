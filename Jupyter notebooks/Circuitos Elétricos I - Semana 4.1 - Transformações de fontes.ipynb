{
 "cells": [
  {
   "cell_type": "markdown",
   "metadata": {
    "colab_type": "text",
    "id": "view-in-github"
   },
   "source": [
    "<a href=\"https://colab.research.google.com/github/edsonportosilva/ElectricCircuits/blob/master/Jupyter%20notebooks/Circuitos%20El%C3%A9tricos%20I%20-%20Semana%204.1%20-%20Transforma%C3%A7%C3%B5es%20de%20fontes.ipynb\" target=\"_parent\"><img src=\"https://colab.research.google.com/assets/colab-badge.svg\" alt=\"Open In Colab\"/></a>"
   ]
  },
  {
   "cell_type": "code",
   "execution_count": null,
   "metadata": {
    "id": "9KGudob6WsJw",
    "outputId": "b90476a8-1186-4cc7-f925-19de0b07ab78"
   },
   "outputs": [
    {
     "data": {
      "text/html": [
       "\n",
       "<style>\n",
       ".output_png {\n",
       "    display: table-cell;\n",
       "    text-align: center;\n",
       "    vertical-align: middle;\n",
       "}\n",
       "</style>\n"
      ],
      "text/plain": [
       "<IPython.core.display.HTML object>"
      ]
     },
     "execution_count": 1,
     "metadata": {},
     "output_type": "execute_result"
    }
   ],
   "source": [
    "from IPython.core.display import HTML\n",
    "from IPython.display import Image\n",
    "HTML(\"\"\"\n",
    "<style>\n",
    ".output_png {\n",
    "    display: table-cell;\n",
    "    text-align: center;\n",
    "    vertical-align: middle;\n",
    "}\n",
    "</style>\n",
    "\"\"\")\n",
    "\n",
    "if 'google.colab' in str(get_ipython()):    \n",
    "    ! git clone -b master https://github.com/edsonportosilva/ElectricCircuits\n",
    "    from os import chdir as cd\n",
    "    cd('/content/ElectricCircuits/')\n",
    "    ! pip install -e ."
   ]
  },
  {
   "cell_type": "markdown",
   "metadata": {
    "id": "YpnadznCWsJz"
   },
   "source": [
    "# *Circuitos Elétricos I - Semana 4*"
   ]
  },
  {
   "cell_type": "markdown",
   "metadata": {
    "id": "3ACCnamDWsJ0"
   },
   "source": [
    "## Transformações de fontes\n",
    "\n",
    "Uma fonte de tensão ideal de valor $V_s$ conectada em série com um resistor $R$ pode ser substituída por uma fonte de corrente ideal de valor $I_s$ conectada em paralelo com uma resistência $R$, e vice-versa. Estas substituições não alterarão o comportamento dos demais elementos do circuito desde que $V_s=RI_s$.\n",
    "\n",
    "<img src=https://github.com/edsonportosilva/ElectricCircuits/blob/master/Jupyter%20notebooks/figures/J5C0.png?raw=1 width=600>\n",
    "\n",
    "## Deslocamentos de fontes\n",
    "\n",
    "* **Deslocamento de fontes de tensão**: conectar fontes ideais de tensão em série com todos os elementos ideais de dois terminais ligados a um nó, com polaridades adequadas, não altera as equações que descrevem o comportamento do circuito.\n",
    "\n",
    "* **Deslocamento de fontes de corrente**: conectar um laço de fontes ideais de corrente iguais e de mesmo sentido num circuito não altera as equações que descrevem o comportamento do circuito."
   ]
  },
  {
   "cell_type": "markdown",
   "metadata": {
    "id": "gEfD-4OLWsJ1"
   },
   "source": [
    "### Problema 1\n",
    "  \n",
    "Determine a corrente que passa pelo resistor de $25~\\Omega$ aplicando transformações e deslocamentos de fontes.\n",
    "\n",
    "<img src=\"https://github.com/edsonportosilva/ElectricCircuits/blob/master/Jupyter%20notebooks/figures/J5C1.png?raw=1\" width=\"500\">"
   ]
  },
  {
   "cell_type": "markdown",
   "metadata": {
    "id": "LJHfTVdTWsJ1"
   },
   "source": [
    "Simulação do circuito: https://tinyurl.com/ydk42vvn"
   ]
  }
 ],
 "metadata": {
  "colab": {
   "include_colab_link": true,
   "provenance": []
  },
  "jupytext": {
   "encoding": "# -*- coding: utf-8 -*-",
   "formats": "ipynb,py:light"
  },
  "kernelspec": {
   "display_name": "Python 3 (ipykernel)",
   "language": "python",
   "name": "python3"
  },
  "language_info": {
   "codemirror_mode": {
    "name": "ipython",
    "version": 3
   },
   "file_extension": ".py",
   "mimetype": "text/x-python",
   "name": "python",
   "nbconvert_exporter": "python",
   "pygments_lexer": "ipython3",
   "version": "3.9.12"
  },
  "toc": {
   "base_numbering": 1,
   "nav_menu": {},
   "number_sections": true,
   "sideBar": true,
   "skip_h1_title": true,
   "title_cell": "Table of Contents",
   "title_sidebar": "Contents",
   "toc_cell": true,
   "toc_position": {
    "height": "calc(100% - 180px)",
    "left": "10px",
    "top": "150px",
    "width": "200.475px"
   },
   "toc_section_display": true,
   "toc_window_display": true
  },
  "varInspector": {
   "cols": {
    "lenName": 16,
    "lenType": 16,
    "lenVar": 40
   },
   "kernels_config": {
    "python": {
     "delete_cmd_postfix": "",
     "delete_cmd_prefix": "del ",
     "library": "var_list.py",
     "varRefreshCmd": "print(var_dic_list())"
    },
    "r": {
     "delete_cmd_postfix": ") ",
     "delete_cmd_prefix": "rm(",
     "library": "var_list.r",
     "varRefreshCmd": "cat(var_dic_list()) "
    }
   },
   "types_to_exclude": [
    "module",
    "function",
    "builtin_function_or_method",
    "instance",
    "_Feature"
   ],
   "window_display": false
  }
 },
 "nbformat": 4,
 "nbformat_minor": 1
}
