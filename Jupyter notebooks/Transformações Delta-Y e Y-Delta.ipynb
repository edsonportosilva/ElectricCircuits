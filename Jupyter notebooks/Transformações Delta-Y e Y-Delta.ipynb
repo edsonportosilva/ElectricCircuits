{
 "cells": [
  {
   "cell_type": "markdown",
   "metadata": {
    "colab_type": "text",
    "id": "view-in-github"
   },
   "source": [
    "<a href=\"https://colab.research.google.com/github/edsonportosilva/ElectricCircuits/blob/master/Jupyter%20notebooks/Transforma%C3%A7%C3%B5es%20Delta-Y%20e%20Y-Delta.ipynb\" target=\"_parent\"><img src=\"https://colab.research.google.com/assets/colab-badge.svg\" alt=\"Open In Colab\"/></a>"
   ]
  },
  {
   "cell_type": "code",
   "execution_count": null,
   "metadata": {
    "ExecuteTime": {
     "end_time": "2021-11-20T18:24:25.863351Z",
     "start_time": "2021-11-20T18:24:25.844363Z"
    },
    "id": "Hc7c6bqNSg6U"
   },
   "outputs": [],
   "source": [
    "if 'google.colab' in str(get_ipython()):    \n",
    "    ! git clone -b master https://github.com/edsonportosilva/ElectricCircuits\n",
    "    from os import chdir as cd\n",
    "    cd('/content/ElectricCircuits/Jupyter notebooks')\n",
    "\n",
    "import sympy as sp\n",
    "import numpy as np\n",
    "from utils import symdisp\n",
    "from IPython.display import display"
   ]
  },
  {
   "cell_type": "markdown",
   "metadata": {
    "id": "vT4m4fzASg6X"
   },
   "source": [
    "# *Transformações Y - $\\Delta$ e $\\Delta$ - Y*\n"
   ]
  },
  {
   "cell_type": "markdown",
   "metadata": {
    "id": "MEYI9j6-Sg6Z",
    "toc": true
   },
   "source": [
    "<h1>Sumário<span class=\"tocSkip\"></span></h1>\n",
    "<div class=\"toc\"><ul class=\"toc-item\"><li><span><a href=\"#Definindo-expressões-matemáticas\" data-toc-modified-id=\"Definindo-expressões-matemáticas-1\"><span class=\"toc-item-num\">1&nbsp;&nbsp;</span>Definindo expressões matemáticas</a></span></li><li><span><a href=\"#Transformação-Y-$\\Delta$\" data-toc-modified-id=\"Transformação-Y-$\\Delta$-2\"><span class=\"toc-item-num\">2&nbsp;&nbsp;</span>Transformação Y-$\\Delta$</a></span></li><li><span><a href=\"#Transformação-$\\Delta$-Y\" data-toc-modified-id=\"Transformação-$\\Delta$-Y-3\"><span class=\"toc-item-num\">3&nbsp;&nbsp;</span>Transformação $\\Delta$-Y</a></span></li></ul></div>"
   ]
  },
  {
   "cell_type": "markdown",
   "metadata": {
    "id": "PhSBDdQ_Sg6Z"
   },
   "source": [
    "## Definindo expressões matemáticas\n",
    "\n",
    "<img src=\"https://github.com/edsonportosilva/ElectricCircuits/blob/master/Jupyter%20notebooks/figures/J16C1.png?raw=1\" width=\"500\">\n",
    "\n",
    "\n",
    "Primeiramente definimos as variáveis indicando os valores das resistências da configuração $Y$ ($R_1$, $R_2$, $R_3$) e os valores da configuração $\\Delta$ ($R_a$, $R_b$, $R_c$)."
   ]
  },
  {
   "cell_type": "code",
   "execution_count": null,
   "metadata": {
    "ExecuteTime": {
     "end_time": "2021-11-22T12:25:40.203625Z",
     "start_time": "2021-11-22T12:25:40.156764Z"
    },
    "id": "Alp2CSP5Sg6a"
   },
   "outputs": [],
   "source": [
    "# definindo as variáveis:\n",
    "R1, R2, R3 = sp.symbols('R_1, R_2, R_3', real=True, positive=True) # resistências da configuração Y\n",
    "Ra, Rb, Rc = sp.symbols('R_a, R_b, R_c', real=True, positive=True) # resistências da configuração Δ"
   ]
  },
  {
   "cell_type": "markdown",
   "metadata": {
    "id": "NVrYaeUwSg6a"
   },
   "source": [
    "Para que as duas configurações sejam completamente equivalentes, a resistência medida em quaisquer dois pares de terminais deve ser a mesma na configuração $Y$ ou na configuração $\\Delta$. Logo, analisando as relações de resistência equivalente para os três nós do circuito, temos que as seguintes equações devem ser válidas para que haja equivalência entre a configuração $Y$ e a configuração $\\Delta$:"
   ]
  },
  {
   "cell_type": "code",
   "execution_count": null,
   "metadata": {
    "ExecuteTime": {
     "end_time": "2021-11-22T12:25:40.203625Z",
     "start_time": "2021-11-22T12:25:40.156764Z"
    },
    "id": "NkTtsJ8ISg6a",
    "outputId": "8a44c692-0bc4-47fc-bb8d-deb65656b5f9"
   },
   "outputs": [
    {
     "name": "stdout",
     "output_type": "stream",
     "text": [
      "Sistema de equações lineares:\n"
     ]
    },
    {
     "data": {
      "text/latex": [
       "$\\displaystyle R_{1} + R_{2} = \\frac{R_{c} \\left(R_{a} + R_{b}\\right)}{R_{a} + R_{b} + R_{c}}$"
      ],
      "text/plain": [
       "Eq(R_1 + R_2, R_c*(R_a + R_b)/(R_a + R_b + R_c))"
      ]
     },
     "metadata": {},
     "output_type": "display_data"
    },
    {
     "data": {
      "text/latex": [
       "$\\displaystyle R_{2} + R_{3} = \\frac{R_{a} \\left(R_{b} + R_{c}\\right)}{R_{a} + R_{b} + R_{c}}$"
      ],
      "text/plain": [
       "Eq(R_2 + R_3, R_a*(R_b + R_c)/(R_a + R_b + R_c))"
      ]
     },
     "metadata": {},
     "output_type": "display_data"
    },
    {
     "data": {
      "text/latex": [
       "$\\displaystyle R_{1} + R_{3} = \\frac{R_{b} \\left(R_{a} + R_{c}\\right)}{R_{a} + R_{b} + R_{c}}$"
      ],
      "text/plain": [
       "Eq(R_1 + R_3, R_b*(R_a + R_c)/(R_a + R_b + R_c))"
      ]
     },
     "metadata": {},
     "output_type": "display_data"
    }
   ],
   "source": [
    "# define o sistema de equações\n",
    "eq1 = sp.Eq( R1 + R2, Rc * ( Ra + Rb ) / ( Ra + Rb + Rc ) ) # para os terminais a e b             \n",
    "eq2 = sp.Eq( R2 + R3, Ra * ( Rb + Rc ) / ( Ra + Rb + Rc ) ) # para os terminais b e c  \n",
    "eq3 = sp.Eq( R3 + R1, Rb * ( Ra + Rc ) / ( Ra + Rb + Rc ) ) # para os terminais c e a  \n",
    "\n",
    "print('Sistema de equações lineares:')\n",
    "display(eq1, eq2, eq3) "
   ]
  },
  {
   "cell_type": "markdown",
   "metadata": {
    "id": "Vtje9CBnSg6b"
   },
   "source": [
    "## Transformação Y-$\\Delta$\n",
    "\n",
    "Resolvendo o sistema de equações lineares para obter $R_a$, $R_b$, $R_c$ em função de $R_1$, $R_2$, $R_3$."
   ]
  },
  {
   "cell_type": "code",
   "execution_count": null,
   "metadata": {
    "ExecuteTime": {
     "end_time": "2021-11-22T12:25:40.203625Z",
     "start_time": "2021-11-22T12:25:40.156764Z"
    },
    "id": "H4W4akTcSg6c",
    "outputId": "4e6fa211-cc8a-4492-f979-51e4976c68a4"
   },
   "outputs": [
    {
     "name": "stdout",
     "output_type": "stream",
     "text": [
      "Solução do sistema:\n"
     ]
    },
    {
     "data": {
      "text/latex": [
       "$\\displaystyle R_a =\\frac{R_{1} R_{2} + R_{1} R_{3} + R_{2} R_{3}}{R_{1}}\\; $"
      ],
      "text/plain": [
       "<IPython.core.display.Math object>"
      ]
     },
     "metadata": {},
     "output_type": "display_data"
    },
    {
     "data": {
      "text/latex": [
       "$\\displaystyle R_b =\\frac{R_{1} R_{2} + R_{1} R_{3} + R_{2} R_{3}}{R_{2}}\\; $"
      ],
      "text/plain": [
       "<IPython.core.display.Math object>"
      ]
     },
     "metadata": {},
     "output_type": "display_data"
    },
    {
     "data": {
      "text/latex": [
       "$\\displaystyle R_c =\\frac{R_{1} R_{2} + R_{1} R_{3} + R_{2} R_{3}}{R_{3}}\\; $"
      ],
      "text/plain": [
       "<IPython.core.display.Math object>"
      ]
     },
     "metadata": {},
     "output_type": "display_data"
    }
   ],
   "source": [
    "# resolve o sistema\n",
    "soluc = sp.solve((eq1, eq2, eq3), (Ra, Rb, Rc), dict=True)\n",
    "soluc = soluc[0]\n",
    "\n",
    "Ra = soluc[Ra]\n",
    "Rb = soluc[Rb]\n",
    "Rc = soluc[Rc]\n",
    "\n",
    "print('Solução do sistema:')\n",
    "symdisp('R_a =', Ra.cancel())\n",
    "symdisp('R_b =', Rb.cancel())\n",
    "symdisp('R_c =', Rc.cancel())"
   ]
  },
  {
   "cell_type": "markdown",
   "metadata": {
    "id": "uKpKsAv_Sg6d"
   },
   "source": [
    "## Transformação $\\Delta$-Y\n",
    "\n",
    "Resolvendo o sistema de equações lineares para obter $R_1$, $R_2$, $R_3$ em função de $R_a$, $R_b$, $R_c$."
   ]
  },
  {
   "cell_type": "code",
   "execution_count": null,
   "metadata": {
    "id": "QfV3clhRSg6d",
    "outputId": "4884c547-1dbc-41f4-a406-3adff88927f6"
   },
   "outputs": [
    {
     "name": "stdout",
     "output_type": "stream",
     "text": [
      "Solução do sistema:\n"
     ]
    },
    {
     "data": {
      "text/latex": [
       "$\\displaystyle R_1 =\\frac{R_{b} R_{c}}{R_{a} + R_{b} + R_{c}}\\; $"
      ],
      "text/plain": [
       "<IPython.core.display.Math object>"
      ]
     },
     "metadata": {},
     "output_type": "display_data"
    },
    {
     "data": {
      "text/latex": [
       "$\\displaystyle R_2 =\\frac{R_{a} R_{c}}{R_{a} + R_{b} + R_{c}}\\; $"
      ],
      "text/plain": [
       "<IPython.core.display.Math object>"
      ]
     },
     "metadata": {},
     "output_type": "display_data"
    },
    {
     "data": {
      "text/latex": [
       "$\\displaystyle R_3 =\\frac{R_{a} R_{b}}{R_{a} + R_{b} + R_{c}}\\; $"
      ],
      "text/plain": [
       "<IPython.core.display.Math object>"
      ]
     },
     "metadata": {},
     "output_type": "display_data"
    }
   ],
   "source": [
    "# resolve o sistema\n",
    "soluc = sp.solve((eq1, eq2, eq3), (R1, R2, R3), dict=True)\n",
    "soluc = soluc[0]\n",
    "\n",
    "R1 = soluc[R1]\n",
    "R2 = soluc[R2]\n",
    "R3 = soluc[R3]\n",
    "\n",
    "print('Solução do sistema:')\n",
    "symdisp('R_1 =', R1.cancel())\n",
    "symdisp('R_2 =', R2.cancel())\n",
    "symdisp('R_3 =', R3.cancel())"
   ]
  },
  {
   "cell_type": "code",
   "execution_count": null,
   "metadata": {
    "ExecuteTime": {
     "end_time": "2022-06-08T19:07:42.978909Z",
     "start_time": "2022-06-08T19:07:42.861938Z"
    },
    "id": "rq7i6xu3Sg6e"
   },
   "outputs": [],
   "source": [
    "def YΔ(R1, R2, R3):\n",
    "    p = R1*R2 + R2*R3 + R3*R1\n",
    "    \n",
    "    Ra = p/R1\n",
    "    Rb = p/R2\n",
    "    Rc = p/R3\n",
    "    \n",
    "    return Ra, Rb, Rc\n",
    "\n",
    "def ΔY(Ra, Rb, Rc):\n",
    "    s = Ra + Rb + Rc\n",
    "    \n",
    "    R1 = Rb*Rc/s\n",
    "    R2 = Ra*Rc/s\n",
    "    R3 = Ra*Rb/s\n",
    "    \n",
    "    return R1, R2, R3"
   ]
  },
  {
   "cell_type": "code",
   "execution_count": null,
   "metadata": {
    "ExecuteTime": {
     "end_time": "2022-06-08T19:08:15.780911Z",
     "start_time": "2022-06-08T19:08:15.771906Z"
    },
    "id": "1IqtFq7wSg6e",
    "outputId": "8954fde0-d637-4c83-e962-6f61abb8cda3"
   },
   "outputs": [
    {
     "data": {
      "text/plain": [
       "(8.0, 16.0, 8.0)"
      ]
     },
     "execution_count": 7,
     "metadata": {},
     "output_type": "execute_result"
    }
   ],
   "source": [
    "YΔ(4, 2, 4)"
   ]
  },
  {
   "cell_type": "code",
   "execution_count": null,
   "metadata": {
    "ExecuteTime": {
     "end_time": "2022-06-08T19:09:05.785486Z",
     "start_time": "2022-06-08T19:09:05.779508Z"
    },
    "id": "BlgUcJXPSg6e",
    "outputId": "7797dbf6-8f19-4708-9006-d34933ed28e9"
   },
   "outputs": [
    {
     "data": {
      "text/plain": [
       "(27.0, 9.0, 4.5)"
      ]
     },
     "execution_count": 11,
     "metadata": {},
     "output_type": "execute_result"
    }
   ],
   "source": [
    "YΔ(1, 3, 6)"
   ]
  },
  {
   "cell_type": "code",
   "execution_count": null,
   "metadata": {
    "ExecuteTime": {
     "end_time": "2022-06-08T20:10:15.625201Z",
     "start_time": "2022-06-08T20:10:15.609271Z"
    },
    "id": "HaGnGB4ESg6e",
    "outputId": "4273c28b-8f3c-4bfa-ad65-1010d34ebf2f"
   },
   "outputs": [
    {
     "data": {
      "text/plain": [
       "(2.0, 4.0, 4.0)"
      ]
     },
     "execution_count": 12,
     "metadata": {},
     "output_type": "execute_result"
    }
   ],
   "source": [
    "ΔY(16, 8, 8)"
   ]
  }
 ],
 "metadata": {
  "colab": {
   "include_colab_link": true,
   "provenance": []
  },
  "jupytext": {
   "encoding": "# -*- coding: utf-8 -*-",
   "formats": "ipynb,py:light"
  },
  "kernelspec": {
   "display_name": "Python 3 (ipykernel)",
   "language": "python",
   "name": "python3"
  },
  "language_info": {
   "codemirror_mode": {
    "name": "ipython",
    "version": 3
   },
   "file_extension": ".py",
   "mimetype": "text/x-python",
   "name": "python",
   "nbconvert_exporter": "python",
   "pygments_lexer": "ipython3",
   "version": "3.9.7"
  },
  "toc": {
   "base_numbering": 1,
   "nav_menu": {},
   "number_sections": true,
   "sideBar": true,
   "skip_h1_title": true,
   "title_cell": "Sumário",
   "title_sidebar": "Contents",
   "toc_cell": true,
   "toc_position": {
    "height": "calc(100% - 180px)",
    "left": "10px",
    "top": "150px",
    "width": "200.475px"
   },
   "toc_section_display": true,
   "toc_window_display": false
  }
 },
 "nbformat": 4,
 "nbformat_minor": 1
}
