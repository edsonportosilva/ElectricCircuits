{
 "cells": [
  {
   "cell_type": "code",
   "execution_count": 1,
   "metadata": {},
   "outputs": [
    {
     "data": {
      "text/html": [
       "\n",
       "<style>\n",
       ".output_png {\n",
       "    display: table-cell;\n",
       "    text-align: center;\n",
       "    vertical-align: middle;\n",
       "}\n",
       "</style>\n"
      ],
      "text/plain": [
       "<IPython.core.display.HTML object>"
      ]
     },
     "execution_count": 1,
     "metadata": {},
     "output_type": "execute_result"
    }
   ],
   "source": [
    "from IPython.core.display import HTML\n",
    "HTML(\"\"\"\n",
    "<style>\n",
    ".output_png {\n",
    "    display: table-cell;\n",
    "    text-align: center;\n",
    "    vertical-align: middle;\n",
    "}\n",
    "</style>\n",
    "\"\"\")"
   ]
  },
  {
   "cell_type": "markdown",
   "metadata": {},
   "source": [
    "# *Circuitos Elétricos I*"
   ]
  },
  {
   "cell_type": "markdown",
   "metadata": {},
   "source": [
    "## Semana 2 - Exercícios\n",
    "\n",
    "### Exercício 1: circuito com fonte controlada de corrente\n",
    "\n",
    "No circuito abaixo, dado que $\\frac{V_0}{V_s}=9$, determine o valor de $A$.\n",
    "\n",
    "<img src=\"./figures/J2C1.png\" width=\"700\">"
   ]
  },
  {
   "cell_type": "markdown",
   "metadata": {},
   "source": [
    "### Exercício 2: circuito com fonte controlada de tensão\n",
    "\n",
    "Determine o valor de todas as correntes no circuito abaixo.\n",
    "\n",
    "<img src=\"./figures/J2C2.png\" width=\"500\">"
   ]
  },
  {
   "cell_type": "markdown",
   "metadata": {},
   "source": [
    "### Solução das equações"
   ]
  },
  {
   "cell_type": "code",
   "execution_count": 1,
   "metadata": {
    "ExecuteTime": {
     "end_time": "2021-12-03T02:28:41.810233Z",
     "start_time": "2021-12-03T02:28:39.926145Z"
    }
   },
   "outputs": [],
   "source": [
    "import sympy as sp\n",
    "from utils import symdisp"
   ]
  },
  {
   "cell_type": "code",
   "execution_count": null,
   "metadata": {
    "ExecuteTime": {
     "end_time": "2021-12-03T02:29:50.728760Z",
     "start_time": "2021-12-03T02:29:50.679791Z"
    }
   },
   "outputs": [],
   "source": [
    "# define as N variáveis desconhecidas\n",
    "i1, i2, i3, i4 = sp.symbols('i1, i2, i3, i4')\n",
    "\n",
    "# define os sistema de N equações\n",
    "eq1 = sp.Eq()             \n",
    "eq2 = sp.Eq()  \n",
    "eq3 = sp.Eq()\n",
    "eq4 = sp.Eq()\n",
    "\n",
    "# resolve o sistema\n",
    "soluc = sp.solve((eq1, eq2, eq3, eq4), dict=True)\n",
    "soluc = soluc[0]\n",
    "\n",
    "i1 = soluc[i1]\n",
    "i2 = soluc[i2]\n",
    "i3 = soluc[i3]\n",
    "i4 = soluc[i4]\n",
    "ix = 3\n",
    "\n",
    "print('Solução do sistema:')\n",
    "symdisp('i_1 = ', round(i1, 2), ' A')\n",
    "symdisp('i_2 = ', round(i2, 2), ' A')\n",
    "symdisp('i_3 = ', round(i3, 2), ' A')\n",
    "symdisp('i_4 = ', round(i4, 2), ' A')\n",
    "symdisp('i_x = ', round(ix, 2), ' A')"
   ]
  },
  {
   "cell_type": "markdown",
   "metadata": {},
   "source": [
    "#### Cálculo das potências"
   ]
  },
  {
   "cell_type": "code",
   "execution_count": null,
   "metadata": {
    "ExecuteTime": {
     "end_time": "2021-12-03T02:33:57.056258Z",
     "start_time": "2021-12-03T02:33:57.034271Z"
    }
   },
   "outputs": [],
   "source": [
    "# expressões para as potências \n",
    "pR = \n",
    "p10v = \n",
    "p15v = \n",
    "p2ix = \n",
    "\n",
    "print('Potências:')\n",
    "symdisp('p_R = ', round(pR, 2), ' W')\n",
    "symdisp('p_{10V} = ', round(p10v, 2), ' W')\n",
    "symdisp('p_{15V} = ', round(p15v, 2), ' W')\n",
    "symdisp('p_{2i_x} = ', round(p2ix, 2), ' W')"
   ]
  },
  {
   "cell_type": "code",
   "execution_count": null,
   "metadata": {},
   "outputs": [],
   "source": [
    "# calcula somatório das potências\n",
    "print('Somatório das potências : %.2f W\\n' %(pR+p10v+p15v+p2ix))"
   ]
  }
 ],
 "metadata": {
  "jupytext": {
   "encoding": "# -*- coding: utf-8 -*-",
   "formats": "ipynb,py:light"
  },
  "kernelspec": {
   "display_name": "Python 3 (ipykernel)",
   "language": "python",
   "name": "python3"
  },
  "language_info": {
   "codemirror_mode": {
    "name": "ipython",
    "version": 3
   },
   "file_extension": ".py",
   "mimetype": "text/x-python",
   "name": "python",
   "nbconvert_exporter": "python",
   "pygments_lexer": "ipython3",
   "version": "3.9.7"
  },
  "toc": {
   "base_numbering": 1,
   "nav_menu": {},
   "number_sections": true,
   "sideBar": true,
   "skip_h1_title": true,
   "title_cell": "Table of Contents",
   "title_sidebar": "Contents",
   "toc_cell": true,
   "toc_position": {
    "height": "calc(100% - 180px)",
    "left": "10px",
    "top": "150px",
    "width": "217.475px"
   },
   "toc_section_display": true,
   "toc_window_display": true
  },
  "varInspector": {
   "cols": {
    "lenName": 16,
    "lenType": 16,
    "lenVar": 40
   },
   "kernels_config": {
    "python": {
     "delete_cmd_postfix": "",
     "delete_cmd_prefix": "del ",
     "library": "var_list.py",
     "varRefreshCmd": "print(var_dic_list())"
    },
    "r": {
     "delete_cmd_postfix": ") ",
     "delete_cmd_prefix": "rm(",
     "library": "var_list.r",
     "varRefreshCmd": "cat(var_dic_list()) "
    }
   },
   "types_to_exclude": [
    "module",
    "function",
    "builtin_function_or_method",
    "instance",
    "_Feature"
   ],
   "window_display": false
  }
 },
 "nbformat": 4,
 "nbformat_minor": 2
}
