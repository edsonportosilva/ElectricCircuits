{
 "cells": [
  {
   "cell_type": "markdown",
   "metadata": {
    "colab_type": "text",
    "id": "view-in-github"
   },
   "source": [
    "<a href=\"https://colab.research.google.com/github/edsonportosilva/ElectricCircuits/blob/master/Jupyter%20notebooks/Circuitos%20El%C3%A9tricos%20I%20-%20Semana%202.1%20-%20Exerc%C3%ADcios%20com%20fontes%20controladas%20.ipynb\" target=\"_parent\"><img src=\"https://colab.research.google.com/assets/colab-badge.svg\" alt=\"Open In Colab\"/></a>"
   ]
  },
  {
   "cell_type": "code",
   "execution_count": null,
   "metadata": {
    "id": "1h_y-WuzQppc"
   },
   "outputs": [],
   "source": [
    "from IPython.core.display import HTML\n",
    "HTML(\"\"\"\n",
    "<style>\n",
    ".output_png {\n",
    "    display: table-cell;\n",
    "    text-align: center;\n",
    "    vertical-align: middle;\n",
    "}\n",
    "</style>\n",
    "\"\"\")\n",
    "\n",
    "if 'google.colab' in str(get_ipython()):    \n",
    "    ! git clone -b master https://github.com/edsonportosilva/ElectricCircuits\n",
    "    from os import chdir as cd\n",
    "    cd('/content/ElectricCircuits/Jupyter notebooks')"
   ]
  },
  {
   "cell_type": "markdown",
   "metadata": {
    "id": "ZSGbDF-6Qppg"
   },
   "source": [
    "# *Circuitos Elétricos I*"
   ]
  },
  {
   "cell_type": "markdown",
   "metadata": {
    "id": "MhDD8K5VQpph"
   },
   "source": [
    "## Semana 2 - Exercícios\n",
    "\n",
    "### Exercício 1: circuito com fonte controlada de corrente\n",
    "\n",
    "No circuito abaixo, dado que $\\frac{V_0}{V_s}=9$, determine o valor de $A$.\n",
    "\n",
    "<img src=\"https://github.com/edsonportosilva/ElectricCircuits/blob/master/Jupyter%20notebooks/figures/J2C1.png?raw=1\" width=\"700\">"
   ]
  },
  {
   "cell_type": "markdown",
   "metadata": {
    "id": "6tr9snCkQpph"
   },
   "source": [
    "### Exercício 2: circuito com fonte controlada de tensão\n",
    "\n",
    "Determine o valor de todas as correntes no circuito abaixo.\n",
    "\n",
    "<img src=\"https://github.com/edsonportosilva/ElectricCircuits/blob/master/Jupyter%20notebooks/figures/J2C2.png?raw=1\" width=\"500\">"
   ]
  },
  {
   "cell_type": "markdown",
   "metadata": {
    "id": "cq4Vjf7hQppi"
   },
   "source": [
    "### Solução das equações"
   ]
  },
  {
   "cell_type": "code",
   "execution_count": null,
   "metadata": {
    "ExecuteTime": {
     "end_time": "2021-12-03T02:28:41.810233Z",
     "start_time": "2021-12-03T02:28:39.926145Z"
    },
    "id": "TiSCR6n-Qppi"
   },
   "outputs": [],
   "source": [
    "import sympy as sp\n",
    "from utils import symdisp"
   ]
  },
  {
   "cell_type": "code",
   "execution_count": null,
   "metadata": {
    "ExecuteTime": {
     "end_time": "2021-12-03T02:29:50.728760Z",
     "start_time": "2021-12-03T02:29:50.679791Z"
    },
    "id": "9oBpqWEoQppj"
   },
   "outputs": [],
   "source": [
    "# define as N variáveis desconhecidas\n",
    "i1, i2, i3, i4 = sp.symbols('i1, i2, i3, i4')\n",
    "\n",
    "# define os sistema de N equações\n",
    "eq1 = sp.Eq()             \n",
    "eq2 = sp.Eq()  \n",
    "eq3 = sp.Eq()\n",
    "eq4 = sp.Eq()\n",
    "\n",
    "# resolve o sistema\n",
    "soluc = sp.solve((eq1, eq2, eq3, eq4), dict=True)\n",
    "soluc = soluc[0]\n",
    "\n",
    "i1 = soluc[i1]\n",
    "i2 = soluc[i2]\n",
    "i3 = soluc[i3]\n",
    "i4 = soluc[i4]\n",
    "ix = 3\n",
    "\n",
    "print('Solução do sistema:')\n",
    "symdisp('i_1 = ', round(i1, 2), ' A')\n",
    "symdisp('i_2 = ', round(i2, 2), ' A')\n",
    "symdisp('i_3 = ', round(i3, 2), ' A')\n",
    "symdisp('i_4 = ', round(i4, 2), ' A')\n",
    "symdisp('i_x = ', round(ix, 2), ' A')"
   ]
  },
  {
   "cell_type": "markdown",
   "metadata": {
    "id": "_NUaDGsHQppk"
   },
   "source": [
    "#### Cálculo das potências"
   ]
  },
  {
   "cell_type": "code",
   "execution_count": null,
   "metadata": {
    "ExecuteTime": {
     "end_time": "2021-12-03T02:33:57.056258Z",
     "start_time": "2021-12-03T02:33:57.034271Z"
    },
    "id": "IpKh5-elQppk"
   },
   "outputs": [],
   "source": [
    "# expressões para as potências \n",
    "pR = \n",
    "p10v = \n",
    "p15v = \n",
    "p2ix = \n",
    "\n",
    "print('Potências:')\n",
    "symdisp('p_R = ', round(pR, 2), ' W')\n",
    "symdisp('p_{10V} = ', round(p10v, 2), ' W')\n",
    "symdisp('p_{15V} = ', round(p15v, 2), ' W')\n",
    "symdisp('p_{2i_x} = ', round(p2ix, 2), ' W')"
   ]
  },
  {
   "cell_type": "code",
   "execution_count": null,
   "metadata": {
    "id": "y9YoVakqQppl"
   },
   "outputs": [],
   "source": [
    "# calcula somatório das potências\n",
    "print('Somatório das potências : %.2f W\\n' %(pR+p10v+p15v+p2ix))"
   ]
  }
 ],
 "metadata": {
  "colab": {
   "include_colab_link": true,
   "provenance": []
  },
  "jupytext": {
   "encoding": "# -*- coding: utf-8 -*-",
   "formats": "ipynb,py:light"
  },
  "kernelspec": {
   "display_name": "Python 3 (ipykernel)",
   "language": "python",
   "name": "python3"
  },
  "language_info": {
   "codemirror_mode": {
    "name": "ipython",
    "version": 3
   },
   "file_extension": ".py",
   "mimetype": "text/x-python",
   "name": "python",
   "nbconvert_exporter": "python",
   "pygments_lexer": "ipython3",
   "version": "3.9.7"
  },
  "toc": {
   "base_numbering": 1,
   "nav_menu": {},
   "number_sections": true,
   "sideBar": true,
   "skip_h1_title": true,
   "title_cell": "Table of Contents",
   "title_sidebar": "Contents",
   "toc_cell": true,
   "toc_position": {
    "height": "calc(100% - 180px)",
    "left": "10px",
    "top": "150px",
    "width": "217.475px"
   },
   "toc_section_display": true,
   "toc_window_display": true
  },
  "varInspector": {
   "cols": {
    "lenName": 16,
    "lenType": 16,
    "lenVar": 40
   },
   "kernels_config": {
    "python": {
     "delete_cmd_postfix": "",
     "delete_cmd_prefix": "del ",
     "library": "var_list.py",
     "varRefreshCmd": "print(var_dic_list())"
    },
    "r": {
     "delete_cmd_postfix": ") ",
     "delete_cmd_prefix": "rm(",
     "library": "var_list.r",
     "varRefreshCmd": "cat(var_dic_list()) "
    }
   },
   "types_to_exclude": [
    "module",
    "function",
    "builtin_function_or_method",
    "instance",
    "_Feature"
   ],
   "window_display": false
  }
 },
 "nbformat": 4,
 "nbformat_minor": 1
}
