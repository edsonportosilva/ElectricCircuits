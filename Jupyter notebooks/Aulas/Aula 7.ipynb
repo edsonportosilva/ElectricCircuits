{
 "cells": [
  {
   "cell_type": "code",
   "execution_count": 4,
   "id": "0bf84c9c",
   "metadata": {
    "ExecuteTime": {
     "end_time": "2024-07-26T03:23:54.475681Z",
     "start_time": "2024-07-26T03:23:54.467679Z"
    }
   },
   "outputs": [],
   "source": [
    "if 'google.colab' in str(get_ipython()):    \n",
    "    ! git clone -b master https://github.com/edsonportosilva/ElectricCircuits\n",
    "    from os import chdir as cd\n",
    "    cd('/content/ElectricCircuits/')\n",
    "    ! pip install -e .\n",
    "\n",
    "import sympy as sp\n",
    "import numpy as np\n",
    "from circuit.utils import symdisp, round_expr\n",
    "import matplotlib.pyplot as plt"
   ]
  },
  {
   "cell_type": "markdown",
   "id": "700c3bc9",
   "metadata": {
    "hide_input": false
   },
   "source": [
    "## Solução do Exercício de fixação - Princípio da Superposição\n",
    "\n",
    "### Exercício 2:\n",
    "\n",
    "As duas fontes presentes"
   ]
  },
  {
   "cell_type": "code",
   "execution_count": 9,
   "id": "b7c8081d",
   "metadata": {
    "ExecuteTime": {
     "end_time": "2024-07-26T03:25:19.724682Z",
     "start_time": "2024-07-26T03:25:19.675682Z"
    },
    "hide_input": true
   },
   "outputs": [
    {
     "name": "stdout",
     "output_type": "stream",
     "text": [
      "Correntes em função da tensão de nó:\n"
     ]
    },
    {
     "data": {
      "text/latex": [
       "$\\displaystyle i_ϕ =\\frac{35 - v_{a}}{5000}\\;\\mathrm{ }$"
      ],
      "text/plain": [
       "<IPython.core.display.Math object>"
      ]
     },
     "metadata": {},
     "output_type": "display_data"
    },
    {
     "data": {
      "text/latex": [
       "$\\displaystyle i_1 =\\frac{v_{a}}{20000}\\;\\mathrm{ }$"
      ],
      "text/plain": [
       "<IPython.core.display.Math object>"
      ]
     },
     "metadata": {},
     "output_type": "display_data"
    },
    {
     "name": "stdout",
     "output_type": "stream",
     "text": [
      "LKC:\n"
     ]
    },
    {
     "data": {
      "text/latex": [
       "$\\displaystyle \\frac{35 - v_{a}}{5000} + 5 \\cdot \\frac{35 - v_{a}}{5000} = \\frac{v_{a}}{20000} + 0.007$"
      ],
      "text/plain": [
       "Eq(35 - v_a/5000**1 + 5*(35 - v_a/5000**1), v_a/20000**1 + 0.007)"
      ]
     },
     "metadata": {},
     "output_type": "display_data"
    },
    {
     "name": "stdout",
     "output_type": "stream",
     "text": [
      "Tensão de nó:\n"
     ]
    },
    {
     "data": {
      "text/latex": [
       "$\\displaystyle v_a =28.0\\;\\mathrm{V}$"
      ],
      "text/plain": [
       "<IPython.core.display.Math object>"
      ]
     },
     "metadata": {},
     "output_type": "display_data"
    },
    {
     "name": "stdout",
     "output_type": "stream",
     "text": [
      "Logo:\n"
     ]
    },
    {
     "data": {
      "text/latex": [
       "$\\displaystyle v_{0} = v_a = 28.0\\;\\mathrm{V}$"
      ],
      "text/plain": [
       "<IPython.core.display.Math object>"
      ]
     },
     "metadata": {},
     "output_type": "display_data"
    }
   ],
   "source": [
    "# define as N variáveis desconhecidas\n",
    "va = sp.symbols('v_a')\n",
    "\n",
    "print('Correntes em função da tensão de nó:')\n",
    "with sp.evaluate(False):   \n",
    "    iϕ = (35 - va)/5000\n",
    "    i1 = va/20000     \n",
    "    \n",
    "    symdisp('i_ϕ =', iϕ)\n",
    "    symdisp('i_1 =', i1)\n",
    "    \n",
    "# LKC\n",
    "print('LKC:')\n",
    "with sp.evaluate(False):\n",
    "    eq1 = sp.Eq(5*iϕ + iϕ, i1 + 7e-3)\n",
    "    display(eq1) \n",
    "\n",
    "# resolve o sistema\n",
    "soluc = sp.solve((eq1), dict=True)\n",
    "soluc = soluc[0]\n",
    "\n",
    "va = sp.N(soluc[va],3)\n",
    "\n",
    "print('Tensão de nó:')\n",
    "symdisp('v_a =', va, 'V')\n",
    "\n",
    "print('Logo:')\n",
    "symdisp('v_{0} = v_a = ', va, 'V')"
   ]
  },
  {
   "cell_type": "markdown",
   "id": "edee6df2",
   "metadata": {},
   "source": [
    "Apenas a fonte de tensão"
   ]
  },
  {
   "cell_type": "code",
   "execution_count": 10,
   "id": "f7909b8f",
   "metadata": {
    "ExecuteTime": {
     "end_time": "2024-07-26T03:30:51.835788Z",
     "start_time": "2024-07-26T03:30:51.808778Z"
    },
    "hide_input": true
   },
   "outputs": [
    {
     "name": "stdout",
     "output_type": "stream",
     "text": [
      "Correntes em função da tensão de nó:\n"
     ]
    },
    {
     "data": {
      "text/latex": [
       "$\\displaystyle i_ϕ =\\frac{35 - v_{a}}{5000}\\;\\mathrm{ }$"
      ],
      "text/plain": [
       "<IPython.core.display.Math object>"
      ]
     },
     "metadata": {},
     "output_type": "display_data"
    },
    {
     "data": {
      "text/latex": [
       "$\\displaystyle i_1 =\\frac{v_{a}}{20000}\\;\\mathrm{ }$"
      ],
      "text/plain": [
       "<IPython.core.display.Math object>"
      ]
     },
     "metadata": {},
     "output_type": "display_data"
    },
    {
     "name": "stdout",
     "output_type": "stream",
     "text": [
      "LKC:\n"
     ]
    },
    {
     "data": {
      "text/latex": [
       "$\\displaystyle \\frac{35 - v_{a}}{5000} + 5 \\cdot \\frac{35 - v_{a}}{5000} = \\frac{v_{a}}{20000}$"
      ],
      "text/plain": [
       "Eq(35 - v_a/5000**1 + 5*(35 - v_a/5000**1), v_a/20000**1)"
      ]
     },
     "metadata": {},
     "output_type": "display_data"
    },
    {
     "name": "stdout",
     "output_type": "stream",
     "text": [
      "Tensão de nó:\n"
     ]
    },
    {
     "data": {
      "text/latex": [
       "$\\displaystyle v_a =33.6\\;\\mathrm{V}$"
      ],
      "text/plain": [
       "<IPython.core.display.Math object>"
      ]
     },
     "metadata": {},
     "output_type": "display_data"
    },
    {
     "name": "stdout",
     "output_type": "stream",
     "text": [
      "Logo:\n"
     ]
    },
    {
     "data": {
      "text/latex": [
       "$\\displaystyle v_{0} = v_a = 33.6\\;\\mathrm{V}$"
      ],
      "text/plain": [
       "<IPython.core.display.Math object>"
      ]
     },
     "metadata": {},
     "output_type": "display_data"
    }
   ],
   "source": [
    "# define as N variáveis desconhecidas\n",
    "va = sp.symbols('v_a')\n",
    "\n",
    "print('Correntes em função da tensão de nó:')\n",
    "with sp.evaluate(False):   \n",
    "    iϕ = (35 - va)/5000\n",
    "    i1 = va/20000     \n",
    "    \n",
    "    symdisp('i_ϕ =', iϕ)\n",
    "    symdisp('i_1 =', i1)\n",
    "    \n",
    "# LKC\n",
    "print('LKC:')\n",
    "with sp.evaluate(False):\n",
    "    eq1 = sp.Eq(5*iϕ + iϕ, i1)\n",
    "    display(eq1) \n",
    "\n",
    "# resolve o sistema\n",
    "soluc = sp.solve((eq1), dict=True)\n",
    "soluc = soluc[0]\n",
    "\n",
    "va = sp.N(soluc[va],3)\n",
    "\n",
    "print('Tensão de nó:')\n",
    "symdisp('v_a =', va, 'V')\n",
    "\n",
    "print('Logo:')\n",
    "symdisp('v_{0} = v_a = ', va, 'V')"
   ]
  },
  {
   "cell_type": "markdown",
   "id": "8683cca1",
   "metadata": {},
   "source": [
    "Apenas a fonte de corrente"
   ]
  },
  {
   "cell_type": "code",
   "execution_count": 12,
   "id": "720958c2",
   "metadata": {
    "ExecuteTime": {
     "end_time": "2024-07-26T03:32:48.812691Z",
     "start_time": "2024-07-26T03:32:48.763675Z"
    },
    "hide_input": true
   },
   "outputs": [
    {
     "name": "stdout",
     "output_type": "stream",
     "text": [
      "Correntes em função da tensão de nó:\n"
     ]
    },
    {
     "data": {
      "text/latex": [
       "$\\displaystyle i_ϕ =\\frac{\\left(-1\\right) v_{a}}{5000}\\;\\mathrm{ }$"
      ],
      "text/plain": [
       "<IPython.core.display.Math object>"
      ]
     },
     "metadata": {},
     "output_type": "display_data"
    },
    {
     "data": {
      "text/latex": [
       "$\\displaystyle i_1 =\\frac{v_{a}}{20000}\\;\\mathrm{ }$"
      ],
      "text/plain": [
       "<IPython.core.display.Math object>"
      ]
     },
     "metadata": {},
     "output_type": "display_data"
    },
    {
     "name": "stdout",
     "output_type": "stream",
     "text": [
      "LKC:\n"
     ]
    },
    {
     "data": {
      "text/latex": [
       "$\\displaystyle \\frac{\\left(-1\\right) v_{a}}{5000} + 5 \\frac{\\left(-1\\right) v_{a}}{5000} = \\frac{v_{a}}{20000} + 0.007$"
      ],
      "text/plain": [
       "Eq(-v_a/5000**1 + 5*(-v_a/5000**1), v_a/20000**1 + 0.007)"
      ]
     },
     "metadata": {},
     "output_type": "display_data"
    },
    {
     "name": "stdout",
     "output_type": "stream",
     "text": [
      "Tensão de nó:\n"
     ]
    },
    {
     "data": {
      "text/latex": [
       "$\\displaystyle v_a =-5.6\\;\\mathrm{V}$"
      ],
      "text/plain": [
       "<IPython.core.display.Math object>"
      ]
     },
     "metadata": {},
     "output_type": "display_data"
    },
    {
     "name": "stdout",
     "output_type": "stream",
     "text": [
      "Logo:\n"
     ]
    },
    {
     "data": {
      "text/latex": [
       "$\\displaystyle v_{0} = v_a = -5.6\\;\\mathrm{V}$"
      ],
      "text/plain": [
       "<IPython.core.display.Math object>"
      ]
     },
     "metadata": {},
     "output_type": "display_data"
    }
   ],
   "source": [
    "# define as N variáveis desconhecidas\n",
    "va = sp.symbols('v_a')\n",
    "\n",
    "print('Correntes em função da tensão de nó:')\n",
    "with sp.evaluate(False):   \n",
    "    iϕ = - va/5000\n",
    "    i1 = va/20000     \n",
    "    \n",
    "    symdisp('i_ϕ =', iϕ)\n",
    "    symdisp('i_1 =', i1)\n",
    "    \n",
    "# LKC\n",
    "print('LKC:')\n",
    "with sp.evaluate(False):\n",
    "    eq1 = sp.Eq(5*iϕ + iϕ, i1 + 7e-3)\n",
    "    display(eq1) \n",
    "\n",
    "# resolve o sistema\n",
    "soluc = sp.solve((eq1), dict=True)\n",
    "soluc = soluc[0]\n",
    "\n",
    "va = sp.N(soluc[va],3)\n",
    "\n",
    "print('Tensão de nó:')\n",
    "symdisp('v_a =', va, 'V')\n",
    "\n",
    "print('Logo:')\n",
    "symdisp('v_{0} = v_a = ', va, 'V')"
   ]
  }
 ],
 "metadata": {
  "kernelspec": {
   "display_name": "Python 3 (ipykernel)",
   "language": "python",
   "name": "python3"
  },
  "language_info": {
   "codemirror_mode": {
    "name": "ipython",
    "version": 3
   },
   "file_extension": ".py",
   "mimetype": "text/x-python",
   "name": "python",
   "nbconvert_exporter": "python",
   "pygments_lexer": "ipython3",
   "version": "3.9.12"
  }
 },
 "nbformat": 4,
 "nbformat_minor": 5
}
