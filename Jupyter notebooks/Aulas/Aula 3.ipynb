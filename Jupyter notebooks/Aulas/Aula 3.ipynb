{
 "cells": [
  {
   "cell_type": "code",
   "execution_count": 1,
   "id": "0bf84c9c",
   "metadata": {
    "ExecuteTime": {
     "end_time": "2024-07-09T02:33:38.362648Z",
     "start_time": "2024-07-09T02:33:37.082418Z"
    }
   },
   "outputs": [],
   "source": [
    "if 'google.colab' in str(get_ipython()):    \n",
    "    ! git clone -b master https://github.com/edsonportosilva/ElectricCircuits\n",
    "    from os import chdir as cd\n",
    "    cd('/content/ElectricCircuits/')\n",
    "    ! pip install -e .\n",
    "\n",
    "import sympy as sp\n",
    "import numpy as np\n",
    "from circuit.utils import symdisp\n",
    "import matplotlib.pyplot as plt"
   ]
  },
  {
   "cell_type": "markdown",
   "id": "700c3bc9",
   "metadata": {},
   "source": [
    "## Solução do Exercício de fixação"
   ]
  },
  {
   "cell_type": "code",
   "execution_count": 7,
   "id": "b7c8081d",
   "metadata": {
    "ExecuteTime": {
     "end_time": "2024-07-09T02:48:03.942302Z",
     "start_time": "2024-07-09T02:48:03.898502Z"
    },
    "hide_input": true
   },
   "outputs": [
    {
     "name": "stdout",
     "output_type": "stream",
     "text": [
      "Sistema de equações lineares:\n"
     ]
    },
    {
     "data": {
      "text/latex": [
       "$\\displaystyle 18 i_{Δ} - 20 i_{σ} - 50 = 0$"
      ],
      "text/plain": [
       "Eq(18*i_Δ - 20*i_σ - 50, 0)"
      ]
     },
     "metadata": {},
     "output_type": "display_data"
    },
    {
     "data": {
      "text/latex": [
       "$\\displaystyle - 18 i_{Δ} + 45 i_{σ} = 0$"
      ],
      "text/plain": [
       "Eq(-18*i_Δ + 45*i_σ, 0)"
      ]
     },
     "metadata": {},
     "output_type": "display_data"
    },
    {
     "name": "stdout",
     "output_type": "stream",
     "text": [
      "Solução do sistema:\n"
     ]
    },
    {
     "data": {
      "text/latex": [
       "$\\displaystyle i_σ =2\\;\\mathrm{A}$"
      ],
      "text/plain": [
       "<IPython.core.display.Math object>"
      ]
     },
     "metadata": {},
     "output_type": "display_data"
    },
    {
     "data": {
      "text/latex": [
       "$\\displaystyle i_Δ =5\\;\\mathrm{A}$"
      ],
      "text/plain": [
       "<IPython.core.display.Math object>"
      ]
     },
     "metadata": {},
     "output_type": "display_data"
    },
    {
     "name": "stdout",
     "output_type": "stream",
     "text": [
      "Logo:\n"
     ]
    },
    {
     "data": {
      "text/latex": [
       "$\\displaystyle v_0 = 40i_σ = 80\\;\\mathrm{V}$"
      ],
      "text/plain": [
       "<IPython.core.display.Math object>"
      ]
     },
     "metadata": {},
     "output_type": "display_data"
    }
   ],
   "source": [
    "# define as N variáveis desconhecidas\n",
    "i_σ, i_Δ = sp.symbols('i_σ, i_Δ')\n",
    "\n",
    "# define os sistema de N equações\n",
    "eq1 = sp.Eq(-50 - 20*i_σ + 18*i_Δ, 0)             \n",
    "eq2 = sp.Eq(-18*i_Δ + 5*i_σ + 40*i_σ, 0)  \n",
    "\n",
    "print('Sistema de equações lineares:')\n",
    "display(eq1, eq2) \n",
    "\n",
    "# resolve o sistema\n",
    "soluc = sp.solve((eq1, eq2), dict=True)\n",
    "soluc = soluc[0]\n",
    "\n",
    "i_σ = soluc[i_σ]\n",
    "i_Δ = soluc[i_Δ]\n",
    "\n",
    "print('Solução do sistema:')\n",
    "symdisp('i_σ =', i_σ, 'A')\n",
    "symdisp('i_Δ =', i_Δ, 'A')\n",
    "\n",
    "print('Logo:')\n",
    "symdisp('v_0 = 40i_σ = ', 40*i_σ, 'V')"
   ]
  },
  {
   "cell_type": "code",
   "execution_count": 6,
   "id": "0fbcf661",
   "metadata": {
    "ExecuteTime": {
     "end_time": "2024-07-09T02:46:55.714925Z",
     "start_time": "2024-07-09T02:46:55.682942Z"
    },
    "hide_input": true
   },
   "outputs": [
    {
     "name": "stdout",
     "output_type": "stream",
     "text": [
      "Cálculo das potências:\n"
     ]
    },
    {
     "data": {
      "text/latex": [
       "$\\displaystyle p_{18Ω} = 450\\;\\mathrm{W}$"
      ],
      "text/plain": [
       "<IPython.core.display.Math object>"
      ]
     },
     "metadata": {},
     "output_type": "display_data"
    },
    {
     "data": {
      "text/latex": [
       "$\\displaystyle p_{40Ω} = 160\\;\\mathrm{W}$"
      ],
      "text/plain": [
       "<IPython.core.display.Math object>"
      ]
     },
     "metadata": {},
     "output_type": "display_data"
    },
    {
     "data": {
      "text/latex": [
       "$\\displaystyle p_{50V} = -2350\\;\\mathrm{W}$"
      ],
      "text/plain": [
       "<IPython.core.display.Math object>"
      ]
     },
     "metadata": {},
     "output_type": "display_data"
    },
    {
     "data": {
      "text/latex": [
       "$\\displaystyle p_{20V} = 800\\;\\mathrm{W}$"
      ],
      "text/plain": [
       "<IPython.core.display.Math object>"
      ]
     },
     "metadata": {},
     "output_type": "display_data"
    },
    {
     "data": {
      "text/latex": [
       "$\\displaystyle p_{20i_σ} = -1880\\;\\mathrm{W}$"
      ],
      "text/plain": [
       "<IPython.core.display.Math object>"
      ]
     },
     "metadata": {},
     "output_type": "display_data"
    },
    {
     "data": {
      "text/latex": [
       "$\\displaystyle p_{5i_σ} = 420\\;\\mathrm{W}$"
      ],
      "text/plain": [
       "<IPython.core.display.Math object>"
      ]
     },
     "metadata": {},
     "output_type": "display_data"
    },
    {
     "data": {
      "text/latex": [
       "$\\displaystyle p_{8i_Δ} = 2400\\;\\mathrm{W}$"
      ],
      "text/plain": [
       "<IPython.core.display.Math object>"
      ]
     },
     "metadata": {},
     "output_type": "display_data"
    },
    {
     "name": "stdout",
     "output_type": "stream",
     "text": [
      "Somatório das potências:\n"
     ]
    },
    {
     "data": {
      "text/latex": [
       "$\\displaystyle \\sum_k p_k = 0\\;\\mathrm{W}$"
      ],
      "text/plain": [
       "<IPython.core.display.Math object>"
      ]
     },
     "metadata": {},
     "output_type": "display_data"
    }
   ],
   "source": [
    "i1 = 9*i_Δ + i_σ\n",
    "i2 = 8*i_Δ + i_σ\n",
    "v1 = 40*i_σ - 20\n",
    "\n",
    "p_50V = -50*i1\n",
    "p_20i_σ = -20*i_σ*i1\n",
    "p_5i_σ  = 5*i_σ*i2\n",
    "p_8i_Δ  = v1*(8*i_Δ)\n",
    "p_20V = 20*(8*i_Δ)\n",
    "p_18Ω = 18*i_Δ**2\n",
    "p_40Ω = 40*i_σ**2\n",
    "\n",
    "print('Cálculo das potências:')\n",
    "symdisp('p_{18Ω} = ', p_18Ω, 'W')\n",
    "symdisp('p_{40Ω} = ', p_40Ω, 'W')\n",
    "symdisp('p_{50V} = ', p_50V, 'W')\n",
    "symdisp('p_{20V} = ', p_20V, 'W')\n",
    "symdisp('p_{20i_σ} = ', p_20i_σ, 'W')\n",
    "symdisp('p_{5i_σ} = ', p_5i_σ, 'W')\n",
    "symdisp('p_{8i_Δ} = ', p_8i_Δ, 'W')\n",
    "\n",
    "print('Somatório das potências:')\n",
    "symdisp('\\sum_k p_k = ', p_18Ω + p_40Ω + p_50V + p_20V + p_20i_σ + p_5i_σ + p_8i_Δ, 'W')"
   ]
  }
 ],
 "metadata": {
  "kernelspec": {
   "display_name": "Python 3 (ipykernel)",
   "language": "python",
   "name": "python3"
  },
  "language_info": {
   "codemirror_mode": {
    "name": "ipython",
    "version": 3
   },
   "file_extension": ".py",
   "mimetype": "text/x-python",
   "name": "python",
   "nbconvert_exporter": "python",
   "pygments_lexer": "ipython3",
   "version": "3.9.13"
  }
 },
 "nbformat": 4,
 "nbformat_minor": 5
}
