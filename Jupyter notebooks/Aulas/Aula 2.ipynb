{
 "cells": [
  {
   "cell_type": "code",
   "execution_count": 1,
   "id": "0bf84c9c",
   "metadata": {
    "ExecuteTime": {
     "end_time": "2024-07-09T02:04:48.677327Z",
     "start_time": "2024-07-09T02:04:47.202007Z"
    }
   },
   "outputs": [],
   "source": [
    "if 'google.colab' in str(get_ipython()):    \n",
    "    ! git clone -b master https://github.com/edsonportosilva/ElectricCircuits\n",
    "    from os import chdir as cd\n",
    "    cd('/content/ElectricCircuits/')\n",
    "    ! pip install -e .\n",
    "\n",
    "import sympy as sp\n",
    "import numpy as np\n",
    "from circuit.utils import symdisp\n",
    "import matplotlib.pyplot as plt"
   ]
  },
  {
   "cell_type": "markdown",
   "id": "700c3bc9",
   "metadata": {},
   "source": [
    "## Solução do Exercício de fixação"
   ]
  },
  {
   "cell_type": "code",
   "execution_count": 16,
   "id": "b7c8081d",
   "metadata": {
    "ExecuteTime": {
     "end_time": "2024-07-09T02:18:16.951868Z",
     "start_time": "2024-07-09T02:18:16.917756Z"
    },
    "hide_input": true
   },
   "outputs": [
    {
     "name": "stdout",
     "output_type": "stream",
     "text": [
      "Sistema de equações lineares (LKT, LKC, lei de Ohm, lei de Ohm):\n"
     ]
    },
    {
     "data": {
      "text/latex": [
       "$\\displaystyle v_{10Ω} + v_{50Ω} - 120 = 0$"
      ],
      "text/plain": [
       "Eq(v_{10Ω} + v_{50Ω} - 120, 0)"
      ]
     },
     "metadata": {},
     "output_type": "display_data"
    },
    {
     "data": {
      "text/latex": [
       "$\\displaystyle i_{0} + 6.0 = i_{1}$"
      ],
      "text/plain": [
       "Eq(i_0 + 6.0, i_1)"
      ]
     },
     "metadata": {},
     "output_type": "display_data"
    },
    {
     "data": {
      "text/latex": [
       "$\\displaystyle v_{10Ω} = 10 i_{0}$"
      ],
      "text/plain": [
       "Eq(v_{10Ω}, 10*i_0)"
      ]
     },
     "metadata": {},
     "output_type": "display_data"
    },
    {
     "data": {
      "text/latex": [
       "$\\displaystyle v_{50Ω} = 50 i_{1}$"
      ],
      "text/plain": [
       "Eq(v_{50Ω}, 50*i_1)"
      ]
     },
     "metadata": {},
     "output_type": "display_data"
    },
    {
     "name": "stdout",
     "output_type": "stream",
     "text": [
      "Solução do sistema:\n"
     ]
    },
    {
     "data": {
      "text/latex": [
       "$\\displaystyle i_0 =-3.0\\;\\mathrm{A}$"
      ],
      "text/plain": [
       "<IPython.core.display.Math object>"
      ]
     },
     "metadata": {},
     "output_type": "display_data"
    },
    {
     "data": {
      "text/latex": [
       "$\\displaystyle i_1 =3.0\\;\\mathrm{A}$"
      ],
      "text/plain": [
       "<IPython.core.display.Math object>"
      ]
     },
     "metadata": {},
     "output_type": "display_data"
    },
    {
     "data": {
      "text/latex": [
       "$\\displaystyle v_{10Ω} =-30.0\\;\\mathrm{V}$"
      ],
      "text/plain": [
       "<IPython.core.display.Math object>"
      ]
     },
     "metadata": {},
     "output_type": "display_data"
    },
    {
     "data": {
      "text/latex": [
       "$\\displaystyle v_{50Ω} =150.0\\;\\mathrm{V}$"
      ],
      "text/plain": [
       "<IPython.core.display.Math object>"
      ]
     },
     "metadata": {},
     "output_type": "display_data"
    }
   ],
   "source": [
    "# define as N variáveis desconhecidas\n",
    "i_0, i_1, v_10Ω, v_50Ω = sp.symbols('i_0, i_1 v_{10Ω}, v_{50Ω}')\n",
    "\n",
    "# define os sistema de N equações\n",
    "eq1 = sp.Eq(-120 + v_10Ω + v_50Ω, 0)             \n",
    "eq2 = sp.Eq(i_0 + 6.0, i_1)  \n",
    "eq3 = sp.Eq(v_10Ω, 10*i_0)  \n",
    "eq4 = sp.Eq(v_50Ω, 50*i_1)\n",
    "\n",
    "print('Sistema de equações lineares (LKT, LKC, lei de Ohm, lei de Ohm):')\n",
    "display(eq1, eq2, eq3, eq4) \n",
    "\n",
    "# resolve o sistema\n",
    "soluc = sp.solve((eq1, eq2, eq3, eq4), dict=True)\n",
    "soluc = soluc[0]\n",
    "\n",
    "i_0 = soluc[i_0]\n",
    "i_1 = soluc[i_1]\n",
    "v_10Ω = soluc[v_10Ω]\n",
    "v_50Ω = soluc[v_50Ω]\n",
    "\n",
    "print('Solução do sistema:')\n",
    "symdisp('i_0 =', i_0, 'A')\n",
    "symdisp('i_1 =', i_1, 'A')\n",
    "symdisp('v_{10Ω} =', v_10Ω, 'V')\n",
    "symdisp('v_{50Ω} =', v_50Ω, 'V')"
   ]
  },
  {
   "cell_type": "code",
   "execution_count": 14,
   "id": "0fbcf661",
   "metadata": {
    "ExecuteTime": {
     "end_time": "2024-07-09T02:16:32.782094Z",
     "start_time": "2024-07-09T02:16:32.764983Z"
    },
    "hide_input": true
   },
   "outputs": [
    {
     "name": "stdout",
     "output_type": "stream",
     "text": [
      "Cálculo das potências:\n"
     ]
    },
    {
     "data": {
      "text/latex": [
       "$\\displaystyle p_{10Ω} = 10.(-3.0)^2 =90.0\\;\\mathrm{W}$"
      ],
      "text/plain": [
       "<IPython.core.display.Math object>"
      ]
     },
     "metadata": {},
     "output_type": "display_data"
    },
    {
     "data": {
      "text/latex": [
       "$\\displaystyle p_{50Ω} = 50.(3.0)^2 =450.0\\;\\mathrm{W}$"
      ],
      "text/plain": [
       "<IPython.core.display.Math object>"
      ]
     },
     "metadata": {},
     "output_type": "display_data"
    },
    {
     "data": {
      "text/latex": [
       "$\\displaystyle p_{120V} = -120.(-3.0) =360.0\\;\\mathrm{W}$"
      ],
      "text/plain": [
       "<IPython.core.display.Math object>"
      ]
     },
     "metadata": {},
     "output_type": "display_data"
    },
    {
     "data": {
      "text/latex": [
       "$\\displaystyle p_{6A} = -(150.0).6 =-900.0\\;\\mathrm{W}$"
      ],
      "text/plain": [
       "<IPython.core.display.Math object>"
      ]
     },
     "metadata": {},
     "output_type": "display_data"
    }
   ],
   "source": [
    "print('Cálculo das potências:')\n",
    "symdisp('p_{10Ω} = ' + f'10.({i_0:.1f})^2 =', 10*i_0**2, 'W')\n",
    "symdisp('p_{50Ω} = '  + f'50.({i_1:.1f})^2 =', 50*i_1**2, 'W')\n",
    "symdisp('p_{120V} = ' + f'-120.({i_0:.1f}) =', -120*i_0, 'W')\n",
    "symdisp('p_{6A} = ' + f'-({v_50Ω:.1f}).6 =', -v_50Ω*6, 'W')"
   ]
  },
  {
   "cell_type": "code",
   "execution_count": null,
   "id": "4b22834d",
   "metadata": {},
   "outputs": [],
   "source": []
  }
 ],
 "metadata": {
  "kernelspec": {
   "display_name": "Python 3 (ipykernel)",
   "language": "python",
   "name": "python3"
  },
  "language_info": {
   "codemirror_mode": {
    "name": "ipython",
    "version": 3
   },
   "file_extension": ".py",
   "mimetype": "text/x-python",
   "name": "python",
   "nbconvert_exporter": "python",
   "pygments_lexer": "ipython3",
   "version": "3.9.13"
  }
 },
 "nbformat": 4,
 "nbformat_minor": 5
}
