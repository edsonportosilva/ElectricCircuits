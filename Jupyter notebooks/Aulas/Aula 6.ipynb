{
 "cells": [
  {
   "cell_type": "code",
   "execution_count": 1,
   "id": "0bf84c9c",
   "metadata": {
    "ExecuteTime": {
     "end_time": "2024-07-18T20:52:04.531664Z",
     "start_time": "2024-07-18T20:52:03.669750Z"
    }
   },
   "outputs": [],
   "source": [
    "if 'google.colab' in str(get_ipython()):    \n",
    "    ! git clone -b master https://github.com/edsonportosilva/ElectricCircuits\n",
    "    from os import chdir as cd\n",
    "    cd('/content/ElectricCircuits/')\n",
    "    ! pip install -e .\n",
    "\n",
    "import sympy as sp\n",
    "import numpy as np\n",
    "from circuit.utils import symdisp, round_expr\n",
    "import matplotlib.pyplot as plt"
   ]
  },
  {
   "cell_type": "markdown",
   "id": "700c3bc9",
   "metadata": {},
   "source": [
    "## Solução do Exercício de fixação\n",
    "\n",
    "### Exemplo 1:"
   ]
  },
  {
   "cell_type": "code",
   "execution_count": 4,
   "id": "b7c8081d",
   "metadata": {
    "ExecuteTime": {
     "end_time": "2024-07-18T20:52:57.736421Z",
     "start_time": "2024-07-18T20:52:57.609023Z"
    },
    "hide_input": true
   },
   "outputs": [
    {
     "name": "stdout",
     "output_type": "stream",
     "text": [
      "Correntes em função das tensões de nó:\n"
     ]
    },
    {
     "data": {
      "text/latex": [
       "$\\displaystyle i_1 =\\frac{20 - v_{a}}{2}\\;\\mathrm{ }$"
      ],
      "text/plain": [
       "<IPython.core.display.Math object>"
      ]
     },
     "metadata": {},
     "output_type": "display_data"
    },
    {
     "data": {
      "text/latex": [
       "$\\displaystyle i_2 =\\frac{\\left(-1\\right) v_{a}}{20}\\;\\mathrm{ }$"
      ],
      "text/plain": [
       "<IPython.core.display.Math object>"
      ]
     },
     "metadata": {},
     "output_type": "display_data"
    },
    {
     "data": {
      "text/latex": [
       "$\\displaystyle i_3 =\\frac{\\left(-1\\right) v_{b}}{10}\\;\\mathrm{ }$"
      ],
      "text/plain": [
       "<IPython.core.display.Math object>"
      ]
     },
     "metadata": {},
     "output_type": "display_data"
    },
    {
     "data": {
      "text/latex": [
       "$\\displaystyle i_4 =\\frac{v_{b} - 8 \\frac{v_{a} - v_{b}}{5}}{2}\\;\\mathrm{ }$"
      ],
      "text/plain": [
       "<IPython.core.display.Math object>"
      ]
     },
     "metadata": {},
     "output_type": "display_data"
    },
    {
     "data": {
      "text/latex": [
       "$\\displaystyle i_ϕ =\\frac{v_{a} - v_{b}}{5}\\;\\mathrm{ }$"
      ],
      "text/plain": [
       "<IPython.core.display.Math object>"
      ]
     },
     "metadata": {},
     "output_type": "display_data"
    },
    {
     "name": "stdout",
     "output_type": "stream",
     "text": [
      "LKC:\n"
     ]
    },
    {
     "data": {
      "text/latex": [
       "$\\displaystyle i_1 + i_2 = i_\\phi\\mathrm{ }$"
      ],
      "text/plain": [
       "<IPython.core.display.Math object>"
      ]
     },
     "metadata": {},
     "output_type": "display_data"
    },
    {
     "data": {
      "text/latex": [
       "$\\displaystyle i_\\phi + i_3 = i_4\\mathrm{ }$"
      ],
      "text/plain": [
       "<IPython.core.display.Math object>"
      ]
     },
     "metadata": {},
     "output_type": "display_data"
    },
    {
     "name": "stdout",
     "output_type": "stream",
     "text": [
      "Sistema de equações lineares:\n"
     ]
    },
    {
     "data": {
      "text/latex": [
       "$\\displaystyle 15 v_{a} - 4 v_{b} = 200$"
      ],
      "text/plain": [
       "Eq(15*v_a - 4*v_b, 200)"
      ]
     },
     "metadata": {},
     "output_type": "display_data"
    },
    {
     "data": {
      "text/latex": [
       "$\\displaystyle 5 v_{a} = 8 v_{b}$"
      ],
      "text/plain": [
       "Eq(5*v_a, 8*v_b)"
      ]
     },
     "metadata": {},
     "output_type": "display_data"
    },
    {
     "name": "stdout",
     "output_type": "stream",
     "text": [
      "Solução do sistema:\n"
     ]
    },
    {
     "data": {
      "text/latex": [
       "$\\displaystyle v_a =16.0\\;\\mathrm{V}$"
      ],
      "text/plain": [
       "<IPython.core.display.Math object>"
      ]
     },
     "metadata": {},
     "output_type": "display_data"
    },
    {
     "data": {
      "text/latex": [
       "$\\displaystyle v_b =10.0\\;\\mathrm{V}$"
      ],
      "text/plain": [
       "<IPython.core.display.Math object>"
      ]
     },
     "metadata": {},
     "output_type": "display_data"
    },
    {
     "name": "stdout",
     "output_type": "stream",
     "text": [
      "Logo:\n"
     ]
    },
    {
     "data": {
      "text/latex": [
       "$\\displaystyle iϕ = 1.2\\;\\mathrm{A}$"
      ],
      "text/plain": [
       "<IPython.core.display.Math object>"
      ]
     },
     "metadata": {},
     "output_type": "display_data"
    },
    {
     "data": {
      "text/latex": [
       "$\\displaystyle i_4 = 0.2\\;\\mathrm{A}$"
      ],
      "text/plain": [
       "<IPython.core.display.Math object>"
      ]
     },
     "metadata": {},
     "output_type": "display_data"
    },
    {
     "data": {
      "text/latex": [
       "$\\displaystyle p_{8iϕ} = + (8iϕ).i_4 = 1.92\\;\\mathrm{W}$"
      ],
      "text/plain": [
       "<IPython.core.display.Math object>"
      ]
     },
     "metadata": {},
     "output_type": "display_data"
    }
   ],
   "source": [
    "# define as N variáveis desconhecidas\n",
    "va, vb = sp.symbols('v_a, v_b')\n",
    "\n",
    "print('Correntes em função das tensões de nó:')\n",
    "with sp.evaluate(False):\n",
    "    i1 = (20 - va)/2\n",
    "    i2 = -(va)/20\n",
    "    iϕ = (va - vb)/5\n",
    "    i3 = -(vb)/10\n",
    "    i4 = (vb - 8*iϕ)/2\n",
    "    \n",
    "    symdisp('i_1 =', i1)\n",
    "    symdisp('i_2 =', i2)\n",
    "    symdisp('i_3 =', i3)\n",
    "    symdisp('i_4 =', i4)\n",
    "    symdisp('i_ϕ =', iϕ)\n",
    "\n",
    "print('LKC:')\n",
    "symdisp('i_1 + i_2 = i_\\phi')\n",
    "symdisp('i_\\phi + i_3 = i_4')\n",
    "\n",
    "# define os sistema de N equações\n",
    "eq1 = sp.Eq(i1 + i2, iϕ)             \n",
    "eq2 = sp.Eq(iϕ + i3, i4)  \n",
    "\n",
    "print('Sistema de equações lineares:')\n",
    "display(eq1.simplify(), eq2.simplify()) \n",
    "\n",
    "# resolve o sistema\n",
    "soluc = sp.solve((eq1, eq2), dict=True)\n",
    "soluc = soluc[0]\n",
    "\n",
    "va = sp.N(soluc[va],3)\n",
    "vb = sp.N(soluc[vb],3)\n",
    "\n",
    "\n",
    "print('Solução do sistema:')\n",
    "symdisp('v_a =', va, 'V')\n",
    "symdisp('v_b =', vb, 'V')\n",
    "\n",
    "print('Logo:')\n",
    "\n",
    "iϕ = (va - vb)/5\n",
    "i4 = (vb - 8*iϕ)/2\n",
    "\n",
    "symdisp('iϕ = ', iϕ, 'A')\n",
    "symdisp('i_4 = ', i4, 'A')\n",
    "symdisp('p_{8iϕ} = + (8iϕ).i_4 = ', 8*iϕ*i4, 'W')"
   ]
  },
  {
   "cell_type": "markdown",
   "id": "fcbdcfe9",
   "metadata": {},
   "source": [
    "### Exemplo 2:"
   ]
  },
  {
   "cell_type": "code",
   "execution_count": 9,
   "id": "66752db8",
   "metadata": {
    "ExecuteTime": {
     "end_time": "2024-07-18T20:55:41.276454Z",
     "start_time": "2024-07-18T20:55:41.143365Z"
    },
    "hide_input": true
   },
   "outputs": [
    {
     "name": "stdout",
     "output_type": "stream",
     "text": [
      "Correntes em função das tensões de nó:\n"
     ]
    },
    {
     "data": {
      "text/latex": [
       "$\\displaystyle i_1 =\\frac{- v_{a} + \\left(v_{b} + 20\\right)}{2}\\;\\mathrm{ }$"
      ],
      "text/plain": [
       "<IPython.core.display.Math object>"
      ]
     },
     "metadata": {},
     "output_type": "display_data"
    },
    {
     "data": {
      "text/latex": [
       "$\\displaystyle i_2 =\\frac{\\left(-1\\right) \\left(v_{a} - v_{b}\\right)}{20}\\;\\mathrm{ }$"
      ],
      "text/plain": [
       "<IPython.core.display.Math object>"
      ]
     },
     "metadata": {},
     "output_type": "display_data"
    },
    {
     "data": {
      "text/latex": [
       "$\\displaystyle i_3 =\\frac{v_{b}}{10}\\;\\mathrm{ }$"
      ],
      "text/plain": [
       "<IPython.core.display.Math object>"
      ]
     },
     "metadata": {},
     "output_type": "display_data"
    },
    {
     "data": {
      "text/latex": [
       "$\\displaystyle i_4 =\\frac{\\left(-1\\right) \\left(8 \\frac{v_{a}}{5} + v_{b}\\right)}{2}\\;\\mathrm{ }$"
      ],
      "text/plain": [
       "<IPython.core.display.Math object>"
      ]
     },
     "metadata": {},
     "output_type": "display_data"
    },
    {
     "data": {
      "text/latex": [
       "$\\displaystyle i_ϕ =\\frac{v_{a}}{5}\\;\\mathrm{ }$"
      ],
      "text/plain": [
       "<IPython.core.display.Math object>"
      ]
     },
     "metadata": {},
     "output_type": "display_data"
    },
    {
     "name": "stdout",
     "output_type": "stream",
     "text": [
      "LKC:\n"
     ]
    },
    {
     "data": {
      "text/latex": [
       "$\\displaystyle i_1 + i_2 = i_\\phi\\mathrm{ }$"
      ],
      "text/plain": [
       "<IPython.core.display.Math object>"
      ]
     },
     "metadata": {},
     "output_type": "display_data"
    },
    {
     "data": {
      "text/latex": [
       "$\\displaystyle i_1 + i_2 + i_3 = i_4\\mathrm{ }$"
      ],
      "text/plain": [
       "<IPython.core.display.Math object>"
      ]
     },
     "metadata": {},
     "output_type": "display_data"
    },
    {
     "name": "stdout",
     "output_type": "stream",
     "text": [
      "Sistema de equações lineares:\n"
     ]
    },
    {
     "data": {
      "text/latex": [
       "$\\displaystyle 15 v_{a} - 11 v_{b} = 200$"
      ],
      "text/plain": [
       "Eq(15*v_a - 11*v_b, 200)"
      ]
     },
     "metadata": {},
     "output_type": "display_data"
    },
    {
     "data": {
      "text/latex": [
       "$\\displaystyle 5 v_{a} + 23 v_{b} = -200$"
      ],
      "text/plain": [
       "Eq(5*v_a + 23*v_b, -200)"
      ]
     },
     "metadata": {},
     "output_type": "display_data"
    },
    {
     "name": "stdout",
     "output_type": "stream",
     "text": [
      "Solução do sistema:\n"
     ]
    },
    {
     "data": {
      "text/latex": [
       "$\\displaystyle v_a =6.0\\;\\mathrm{V}$"
      ],
      "text/plain": [
       "<IPython.core.display.Math object>"
      ]
     },
     "metadata": {},
     "output_type": "display_data"
    },
    {
     "data": {
      "text/latex": [
       "$\\displaystyle v_b =-10.0\\;\\mathrm{V}$"
      ],
      "text/plain": [
       "<IPython.core.display.Math object>"
      ]
     },
     "metadata": {},
     "output_type": "display_data"
    },
    {
     "name": "stdout",
     "output_type": "stream",
     "text": [
      "Logo:\n"
     ]
    },
    {
     "data": {
      "text/latex": [
       "$\\displaystyle iϕ = 1.2\\;\\mathrm{A}$"
      ],
      "text/plain": [
       "<IPython.core.display.Math object>"
      ]
     },
     "metadata": {},
     "output_type": "display_data"
    },
    {
     "data": {
      "text/latex": [
       "$\\displaystyle i_4 = 0.2\\;\\mathrm{A}$"
      ],
      "text/plain": [
       "<IPython.core.display.Math object>"
      ]
     },
     "metadata": {},
     "output_type": "display_data"
    },
    {
     "data": {
      "text/latex": [
       "$\\displaystyle p_{8iϕ} = + (8iϕ).i_4 = 1.92\\;\\mathrm{W}$"
      ],
      "text/plain": [
       "<IPython.core.display.Math object>"
      ]
     },
     "metadata": {},
     "output_type": "display_data"
    }
   ],
   "source": [
    "# define as N variáveis desconhecidas\n",
    "va, vb = sp.symbols('v_a, v_b')\n",
    "\n",
    "print('Correntes em função das tensões de nó:')\n",
    "with sp.evaluate(False):\n",
    "    i1 = ((vb + 20) - va)/2\n",
    "    i2 = -(va - vb)/20\n",
    "    iϕ = (va)/5\n",
    "    i3 =  vb/10\n",
    "    i4 = (-(vb + 8*iϕ))/2\n",
    "    \n",
    "    symdisp('i_1 =', i1)\n",
    "    symdisp('i_2 =', i2)\n",
    "    symdisp('i_3 =', i3)\n",
    "    symdisp('i_4 =', i4)\n",
    "    symdisp('i_ϕ =', iϕ)\n",
    "\n",
    "print('LKC:')\n",
    "symdisp('i_1 + i_2 = i_\\phi')\n",
    "symdisp('i_1 + i_2 + i_3 = i_4')\n",
    "\n",
    "# define os sistema de N equações\n",
    "eq1 = sp.Eq(i1 + i2, iϕ)             \n",
    "eq2 = sp.Eq(i1 + i2 + i3, i4)  \n",
    "\n",
    "print('Sistema de equações lineares:')\n",
    "display(eq1.simplify(), eq2.simplify()) \n",
    "\n",
    "# resolve o sistema\n",
    "soluc = sp.solve((eq1, eq2), dict=True)\n",
    "soluc = soluc[0]\n",
    "\n",
    "va = sp.N(soluc[va],3)\n",
    "vb = sp.N(soluc[vb],3)\n",
    "\n",
    "print('Solução do sistema:')\n",
    "symdisp('v_a =', va, 'V')\n",
    "symdisp('v_b =', vb, 'V')\n",
    "\n",
    "print('Logo:')\n",
    "\n",
    "iϕ = (va - 0)/5\n",
    "i4 = (0 - (vb + 8*iϕ))/2\n",
    "\n",
    "symdisp('iϕ = ', iϕ, 'A')\n",
    "symdisp('i_4 = ', i4, 'A')\n",
    "symdisp('p_{8iϕ} = + (8iϕ).i_4 = ', 8*iϕ*i4, 'W')"
   ]
  },
  {
   "cell_type": "code",
   "execution_count": null,
   "id": "b1220790",
   "metadata": {
    "hide_input": true
   },
   "outputs": [],
   "source": []
  }
 ],
 "metadata": {
  "kernelspec": {
   "display_name": "Python 3 (ipykernel)",
   "language": "python",
   "name": "python3"
  },
  "language_info": {
   "codemirror_mode": {
    "name": "ipython",
    "version": 3
   },
   "file_extension": ".py",
   "mimetype": "text/x-python",
   "name": "python",
   "nbconvert_exporter": "python",
   "pygments_lexer": "ipython3",
   "version": "3.11.5"
  }
 },
 "nbformat": 4,
 "nbformat_minor": 5
}
