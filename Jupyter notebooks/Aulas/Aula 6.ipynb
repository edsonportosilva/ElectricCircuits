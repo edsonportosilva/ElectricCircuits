{
 "cells": [
  {
   "cell_type": "code",
   "execution_count": 1,
   "id": "0bf84c9c",
   "metadata": {
    "ExecuteTime": {
     "end_time": "2024-07-24T02:45:39.314640Z",
     "start_time": "2024-07-24T02:45:38.196623Z"
    }
   },
   "outputs": [],
   "source": [
    "if 'google.colab' in str(get_ipython()):    \n",
    "    ! git clone -b master https://github.com/edsonportosilva/ElectricCircuits\n",
    "    from os import chdir as cd\n",
    "    cd('/content/ElectricCircuits/')\n",
    "    ! pip install -e .\n",
    "\n",
    "import sympy as sp\n",
    "import numpy as np\n",
    "from circuit.utils import symdisp, round_expr\n",
    "import matplotlib.pyplot as plt"
   ]
  },
  {
   "cell_type": "markdown",
   "id": "700c3bc9",
   "metadata": {},
   "source": [
    "## Solução do Exercício de fixação\n",
    "\n",
    "### Exemplo 1:"
   ]
  },
  {
   "cell_type": "code",
   "execution_count": 19,
   "id": "b7c8081d",
   "metadata": {
    "ExecuteTime": {
     "end_time": "2024-07-24T03:18:26.060833Z",
     "start_time": "2024-07-24T03:18:25.852833Z"
    },
    "hide_input": true
   },
   "outputs": [
    {
     "name": "stdout",
     "output_type": "stream",
     "text": [
      "Correntes em função \n",
      "das correntes de malha:\n"
     ]
    },
    {
     "data": {
      "text/latex": [
       "$\\displaystyle i_1 =i_{a}\\;\\mathrm{ }$"
      ],
      "text/plain": [
       "<IPython.core.display.Math object>"
      ]
     },
     "metadata": {},
     "output_type": "display_data"
    },
    {
     "data": {
      "text/latex": [
       "$\\displaystyle i_2 =i_{a} - i_{b}\\;\\mathrm{ }$"
      ],
      "text/plain": [
       "<IPython.core.display.Math object>"
      ]
     },
     "metadata": {},
     "output_type": "display_data"
    },
    {
     "data": {
      "text/latex": [
       "$\\displaystyle i_3 =i_{b}\\;\\mathrm{ }$"
      ],
      "text/plain": [
       "<IPython.core.display.Math object>"
      ]
     },
     "metadata": {},
     "output_type": "display_data"
    },
    {
     "data": {
      "text/latex": [
       "$\\displaystyle i_4 =i_{b} - i_{c}\\;\\mathrm{ }$"
      ],
      "text/plain": [
       "<IPython.core.display.Math object>"
      ]
     },
     "metadata": {},
     "output_type": "display_data"
    },
    {
     "data": {
      "text/latex": [
       "$\\displaystyle i_5 =i_{c}\\;\\mathrm{ }$"
      ],
      "text/plain": [
       "<IPython.core.display.Math object>"
      ]
     },
     "metadata": {},
     "output_type": "display_data"
    },
    {
     "name": "stdout",
     "output_type": "stream",
     "text": [
      "Sistema de equações lineares \n",
      "obtido via LKT:\n"
     ]
    },
    {
     "data": {
      "text/latex": [
       "$\\displaystyle 5 i_{a} - 4 i_{b} = 20$"
      ],
      "text/plain": [
       "Eq(5*i_a - 4*i_b, 20)"
      ]
     },
     "metadata": {},
     "output_type": "display_data"
    },
    {
     "data": {
      "text/latex": [
       "$\\displaystyle 4 i_{a} = 10 i_{b} - 3 i_{c}$"
      ],
      "text/plain": [
       "Eq(4*i_a, 10*i_b - 3*i_c)"
      ]
     },
     "metadata": {},
     "output_type": "display_data"
    },
    {
     "data": {
      "text/latex": [
       "$\\displaystyle 3 i_{b} - 5 i_{c} = 10$"
      ],
      "text/plain": [
       "Eq(3*i_b - 5*i_c, 10)"
      ]
     },
     "metadata": {},
     "output_type": "display_data"
    },
    {
     "name": "stdout",
     "output_type": "stream",
     "text": [
      "Solução do sistema:\n"
     ]
    },
    {
     "data": {
      "text/latex": [
       "$\\displaystyle i_a =5.6\\;\\mathrm{A}$"
      ],
      "text/plain": [
       "<IPython.core.display.Math object>"
      ]
     },
     "metadata": {},
     "output_type": "display_data"
    },
    {
     "data": {
      "text/latex": [
       "$\\displaystyle i_b =2.0\\;\\mathrm{A}$"
      ],
      "text/plain": [
       "<IPython.core.display.Math object>"
      ]
     },
     "metadata": {},
     "output_type": "display_data"
    },
    {
     "data": {
      "text/latex": [
       "$\\displaystyle i_c =-0.8\\;\\mathrm{A}$"
      ],
      "text/plain": [
       "<IPython.core.display.Math object>"
      ]
     },
     "metadata": {},
     "output_type": "display_data"
    },
    {
     "name": "stdout",
     "output_type": "stream",
     "text": [
      "Logo:\n"
     ]
    },
    {
     "data": {
      "text/latex": [
       "$\\displaystyle p_{40V} =-224.0\\;\\mathrm{W}$"
      ],
      "text/plain": [
       "<IPython.core.display.Math object>"
      ]
     },
     "metadata": {},
     "output_type": "display_data"
    },
    {
     "data": {
      "text/latex": [
       "$\\displaystyle p_{20V} =-16.0\\;\\mathrm{W}$"
      ],
      "text/plain": [
       "<IPython.core.display.Math object>"
      ]
     },
     "metadata": {},
     "output_type": "display_data"
    },
    {
     "data": {
      "text/latex": [
       "$\\displaystyle v_0 =28.8\\;\\mathrm{V}$"
      ],
      "text/plain": [
       "<IPython.core.display.Math object>"
      ]
     },
     "metadata": {},
     "output_type": "display_data"
    }
   ],
   "source": [
    "# define as N variáveis desconhecidas\n",
    "ia, ib, ic = sp.symbols('i_a, i_b, i_c')\n",
    "\n",
    "print('Correntes em função \\ndas correntes de malha:')\n",
    "with sp.evaluate(False):   \n",
    "    i1 = ia\n",
    "    i2 = ia-ib\n",
    "    i3 = ib\n",
    "    i4 = ib-ic\n",
    "    i5 = ic    \n",
    "    \n",
    "    symdisp('i_1 =', i1)\n",
    "    symdisp('i_2 =', i2)\n",
    "    symdisp('i_3 =', i3)\n",
    "    symdisp('i_4 =', i4)\n",
    "    symdisp('i_5 =', i5)\n",
    "    \n",
    "# define os sistema de N equações\n",
    "eq1 = sp.Eq(-40 + 2*ia + 8*(ia-ib), 0)             \n",
    "eq2 = sp.Eq(-8*(ia-ib) + 6*ib + 6*(ib-ic), 0)  \n",
    "eq3 = sp.Eq(-6*(ib-ic) + 4*ic + 20, 0)  \n",
    "\n",
    "print('Sistema de equações lineares \\nobtido via LKT:')\n",
    "display(eq1.simplify(), eq2.simplify(), eq3.simplify()) \n",
    "\n",
    "# resolve o sistema\n",
    "soluc = sp.solve((eq1, eq2, eq3), dict=True)\n",
    "soluc = soluc[0]\n",
    "\n",
    "ia = sp.N(soluc[ia],3)\n",
    "ib = sp.N(soluc[ib],3)\n",
    "ic = sp.N(soluc[ic],3)\n",
    "\n",
    "print('Solução do sistema:')\n",
    "symdisp('i_a =', ia, 'A')\n",
    "symdisp('i_b =', ib, 'A')\n",
    "symdisp('i_c =', ic, 'A')\n",
    "\n",
    "print('Logo:')\n",
    "symdisp('p_{40V} =', -40*ia, 'W')\n",
    "symdisp('p_{20V} =', 20*ic, 'W')\n",
    "symdisp('v_0 =', 8*(ia-ib), 'V')"
   ]
  },
  {
   "cell_type": "markdown",
   "id": "fcbdcfe9",
   "metadata": {},
   "source": [
    "### Exemplo 2:"
   ]
  },
  {
   "cell_type": "code",
   "execution_count": 18,
   "id": "66752db8",
   "metadata": {
    "ExecuteTime": {
     "end_time": "2024-07-24T03:02:50.703137Z",
     "start_time": "2024-07-24T03:02:50.353138Z"
    },
    "hide_input": true
   },
   "outputs": [
    {
     "name": "stdout",
     "output_type": "stream",
     "text": [
      "Correntes em função \n",
      "das correntes de malha:\n"
     ]
    },
    {
     "data": {
      "text/latex": [
       "$\\displaystyle i_0 =i_{a}\\;\\mathrm{ }$"
      ],
      "text/plain": [
       "<IPython.core.display.Math object>"
      ]
     },
     "metadata": {},
     "output_type": "display_data"
    },
    {
     "data": {
      "text/latex": [
       "$\\displaystyle i_1 =i_{a} - i_{c}\\;\\mathrm{ }$"
      ],
      "text/plain": [
       "<IPython.core.display.Math object>"
      ]
     },
     "metadata": {},
     "output_type": "display_data"
    },
    {
     "data": {
      "text/latex": [
       "$\\displaystyle i_2 =i_{a} - i_{b}\\;\\mathrm{ }$"
      ],
      "text/plain": [
       "<IPython.core.display.Math object>"
      ]
     },
     "metadata": {},
     "output_type": "display_data"
    },
    {
     "data": {
      "text/latex": [
       "$\\displaystyle i_3 =i_{b} - i_{c}\\;\\mathrm{ }$"
      ],
      "text/plain": [
       "<IPython.core.display.Math object>"
      ]
     },
     "metadata": {},
     "output_type": "display_data"
    },
    {
     "data": {
      "text/latex": [
       "$\\displaystyle i_4 =i_{c}\\;\\mathrm{ }$"
      ],
      "text/plain": [
       "<IPython.core.display.Math object>"
      ]
     },
     "metadata": {},
     "output_type": "display_data"
    },
    {
     "data": {
      "text/latex": [
       "$\\displaystyle i_5 =i_{b}\\;\\mathrm{ }$"
      ],
      "text/plain": [
       "<IPython.core.display.Math object>"
      ]
     },
     "metadata": {},
     "output_type": "display_data"
    },
    {
     "name": "stdout",
     "output_type": "stream",
     "text": [
      "Sistema de equações lineares \n",
      "obtido via LKT:\n"
     ]
    },
    {
     "data": {
      "text/latex": [
       "$\\displaystyle - 5 i_{a} + 4 i_{b} + i_{c} = -10$"
      ],
      "text/plain": [
       "Eq(-5*i_a + 4*i_b + i_c, -10)"
      ]
     },
     "metadata": {},
     "output_type": "display_data"
    },
    {
     "data": {
      "text/latex": [
       "$\\displaystyle 5 i_{a} = 9 i_{b} - 4 i_{c}$"
      ],
      "text/plain": [
       "Eq(5*i_a, 9*i_b - 4*i_c)"
      ]
     },
     "metadata": {},
     "output_type": "display_data"
    },
    {
     "data": {
      "text/latex": [
       "$\\displaystyle 5 i_{a} = - 4 i_{b} + 10 i_{c}$"
      ],
      "text/plain": [
       "Eq(5*i_a, -4*i_b + 10*i_c)"
      ]
     },
     "metadata": {},
     "output_type": "display_data"
    },
    {
     "name": "stdout",
     "output_type": "stream",
     "text": [
      "Solução do sistema:\n"
     ]
    },
    {
     "data": {
      "text/latex": [
       "$\\displaystyle i_a =29.6\\;\\mathrm{A}$"
      ],
      "text/plain": [
       "<IPython.core.display.Math object>"
      ]
     },
     "metadata": {},
     "output_type": "display_data"
    },
    {
     "data": {
      "text/latex": [
       "$\\displaystyle i_b =28.0\\;\\mathrm{A}$"
      ],
      "text/plain": [
       "<IPython.core.display.Math object>"
      ]
     },
     "metadata": {},
     "output_type": "display_data"
    },
    {
     "data": {
      "text/latex": [
       "$\\displaystyle i_c =26.0\\;\\mathrm{A}$"
      ],
      "text/plain": [
       "<IPython.core.display.Math object>"
      ]
     },
     "metadata": {},
     "output_type": "display_data"
    },
    {
     "name": "stdout",
     "output_type": "stream",
     "text": [
      "Logo:\n"
     ]
    },
    {
     "data": {
      "text/latex": [
       "$\\displaystyle p_{4Ω} =16.0\\;\\mathrm{W}$"
      ],
      "text/plain": [
       "<IPython.core.display.Math object>"
      ]
     },
     "metadata": {},
     "output_type": "display_data"
    }
   ],
   "source": [
    "# define as N variáveis desconhecidas\n",
    "ia, ib, ic = sp.symbols('i_a, i_b, i_c')\n",
    "\n",
    "print('Correntes em função \\ndas correntes de malha:')\n",
    "with sp.evaluate(False):\n",
    "    i0 = ia\n",
    "    i1 = ia-ic\n",
    "    i2 = ia-ib\n",
    "    i3 = ib-ic\n",
    "    i4 = ic\n",
    "    i5 = ib\n",
    "    \n",
    "    symdisp('i_0 =', i0)\n",
    "    symdisp('i_1 =', i1)\n",
    "    symdisp('i_2 =', i2)\n",
    "    symdisp('i_3 =', i3)\n",
    "    symdisp('i_4 =', i4)\n",
    "    symdisp('i_5 =', i5)\n",
    "    \n",
    "# define os sistema de N equações\n",
    "eq1 = sp.Eq(-50 + 5*(ia-ic) + 20*(ia-ib), 0)             \n",
    "eq2 = sp.Eq(-20*(ia-ib) + 4*(ib-ic) + 15*(ia-ib), 0)  \n",
    "eq3 = sp.Eq(ic - 4*(ib-ic) - 5*(ia-ic), 0)  \n",
    "\n",
    "print('Sistema de equações lineares \\nobtido via LKT:')\n",
    "display(eq1.simplify(), eq2.simplify(), eq3.simplify()) \n",
    "\n",
    "# resolve o sistema\n",
    "soluc = sp.solve((eq1, eq2, eq3), dict=True)\n",
    "soluc = soluc[0]\n",
    "\n",
    "ia = sp.N(soluc[ia],3)\n",
    "ib = sp.N(soluc[ib],3)\n",
    "ic = sp.N(soluc[ic],3)\n",
    "\n",
    "print('Solução do sistema:')\n",
    "symdisp('i_a =', ia, 'A')\n",
    "symdisp('i_b =', ib, 'A')\n",
    "symdisp('i_c =', ic, 'A')\n",
    "\n",
    "print('Logo:')\n",
    "symdisp('p_{4Ω} =', 4*(ib-ic)**2, 'W')"
   ]
  },
  {
   "cell_type": "code",
   "execution_count": null,
   "id": "b1220790",
   "metadata": {
    "hide_input": true
   },
   "outputs": [],
   "source": []
  }
 ],
 "metadata": {
  "kernelspec": {
   "display_name": "Python 3 (ipykernel)",
   "language": "python",
   "name": "python3"
  },
  "language_info": {
   "codemirror_mode": {
    "name": "ipython",
    "version": 3
   },
   "file_extension": ".py",
   "mimetype": "text/x-python",
   "name": "python",
   "nbconvert_exporter": "python",
   "pygments_lexer": "ipython3",
   "version": "3.9.12"
  }
 },
 "nbformat": 4,
 "nbformat_minor": 5
}
