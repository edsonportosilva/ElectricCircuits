{
  "cells": [
    {
      "cell_type": "markdown",
      "metadata": {
        "id": "view-in-github",
        "colab_type": "text"
      },
      "source": [
        "<a href=\"https://colab.research.google.com/github/edsonportosilva/ElectricCircuits/blob/master/Jupyter%20notebooks/Circuitos%20El%C3%A9tricos%20I%20-%20Semana%204.2%20-%20Circuito%20equivalente%20de%20Th%C3%A9venin.ipynb\" target=\"_parent\"><img src=\"https://colab.research.google.com/assets/colab-badge.svg\" alt=\"Open In Colab\"/></a>"
      ]
    },
    {
      "cell_type": "code",
      "execution_count": null,
      "metadata": {
        "ExecuteTime": {
          "end_time": "2021-12-21T12:55:06.937061Z",
          "start_time": "2021-12-21T12:55:06.897398Z"
        },
        "id": "lkqA2f6bRvST",
        "outputId": "6f00b549-172a-48f4-cf02-bfe9aaf1fd06"
      },
      "outputs": [
        {
          "data": {
            "text/html": [
              "\n",
              "<style>\n",
              ".output_png {\n",
              "    display: table-cell;\n",
              "    text-align: center;\n",
              "    vertical-align: middle;\n",
              "}\n",
              "</style>\n"
            ],
            "text/plain": [
              "<IPython.core.display.HTML object>"
            ]
          },
          "execution_count": 1,
          "metadata": {},
          "output_type": "execute_result"
        }
      ],
      "source": [
        "from IPython.core.display import HTML\n",
        "from IPython.display import Image\n",
        "HTML(\"\"\"\n",
        "<style>\n",
        ".output_png {\n",
        "    display: table-cell;\n",
        "    text-align: center;\n",
        "    vertical-align: middle;\n",
        "}\n",
        "</style>\n",
        "\"\"\")\n",
        "\n",
        "if 'google.colab' in str(get_ipython()):    \n",
        "    ! git clone -b master https://github.com/edsonportosilva/ElectricCircuits\n",
        "    from os import chdir as cd\n",
        "    cd('/content/ElectricCircuits/Jupyter notebooks')"
      ]
    },
    {
      "cell_type": "markdown",
      "metadata": {
        "id": "jKP5wRytRvSW"
      },
      "source": [
        "# *Circuitos Elétricos I - Semana 4*"
      ]
    },
    {
      "cell_type": "markdown",
      "metadata": {
        "id": "jkAwnV82RvSX"
      },
      "source": [
        "### Problema 1\n",
        "  \n",
        "Determine o circuito equivalente de Thévenin ($v_{th}$, $R_{th}$) do ponto de vista dos terminais $(a,b)$ do circuito abaixo.\n",
        "\n",
        "a) Determine a $v_{th}$ pelo método das tensões de nó.\\\n",
        "b) Determine a corrente de curto-circuito $i_{cc}$ pelo método das tensões de nó.\\\n",
        "c) Determine a $v_{th}$ via superposição.\\\n",
        "d) Determine a $R_{th}$ via resistência equivalente.\\\n",
        "e) Determine $v_{th}$, $R_{th}$ via transformação de fontes.\n",
        "\n",
        "<img src=\"https://github.com/edsonportosilva/ElectricCircuits/blob/master/Jupyter%20notebooks/figures/J6C1.png?raw=1\" width=\"700\">\n",
        "\n",
        "Simulação do circuito: https://tinyurl.com/y4kwdr8z"
      ]
    },
    {
      "cell_type": "code",
      "execution_count": null,
      "metadata": {
        "ExecuteTime": {
          "end_time": "2021-12-21T12:55:13.965508Z",
          "start_time": "2021-12-21T12:55:10.953243Z"
        },
        "id": "7dR79MAlRvSY"
      },
      "outputs": [],
      "source": [
        "import sympy as sp\n",
        "from utils import symdisp"
      ]
    },
    {
      "cell_type": "code",
      "execution_count": null,
      "metadata": {
        "ExecuteTime": {
          "end_time": "2021-12-21T14:03:43.298584Z",
          "start_time": "2021-12-21T14:03:43.221632Z"
        },
        "id": "D5p3IS2YRvSZ"
      },
      "outputs": [],
      "source": [
        "# define as N variáveis desconhecidas\n",
        "v1, v2, v3, v4 = sp.symbols('v1, v2, v3, v4')\n",
        "\n",
        "# define os sistema de N equações\n",
        "eq1 = sp.Eq()             \n",
        "eq2 = sp.Eq()  \n",
        "eq3 = sp.Eq()\n",
        "\n",
        "# resolve o sistema\n",
        "soluc = sp.solve((eq1, eq2, eq3), dict=True)\n",
        "soluc = soluc[0]\n",
        "\n",
        "v1 = soluc[v1]\n",
        "v2 = soluc[v2]\n",
        "v4 = soluc[v4]\n",
        "v3 = 2\n",
        "\n",
        "print('Solução do sistema:')\n",
        "symdisp('v_1 = ', round(v1, 2), ' V')\n",
        "symdisp('v_2 = ', round(v2, 2), ' V')\n",
        "symdisp('v_3 = ', round(v3, 2), ' V')\n",
        "symdisp('v_4 = ', round(v4, 2), ' V')"
      ]
    }
  ],
  "metadata": {
    "jupytext": {
      "encoding": "# -*- coding: utf-8 -*-",
      "formats": "ipynb,py:light"
    },
    "kernelspec": {
      "display_name": "Python 3 (ipykernel)",
      "language": "python",
      "name": "python3"
    },
    "language_info": {
      "codemirror_mode": {
        "name": "ipython",
        "version": 3
      },
      "file_extension": ".py",
      "mimetype": "text/x-python",
      "name": "python",
      "nbconvert_exporter": "python",
      "pygments_lexer": "ipython3",
      "version": "3.9.7"
    },
    "toc": {
      "base_numbering": 1,
      "nav_menu": {},
      "number_sections": true,
      "sideBar": true,
      "skip_h1_title": true,
      "title_cell": "Table of Contents",
      "title_sidebar": "Contents",
      "toc_cell": true,
      "toc_position": {
        "height": "calc(100% - 180px)",
        "left": "10px",
        "top": "150px",
        "width": "200.475px"
      },
      "toc_section_display": true,
      "toc_window_display": true
    },
    "varInspector": {
      "cols": {
        "lenName": 16,
        "lenType": 16,
        "lenVar": 40
      },
      "kernels_config": {
        "python": {
          "delete_cmd_postfix": "",
          "delete_cmd_prefix": "del ",
          "library": "var_list.py",
          "varRefreshCmd": "print(var_dic_list())"
        },
        "r": {
          "delete_cmd_postfix": ") ",
          "delete_cmd_prefix": "rm(",
          "library": "var_list.r",
          "varRefreshCmd": "cat(var_dic_list()) "
        }
      },
      "types_to_exclude": [
        "module",
        "function",
        "builtin_function_or_method",
        "instance",
        "_Feature"
      ],
      "window_display": false
    },
    "colab": {
      "provenance": [],
      "include_colab_link": true
    }
  },
  "nbformat": 4,
  "nbformat_minor": 0
}