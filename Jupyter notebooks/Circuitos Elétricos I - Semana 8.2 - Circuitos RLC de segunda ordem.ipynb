{
 "cells": [
  {
   "cell_type": "code",
   "execution_count": 1,
   "metadata": {
    "ExecuteTime": {
     "end_time": "2022-03-03T20:02:29.940839Z",
     "start_time": "2022-03-03T20:02:29.906860Z"
    }
   },
   "outputs": [
    {
     "data": {
      "text/html": [
       "\n",
       "<style>\n",
       ".output_png {\n",
       "    display: table-cell;\n",
       "    text-align: center;\n",
       "    vertical-align: middle;\n",
       "}\n",
       "</style>\n"
      ],
      "text/plain": [
       "<IPython.core.display.HTML object>"
      ]
     },
     "execution_count": 1,
     "metadata": {},
     "output_type": "execute_result"
    }
   ],
   "source": [
    "from IPython.core.display import HTML\n",
    "from IPython.display import Image\n",
    "HTML(\"\"\"\n",
    "<style>\n",
    ".output_png {\n",
    "    display: table-cell;\n",
    "    text-align: center;\n",
    "    vertical-align: middle;\n",
    "}\n",
    "</style>\n",
    "\"\"\")"
   ]
  },
  {
   "cell_type": "markdown",
   "metadata": {},
   "source": [
    "# *Circuitos Elétricos I - Semana 8*\n",
    "\n",
    "# Circuitos de segunda ordem"
   ]
  },
  {
   "cell_type": "markdown",
   "metadata": {},
   "source": [
    "## Circuito RLC em paralelo\n",
    "\n",
    "<img src=\"./figures/J12C2.png\" width=\"800\">\n",
    "\n",
    "Simulação: https://tinyurl.com/ycnkjnot\n",
    "\n",
    "### Aplicação das Leis de Kirchhoff \n",
    "\n",
    "$$\\begin{align}\n",
    "   i_R + i_L + i_C &= i_s\\\\\n",
    "   \\frac{v}{R} + i_L + C\\frac{d v}{d t} &= i_s\\nonumber\\\\\n",
    "    \\frac{1}{R}\\left[L\\frac{d i_L}{d t}\\right] + i_L + C \\frac{d}{d t}\\left[L\\frac{d i_L}{d t}\\right]  &= i_s\\nonumber\\\\\n",
    "    \\frac{d^{2} i_L}{d t^{2}}+\\frac{1}{RC} \\frac{d i_L}{d t}+\\frac{1}{L C} i_L &=\\frac{i_s}{LC}\n",
    "   \\end{align}\n",
    "$$\n",
    "\n",
    "com $\\alpha = \\frac{1}{2RC}$ e $\\omega_0 = \\frac{1}{\\sqrt{LC}}$, temos\n",
    "\n",
    "$$ \n",
    "\\begin{equation}\\label{EDO1} \n",
    "\\frac{d^{2} i_L}{d t^{2}}+2\\alpha \\frac{d i_L}{d t}+\\omega_0^2 i_L=i_{\\mathrm{s}}\\omega_0^2 \n",
    "\\end{equation} \n",
    "$$\n",
    "\n",
    "A equação \\ref{EDO1} é uma EDO de segunda ordem, linear e de coeficientes constantes.\n",
    "\n",
    "Equação característica:\n",
    "\n",
    "$$\\begin{equation} s^2+2\\alpha s + \\omega_0^2=0 \\end{equation} $$\n",
    "\n",
    "Raízes da equação característica:\n",
    "\n",
    "$$\n",
    "\\begin{align}\n",
    "s_1 &=-\\alpha +\\sqrt{\\alpha^2-\\omega_0^2}\\\\\n",
    "s_2 &=-\\alpha -\\sqrt{\\alpha^2-\\omega_0^2}\n",
    "\\end{align}\n",
    "$$"
   ]
  },
  {
   "cell_type": "markdown",
   "metadata": {},
   "source": [
    "### Resposta total \n",
    "\n",
    "A resposta transiente de circuitos RLC em paralelo, seja ela natural ($i_L(\\infty)=0$) ou ao degrau ($i_L(\\infty)=i_s$), pode ser classificada nas três casos seguintes. Em todos os casos, assume-se que o transiente teve início no instante $t_0$ (instante do chaveamento).\n",
    "\n",
    "#### Caso superamortecido ($\\alpha>\\omega_0\\Rightarrow \\text{raízes reais e distintas}$):\n",
    "\n",
    "Solução geral da EDO:\n",
    "\n",
    "$$ \\begin{equation} i_L(t) =A_{1} e^{s_{1} (t-t_0)}+A_{2} e^{s_{2} (t-t_0)}+i_L(\\infty) \\end{equation}$$\n",
    "\n",
    "Condições iniciais para $i_L(t)$:\n",
    "\n",
    "$$\n",
    "\\begin{align}\n",
    "i_L(t_0^+) &=A_1 + A_2 + i_L(\\infty)\\\\\n",
    "\\frac{di_L(t_0^+)}{dt} &=s_1A_1 + s_2A_2 = \\frac{1}{L} v_C(t_0^+)\n",
    "\\end{align}\n",
    "$$\n",
    "\n",
    "Solução do sistema em $A_1$ e $A_2$:\n",
    "\n",
    "$$\n",
    "\\begin{align}\n",
    "A_{1} &=\\frac{\\frac{1}{L} v_C(t_0^+)-s_{2}\\left[i_L(t_0^+)-i_L(\\infty)\\right]}{s_{1}-s_{2}} \\\\\n",
    "A_{2} &=\\frac{-\\frac{1}{L} v_C(t_0^+)+s_{1}\\left[i_L(t_0^+)-i_L(\\infty)\\right]}{s_{1}-s_{2}}\n",
    "\\end{align}\n",
    "$$"
   ]
  },
  {
   "cell_type": "markdown",
   "metadata": {},
   "source": [
    "#### Caso subamortecido ($ \\alpha<\\omega_0\\Rightarrow\\text{raízes complexas e conjugadas} $):\n",
    "\n",
    "Fazendo $\\omega_d = \\sqrt{\\omega_0^2-\\alpha^2}$ temos $s_1 = -\\alpha +j\\omega_d$ e $s_2 = -\\alpha -j\\omega_d$.\n",
    "\n",
    "Solução geral da EDO:\n",
    "\n",
    "$$\\begin{equation} i_L(t) = e^{-\\alpha(t-t_0)}\\left\\lbrace B_{1}\\cos[\\omega_d (t-t_0)] + B_{2}\\sin[\\omega_d (t-t_0)]  \\right\\rbrace + i_L(\\infty) \\end{equation}$$\n",
    "\n",
    "Condições iniciais para $i_L(t)$:\n",
    "\n",
    "$$\n",
    "\\begin{align}\n",
    "i_L(t_0^+) &=B_1 + i_L(\\infty)\\\\\n",
    "\\frac{di_L(t_0^+)}{dt} &= -\\alpha B_1 +\\omega_d B_2 = \\frac{1}{L} v_C(t_0^+)\n",
    "\\end{align}\n",
    "$$\n",
    "\n",
    "Solução do sistema em $B_1$ e $B_2$:\n",
    "\n",
    "$$\n",
    "\\begin{align}\n",
    "B_{1} &=i_L(t_0^+)-i_L(\\infty) \\\\\n",
    "B_{2} &=\\frac{\\frac{1}{L} v_C(t_0^+)+\\alpha\\left[i_L(t_0^+)-i_L(\\infty)\\right]}{\\omega_d}\n",
    "\\end{align}\n",
    "$$"
   ]
  },
  {
   "cell_type": "markdown",
   "metadata": {},
   "source": [
    "#### Caso criticamente amortecido ($\\alpha=\\omega_0\\Rightarrow \\text{raízes reais e idênticas } s_1=s_2=-\\alpha$):\n",
    "\n",
    "Solução geral da EDO:\n",
    "\n",
    "$$ \\begin{equation} i_L(t) =D_{1} e^{-\\alpha(t-t_0)}+D_{2}(t-t_0) e^{-\\alpha(t-t_0)}+i_L(\\infty) \\end{equation}$$\n",
    "\n",
    "Condições iniciais para $i_L(t)$:\n",
    "\n",
    "$$\n",
    "\\begin{align}\n",
    "i_L(t_0^+) &=D_1 + i_L(\\infty)\\\\\n",
    "\\frac{di_L(t_0^+)}{dt} &=-\\alpha D_1 + D_2 = \\frac{1}{L} v_C(t_0^+)\n",
    "\\end{align}\n",
    "$$\n",
    "\n",
    "Solução do sistema em $D_1$ e $D_2$:\n",
    "\n",
    "$$\n",
    "\\begin{align}\n",
    "D_{1} &=i_L(t_0^+)-i_L(\\infty) \\\\\n",
    "D_{2} &= \\frac{1}{L} v_C(t_0^+)+\\alpha\\left[i_L(t_0^+)-i_L(\\infty)\\right]\n",
    "\\end{align}\n",
    "$$"
   ]
  },
  {
   "cell_type": "markdown",
   "metadata": {},
   "source": [
    "### Problema 1\n",
    "\n",
    "Para o circuito a seguir, as chaves $ch1$ e $ch2$ estiveram abertas por um longo intervalo de tempo. \n",
    "\n",
    "<img src=\"./figures/J12C3.png\" width=\"700\">\n",
    "\n",
    "\n",
    "a. Considerando que apenas $ch1$ fecha em $t_0=0$s, determine a tensão sobre o capacitor $v_C(t)$ para $t\\geq 0^+$.\\\n",
    "b. Qual o máximo valor (absoluto) atingido pela tensão aplicada aos terminais do capacitor para $t\\geq 0^+$? Em que instante ele ocorre?\\\n",
    "c. Considerando que apenas $ch2$ fecha em $t_0=0$s, determine a tensão sobre o capacitor $v_C(t)$ para $t\\geq 0^+$.\n",
    "\n",
    "Link para a simulação do circuito: https://tinyurl.com/yf8pj57t"
   ]
  },
  {
   "cell_type": "code",
   "execution_count": 2,
   "metadata": {
    "ExecuteTime": {
     "end_time": "2022-03-03T20:02:32.744119Z",
     "start_time": "2022-03-03T20:02:29.943837Z"
    }
   },
   "outputs": [],
   "source": [
    "import numpy as np\n",
    "import sympy as sp\n",
    "from utils import round_expr, symdisp, symplot"
   ]
  },
  {
   "cell_type": "markdown",
   "metadata": {},
   "source": [
    "### Resolvendo o problema com o Python\n",
    "\n",
    "**Resolução item (a):**\n",
    "\n",
    "**Calcula $\\alpha$ e $\\omega_0$**"
   ]
  },
  {
   "cell_type": "code",
   "execution_count": 3,
   "metadata": {
    "ExecuteTime": {
     "end_time": "2022-03-03T20:02:32.759116Z",
     "start_time": "2022-03-03T20:02:32.746126Z"
    }
   },
   "outputs": [
    {
     "data": {
      "text/latex": [
       "$\\displaystyle α =609.76\\; rad/s$"
      ],
      "text/plain": [
       "<IPython.core.display.Math object>"
      ]
     },
     "metadata": {},
     "output_type": "display_data"
    },
    {
     "data": {
      "text/latex": [
       "$\\displaystyle ω_0 =577.35\\; rad/s$"
      ],
      "text/plain": [
       "<IPython.core.display.Math object>"
      ]
     },
     "metadata": {},
     "output_type": "display_data"
    }
   ],
   "source": [
    "# Parâmetros do circuito:\n",
    "R = 1.64\n",
    "L = 6e-3\n",
    "C = 0.5e-3\n",
    "\n",
    "# calculando α e ω0\n",
    "α  = 1/(2*R*C)       # Frequência de Neper do circuito RLC em paralelo\n",
    "ω0 = 1/np.sqrt(L*C)  # Frequência de ressonância do circuito RLC\n",
    "\n",
    "symdisp('α =', round(α, 2), ' rad/s')\n",
    "symdisp('ω_0 =', round(ω0, 2), ' rad/s')"
   ]
  },
  {
   "cell_type": "markdown",
   "metadata": {},
   "source": [
    "**Define os valores iniciais $v_c(t_0^+)$ e $i_L(t_0^+)$ e o valor final $i_L(\\infty)$ (obtidos da análise do circuito)**"
   ]
  },
  {
   "cell_type": "code",
   "execution_count": 4,
   "metadata": {
    "ExecuteTime": {
     "end_time": "2022-03-03T20:02:32.775106Z",
     "start_time": "2022-03-03T20:02:32.762115Z"
    }
   },
   "outputs": [],
   "source": [
    "# informações obtidas pela análise do circuito\n",
    "\n",
    "t0 = 0 # instante do chaveamento\n",
    "\n",
    "iL_inf = -4 # valor final da corrente no indutor\n",
    "iL_t0 = 2   # valor inicial da corrente no indutor\n",
    "vc_t0 = 0   # valor inicial da tensão no capcitor"
   ]
  },
  {
   "cell_type": "markdown",
   "metadata": {},
   "source": [
    "**Calcula as raízes da equação característica $s_1$ e $s_2$**"
   ]
  },
  {
   "cell_type": "code",
   "execution_count": 5,
   "metadata": {
    "ExecuteTime": {
     "end_time": "2022-03-03T20:02:33.214845Z",
     "start_time": "2022-03-03T20:02:32.777105Z"
    }
   },
   "outputs": [
    {
     "name": "stdout",
     "output_type": "stream",
     "text": [
      "Raízes da equação característica:\n"
     ]
    },
    {
     "data": {
      "text/latex": [
       "$\\displaystyle s_1 =-413.62\\; rad/s$"
      ],
      "text/plain": [
       "<IPython.core.display.Math object>"
      ]
     },
     "metadata": {},
     "output_type": "display_data"
    },
    {
     "data": {
      "text/latex": [
       "$\\displaystyle s_2 =-805.89\\; rad/s$"
      ],
      "text/plain": [
       "<IPython.core.display.Math object>"
      ]
     },
     "metadata": {},
     "output_type": "display_data"
    },
    {
     "name": "stdout",
     "output_type": "stream",
     "text": [
      "Forma geral da solução:\n"
     ]
    },
    {
     "data": {
      "text/latex": [
       "$\\displaystyle i_L(t) = A_{1} e^{- 413.62 t} + A_{2} e^{- 805.89 t} - 4\\;A$"
      ],
      "text/plain": [
       "<IPython.core.display.Math object>"
      ]
     },
     "metadata": {},
     "output_type": "display_data"
    }
   ],
   "source": [
    "# raízes da equação característica\n",
    "s1 = -α + np.sqrt(α**2-ω0**2)\n",
    "s2 = -α - np.sqrt(α**2-ω0**2)\n",
    "\n",
    "print('Raízes da equação característica:')\n",
    "symdisp('s_1 =', round(s1, 2), ' rad/s')\n",
    "symdisp('s_2 =', round(s2, 2), ' rad/s')\n",
    "\n",
    "# define variáveis da solução geral\n",
    "t, A1, A2 = sp.symbols('t, A1, A2')\n",
    "\n",
    "# expressão geral da resposta superamortecida\n",
    "iL = A1*sp.exp(s1*(t-t0)) + A2*sp.exp(s2*(t-t0)) + iL_inf\n",
    "\n",
    "print('Forma geral da solução:')\n",
    "symdisp('i_L(t) = ', round_expr(iL,2), 'A')"
   ]
  },
  {
   "cell_type": "markdown",
   "metadata": {},
   "source": [
    "**Resolve o sistema de equações para determinação das constantes $A_1$ e $A_2$**"
   ]
  },
  {
   "cell_type": "code",
   "execution_count": 6,
   "metadata": {
    "ExecuteTime": {
     "end_time": "2022-03-03T20:02:33.261818Z",
     "start_time": "2022-03-03T20:02:33.216846Z"
    }
   },
   "outputs": [
    {
     "name": "stdout",
     "output_type": "stream",
     "text": [
      "Sistema de equações:\n"
     ]
    },
    {
     "data": {
      "text/latex": [
       "$\\displaystyle (I): A_{1} + A_{2} - 4 = 2\\; $"
      ],
      "text/plain": [
       "<IPython.core.display.Math object>"
      ]
     },
     "metadata": {},
     "output_type": "display_data"
    },
    {
     "data": {
      "text/latex": [
       "$\\displaystyle (II): - 413.62 A_{1} - 805.89 A_{2} = 0.0\\; $"
      ],
      "text/plain": [
       "<IPython.core.display.Math object>"
      ]
     },
     "metadata": {},
     "output_type": "display_data"
    }
   ],
   "source": [
    "# define os sistema de equações com as condições iniciais\n",
    "eq1 = sp.Eq(   A1 +    A2 + iL_inf, iL_t0)             \n",
    "eq2 = sp.Eq(s1*A1 + s2*A2,        vc_t0/L)  \n",
    "\n",
    "print('Sistema de equações:')\n",
    "symdisp('(I): ', round_expr(eq1, 2),' ')\n",
    "symdisp('(II): ', round_expr(eq2, 2),' ')"
   ]
  },
  {
   "cell_type": "code",
   "execution_count": 7,
   "metadata": {
    "ExecuteTime": {
     "end_time": "2022-03-03T20:02:33.370751Z",
     "start_time": "2022-03-03T20:02:33.263817Z"
    }
   },
   "outputs": [
    {
     "name": "stdout",
     "output_type": "stream",
     "text": [
      "Solução do sistema:\n"
     ]
    },
    {
     "data": {
      "text/latex": [
       "$\\displaystyle A_1 =12.33\\; A$"
      ],
      "text/plain": [
       "<IPython.core.display.Math object>"
      ]
     },
     "metadata": {},
     "output_type": "display_data"
    },
    {
     "data": {
      "text/latex": [
       "$\\displaystyle A_2 =-6.33\\; A$"
      ],
      "text/plain": [
       "<IPython.core.display.Math object>"
      ]
     },
     "metadata": {},
     "output_type": "display_data"
    }
   ],
   "source": [
    "# resolve o sistema\n",
    "soluc = sp.solve((eq1, eq2), dict=True)\n",
    "A1 = np.array([sol[A1] for sol in soluc])\n",
    "A2 = np.array([sol[A2] for sol in soluc])\n",
    "\n",
    "A1 = A1[0]\n",
    "A2 = A2[0]\n",
    "\n",
    "print('Solução do sistema:')\n",
    "symdisp('A_1 =', round(A1, 2), ' A')\n",
    "symdisp('A_2 =', round(A2, 2), ' A')"
   ]
  },
  {
   "cell_type": "markdown",
   "metadata": {},
   "source": [
    "**Determina a expressão final para $i_L(t)$**"
   ]
  },
  {
   "cell_type": "code",
   "execution_count": 8,
   "metadata": {
    "ExecuteTime": {
     "end_time": "2022-03-03T20:02:33.401732Z",
     "start_time": "2022-03-03T20:02:33.372750Z"
    }
   },
   "outputs": [
    {
     "data": {
      "text/latex": [
       "$\\displaystyle i_L(t) = -4 - 6.33 e^{- 805.89 t} + 12.33 e^{- 413.62 t}\\;A$"
      ],
      "text/plain": [
       "<IPython.core.display.Math object>"
      ]
     },
     "metadata": {},
     "output_type": "display_data"
    }
   ],
   "source": [
    "# expressão geral da resposta subamortecida\n",
    "iL = A1*sp.exp(s1*(t-t0)) + A2*sp.exp(s2*(t-t0)) + iL_inf\n",
    "\n",
    "symdisp('i_L(t) = ', round_expr(iL,2), 'A')"
   ]
  },
  {
   "cell_type": "markdown",
   "metadata": {},
   "source": [
    "**Plota gráfico de $i_L(t)$**"
   ]
  },
  {
   "cell_type": "code",
   "execution_count": 9,
   "metadata": {
    "ExecuteTime": {
     "end_time": "2022-03-03T20:02:33.744076Z",
     "start_time": "2022-03-03T20:02:33.403731Z"
    }
   },
   "outputs": [
    {
     "data": {
      "image/png": "[encoded data removed]",
      "text/plain": [
       "<Figure size 432x288 with 1 Axes>"
      ]
     },
     "execution_count": 9,
     "metadata": {},
     "output_type": "execute_result"
    }
   ],
   "source": [
    "# plota gráfico da função\n",
    "intervalo = np.linspace(t0,t0+0.02,100)\n",
    "symplot(t,iL, intervalo, 'iL(t)')"
   ]
  },
  {
   "cell_type": "markdown",
   "metadata": {},
   "source": [
    "**Determina $v_C(t)$ a partir de $i_L(t)$**"
   ]
  },
  {
   "cell_type": "code",
   "execution_count": 10,
   "metadata": {
    "ExecuteTime": {
     "end_time": "2022-03-03T20:02:33.790049Z",
     "start_time": "2022-03-03T20:02:33.748072Z"
    }
   },
   "outputs": [
    {
     "data": {
      "text/latex": [
       "$\\displaystyle v_C(t) = 30.59 e^{- 805.89 t} - 30.59 e^{- 413.62 t}\\; V$"
      ],
      "text/plain": [
       "<IPython.core.display.Math object>"
      ]
     },
     "metadata": {},
     "output_type": "display_data"
    }
   ],
   "source": [
    "# tensão aplicada sobre o capacitor (= tensão sobre o indutor)\n",
    "vC = L*sp.diff(iL, t)\n",
    "\n",
    "symdisp('v_C(t) = ', round_expr(vC, 2), ' V')"
   ]
  },
  {
   "cell_type": "markdown",
   "metadata": {},
   "source": [
    "**Plota gráfico de $v_C(t)$**"
   ]
  },
  {
   "cell_type": "code",
   "execution_count": 11,
   "metadata": {
    "ExecuteTime": {
     "end_time": "2022-03-03T20:02:34.058883Z",
     "start_time": "2022-03-03T20:02:33.793045Z"
    }
   },
   "outputs": [
    {
     "data": {
      "image/png": "[encoded data removed]",
      "text/plain": [
       "<Figure size 432x288 with 1 Axes>"
      ]
     },
     "execution_count": 11,
     "metadata": {},
     "output_type": "execute_result"
    }
   ],
   "source": [
    "# plota gráfico da função\n",
    "intervalo = np.linspace(t0,t0+0.02,100)\n",
    "symplot(t, vC, intervalo, 'vC(t)')"
   ]
  },
  {
   "cell_type": "markdown",
   "metadata": {},
   "source": [
    "**Resolução item (b):**\n",
    "\n",
    "$$\\frac{dv_C}{dt} = 0$$"
   ]
  },
  {
   "cell_type": "code",
   "execution_count": 12,
   "metadata": {
    "ExecuteTime": {
     "end_time": "2022-03-03T20:02:34.137835Z",
     "start_time": "2022-03-03T20:02:34.061881Z"
    }
   },
   "outputs": [
    {
     "data": {
      "text/latex": [
       "$\\displaystyle - 24653.1 e^{- 805.89 t} + 12653.1 e^{- 413.62 t} = 0$"
      ],
      "text/plain": [
       "Eq(-24653.1*exp(-805.89*t) + 12653.1*exp(-413.62*t), 0)"
      ]
     },
     "execution_count": 12,
     "metadata": {},
     "output_type": "execute_result"
    }
   ],
   "source": [
    "# define a equação dvC/dt = 0\n",
    "eq1 = sp.Eq(sp.diff(vC, t),0)  \n",
    "\n",
    "round_expr(eq1, 2)"
   ]
  },
  {
   "cell_type": "code",
   "execution_count": 18,
   "metadata": {
    "ExecuteTime": {
     "end_time": "2022-03-03T20:05:30.551076Z",
     "start_time": "2022-03-03T20:05:30.496524Z"
    }
   },
   "outputs": [
    {
     "data": {
      "text/latex": [
       "$\\displaystyle t_s = 1.7\\;ms$"
      ],
      "text/plain": [
       "<IPython.core.display.Math object>"
      ]
     },
     "metadata": {},
     "output_type": "display_data"
    },
    {
     "data": {
      "text/latex": [
       "$\\displaystyle v_C(t_s) = -7.37\\;V$"
      ],
      "text/plain": [
       "<IPython.core.display.Math object>"
      ]
     },
     "metadata": {},
     "output_type": "display_data"
    }
   ],
   "source": [
    "# resolve a equação em t\n",
    "ts = sp.solveset(eq1, t).args[0]\n",
    "\n",
    "# calcula o valor de vC(t) para t = ts\n",
    "vC_ts = vC.evalf(subs={t:ts})\n",
    "\n",
    "symdisp('t_s = ', round(ts*1000,2), 'ms')\n",
    "symdisp('v_C(t_s) = ', round(vC_ts,2), 'V')"
   ]
  },
  {
   "cell_type": "markdown",
   "metadata": {},
   "source": [
    "**Resolução item (c):**"
   ]
  },
  {
   "cell_type": "code",
   "execution_count": 19,
   "metadata": {
    "ExecuteTime": {
     "end_time": "2022-03-03T20:05:43.057752Z",
     "start_time": "2022-03-03T20:05:43.036764Z"
    }
   },
   "outputs": [
    {
     "data": {
      "text/latex": [
       "$\\displaystyle α =166.67\\; rad/s$"
      ],
      "text/plain": [
       "<IPython.core.display.Math object>"
      ]
     },
     "metadata": {},
     "output_type": "display_data"
    },
    {
     "data": {
      "text/latex": [
       "$\\displaystyle ω_0 =577.35\\; rad/s$"
      ],
      "text/plain": [
       "<IPython.core.display.Math object>"
      ]
     },
     "metadata": {},
     "output_type": "display_data"
    }
   ],
   "source": [
    "# Parâmetros do circuito:\n",
    "R = 6\n",
    "L = 6e-3\n",
    "C = 0.5e-3\n",
    "\n",
    "# calculando α e ω0\n",
    "α  = 1/(2*R*C)       # Frequência de Neper do circuito RLC em paralelo\n",
    "ω0 = 1/np.sqrt(L*C)  # Frequência de ressonância do circuito RLC\n",
    "\n",
    "symdisp('α =', round(α, 2), ' rad/s')\n",
    "symdisp('ω_0 =', round(ω0, 2), ' rad/s')"
   ]
  },
  {
   "cell_type": "code",
   "execution_count": 20,
   "metadata": {
    "ExecuteTime": {
     "end_time": "2022-03-03T20:05:43.072742Z",
     "start_time": "2022-03-03T20:05:43.059751Z"
    }
   },
   "outputs": [],
   "source": [
    "# informações obtidas pela análise do circuito\n",
    "iL_inf = 0  # valor final da corrente no indutor\n",
    "iL_t0 = 2   # valor inicial da corrente no indutor\n",
    "vc_t0 = 0   # valor inicial da tensão no capcitor\n",
    "\n",
    "t0 = 0 # instante do chaveamento"
   ]
  },
  {
   "cell_type": "code",
   "execution_count": 29,
   "metadata": {
    "ExecuteTime": {
     "end_time": "2022-03-03T20:06:36.579847Z",
     "start_time": "2022-03-03T20:06:36.558861Z"
    }
   },
   "outputs": [
    {
     "name": "stdout",
     "output_type": "stream",
     "text": [
      "Frequência de oscilação amortercida:\n"
     ]
    },
    {
     "data": {
      "text/latex": [
       "$\\displaystyle ω_d =552.77\\; rad/s$"
      ],
      "text/plain": [
       "<IPython.core.display.Math object>"
      ]
     },
     "metadata": {},
     "output_type": "display_data"
    },
    {
     "name": "stdout",
     "output_type": "stream",
     "text": [
      "Forma geral da solução:\n"
     ]
    },
    {
     "data": {
      "text/latex": [
       "$\\displaystyle i_L(t) = \\left(B_{1} \\cos{\\left(552.77 t \\right)} + B_{2} \\sin{\\left(552.77 t \\right)}\\right) e^{- 166.67 t}\\; A$"
      ],
      "text/plain": [
       "<IPython.core.display.Math object>"
      ]
     },
     "metadata": {},
     "output_type": "display_data"
    }
   ],
   "source": [
    "# define a frequência de oscilação amortecida\n",
    "ωd = np.sqrt(ω0**2 - α**2)\n",
    "\n",
    "print('Frequência de oscilação amortercida:')\n",
    "symdisp('ω_d =', round(ωd, 2), ' rad/s')\n",
    "\n",
    "# define variáveis da solução geral\n",
    "t, B1, B2 = sp.symbols('t, B1, B2')\n",
    "\n",
    "# expressão geral da resposta subamortecida\n",
    "iL = sp.exp(-α*(t-t0))*(B1*sp.cos(ωd*(t-t0)) + B2*sp.sin(ωd*(t-t0))) + iL_inf\n",
    "\n",
    "print('Forma geral da solução:')\n",
    "symdisp('i_L(t) = ', round_expr(iL,2), ' A')"
   ]
  },
  {
   "cell_type": "code",
   "execution_count": 22,
   "metadata": {
    "ExecuteTime": {
     "end_time": "2022-03-03T20:05:43.149695Z",
     "start_time": "2022-03-03T20:05:43.122712Z"
    }
   },
   "outputs": [
    {
     "name": "stdout",
     "output_type": "stream",
     "text": [
      "Sistema de equações:\n"
     ]
    },
    {
     "data": {
      "text/latex": [
       "$\\displaystyle (I): B_{1} = 2\\; $"
      ],
      "text/plain": [
       "<IPython.core.display.Math object>"
      ]
     },
     "metadata": {},
     "output_type": "display_data"
    },
    {
     "data": {
      "text/latex": [
       "$\\displaystyle (II): - 166.67 B_{1} + 552.77 B_{2} = 0.0\\; $"
      ],
      "text/plain": [
       "<IPython.core.display.Math object>"
      ]
     },
     "metadata": {},
     "output_type": "display_data"
    }
   ],
   "source": [
    "# define os sistema de equações com as condições iniciais\n",
    "eq1 = sp.Eq(   B1 + iL_inf, iL_t0)             \n",
    "eq2 = sp.Eq(-α*B1 + ωd*B2,  vc_t0/L)  \n",
    "\n",
    "print('Sistema de equações:')\n",
    "symdisp('(I): ', round_expr(eq1, 2),' ')\n",
    "symdisp('(II): ', round_expr(eq2, 2),' ')"
   ]
  },
  {
   "cell_type": "code",
   "execution_count": 23,
   "metadata": {
    "ExecuteTime": {
     "end_time": "2022-03-03T20:05:43.213655Z",
     "start_time": "2022-03-03T20:05:43.151695Z"
    }
   },
   "outputs": [
    {
     "name": "stdout",
     "output_type": "stream",
     "text": [
      "Solução do sistema:\n"
     ]
    },
    {
     "data": {
      "text/latex": [
       "$\\displaystyle B_1 =2.0\\; A$"
      ],
      "text/plain": [
       "<IPython.core.display.Math object>"
      ]
     },
     "metadata": {},
     "output_type": "display_data"
    },
    {
     "data": {
      "text/latex": [
       "$\\displaystyle B_2 =0.6\\; A$"
      ],
      "text/plain": [
       "<IPython.core.display.Math object>"
      ]
     },
     "metadata": {},
     "output_type": "display_data"
    }
   ],
   "source": [
    "# resolve o sistema\n",
    "soluc = sp.solve((eq1, eq2), dict=True)\n",
    "B1 = np.array([sol[B1] for sol in soluc])\n",
    "B2 = np.array([sol[B2] for sol in soluc])\n",
    "\n",
    "B1 = B1[0]\n",
    "B2 = B2[0]\n",
    "\n",
    "print('Solução do sistema:')\n",
    "symdisp('B_1 =', round(B1, 2), ' A')\n",
    "symdisp('B_2 =', round(B2, 2), ' A')"
   ]
  },
  {
   "cell_type": "code",
   "execution_count": 24,
   "metadata": {
    "ExecuteTime": {
     "end_time": "2022-03-03T20:05:43.261626Z",
     "start_time": "2022-03-03T20:05:43.215655Z"
    }
   },
   "outputs": [
    {
     "data": {
      "text/latex": [
       "$\\displaystyle i_L(t) = \\left(0.6 \\sin{\\left(552.77 t \\right)} + 2.0 \\cos{\\left(552.77 t \\right)}\\right) e^{- 166.67 t}\\;A$"
      ],
      "text/plain": [
       "<IPython.core.display.Math object>"
      ]
     },
     "metadata": {},
     "output_type": "display_data"
    }
   ],
   "source": [
    "# expressão geral da resposta subamortecida\n",
    "iL = sp.exp(-α*(t-t0))*(B1*sp.cos(ωd*(t-t0))+B2*sp.sin(ωd*(t-t0))) + iL_inf\n",
    "\n",
    "symdisp('i_L(t) = ', round_expr(iL,2), 'A')"
   ]
  },
  {
   "cell_type": "code",
   "execution_count": 25,
   "metadata": {
    "ExecuteTime": {
     "end_time": "2022-03-03T20:05:43.480495Z",
     "start_time": "2022-03-03T20:05:43.264626Z"
    }
   },
   "outputs": [
    {
     "data": {
      "image/png": "[encoded data removed]",
      "text/plain": [
       "<Figure size 432x288 with 1 Axes>"
      ]
     },
     "execution_count": 25,
     "metadata": {},
     "output_type": "execute_result"
    }
   ],
   "source": [
    "# plota gráfico da função\n",
    "intervalo = np.linspace(t0,t0+0.05,100)\n",
    "symplot(t, iL, intervalo, 'iL(t)')"
   ]
  },
  {
   "cell_type": "code",
   "execution_count": 26,
   "metadata": {
    "ExecuteTime": {
     "end_time": "2022-03-03T20:05:43.859260Z",
     "start_time": "2022-03-03T20:05:43.482493Z"
    }
   },
   "outputs": [
    {
     "data": {
      "text/latex": [
       "$\\displaystyle v_C(t) = - 7.24 e^{- 166.67 t} \\sin{\\left(552.77 t \\right)}\\; V$"
      ],
      "text/plain": [
       "<IPython.core.display.Math object>"
      ]
     },
     "metadata": {},
     "output_type": "display_data"
    }
   ],
   "source": [
    "# tensão aplicada sobre o capacitor (= tensão sobre o indutor)\n",
    "vC = L*sp.diff(iL, t)\n",
    "vC = sp.simplify(vC)\n",
    "\n",
    "symdisp('v_C(t) = ', round_expr(vC, 2), ' V')"
   ]
  },
  {
   "cell_type": "code",
   "execution_count": 27,
   "metadata": {
    "ExecuteTime": {
     "end_time": "2022-03-03T20:05:44.107109Z",
     "start_time": "2022-03-03T20:05:43.861264Z"
    }
   },
   "outputs": [
    {
     "data": {
      "image/png": "[encoded data removed]",
      "text/plain": [
       "<Figure size 432x288 with 1 Axes>"
      ]
     },
     "execution_count": 27,
     "metadata": {},
     "output_type": "execute_result"
    }
   ],
   "source": [
    "# plota gráfico da função\n",
    "intervalo = np.linspace(t0,t0+0.05,100)\n",
    "symplot(t, vC, intervalo, 'vC(t)')\n",
    "symplot(t, [iL, vC], intervalo, ['iL(t)', 'vC(t)'])"
   ]
  },
  {
   "cell_type": "markdown",
   "metadata": {},
   "source": [
    "## Circuito RLC em série"
   ]
  },
  {
   "cell_type": "markdown",
   "metadata": {},
   "source": [
    "<img src=\"./figures/J12C1.png\" width=\"800\">\n",
    "\n",
    "### Aplicação das Leis de Kirchhoff \n",
    "\n",
    "$$\\begin{align}\n",
    "   v_R + v_L + v_C &= v_s\\\\\n",
    "   R i + L\\frac{d i}{dt}+v_C &= v_s\\nonumber\\\\\n",
    "   R\\left[C\\frac{dv_C}{dt}\\right] + L\\frac{d}{dt}\\left[C\\frac{dv_C}{dt} \\right] + v_C &= v_s\\nonumber\\\\\n",
    "    \\frac{d^{2} v_{\\mathrm{C}}}{d t^{2}}+\\frac{R}{L} \\frac{d v_{\\mathrm{C}}}{d t}+\\frac{1}{L C}   v_{\\mathrm{C}} &=\\frac{v_{\\mathrm{s}}}{LC}\n",
    "   \\end{align} \n",
    "$$\n",
    "\n",
    "com $ \\alpha = \\frac{R}{2L}$ e $\\omega_0 = \\frac{1}{\\sqrt{LC}}$, temos\n",
    "\n",
    "$$ \\begin{equation}\\label{EDO2} \\frac{d^{2} v_{\\mathrm{C}}}{d t^{2}}+2\\alpha \\frac{d v_{\\mathrm{C}}}{d t}+\\omega_0^2 v_{\\mathrm{C}}=v_{\\mathrm{s}}\\omega_0^2 \\end{equation} $$\n",
    "\n",
    "A equação \\ref{EDO2} é uma EDO de segunda ordem, linear e de coeficientes constantes.\n",
    "\n",
    "Equação característica:\n",
    "\n",
    "$$\\begin{equation} s^2+2\\alpha s + \\omega_0^2=0 \\end{equation}$$\n",
    "\n",
    "Raízes da equação característica:\n",
    "\n",
    "$$\n",
    "\\begin{align}\n",
    "s_1 &=-\\alpha +\\sqrt{\\alpha^2-\\omega_0^2}\\\\\n",
    "s_2 &=-\\alpha -\\sqrt{\\alpha^2-\\omega_0^2}\n",
    "\\end{align}\n",
    "$$"
   ]
  },
  {
   "cell_type": "markdown",
   "metadata": {},
   "source": [
    "### Resposta total \n",
    "\n",
    "A resposta transiente de circuitos RLC em série, seja ela natural ($v_C(\\infty)=0$) ou ao degrau ($v_C(\\infty)=v_s$), pode ser classificada nas três casos seguintes. Em todos os casos, assume-se que o transiente teve início no instante $t_0$ (instante do chaveamento).\n",
    "\n",
    "#### Caso superamortecido ($\\alpha>\\omega_0\\Rightarrow \\text{raízes reais e distintas}$):\n",
    "\n",
    "Solução geral da EDO:\n",
    "\n",
    "$$\\begin{equation} v_{\\mathrm{C}}(t) =A_{1} e^{s_{1} (t-t_0)}+A_{2} e^{s_{2} (t-t_0)}+v_{\\mathrm{C}}(\\infty) \\end{equation}$$\n",
    "\n",
    "Condições iniciais para $v_{\\mathrm{C}}(t)$:\n",
    "\n",
    "$$\n",
    "\\begin{align}\n",
    "v_{\\mathrm{C}}(t_0^+) &=A_1 + A_2 + v_{\\mathrm{C}}(\\infty)\\\\\n",
    "\\frac{dv_{\\mathrm{C}}(t_0^+)}{dt} &=s_1A_1 + s_2A_2 = \\frac{1}{C} i_{\\mathrm{L}}(t_0^+)\n",
    "\\end{align}\n",
    "$$\n",
    "\n",
    "Solução do sistema em $A_1$ e $A_2$:\n",
    "\n",
    "$$\n",
    "\\begin{align}\n",
    "A_{1} &=\\frac{\\frac{1}{C} i_{\\mathrm{L}}(t_0^+)-s_{2}\\left[v_{\\mathrm{C}}(t_0^+)-v_{\\mathrm{C}}(\\infty)\\right]}{s_{1}-s_{2}} \\\\\n",
    "A_{2} &=\\frac{-\\frac{1}{C} i_{\\mathrm{L}}(t_0^+)+s_{1}\\left[v_{\\mathrm{C}}(t_0^+)-v_{\\mathrm{C}}(\\infty)\\right]}{s_{1}-s_{2}}\n",
    "\\end{align}\n",
    "$$"
   ]
  },
  {
   "cell_type": "markdown",
   "metadata": {},
   "source": [
    "#### Caso subamortecido ($\\alpha<\\omega_0\\Rightarrow \\text{raízes complexas e conjugadas}$):\n",
    "\n",
    "Fazendo $\\omega_d = \\sqrt{\\omega_0^2-\\alpha^2}$ temos $s_1 = -\\alpha +j\\omega_d$ e $s_2 = -\\alpha -j\\omega_d$.\n",
    "\n",
    "Solução geral da EDO:\n",
    "\n",
    "$$\\begin{equation} v_{\\mathrm{C}}(t) = e^{-\\alpha(t-t_0)}\\left\\lbrace B_{1}\\cos[\\omega_d (t-t_0)] + B_{2}\\sin[\\omega_d (t-t_0)]  \\right\\rbrace + v_{\\mathrm{C}}(\\infty) \\end{equation}$$\n",
    "\n",
    "Condições iniciais para $v_{\\mathrm{C}}(t)$:\n",
    "\n",
    "$$\n",
    "\\begin{align}\n",
    "v_{\\mathrm{C}}(t_0^+) &=B_1 + v_{\\mathrm{C}}(\\infty)\\\\\n",
    "\\frac{dv_{\\mathrm{C}}(t_0^+)}{dt} &= -\\alpha B_1 +\\omega_d B_2 = \\frac{1}{C} i_{\\mathrm{L}}(t_0^+)\n",
    "\\end{align}\n",
    "$$\n",
    "\n",
    "Solução do sistema em $B_1$ e $B_2$:\n",
    "\n",
    "$$\n",
    "\\begin{align}\n",
    "B_{1} &=v_{\\mathrm{C}}(t_0^+)-v_{\\mathrm{C}}(\\infty) \\\\\n",
    "B_{2} &=\\frac{\\frac{1}{C} i_{\\mathrm{L}}(t_0^+)+\\alpha\\left[v_{\\mathrm{C}}(t_0^+)-v_{\\mathrm{C}}(\\infty)\\right]}{\\omega_d}\n",
    "\\end{align}\n",
    "$$"
   ]
  },
  {
   "cell_type": "markdown",
   "metadata": {},
   "source": [
    "#### Caso criticamente amortecido ($\\alpha=\\omega_0\\Rightarrow \\text{raízes reais e idênticas } s_1=s_2=-\\alpha$):\n",
    "\n",
    "Solução geral da EDO:\n",
    "\n",
    "$$ \\begin{equation} v_{\\mathrm{C}}(t) =D_{1} e^{-\\alpha(t-t_0)}+D_{2}(t-t_0) e^{-\\alpha(t-t_0)}+v_{\\mathrm{C}}(\\infty) \\end{equation}$$\n",
    "\n",
    "Condições iniciais para $v_{\\mathrm{C}}(t)$:\n",
    "\n",
    "$$\n",
    "\\begin{align}\n",
    "v_{\\mathrm{C}}(t_0^+) &=D_1 + v_{\\mathrm{C}}(\\infty)\\\\\n",
    "\\frac{dv_{\\mathrm{C}}(t_0^+)}{dt} &=-\\alpha D_1 + D_2 = \\frac{1}{C} i_{\\mathrm{L}}(t_0^+)\n",
    "\\end{align}\n",
    "$$\n",
    "\n",
    "Solução do sistema em $D_1$ e $D_2$:\n",
    "\n",
    "$$\n",
    "\\begin{align}\n",
    "D_{1} &=v_{\\mathrm{C}}(t_0^+)-v_{\\mathrm{C}}(\\infty) \\\\\n",
    "D_{2} &= \\frac{1}{C} i_{\\mathrm{L}}(t_0^+)+\\alpha\\left[v_{\\mathrm{C}}(t_0^+)-v_{\\mathrm{C}}(\\infty)\\right]\n",
    "\\end{align}\n",
    "$$"
   ]
  },
  {
   "cell_type": "markdown",
   "metadata": {},
   "source": [
    "### Problema 2\n",
    "\n",
    "No circuito da figura a seguir, a chave $ch1$ estive aberta por um longo intervalo de tempo antes de fechar, no instante $t_0=0$s.\n",
    "\n",
    "<img src=\"./figures/J12C4.png\" width=\"500\">\n",
    "\n",
    "a. Para qual valor de $R_x$ o circuito exibe uma resposta criticamente amortecida para $t\\geq 0^+$?\\\n",
    "b. Considerando que $R_x$ vale exatamente o valor calculado em (a), determine a tensão sobre o capacitor $v_C(t)$ para $t\\geq 0^+$.\\\n",
    "c. Considerando que $R_x$ vale um décimo do valor calculado em (a), determine a tensão sobre o capacitor $v_C(t)$ para $t\\geq 0^+$.\n",
    "\n",
    "Link para a simulação deste circuito: https://tinyurl.com/yjgkkzhu"
   ]
  },
  {
   "cell_type": "markdown",
   "metadata": {},
   "source": [
    "Resolução item (b):"
   ]
  },
  {
   "cell_type": "code",
   "execution_count": 28,
   "metadata": {
    "ExecuteTime": {
     "end_time": "2022-03-03T20:05:44.123099Z",
     "start_time": "2022-03-03T20:05:44.112107Z"
    }
   },
   "outputs": [
    {
     "ename": "SyntaxError",
     "evalue": "invalid syntax (Temp/ipykernel_2068/2367432746.py, line 2)",
     "output_type": "error",
     "traceback": [
      "\u001b[1;36m  File \u001b[1;32m\"C:\\Users\\edson\\AppData\\Local\\Temp/ipykernel_2068/2367432746.py\"\u001b[1;36m, line \u001b[1;32m2\u001b[0m\n\u001b[1;33m    R =\u001b[0m\n\u001b[1;37m        ^\u001b[0m\n\u001b[1;31mSyntaxError\u001b[0m\u001b[1;31m:\u001b[0m invalid syntax\n"
     ]
    }
   ],
   "source": [
    "# Parâmetros do circuito:\n",
    "R = \n",
    "L = \n",
    "C = \n",
    "\n",
    "# calculando α e ω0\n",
    "α  = R/(2*L)\n",
    "ω0 = 1/np.sqrt(L*C)\n",
    "\n",
    "symdisp('α =', round(α, 2), ' rad/s')\n",
    "symdisp('ω_0 =', round(ω0, 2), ' rad/s')"
   ]
  },
  {
   "cell_type": "code",
   "execution_count": null,
   "metadata": {
    "ExecuteTime": {
     "end_time": "2022-03-03T20:05:44.125097Z",
     "start_time": "2022-03-03T20:05:44.125097Z"
    }
   },
   "outputs": [],
   "source": [
    "# informações obtidas pela análise do circuito\n",
    "vC_inf =    # valor final da tensão sobre o capacitor\n",
    "iL_t0 =   # valor inicial da corrente no indutor\n",
    "vC_t0 =     # valor inicial da tensão sobre o capacitor\n",
    "\n",
    "t0 = 0 # instante do chaveamento"
   ]
  },
  {
   "cell_type": "code",
   "execution_count": null,
   "metadata": {
    "ExecuteTime": {
     "end_time": "2022-03-03T20:05:44.127098Z",
     "start_time": "2022-03-03T20:05:44.127098Z"
    }
   },
   "outputs": [],
   "source": [
    "# raízes da equação característica\n",
    "s1 = -α\n",
    "s2 = -α\n",
    "\n",
    "# define variáveis da solução geral\n",
    "t, D1, D2 = sp.symbols('t, D1, D2')\n",
    "\n",
    "# expressão geral da resposta \n",
    "vC = D1*sp.exp(s1*(t-t0)) + D2*(t-t0)*sp.exp(s2*(t-t0)) + vC_inf\n",
    "\n",
    "symdisp('v_C(t) = ', round_expr(vC, 2), ' V')"
   ]
  },
  {
   "cell_type": "code",
   "execution_count": null,
   "metadata": {
    "ExecuteTime": {
     "end_time": "2022-03-03T20:05:44.129095Z",
     "start_time": "2022-03-03T20:05:44.129095Z"
    }
   },
   "outputs": [],
   "source": [
    "# define os sistema de equações com as condições iniciais\n",
    "eq1 = sp.Eq()             \n",
    "eq2 = sp.Eq()  \n",
    "\n",
    "print('Sistema de equações:')\n",
    "symdisp('(I): ', round_expr(eq1, 2),' ')\n",
    "symdisp('(II): ', round_expr(eq2, 2),' ')"
   ]
  },
  {
   "cell_type": "code",
   "execution_count": null,
   "metadata": {
    "ExecuteTime": {
     "end_time": "2022-03-03T20:05:44.131094Z",
     "start_time": "2022-03-03T20:05:44.131094Z"
    }
   },
   "outputs": [],
   "source": [
    "# resolve o sistema\n",
    "soluc = sp.solve((eq1, eq2), dict=True)\n",
    "D1 = np.array([sol[D1] for sol in soluc])\n",
    "D2 = np.array([sol[D2] for sol in soluc])\n",
    "\n",
    "D1 = D1[0]\n",
    "D2 = D2[0]\n",
    "\n",
    "print('Solução do sistema:')\n",
    "symdisp('D_1 =', round(D1, 2), ' V')\n",
    "symdisp('D_2 =', round(D2, 2), ' V')"
   ]
  },
  {
   "cell_type": "code",
   "execution_count": null,
   "metadata": {
    "ExecuteTime": {
     "end_time": "2022-03-03T20:05:44.132093Z",
     "start_time": "2022-03-03T20:05:44.132093Z"
    }
   },
   "outputs": [],
   "source": [
    "# expressão geral da resposta \n",
    "vC = D1*sp.exp(s1*(t-t0)) + D2*(t-t0)*sp.exp(s2*(t-t0)) + vC_inf\n",
    "\n",
    "symdisp('v_C(t) = ', round_expr(vC, 2), ' V')"
   ]
  },
  {
   "cell_type": "code",
   "execution_count": null,
   "metadata": {
    "ExecuteTime": {
     "end_time": "2022-03-03T20:05:44.133092Z",
     "start_time": "2022-03-03T20:05:44.133092Z"
    }
   },
   "outputs": [],
   "source": [
    "# corrente passando pelo indutor\n",
    "iL = C*sp.diff(vC, t)\n",
    "\n",
    "symdisp('i_L(t) = ', round_expr(iL,2), 'A')"
   ]
  },
  {
   "cell_type": "code",
   "execution_count": null,
   "metadata": {
    "ExecuteTime": {
     "end_time": "2022-03-03T20:05:44.135092Z",
     "start_time": "2022-03-03T20:05:44.135092Z"
    }
   },
   "outputs": [],
   "source": [
    "# plota gráfico da função\n",
    "intervalo = np.linspace(t0,t0+0.05,100)\n",
    "symplot(t, vC, intervalo, 'vC(t)')"
   ]
  },
  {
   "cell_type": "code",
   "execution_count": null,
   "metadata": {
    "ExecuteTime": {
     "end_time": "2022-03-03T20:05:44.136091Z",
     "start_time": "2022-03-03T20:05:44.136091Z"
    }
   },
   "outputs": [],
   "source": [
    "# plota gráfico da função\n",
    "intervalo = np.linspace(t0,t0+0.05,100)\n",
    "symplot(t, iL, intervalo, 'iL(t)')"
   ]
  },
  {
   "cell_type": "markdown",
   "metadata": {},
   "source": [
    "Resolução item (c):"
   ]
  },
  {
   "cell_type": "code",
   "execution_count": null,
   "metadata": {
    "ExecuteTime": {
     "end_time": "2022-03-03T20:05:44.138090Z",
     "start_time": "2022-03-03T20:05:44.138090Z"
    }
   },
   "outputs": [],
   "source": [
    "# Parâmetros do circuito:\n",
    "R = 65.02\n",
    "L = 1\n",
    "C = 100e-6\n",
    "\n",
    "# calculando α e ω0\n",
    "α  = R/(2*L)\n",
    "ω0 = 1/np.sqrt(L*C)\n",
    "\n",
    "symdisp('α =', round(α, 2), ' rad/s')\n",
    "symdisp('ω_0 =', round(ω0, 2), ' rad/s')"
   ]
  },
  {
   "cell_type": "code",
   "execution_count": null,
   "metadata": {
    "ExecuteTime": {
     "end_time": "2022-03-03T20:05:44.140089Z",
     "start_time": "2022-03-03T20:05:44.140089Z"
    }
   },
   "outputs": [],
   "source": [
    "# informações obtidas pela análise do circuito\n",
    "vC_inf = 75.84   # valor final da tensão sobre o capacitor\n",
    "iL_t0 = 0        #  valor inicial da corrente no indutor\n",
    "vC_t0 = 21.3     # valor inicial da tensão sobre o capacitor\n",
    "\n",
    "t0 = 0 # instante do chaveamento"
   ]
  },
  {
   "cell_type": "code",
   "execution_count": null,
   "metadata": {
    "ExecuteTime": {
     "end_time": "2022-03-03T20:05:44.143087Z",
     "start_time": "2022-03-03T20:05:44.143087Z"
    }
   },
   "outputs": [],
   "source": [
    "# define a frequência de oscilação amortecida\n",
    "ωd =np.sqrt(ω0**2-α**2)\n",
    "\n",
    "symdisp('ω_d =', round(ωd, 2), ' rad/s')\n",
    "\n",
    "# define variáveis da solução geral\n",
    "t, B1, B2 = sp.symbols('t, B1, B2')\n",
    "\n",
    "# expressão geral da resposta subamortecida\n",
    "vC = sp.exp(-α*(t-t0))*(B1*sp.cos(ωd*(t-t0)) + B2*sp.sin(ωd*(t-t0))) + vC_inf\n",
    "\n",
    "symdisp('v_C(t) = ', round_expr(vC, 2), ' V')"
   ]
  },
  {
   "cell_type": "code",
   "execution_count": null,
   "metadata": {
    "ExecuteTime": {
     "end_time": "2022-03-03T20:05:44.146085Z",
     "start_time": "2022-03-03T20:05:44.146085Z"
    }
   },
   "outputs": [],
   "source": [
    "# define os sistema de equações com as condições iniciais\n",
    "eq1 = sp.Eq(   B1 + vC_inf, vC_t0)             \n",
    "eq2 = sp.Eq(-α*B1 + ωd*B2,  iL_t0/C)  \n",
    "\n",
    "print('Sistema de equações:')\n",
    "symdisp('(I): ', round_expr(eq1, 2),' ')\n",
    "symdisp('(II): ', round_expr(eq2, 2),' ')"
   ]
  },
  {
   "cell_type": "code",
   "execution_count": null,
   "metadata": {
    "ExecuteTime": {
     "end_time": "2022-03-03T20:05:44.149083Z",
     "start_time": "2022-03-03T20:05:44.149083Z"
    }
   },
   "outputs": [],
   "source": [
    "# resolve o sistema\n",
    "soluc = sp.solve((eq1, eq2), dict=True)\n",
    "B1 = np.array([sol[B1] for sol in soluc])\n",
    "B2 = np.array([sol[B2] for sol in soluc])\n",
    "\n",
    "B1 = B1[0]\n",
    "B2 = B2[0]\n",
    "\n",
    "print('Solução do sistema:')\n",
    "symdisp('B_1 =', round(B1, 2), ' V')\n",
    "symdisp('B_2 =', round(B2, 2), ' V')"
   ]
  },
  {
   "cell_type": "code",
   "execution_count": null,
   "metadata": {
    "ExecuteTime": {
     "end_time": "2022-03-03T20:05:44.151082Z",
     "start_time": "2022-03-03T20:05:44.151082Z"
    }
   },
   "outputs": [],
   "source": [
    "# expressão geral da resposta subamortecida\n",
    "vC = sp.exp(-α*(t-t0))*(B1*sp.cos(ωd*(t-t0)) + B2*sp.sin(ωd*(t-t0))) + vC_inf\n",
    "\n",
    "symdisp('v_C(t) = ', round_expr(vC, 2), ' V')"
   ]
  },
  {
   "cell_type": "code",
   "execution_count": null,
   "metadata": {
    "ExecuteTime": {
     "end_time": "2022-03-03T20:05:44.154081Z",
     "start_time": "2022-03-03T20:05:44.154081Z"
    }
   },
   "outputs": [],
   "source": [
    "# corrente passando pelo indutor\n",
    "iL = C*sp.diff(vC, t)\n",
    "\n",
    "symdisp('i_L(t) = ', round_expr(iL.simplify(),5), 'A')"
   ]
  },
  {
   "cell_type": "code",
   "execution_count": null,
   "metadata": {
    "ExecuteTime": {
     "end_time": "2022-03-03T20:05:44.157079Z",
     "start_time": "2022-03-03T20:05:44.157079Z"
    }
   },
   "outputs": [],
   "source": [
    "# plota gráfico da função\n",
    "intervalo = np.linspace(t0,t0+0.25,100)\n",
    "symplot(t, vC, intervalo, 'vC(t)')"
   ]
  },
  {
   "cell_type": "code",
   "execution_count": null,
   "metadata": {
    "ExecuteTime": {
     "end_time": "2022-03-03T20:05:44.159078Z",
     "start_time": "2022-03-03T20:05:44.159078Z"
    }
   },
   "outputs": [],
   "source": [
    "# plota gráfico da função\n",
    "intervalo = np.linspace(t0,t0+0.25,100)\n",
    "symplot(t, iL, intervalo, 'iL(t)')"
   ]
  }
 ],
 "metadata": {
  "jupytext": {
   "encoding": "# -*- coding: utf-8 -*-",
   "formats": "ipynb,py:light"
  },
  "kernelspec": {
   "display_name": "Python 3 (ipykernel)",
   "language": "python",
   "name": "python3"
  },
  "language_info": {
   "codemirror_mode": {
    "name": "ipython",
    "version": 3
   },
   "file_extension": ".py",
   "mimetype": "text/x-python",
   "name": "python",
   "nbconvert_exporter": "python",
   "pygments_lexer": "ipython3",
   "version": "3.9.7"
  },
  "toc": {
   "base_numbering": 1,
   "nav_menu": {},
   "number_sections": true,
   "sideBar": true,
   "skip_h1_title": true,
   "title_cell": "Table of Contents",
   "title_sidebar": "Contents",
   "toc_cell": true,
   "toc_position": {
    "height": "calc(100% - 180px)",
    "left": "10px",
    "top": "150px",
    "width": "200.475px"
   },
   "toc_section_display": true,
   "toc_window_display": true
  },
  "varInspector": {
   "cols": {
    "lenName": 16,
    "lenType": 16,
    "lenVar": 40
   },
   "kernels_config": {
    "python": {
     "delete_cmd_postfix": "",
     "delete_cmd_prefix": "del ",
     "library": "var_list.py",
     "varRefreshCmd": "print(var_dic_list())"
    },
    "r": {
     "delete_cmd_postfix": ") ",
     "delete_cmd_prefix": "rm(",
     "library": "var_list.r",
     "varRefreshCmd": "cat(var_dic_list()) "
    }
   },
   "types_to_exclude": [
    "module",
    "function",
    "builtin_function_or_method",
    "instance",
    "_Feature"
   ],
   "window_display": false
  }
 },
 "nbformat": 4,
 "nbformat_minor": 2
}
