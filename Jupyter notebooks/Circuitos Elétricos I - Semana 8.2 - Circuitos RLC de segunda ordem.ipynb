{
 "cells": [
  {
   "cell_type": "markdown",
   "metadata": {
    "colab_type": "text",
    "id": "view-in-github"
   },
   "source": [
    "<a href=\"https://colab.research.google.com/github/edsonportosilva/ElectricCircuits/blob/master/Jupyter%20notebooks/Circuitos%20El%C3%A9tricos%20I%20-%20Semana%208.2%20-%20Circuitos%20RLC%20de%20segunda%20ordem.ipynb\" target=\"_parent\"><img src=\"https://colab.research.google.com/assets/colab-badge.svg\" alt=\"Open In Colab\"/></a>"
   ]
  },
  {
   "cell_type": "code",
   "execution_count": null,
   "metadata": {
    "ExecuteTime": {
     "end_time": "2022-11-25T10:59:09.874765Z",
     "start_time": "2022-11-25T10:59:09.846782Z"
    },
    "id": "q2oERC9xSgCt",
    "outputId": "e4fa07da-12ec-4151-ccee-732e9387e59b"
   },
   "outputs": [],
   "source": [
    "from IPython.core.display import HTML\n",
    "from IPython.display import Image\n",
    "HTML(\"\"\"\n",
    "<style>\n",
    ".output_png {\n",
    "    display: table-cell;\n",
    "    text-align: center;\n",
    "    vertical-align: middle;\n",
    "}\n",
    "</style>\n",
    "\"\"\")\n",
    "\n",
    "if 'google.colab' in str(get_ipython()):    \n",
    "    ! git clone -b master https://github.com/edsonportosilva/ElectricCircuits\n",
    "    from os import chdir as cd\n",
    "    cd('/content/ElectricCircuits/')\n",
    "    ! pip install -e ."
   ]
  },
  {
   "cell_type": "markdown",
   "metadata": {
    "id": "zdja3GqYSgCw"
   },
   "source": [
    "# *Circuitos Elétricos I - Semana 8*\n",
    "\n",
    "# Circuitos de segunda ordem"
   ]
  },
  {
   "cell_type": "markdown",
   "metadata": {
    "id": "O85zBEOVSgCx"
   },
   "source": [
    "## Circuito RLC em paralelo\n",
    "\n",
    "<img src=\"./figures/J12C2.png?raw=1\" width=\"800\">\n",
    "\n",
    "Simulação: https://tinyurl.com/ycnkjnot\n",
    "\n",
    "### Aplicação das Leis de Kirchhoff \n",
    "\n",
    "$$\\begin{align}\n",
    "   i_R + i_L + i_C &= i_s\\\\\n",
    "   \\frac{v}{R} + i_L + C\\frac{d v}{d t} &= i_s\\nonumber\\\\\n",
    "    \\frac{1}{R}\\left[L\\frac{d i_L}{d t}\\right] + i_L + C \\frac{d}{d t}\\left[L\\frac{d i_L}{d t}\\right]  &= i_s\\nonumber\\\\\n",
    "    \\frac{d^{2} i_L}{d t^{2}}+\\frac{1}{RC} \\frac{d i_L}{d t}+\\frac{1}{L C} i_L &=\\frac{i_s}{LC}\n",
    "   \\end{align}\n",
    "$$\n",
    "\n",
    "com $\\alpha = \\frac{1}{2RC}$ e $\\omega_0 = \\frac{1}{\\sqrt{LC}}$, temos\n",
    "\n",
    "$$ \n",
    "\\begin{equation}\\label{EDO1} \n",
    "\\frac{d^{2} i_L}{d t^{2}}+2\\alpha \\frac{d i_L}{d t}+\\omega_0^2 i_L=i_{\\mathrm{s}}\\omega_0^2 \n",
    "\\end{equation} \n",
    "$$\n",
    "\n",
    "A equação \\ref{EDO1} é uma EDO de segunda ordem, linear e de coeficientes constantes.\n",
    "\n",
    "Equação característica:\n",
    "\n",
    "$$\\begin{equation} s^2+2\\alpha s + \\omega_0^2=0 \\end{equation} $$\n",
    "\n",
    "Raízes da equação característica:\n",
    "\n",
    "$$\n",
    "\\begin{align}\n",
    "s_1 &=-\\alpha +\\sqrt{\\alpha^2-\\omega_0^2}\\\\\n",
    "s_2 &=-\\alpha -\\sqrt{\\alpha^2-\\omega_0^2}\n",
    "\\end{align}\n",
    "$$"
   ]
  },
  {
   "cell_type": "markdown",
   "metadata": {
    "id": "X5_oXX0jSgCy"
   },
   "source": [
    "### Resposta total \n",
    "\n",
    "A resposta transiente de circuitos RLC em paralelo, seja ela natural ($i_L(\\infty)=0$) ou ao degrau ($i_L(\\infty)=i_s$), pode ser classificada nas três casos seguintes. Em todos os casos, assume-se que o transiente teve início no instante $t_0$ (instante do chaveamento).\n",
    "\n",
    "#### Caso superamortecido ($\\alpha>\\omega_0\\Rightarrow \\text{raízes reais e distintas}$):\n",
    "\n",
    "Solução geral da EDO:\n",
    "\n",
    "$$ \\begin{equation} i_L(t) =A_{1} e^{s_{1} (t-t_0)}+A_{2} e^{s_{2} (t-t_0)}+i_L(\\infty) \\end{equation}$$\n",
    "\n",
    "Condições iniciais para $i_L(t)$:\n",
    "\n",
    "$$\n",
    "\\begin{align}\n",
    "i_L(t_0^+) &=A_1 + A_2 + i_L(\\infty)\\\\\n",
    "\\frac{di_L(t_0^+)}{dt} &=s_1A_1 + s_2A_2 = \\frac{1}{L} v_C(t_0^+)\n",
    "\\end{align}\n",
    "$$\n",
    "\n",
    "Solução do sistema em $A_1$ e $A_2$:\n",
    "\n",
    "$$\n",
    "\\begin{align}\n",
    "A_{1} &=\\frac{\\frac{1}{L} v_C(t_0^+)-s_{2}\\left[i_L(t_0^+)-i_L(\\infty)\\right]}{s_{1}-s_{2}} \\\\\n",
    "A_{2} &=\\frac{-\\frac{1}{L} v_C(t_0^+)+s_{1}\\left[i_L(t_0^+)-i_L(\\infty)\\right]}{s_{1}-s_{2}}\n",
    "\\end{align}\n",
    "$$"
   ]
  },
  {
   "cell_type": "markdown",
   "metadata": {
    "id": "Yjh1u6YdSgCy"
   },
   "source": [
    "#### Caso subamortecido ($ \\alpha<\\omega_0\\Rightarrow\\text{raízes complexas e conjugadas} $):\n",
    "\n",
    "Fazendo $\\omega_d = \\sqrt{\\omega_0^2-\\alpha^2}$ temos $s_1 = -\\alpha +j\\omega_d$ e $s_2 = -\\alpha -j\\omega_d$.\n",
    "\n",
    "Solução geral da EDO:\n",
    "\n",
    "$$\\begin{equation} i_L(t) = e^{-\\alpha(t-t_0)}\\left\\lbrace B_{1}\\cos[\\omega_d (t-t_0)] + B_{2}\\sin[\\omega_d (t-t_0)]  \\right\\rbrace + i_L(\\infty) \\end{equation}$$\n",
    "\n",
    "Condições iniciais para $i_L(t)$:\n",
    "\n",
    "$$\n",
    "\\begin{align}\n",
    "i_L(t_0^+) &=B_1 + i_L(\\infty)\\\\\n",
    "\\frac{di_L(t_0^+)}{dt} &= -\\alpha B_1 +\\omega_d B_2 = \\frac{1}{L} v_C(t_0^+)\n",
    "\\end{align}\n",
    "$$\n",
    "\n",
    "Solução do sistema em $B_1$ e $B_2$:\n",
    "\n",
    "$$\n",
    "\\begin{align}\n",
    "B_{1} &=i_L(t_0^+)-i_L(\\infty) \\\\\n",
    "B_{2} &=\\frac{\\frac{1}{L} v_C(t_0^+)+\\alpha\\left[i_L(t_0^+)-i_L(\\infty)\\right]}{\\omega_d}\n",
    "\\end{align}\n",
    "$$"
   ]
  },
  {
   "cell_type": "markdown",
   "metadata": {
    "id": "HfzAsEQMSgCz"
   },
   "source": [
    "#### Caso criticamente amortecido ($\\alpha=\\omega_0\\Rightarrow \\text{raízes reais e idênticas } s_1=s_2=-\\alpha$):\n",
    "\n",
    "Solução geral da EDO:\n",
    "\n",
    "$$ \\begin{equation} i_L(t) =D_{1} e^{-\\alpha(t-t_0)}+D_{2}(t-t_0) e^{-\\alpha(t-t_0)}+i_L(\\infty) \\end{equation}$$\n",
    "\n",
    "Condições iniciais para $i_L(t)$:\n",
    "\n",
    "$$\n",
    "\\begin{align}\n",
    "i_L(t_0^+) &=D_1 + i_L(\\infty)\\\\\n",
    "\\frac{di_L(t_0^+)}{dt} &=-\\alpha D_1 + D_2 = \\frac{1}{L} v_C(t_0^+)\n",
    "\\end{align}\n",
    "$$\n",
    "\n",
    "Solução do sistema em $D_1$ e $D_2$:\n",
    "\n",
    "$$\n",
    "\\begin{align}\n",
    "D_{1} &=i_L(t_0^+)-i_L(\\infty) \\\\\n",
    "D_{2} &= \\frac{1}{L} v_C(t_0^+)+\\alpha\\left[i_L(t_0^+)-i_L(\\infty)\\right]\n",
    "\\end{align}\n",
    "$$"
   ]
  },
  {
   "cell_type": "markdown",
   "metadata": {
    "id": "hLRcb9zCSgCz"
   },
   "source": [
    "### Problema 1\n",
    "\n",
    "Para o circuito a seguir, as chaves $ch1$ e $ch2$ estiveram abertas por um longo intervalo de tempo. \n",
    "\n",
    "<img src=\"./figures/J12C3.png?raw=1\" width=\"700\">\n",
    "\n",
    "\n",
    "a. Considerando que apenas $ch1$ fecha em $t_0=0$s, determine a tensão sobre o capacitor $v_C(t)$ para $t\\geq 0^+$.\\\n",
    "b. Qual o máximo valor (absoluto) atingido pela tensão aplicada aos terminais do capacitor para $t\\geq 0^+$? Em que instante ele ocorre?\\\n",
    "c. Considerando que apenas $ch2$ fecha em $t_0=0$s, determine a tensão sobre o capacitor $v_C(t)$ para $t\\geq 0^+$.\n",
    "\n",
    "Link para a simulação do circuito: https://tinyurl.com/yf8pj57t"
   ]
  },
  {
   "cell_type": "code",
   "execution_count": null,
   "metadata": {
    "ExecuteTime": {
     "end_time": "2022-11-25T10:59:12.786244Z",
     "start_time": "2022-11-25T10:59:09.876762Z"
    },
    "id": "uxLDMS0ySgC0"
   },
   "outputs": [],
   "source": [
    "import numpy as np\n",
    "import sympy as sp\n",
    "from circuit.utils import round_expr, symdisp, symplot"
   ]
  },
  {
   "cell_type": "markdown",
   "metadata": {
    "id": "TS7Si0UGSgC0"
   },
   "source": [
    "### Resolvendo o problema com o Python\n",
    "\n",
    "**Resolução item (a):**\n",
    "\n",
    "**Calcula $\\alpha$ e $\\omega_0$**"
   ]
  },
  {
   "cell_type": "code",
   "execution_count": null,
   "metadata": {
    "ExecuteTime": {
     "end_time": "2022-11-25T10:59:12.817227Z",
     "start_time": "2022-11-25T10:59:12.788244Z"
    },
    "id": "o7B8socsSgC1",
    "outputId": "d9096e9a-e27a-4a47-e97c-655fdc265254"
   },
   "outputs": [],
   "source": [
    "# Parâmetros do circuito:\n",
    "R = 1.64\n",
    "L = 6e-3\n",
    "C = 0.5e-3\n",
    "\n",
    "# calculando α e ω0\n",
    "α  = 1/(2*R*C)       # Frequência de Neper do circuito RLC em paralelo\n",
    "ω0 = 1/np.sqrt(L*C)  # Frequência de ressonância do circuito RLC\n",
    "\n",
    "symdisp('α =', round(α, 2), ' rad/s')\n",
    "symdisp('ω_0 =', round(ω0, 2), ' rad/s')"
   ]
  },
  {
   "cell_type": "markdown",
   "metadata": {
    "id": "SbyFfLvYSgC1"
   },
   "source": [
    "**Define os valores iniciais $v_c(t_0^+)$ e $i_L(t_0^+)$ e o valor final $i_L(\\infty)$ (obtidos da análise do circuito)**"
   ]
  },
  {
   "cell_type": "code",
   "execution_count": null,
   "metadata": {
    "ExecuteTime": {
     "end_time": "2022-11-25T10:59:12.833217Z",
     "start_time": "2022-11-25T10:59:12.821225Z"
    },
    "id": "4FikqyGVSgC1"
   },
   "outputs": [],
   "source": [
    "# informações obtidas pela análise do circuito\n",
    "\n",
    "t0 = 0 # instante do chaveamento\n",
    "\n",
    "iL_inf = -4 # valor final da corrente no indutor\n",
    "iL_t0 = 2   # valor inicial da corrente no indutor\n",
    "vc_t0 = 0   # valor inicial da tensão no capcitor"
   ]
  },
  {
   "cell_type": "markdown",
   "metadata": {
    "id": "9ChJkHc5SgC2"
   },
   "source": [
    "**Calcula as raízes da equação característica $s_1$ e $s_2$**"
   ]
  },
  {
   "cell_type": "code",
   "execution_count": null,
   "metadata": {
    "ExecuteTime": {
     "end_time": "2022-11-25T10:59:13.272963Z",
     "start_time": "2022-11-25T10:59:12.836215Z"
    },
    "id": "d025MREqSgC2",
    "outputId": "330a88a9-f47c-47de-f701-abc6766a4947"
   },
   "outputs": [],
   "source": [
    "# raízes da equação característica\n",
    "s1 = -α + np.sqrt(α**2-ω0**2)\n",
    "s2 = -α - np.sqrt(α**2-ω0**2)\n",
    "\n",
    "print('Raízes da equação característica:')\n",
    "symdisp('s_1 =', round(s1, 2), ' rad/s')\n",
    "symdisp('s_2 =', round(s2, 2), ' rad/s')\n",
    "\n",
    "# define variáveis da solução geral\n",
    "t, A1, A2 = sp.symbols('t, A1, A2')\n",
    "\n",
    "# expressão geral da resposta superamortecida\n",
    "iL = A1*sp.exp(s1*(t-t0)) + A2*sp.exp(s2*(t-t0)) + iL_inf\n",
    "\n",
    "print('Forma geral da solução:')\n",
    "symdisp('i_L(t) = ', round_expr(iL,2), 'A')"
   ]
  },
  {
   "cell_type": "markdown",
   "metadata": {
    "id": "61MPzEsKSgC2"
   },
   "source": [
    "**Resolve o sistema de equações para determinação das constantes $A_1$ e $A_2$**"
   ]
  },
  {
   "cell_type": "code",
   "execution_count": null,
   "metadata": {
    "ExecuteTime": {
     "end_time": "2022-11-25T10:59:13.318934Z",
     "start_time": "2022-11-25T10:59:13.274962Z"
    },
    "id": "NhfPuDUeSgC3",
    "outputId": "2f2d2958-41d2-47eb-c60a-91c75dc58149"
   },
   "outputs": [],
   "source": [
    "# define os sistema de equações com as condições iniciais\n",
    "eq1 = sp.Eq(   A1 +    A2 + iL_inf, iL_t0)             \n",
    "eq2 = sp.Eq(s1*A1 + s2*A2,        vc_t0/L)  \n",
    "\n",
    "print('Sistema de equações:')\n",
    "symdisp('(I): ', round_expr(eq1, 2),' ')\n",
    "symdisp('(II): ', round_expr(eq2, 2),' ')"
   ]
  },
  {
   "cell_type": "code",
   "execution_count": null,
   "metadata": {
    "ExecuteTime": {
     "end_time": "2022-11-25T10:59:13.430864Z",
     "start_time": "2022-11-25T10:59:13.321933Z"
    },
    "id": "obvKRyd2SgC3",
    "outputId": "bc70d843-1c22-43e3-bda3-871e6451335d"
   },
   "outputs": [],
   "source": [
    "# resolve o sistema\n",
    "soluc = sp.solve((eq1, eq2), dict=True)\n",
    "A1 = np.array([sol[A1] for sol in soluc])\n",
    "A2 = np.array([sol[A2] for sol in soluc])\n",
    "\n",
    "A1 = A1[0]\n",
    "A2 = A2[0]\n",
    "\n",
    "print('Solução do sistema:')\n",
    "symdisp('A_1 =', round(A1, 2), ' A')\n",
    "symdisp('A_2 =', round(A2, 2), ' A')"
   ]
  },
  {
   "cell_type": "markdown",
   "metadata": {
    "id": "GarNXHCQSgC3"
   },
   "source": [
    "**Determina a expressão final para $i_L(t)$**"
   ]
  },
  {
   "cell_type": "code",
   "execution_count": null,
   "metadata": {
    "ExecuteTime": {
     "end_time": "2022-11-25T10:59:13.461845Z",
     "start_time": "2022-11-25T10:59:13.432863Z"
    },
    "id": "p9TqqUWUSgC3",
    "outputId": "bcc03d15-9f9b-443f-fec3-e2ab97ee2ea5"
   },
   "outputs": [],
   "source": [
    "# expressão geral da resposta subamortecida\n",
    "iL = A1*sp.exp(s1*(t-t0)) + A2*sp.exp(s2*(t-t0)) + iL_inf\n",
    "\n",
    "symdisp('i_L(t) = ', round_expr(iL,2), 'A')"
   ]
  },
  {
   "cell_type": "markdown",
   "metadata": {
    "id": "rdoc4f9nSgC4"
   },
   "source": [
    "**Plota gráfico de $i_L(t)$**"
   ]
  },
  {
   "cell_type": "code",
   "execution_count": null,
   "metadata": {
    "ExecuteTime": {
     "end_time": "2022-11-25T10:59:13.838236Z",
     "start_time": "2022-11-25T10:59:13.463844Z"
    },
    "id": "V0t-pc4CSgC4",
    "outputId": "a401c41a-b180-49eb-fcd6-1a0292a7f48c"
   },
   "outputs": [],
   "source": [
    "# plota gráfico da função\n",
    "intervalo = np.linspace(t0,t0+0.02,100)\n",
    "symplot(t,iL, intervalo, 'iL(t)')"
   ]
  },
  {
   "cell_type": "markdown",
   "metadata": {
    "id": "uQaYfe1dSgC4"
   },
   "source": [
    "**Determina $v_C(t)$ a partir de $i_L(t)$**"
   ]
  },
  {
   "cell_type": "code",
   "execution_count": null,
   "metadata": {
    "ExecuteTime": {
     "end_time": "2022-11-25T10:59:13.885209Z",
     "start_time": "2022-11-25T10:59:13.842233Z"
    },
    "id": "nfJX_EUeSgC4",
    "outputId": "4a51dc90-a952-4272-9631-006ac18856b6"
   },
   "outputs": [],
   "source": [
    "# tensão aplicada sobre o capacitor (= tensão sobre o indutor)\n",
    "vC = L*sp.diff(iL, t)\n",
    "\n",
    "symdisp('v_C(t) = ', round_expr(vC, 2), ' V')"
   ]
  },
  {
   "cell_type": "markdown",
   "metadata": {
    "id": "va80jJURSgC4"
   },
   "source": [
    "**Plota gráfico de $v_C(t)$**"
   ]
  },
  {
   "cell_type": "code",
   "execution_count": null,
   "metadata": {
    "ExecuteTime": {
     "end_time": "2022-11-25T10:59:14.105581Z",
     "start_time": "2022-11-25T10:59:13.887208Z"
    },
    "id": "v2YTfgG9SgC5",
    "outputId": "36a3509d-8609-4f1f-bd8e-b9878f0ddd08"
   },
   "outputs": [],
   "source": [
    "# plota gráfico da função\n",
    "intervalo = np.linspace(t0,t0+0.02,100)\n",
    "symplot(t, vC, intervalo, 'vC(t)')"
   ]
  },
  {
   "cell_type": "markdown",
   "metadata": {
    "id": "m8XlMuifSgC5"
   },
   "source": [
    "**Resolução item (b):**\n",
    "\n",
    "$$\\frac{dv_C}{dt} = 0$$"
   ]
  },
  {
   "cell_type": "code",
   "execution_count": null,
   "metadata": {
    "ExecuteTime": {
     "end_time": "2022-11-25T10:59:14.185533Z",
     "start_time": "2022-11-25T10:59:14.107580Z"
    },
    "id": "Oskah7UySgC5",
    "outputId": "faa1f6ce-ed86-4beb-fcb3-d2bc21502bf5"
   },
   "outputs": [],
   "source": [
    "# define a equação dvC/dt = 0\n",
    "eq1 = sp.Eq(sp.diff(vC, t),0)  \n",
    "\n",
    "round_expr(eq1, 2)"
   ]
  },
  {
   "cell_type": "code",
   "execution_count": null,
   "metadata": {
    "ExecuteTime": {
     "end_time": "2022-11-25T10:59:14.375416Z",
     "start_time": "2022-11-25T10:59:14.188531Z"
    },
    "id": "zshlpG4wSgC5",
    "outputId": "b858fd50-69ee-4c03-8252-7e3304d92f9a"
   },
   "outputs": [],
   "source": [
    "# resolve a equação em t\n",
    "ts = sp.solveset(eq1, t).args[0]\n",
    "\n",
    "# calcula o valor de vC(t) para t = ts\n",
    "vC_ts = vC.evalf(subs={t:ts})\n",
    "\n",
    "symdisp('t_s = ', round(ts*1000,2), 'ms')\n",
    "symdisp('v_C(t_s) = ', round(vC_ts,2), 'V')"
   ]
  },
  {
   "cell_type": "markdown",
   "metadata": {
    "id": "y0RjHQnOSgC5"
   },
   "source": [
    "**Resolução item (c):**"
   ]
  },
  {
   "cell_type": "code",
   "execution_count": null,
   "metadata": {
    "ExecuteTime": {
     "end_time": "2022-11-25T10:59:14.391404Z",
     "start_time": "2022-11-25T10:59:14.377413Z"
    },
    "id": "e9--hMZ-SgC5",
    "outputId": "7341ce55-6330-4c47-bf40-345df19d2b46"
   },
   "outputs": [],
   "source": [
    "# Parâmetros do circuito:\n",
    "R = 6\n",
    "L = 6e-3\n",
    "C = 0.5e-3\n",
    "\n",
    "# calculando α e ω0\n",
    "α  = 1/(2*R*C)       # Frequência de Neper do circuito RLC em paralelo\n",
    "ω0 = 1/np.sqrt(L*C)  # Frequência de ressonância do circuito RLC\n",
    "\n",
    "symdisp('α =', round(α, 2), ' rad/s')\n",
    "symdisp('ω_0 =', round(ω0, 2), ' rad/s')"
   ]
  },
  {
   "cell_type": "code",
   "execution_count": null,
   "metadata": {
    "ExecuteTime": {
     "end_time": "2022-11-25T10:59:14.407399Z",
     "start_time": "2022-11-25T10:59:14.393404Z"
    },
    "id": "9kAVXVo4SgC6"
   },
   "outputs": [],
   "source": [
    "# informações obtidas pela análise do circuito\n",
    "iL_inf = 0  # valor final da corrente no indutor\n",
    "iL_t0 = 2   # valor inicial da corrente no indutor\n",
    "vc_t0 = 0   # valor inicial da tensão no capcitor\n",
    "\n",
    "t0 = 0 # instante do chaveamento"
   ]
  },
  {
   "cell_type": "code",
   "execution_count": null,
   "metadata": {
    "ExecuteTime": {
     "end_time": "2022-11-25T10:59:14.455365Z",
     "start_time": "2022-11-25T10:59:14.409394Z"
    },
    "id": "ikzX5ptFSgC6",
    "outputId": "28800e38-b6b9-40e2-976f-c3f3cd6059be"
   },
   "outputs": [],
   "source": [
    "# define a frequência de oscilação amortecida\n",
    "ωd = np.sqrt(ω0**2 - α**2)\n",
    "\n",
    "print('Frequência de oscilação amortercida:')\n",
    "symdisp('ω_d =', round(ωd, 2), ' rad/s')\n",
    "\n",
    "# define variáveis da solução geral\n",
    "t, B1, B2 = sp.symbols('t, B1, B2')\n",
    "\n",
    "# expressão geral da resposta subamortecida\n",
    "iL = sp.exp(-α*(t-t0))*(B1*sp.cos(ωd*(t-t0)) + B2*sp.sin(ωd*(t-t0))) + iL_inf\n",
    "\n",
    "print('Forma geral da solução:')\n",
    "symdisp('i_L(t) = ', round_expr(iL,2), ' A')"
   ]
  },
  {
   "cell_type": "code",
   "execution_count": null,
   "metadata": {
    "ExecuteTime": {
     "end_time": "2022-11-25T10:59:14.485350Z",
     "start_time": "2022-11-25T10:59:14.457365Z"
    },
    "id": "65gCoDZtSgC7",
    "outputId": "8c9fe797-f5b9-4995-c42b-59a099c44c74"
   },
   "outputs": [],
   "source": [
    "# define os sistema de equações com as condições iniciais\n",
    "eq1 = sp.Eq(   B1 + iL_inf, iL_t0)             \n",
    "eq2 = sp.Eq(-α*B1 + ωd*B2,  vc_t0/L)  \n",
    "\n",
    "print('Sistema de equações:')\n",
    "symdisp('(I): ', round_expr(eq1, 2),' ')\n",
    "symdisp('(II): ', round_expr(eq2, 2),' ')"
   ]
  },
  {
   "cell_type": "code",
   "execution_count": null,
   "metadata": {
    "ExecuteTime": {
     "end_time": "2022-11-25T10:59:14.548310Z",
     "start_time": "2022-11-25T10:59:14.487350Z"
    },
    "id": "J5-wGR1zSgC7",
    "outputId": "826a004a-62e2-43f7-ed41-82827fc384d9"
   },
   "outputs": [],
   "source": [
    "# resolve o sistema\n",
    "soluc = sp.solve((eq1, eq2), dict=True)\n",
    "B1 = np.array([sol[B1] for sol in soluc])\n",
    "B2 = np.array([sol[B2] for sol in soluc])\n",
    "\n",
    "B1 = B1[0]\n",
    "B2 = B2[0]\n",
    "\n",
    "print('Solução do sistema:')\n",
    "symdisp('B_1 =', round(B1, 2), ' A')\n",
    "symdisp('B_2 =', round(B2, 2), ' A')"
   ]
  },
  {
   "cell_type": "code",
   "execution_count": null,
   "metadata": {
    "ExecuteTime": {
     "end_time": "2022-11-25T10:59:14.579289Z",
     "start_time": "2022-11-25T10:59:14.550308Z"
    },
    "id": "wqGDhdF8SgC7",
    "outputId": "3906a6dd-6cdd-4df8-fb35-d38118979f32"
   },
   "outputs": [],
   "source": [
    "# expressão geral da resposta subamortecida\n",
    "iL = sp.exp(-α*(t-t0))*(B1*sp.cos(ωd*(t-t0))+B2*sp.sin(ωd*(t-t0))) + iL_inf\n",
    "\n",
    "symdisp('i_L(t) = ', round_expr(iL,2), 'A')"
   ]
  },
  {
   "cell_type": "code",
   "execution_count": null,
   "metadata": {
    "ExecuteTime": {
     "end_time": "2022-11-25T10:59:14.785163Z",
     "start_time": "2022-11-25T10:59:14.582288Z"
    },
    "id": "Uvw5XKEZSgC7",
    "outputId": "157083d1-c76a-4c39-fd27-92b60db7d67a"
   },
   "outputs": [],
   "source": [
    "# plota gráfico da função\n",
    "intervalo = np.linspace(t0,t0+0.05,100)\n",
    "symplot(t, iL, intervalo, 'iL(t)')"
   ]
  },
  {
   "cell_type": "code",
   "execution_count": null,
   "metadata": {
    "ExecuteTime": {
     "end_time": "2022-11-25T10:59:15.164224Z",
     "start_time": "2022-11-25T10:59:14.788160Z"
    },
    "id": "v4fQEF-ESgC7",
    "outputId": "f1e0db89-1201-4763-9f7e-e2fbe08f3a61"
   },
   "outputs": [],
   "source": [
    "# tensão aplicada sobre o capacitor (= tensão sobre o indutor)\n",
    "vC = L*sp.diff(iL, t)\n",
    "vC = sp.simplify(vC)\n",
    "\n",
    "symdisp('v_C(t) = ', round_expr(vC, 2), ' V')"
   ]
  },
  {
   "cell_type": "code",
   "execution_count": null,
   "metadata": {
    "ExecuteTime": {
     "end_time": "2022-11-25T10:59:15.415072Z",
     "start_time": "2022-11-25T10:59:15.166228Z"
    },
    "id": "NUshGl_LSgC8",
    "outputId": "61cf0dba-1b25-43eb-906f-d918a812b050"
   },
   "outputs": [],
   "source": [
    "# plota gráfico da função\n",
    "intervalo = np.linspace(t0,t0+0.05,100)\n",
    "symplot(t, vC, intervalo, 'vC(t)')\n",
    "symplot(t, [iL, vC], intervalo, ['iL(t)', 'vC(t)'])"
   ]
  },
  {
   "cell_type": "markdown",
   "metadata": {
    "id": "iyqAkxZGSgC8"
   },
   "source": [
    "## Circuito RLC em série"
   ]
  },
  {
   "cell_type": "markdown",
   "metadata": {
    "id": "zgBsE64OSgC8"
   },
   "source": [
    "<img src=\"./figures/J12C1.png?raw=1\" width=\"800\">\n",
    "\n",
    "### Aplicação das Leis de Kirchhoff \n",
    "\n",
    "$$\\begin{align}\n",
    "   v_R + v_L + v_C &= v_s\\\\\n",
    "   R i + L\\frac{d i}{dt}+v_C &= v_s\\nonumber\\\\\n",
    "   R\\left[C\\frac{dv_C}{dt}\\right] + L\\frac{d}{dt}\\left[C\\frac{dv_C}{dt} \\right] + v_C &= v_s\\nonumber\\\\\n",
    "    \\frac{d^{2} v_{\\mathrm{C}}}{d t^{2}}+\\frac{R}{L} \\frac{d v_{\\mathrm{C}}}{d t}+\\frac{1}{L C}   v_{\\mathrm{C}} &=\\frac{v_{\\mathrm{s}}}{LC}\n",
    "   \\end{align} \n",
    "$$\n",
    "\n",
    "com $ \\alpha = \\frac{R}{2L}$ e $\\omega_0 = \\frac{1}{\\sqrt{LC}}$, temos\n",
    "\n",
    "$$ \\begin{equation}\\label{EDO2} \\frac{d^{2} v_{\\mathrm{C}}}{d t^{2}}+2\\alpha \\frac{d v_{\\mathrm{C}}}{d t}+\\omega_0^2 v_{\\mathrm{C}}=v_{\\mathrm{s}}\\omega_0^2 \\end{equation} $$\n",
    "\n",
    "A equação \\ref{EDO2} é uma EDO de segunda ordem, linear e de coeficientes constantes.\n",
    "\n",
    "Equação característica:\n",
    "\n",
    "$$\\begin{equation} s^2+2\\alpha s + \\omega_0^2=0 \\end{equation}$$\n",
    "\n",
    "Raízes da equação característica:\n",
    "\n",
    "$$\n",
    "\\begin{align}\n",
    "s_1 &=-\\alpha +\\sqrt{\\alpha^2-\\omega_0^2}\\\\\n",
    "s_2 &=-\\alpha -\\sqrt{\\alpha^2-\\omega_0^2}\n",
    "\\end{align}\n",
    "$$"
   ]
  },
  {
   "cell_type": "markdown",
   "metadata": {
    "id": "8t3m-zXzSgC8"
   },
   "source": [
    "### Resposta total \n",
    "\n",
    "A resposta transiente de circuitos RLC em série, seja ela natural ($v_C(\\infty)=0$) ou ao degrau ($v_C(\\infty)=v_s$), pode ser classificada nas três casos seguintes. Em todos os casos, assume-se que o transiente teve início no instante $t_0$ (instante do chaveamento).\n",
    "\n",
    "#### Caso superamortecido ($\\alpha>\\omega_0\\Rightarrow \\text{raízes reais e distintas}$):\n",
    "\n",
    "Solução geral da EDO:\n",
    "\n",
    "$$\\begin{equation} v_{\\mathrm{C}}(t) =A_{1} e^{s_{1} (t-t_0)}+A_{2} e^{s_{2} (t-t_0)}+v_{\\mathrm{C}}(\\infty) \\end{equation}$$\n",
    "\n",
    "Condições iniciais para $v_{\\mathrm{C}}(t)$:\n",
    "\n",
    "$$\n",
    "\\begin{align}\n",
    "v_{\\mathrm{C}}(t_0^+) &=A_1 + A_2 + v_{\\mathrm{C}}(\\infty)\\\\\n",
    "\\frac{dv_{\\mathrm{C}}(t_0^+)}{dt} &=s_1A_1 + s_2A_2 = \\frac{1}{C} i_{\\mathrm{L}}(t_0^+)\n",
    "\\end{align}\n",
    "$$\n",
    "\n",
    "Solução do sistema em $A_1$ e $A_2$:\n",
    "\n",
    "$$\n",
    "\\begin{align}\n",
    "A_{1} &=\\frac{\\frac{1}{C} i_{\\mathrm{L}}(t_0^+)-s_{2}\\left[v_{\\mathrm{C}}(t_0^+)-v_{\\mathrm{C}}(\\infty)\\right]}{s_{1}-s_{2}} \\\\\n",
    "A_{2} &=\\frac{-\\frac{1}{C} i_{\\mathrm{L}}(t_0^+)+s_{1}\\left[v_{\\mathrm{C}}(t_0^+)-v_{\\mathrm{C}}(\\infty)\\right]}{s_{1}-s_{2}}\n",
    "\\end{align}\n",
    "$$"
   ]
  },
  {
   "cell_type": "markdown",
   "metadata": {
    "id": "ogSletHESgC8"
   },
   "source": [
    "#### Caso subamortecido ($\\alpha<\\omega_0\\Rightarrow \\text{raízes complexas e conjugadas}$):\n",
    "\n",
    "Fazendo $\\omega_d = \\sqrt{\\omega_0^2-\\alpha^2}$ temos $s_1 = -\\alpha +j\\omega_d$ e $s_2 = -\\alpha -j\\omega_d$.\n",
    "\n",
    "Solução geral da EDO:\n",
    "\n",
    "$$\\begin{equation} v_{\\mathrm{C}}(t) = e^{-\\alpha(t-t_0)}\\left\\lbrace B_{1}\\cos[\\omega_d (t-t_0)] + B_{2}\\sin[\\omega_d (t-t_0)]  \\right\\rbrace + v_{\\mathrm{C}}(\\infty) \\end{equation}$$\n",
    "\n",
    "Condições iniciais para $v_{\\mathrm{C}}(t)$:\n",
    "\n",
    "$$\n",
    "\\begin{align}\n",
    "v_{\\mathrm{C}}(t_0^+) &=B_1 + v_{\\mathrm{C}}(\\infty)\\\\\n",
    "\\frac{dv_{\\mathrm{C}}(t_0^+)}{dt} &= -\\alpha B_1 +\\omega_d B_2 = \\frac{1}{C} i_{\\mathrm{L}}(t_0^+)\n",
    "\\end{align}\n",
    "$$\n",
    "\n",
    "Solução do sistema em $B_1$ e $B_2$:\n",
    "\n",
    "$$\n",
    "\\begin{align}\n",
    "B_{1} &=v_{\\mathrm{C}}(t_0^+)-v_{\\mathrm{C}}(\\infty) \\\\\n",
    "B_{2} &=\\frac{\\frac{1}{C} i_{\\mathrm{L}}(t_0^+)+\\alpha\\left[v_{\\mathrm{C}}(t_0^+)-v_{\\mathrm{C}}(\\infty)\\right]}{\\omega_d}\n",
    "\\end{align}\n",
    "$$"
   ]
  },
  {
   "cell_type": "markdown",
   "metadata": {
    "id": "gqM2jennSgC8"
   },
   "source": [
    "#### Caso criticamente amortecido ($\\alpha=\\omega_0\\Rightarrow \\text{raízes reais e idênticas } s_1=s_2=-\\alpha$):\n",
    "\n",
    "Solução geral da EDO:\n",
    "\n",
    "$$ \\begin{equation} v_{\\mathrm{C}}(t) =D_{1} e^{-\\alpha(t-t_0)}+D_{2}(t-t_0) e^{-\\alpha(t-t_0)}+v_{\\mathrm{C}}(\\infty) \\end{equation}$$\n",
    "\n",
    "Condições iniciais para $v_{\\mathrm{C}}(t)$:\n",
    "\n",
    "$$\n",
    "\\begin{align}\n",
    "v_{\\mathrm{C}}(t_0^+) &=D_1 + v_{\\mathrm{C}}(\\infty)\\\\\n",
    "\\frac{dv_{\\mathrm{C}}(t_0^+)}{dt} &=-\\alpha D_1 + D_2 = \\frac{1}{C} i_{\\mathrm{L}}(t_0^+)\n",
    "\\end{align}\n",
    "$$\n",
    "\n",
    "Solução do sistema em $D_1$ e $D_2$:\n",
    "\n",
    "$$\n",
    "\\begin{align}\n",
    "D_{1} &=v_{\\mathrm{C}}(t_0^+)-v_{\\mathrm{C}}(\\infty) \\\\\n",
    "D_{2} &= \\frac{1}{C} i_{\\mathrm{L}}(t_0^+)+\\alpha\\left[v_{\\mathrm{C}}(t_0^+)-v_{\\mathrm{C}}(\\infty)\\right]\n",
    "\\end{align}\n",
    "$$"
   ]
  },
  {
   "cell_type": "markdown",
   "metadata": {
    "id": "XdICHxemSgC9"
   },
   "source": [
    "### Problema 2\n",
    "\n",
    "No circuito da figura a seguir, a chave $ch1$ estive aberta por um longo intervalo de tempo antes de fechar, no instante $t_0=0$s.\n",
    "\n",
    "<img src=\"./figures/J12C4.png?raw=1\" width=\"500\">\n",
    "\n",
    "a. Para qual valor de $R_x$ o circuito exibe uma resposta criticamente amortecida para $t\\geq 0^+$?\\\n",
    "b. Considerando que $R_x$ vale exatamente o valor calculado em (a), determine a tensão sobre o capacitor $v_C(t)$ para $t\\geq 0^+$.\\\n",
    "c. Considerando que $R_x$ vale um décimo do valor calculado em (a), determine a tensão sobre o capacitor $v_C(t)$ para $t\\geq 0^+$.\n",
    "\n",
    "Link para a simulação deste circuito: https://tinyurl.com/yjgkkzhu"
   ]
  },
  {
   "cell_type": "markdown",
   "metadata": {
    "id": "YWDjsuKUSgC9"
   },
   "source": [
    "Resolução item (b):"
   ]
  },
  {
   "cell_type": "code",
   "execution_count": null,
   "metadata": {
    "ExecuteTime": {
     "end_time": "2022-03-03T20:05:44.123099Z",
     "start_time": "2022-03-03T20:05:44.112107Z"
    },
    "id": "smznWrT9SgC9",
    "outputId": "2907ab1d-ccbd-4e5c-faa8-9a52f0db1421"
   },
   "outputs": [],
   "source": [
    "# Parâmetros do circuito:\n",
    "R = \n",
    "L = \n",
    "C = \n",
    "\n",
    "# calculando α e ω0\n",
    "α  = R/(2*L)\n",
    "ω0 = 1/np.sqrt(L*C)\n",
    "\n",
    "symdisp('α =', round(α, 2), ' rad/s')\n",
    "symdisp('ω_0 =', round(ω0, 2), ' rad/s')"
   ]
  },
  {
   "cell_type": "code",
   "execution_count": null,
   "metadata": {
    "ExecuteTime": {
     "end_time": "2022-03-03T20:05:44.125097Z",
     "start_time": "2022-03-03T20:05:44.125097Z"
    },
    "id": "zbr9r5Y7SgC9"
   },
   "outputs": [],
   "source": [
    "# informações obtidas pela análise do circuito\n",
    "vC_inf =    # valor final da tensão sobre o capacitor\n",
    "iL_t0 =   # valor inicial da corrente no indutor\n",
    "vC_t0 =     # valor inicial da tensão sobre o capacitor\n",
    "\n",
    "t0 = 0 # instante do chaveamento"
   ]
  },
  {
   "cell_type": "code",
   "execution_count": null,
   "metadata": {
    "ExecuteTime": {
     "end_time": "2022-03-03T20:05:44.127098Z",
     "start_time": "2022-03-03T20:05:44.127098Z"
    },
    "id": "lwRZU5nISgC9"
   },
   "outputs": [],
   "source": [
    "# raízes da equação característica\n",
    "s1 = -α\n",
    "s2 = -α\n",
    "\n",
    "# define variáveis da solução geral\n",
    "t, D1, D2 = sp.symbols('t, D1, D2')\n",
    "\n",
    "# expressão geral da resposta \n",
    "vC = D1*sp.exp(s1*(t-t0)) + D2*(t-t0)*sp.exp(s2*(t-t0)) + vC_inf\n",
    "\n",
    "symdisp('v_C(t) = ', round_expr(vC, 2), ' V')"
   ]
  },
  {
   "cell_type": "code",
   "execution_count": null,
   "metadata": {
    "ExecuteTime": {
     "end_time": "2022-03-03T20:05:44.129095Z",
     "start_time": "2022-03-03T20:05:44.129095Z"
    },
    "id": "7nKTngDpSgC9"
   },
   "outputs": [],
   "source": [
    "# define os sistema de equações com as condições iniciais\n",
    "eq1 = sp.Eq()             \n",
    "eq2 = sp.Eq()  \n",
    "\n",
    "print('Sistema de equações:')\n",
    "symdisp('(I): ', round_expr(eq1, 2),' ')\n",
    "symdisp('(II): ', round_expr(eq2, 2),' ')"
   ]
  },
  {
   "cell_type": "code",
   "execution_count": null,
   "metadata": {
    "ExecuteTime": {
     "end_time": "2022-03-03T20:05:44.131094Z",
     "start_time": "2022-03-03T20:05:44.131094Z"
    },
    "id": "rezufMFESgC9"
   },
   "outputs": [],
   "source": [
    "# resolve o sistema\n",
    "soluc = sp.solve((eq1, eq2), dict=True)\n",
    "D1 = np.array([sol[D1] for sol in soluc])\n",
    "D2 = np.array([sol[D2] for sol in soluc])\n",
    "\n",
    "D1 = D1[0]\n",
    "D2 = D2[0]\n",
    "\n",
    "print('Solução do sistema:')\n",
    "symdisp('D_1 =', round(D1, 2), ' V')\n",
    "symdisp('D_2 =', round(D2, 2), ' V')"
   ]
  },
  {
   "cell_type": "code",
   "execution_count": null,
   "metadata": {
    "ExecuteTime": {
     "end_time": "2022-03-03T20:05:44.132093Z",
     "start_time": "2022-03-03T20:05:44.132093Z"
    },
    "id": "PcKbi4SISgC-"
   },
   "outputs": [],
   "source": [
    "# expressão geral da resposta \n",
    "vC = D1*sp.exp(s1*(t-t0)) + D2*(t-t0)*sp.exp(s2*(t-t0)) + vC_inf\n",
    "\n",
    "symdisp('v_C(t) = ', round_expr(vC, 2), ' V')"
   ]
  },
  {
   "cell_type": "code",
   "execution_count": null,
   "metadata": {
    "ExecuteTime": {
     "end_time": "2022-03-03T20:05:44.133092Z",
     "start_time": "2022-03-03T20:05:44.133092Z"
    },
    "id": "6awOpy-OSgC-"
   },
   "outputs": [],
   "source": [
    "# corrente passando pelo indutor\n",
    "iL = C*sp.diff(vC, t)\n",
    "\n",
    "symdisp('i_L(t) = ', round_expr(iL,2), 'A')"
   ]
  },
  {
   "cell_type": "code",
   "execution_count": null,
   "metadata": {
    "ExecuteTime": {
     "end_time": "2022-03-03T20:05:44.135092Z",
     "start_time": "2022-03-03T20:05:44.135092Z"
    },
    "id": "YaKhmn-zSgC-"
   },
   "outputs": [],
   "source": [
    "# plota gráfico da função\n",
    "intervalo = np.linspace(t0,t0+0.05,100)\n",
    "symplot(t, vC, intervalo, 'vC(t)')"
   ]
  },
  {
   "cell_type": "code",
   "execution_count": null,
   "metadata": {
    "ExecuteTime": {
     "end_time": "2022-03-03T20:05:44.136091Z",
     "start_time": "2022-03-03T20:05:44.136091Z"
    },
    "id": "kLg0UPpeSgC-"
   },
   "outputs": [],
   "source": [
    "# plota gráfico da função\n",
    "intervalo = np.linspace(t0,t0+0.05,100)\n",
    "symplot(t, iL, intervalo, 'iL(t)')"
   ]
  },
  {
   "cell_type": "markdown",
   "metadata": {
    "id": "nXpmRawHSgC-"
   },
   "source": [
    "Resolução item (c):"
   ]
  },
  {
   "cell_type": "code",
   "execution_count": null,
   "metadata": {
    "ExecuteTime": {
     "end_time": "2022-03-03T20:05:44.138090Z",
     "start_time": "2022-03-03T20:05:44.138090Z"
    },
    "id": "xfwHqmGrSgC-"
   },
   "outputs": [],
   "source": [
    "# Parâmetros do circuito:\n",
    "R = 65.02\n",
    "L = 1\n",
    "C = 100e-6\n",
    "\n",
    "# calculando α e ω0\n",
    "α  = R/(2*L)\n",
    "ω0 = 1/np.sqrt(L*C)\n",
    "\n",
    "symdisp('α =', round(α, 2), ' rad/s')\n",
    "symdisp('ω_0 =', round(ω0, 2), ' rad/s')"
   ]
  },
  {
   "cell_type": "code",
   "execution_count": null,
   "metadata": {
    "ExecuteTime": {
     "end_time": "2022-03-03T20:05:44.140089Z",
     "start_time": "2022-03-03T20:05:44.140089Z"
    },
    "id": "_xF0yFqaSgC-"
   },
   "outputs": [],
   "source": [
    "# informações obtidas pela análise do circuito\n",
    "vC_inf = 75.84   # valor final da tensão sobre o capacitor\n",
    "iL_t0 = 0        #  valor inicial da corrente no indutor\n",
    "vC_t0 = 21.3     # valor inicial da tensão sobre o capacitor\n",
    "\n",
    "t0 = 0 # instante do chaveamento"
   ]
  },
  {
   "cell_type": "code",
   "execution_count": null,
   "metadata": {
    "ExecuteTime": {
     "end_time": "2022-03-03T20:05:44.143087Z",
     "start_time": "2022-03-03T20:05:44.143087Z"
    },
    "id": "51InQDYkSgC-"
   },
   "outputs": [],
   "source": [
    "# define a frequência de oscilação amortecida\n",
    "ωd =np.sqrt(ω0**2-α**2)\n",
    "\n",
    "symdisp('ω_d =', round(ωd, 2), ' rad/s')\n",
    "\n",
    "# define variáveis da solução geral\n",
    "t, B1, B2 = sp.symbols('t, B1, B2')\n",
    "\n",
    "# expressão geral da resposta subamortecida\n",
    "vC = sp.exp(-α*(t-t0))*(B1*sp.cos(ωd*(t-t0)) + B2*sp.sin(ωd*(t-t0))) + vC_inf\n",
    "\n",
    "symdisp('v_C(t) = ', round_expr(vC, 2), ' V')"
   ]
  },
  {
   "cell_type": "code",
   "execution_count": null,
   "metadata": {
    "ExecuteTime": {
     "end_time": "2022-03-03T20:05:44.146085Z",
     "start_time": "2022-03-03T20:05:44.146085Z"
    },
    "id": "TnSgyXKiSgC_"
   },
   "outputs": [],
   "source": [
    "# define os sistema de equações com as condições iniciais\n",
    "eq1 = sp.Eq(   B1 + vC_inf, vC_t0)             \n",
    "eq2 = sp.Eq(-α*B1 + ωd*B2,  iL_t0/C)  \n",
    "\n",
    "print('Sistema de equações:')\n",
    "symdisp('(I): ', round_expr(eq1, 2),' ')\n",
    "symdisp('(II): ', round_expr(eq2, 2),' ')"
   ]
  },
  {
   "cell_type": "code",
   "execution_count": null,
   "metadata": {
    "ExecuteTime": {
     "end_time": "2022-03-03T20:05:44.149083Z",
     "start_time": "2022-03-03T20:05:44.149083Z"
    },
    "id": "XXh4LZeFSgC_"
   },
   "outputs": [],
   "source": [
    "# resolve o sistema\n",
    "soluc = sp.solve((eq1, eq2), dict=True)\n",
    "B1 = np.array([sol[B1] for sol in soluc])\n",
    "B2 = np.array([sol[B2] for sol in soluc])\n",
    "\n",
    "B1 = B1[0]\n",
    "B2 = B2[0]\n",
    "\n",
    "print('Solução do sistema:')\n",
    "symdisp('B_1 =', round(B1, 2), ' V')\n",
    "symdisp('B_2 =', round(B2, 2), ' V')"
   ]
  },
  {
   "cell_type": "code",
   "execution_count": null,
   "metadata": {
    "ExecuteTime": {
     "end_time": "2022-03-03T20:05:44.151082Z",
     "start_time": "2022-03-03T20:05:44.151082Z"
    },
    "id": "T5yUYx7hSgC_"
   },
   "outputs": [],
   "source": [
    "# expressão geral da resposta subamortecida\n",
    "vC = sp.exp(-α*(t-t0))*(B1*sp.cos(ωd*(t-t0)) + B2*sp.sin(ωd*(t-t0))) + vC_inf\n",
    "\n",
    "symdisp('v_C(t) = ', round_expr(vC, 2), ' V')"
   ]
  },
  {
   "cell_type": "code",
   "execution_count": null,
   "metadata": {
    "ExecuteTime": {
     "end_time": "2022-03-03T20:05:44.154081Z",
     "start_time": "2022-03-03T20:05:44.154081Z"
    },
    "id": "SoIi5bVHSgC_"
   },
   "outputs": [],
   "source": [
    "# corrente passando pelo indutor\n",
    "iL = C*sp.diff(vC, t)\n",
    "\n",
    "symdisp('i_L(t) = ', round_expr(iL.simplify(),5), 'A')"
   ]
  },
  {
   "cell_type": "code",
   "execution_count": null,
   "metadata": {
    "ExecuteTime": {
     "end_time": "2022-03-03T20:05:44.157079Z",
     "start_time": "2022-03-03T20:05:44.157079Z"
    },
    "id": "i_p5aM7qSgC_"
   },
   "outputs": [],
   "source": [
    "# plota gráfico da função\n",
    "intervalo = np.linspace(t0,t0+0.25,100)\n",
    "symplot(t, vC, intervalo, 'vC(t)')"
   ]
  },
  {
   "cell_type": "code",
   "execution_count": null,
   "metadata": {
    "ExecuteTime": {
     "end_time": "2022-03-03T20:05:44.159078Z",
     "start_time": "2022-03-03T20:05:44.159078Z"
    },
    "id": "l5_dOTOHSgC_"
   },
   "outputs": [],
   "source": [
    "# plota gráfico da função\n",
    "intervalo = np.linspace(t0,t0+0.25,100)\n",
    "symplot(t, iL, intervalo, 'iL(t)')"
   ]
  }
 ],
 "metadata": {
  "colab": {
   "include_colab_link": true,
   "provenance": []
  },
  "jupytext": {
   "encoding": "# -*- coding: utf-8 -*-",
   "formats": "ipynb,py:light"
  },
  "kernelspec": {
   "display_name": "Python 3 (ipykernel)",
   "language": "python",
   "name": "python3"
  },
  "language_info": {
   "codemirror_mode": {
    "name": "ipython",
    "version": 3
   },
   "file_extension": ".py",
   "mimetype": "text/x-python",
   "name": "python",
   "nbconvert_exporter": "python",
   "pygments_lexer": "ipython3",
   "version": "3.8.8"
  },
  "toc": {
   "base_numbering": 1,
   "nav_menu": {},
   "number_sections": true,
   "sideBar": true,
   "skip_h1_title": true,
   "title_cell": "Table of Contents",
   "title_sidebar": "Contents",
   "toc_cell": true,
   "toc_position": {
    "height": "calc(100% - 180px)",
    "left": "10px",
    "top": "150px",
    "width": "200.475px"
   },
   "toc_section_display": true,
   "toc_window_display": true
  },
  "varInspector": {
   "cols": {
    "lenName": 16,
    "lenType": 16,
    "lenVar": 40
   },
   "kernels_config": {
    "python": {
     "delete_cmd_postfix": "",
     "delete_cmd_prefix": "del ",
     "library": "var_list.py",
     "varRefreshCmd": "print(var_dic_list())"
    },
    "r": {
     "delete_cmd_postfix": ") ",
     "delete_cmd_prefix": "rm(",
     "library": "var_list.r",
     "varRefreshCmd": "cat(var_dic_list()) "
    }
   },
   "types_to_exclude": [
    "module",
    "function",
    "builtin_function_or_method",
    "instance",
    "_Feature"
   ],
   "window_display": false
  }
 },
 "nbformat": 4,
 "nbformat_minor": 1
}
